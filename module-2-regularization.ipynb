{
 "cells": [
  {
   "cell_type": "markdown",
   "id": "40f4596f-4697-426c-9f1d-5164fc2fc8e1",
   "metadata": {},
   "source": [
    "## DSC-609: Machine Learning\n",
    "### Module 2 - Regularization\n",
    "**Michael Albers**\n",
    "\n",
    "**7/15/2022**"
   ]
  },
  {
   "cell_type": "markdown",
   "id": "3058f758-c8aa-4f9f-9d9d-6ec2264e25b6",
   "metadata": {},
   "source": [
    "### Overview\n",
    "Use Ridge and LASSO regression to predict Life Expectancy"
   ]
  },
  {
   "cell_type": "markdown",
   "id": "56670fdb-c64b-495a-98b9-d902e58323fe",
   "metadata": {},
   "source": [
    "### Data Set\n",
    "**Life Expectancy (WHO)** \n",
    "\n",
    "This data set contains immunization data, mortality, economic, and social factors, and other health related factors from 2000 to 2015 from world countries.\n",
    "\n",
    "https://www.kaggle.com/datasets/kumarajarshi/life-expectancy-who"
   ]
  },
  {
   "cell_type": "code",
   "execution_count": 1,
   "id": "3758ec8b-9262-4651-ae5e-9e0339e6f9fc",
   "metadata": {},
   "outputs": [],
   "source": [
    "import pandas as pd\n",
    "import numpy as np\n",
    "import matplotlib.pyplot as plt\n",
    "import seaborn as sns"
   ]
  },
  {
   "cell_type": "code",
   "execution_count": 131,
   "id": "2a1f03d9-1995-472b-9f18-a98c3c31c80b",
   "metadata": {},
   "outputs": [],
   "source": [
    "import warnings\n",
    "warnings.filterwarnings('ignore')"
   ]
  },
  {
   "cell_type": "markdown",
   "id": "72b2634e-f503-4ead-85ee-7e4fd4bae855",
   "metadata": {},
   "source": [
    "### Read and Inspect data file"
   ]
  },
  {
   "cell_type": "code",
   "execution_count": 2,
   "id": "eff9be02-0fd1-401d-9f91-12daf5f2c0e5",
   "metadata": {},
   "outputs": [],
   "source": [
    "life_exp_df = pd.read_csv('data/Life Expectancy Data.csv')"
   ]
  },
  {
   "cell_type": "code",
   "execution_count": 3,
   "id": "c0660d0c-97a8-43cd-82c9-4ac4b71fd69b",
   "metadata": {},
   "outputs": [
    {
     "name": "stdout",
     "output_type": "stream",
     "text": [
      "<class 'pandas.core.frame.DataFrame'>\n",
      "RangeIndex: 2938 entries, 0 to 2937\n",
      "Data columns (total 22 columns):\n",
      " #   Column                           Non-Null Count  Dtype  \n",
      "---  ------                           --------------  -----  \n",
      " 0   Country                          2938 non-null   object \n",
      " 1   Year                             2938 non-null   int64  \n",
      " 2   Status                           2938 non-null   object \n",
      " 3   Life expectancy                  2928 non-null   float64\n",
      " 4   Adult Mortality                  2928 non-null   float64\n",
      " 5   infant deaths                    2938 non-null   int64  \n",
      " 6   Alcohol                          2744 non-null   float64\n",
      " 7   percentage expenditure           2938 non-null   float64\n",
      " 8   Hepatitis B                      2385 non-null   float64\n",
      " 9   Measles                          2938 non-null   int64  \n",
      " 10   BMI                             2904 non-null   float64\n",
      " 11  under-five deaths                2938 non-null   int64  \n",
      " 12  Polio                            2919 non-null   float64\n",
      " 13  Total expenditure                2712 non-null   float64\n",
      " 14  Diphtheria                       2919 non-null   float64\n",
      " 15   HIV/AIDS                        2938 non-null   float64\n",
      " 16  GDP                              2490 non-null   float64\n",
      " 17  Population                       2286 non-null   float64\n",
      " 18   thinness  1-19 years            2904 non-null   float64\n",
      " 19   thinness 5-9 years              2904 non-null   float64\n",
      " 20  Income composition of resources  2771 non-null   float64\n",
      " 21  Schooling                        2775 non-null   float64\n",
      "dtypes: float64(16), int64(4), object(2)\n",
      "memory usage: 505.1+ KB\n"
     ]
    }
   ],
   "source": [
    "life_exp_df.info()"
   ]
  },
  {
   "cell_type": "code",
   "execution_count": 4,
   "id": "0bbe234f-f937-42a6-af3b-899315f30df3",
   "metadata": {},
   "outputs": [
    {
     "data": {
      "text/plain": [
       "Index(['country', 'year', 'status', 'life_expectancy', 'adult_mortality',\n",
       "       'infant_deaths', 'alcohol', 'percentage_expenditure', 'hepatitis_b',\n",
       "       'measles', 'bmi', 'under-five_deaths', 'polio', 'total_expenditure',\n",
       "       'diphtheria', 'hiv/aids', 'gdp', 'population', 'thinness__1-19_years',\n",
       "       'thinness_5-9_years', 'income_composition_of_resources', 'schooling'],\n",
       "      dtype='object')"
      ]
     },
     "execution_count": 4,
     "metadata": {},
     "output_type": "execute_result"
    }
   ],
   "source": [
    "# Rename columns\n",
    "life_exp_df.rename(columns=lambda x: x.strip().lower().replace(\" \", \"_\"), inplace=True)\n",
    "life_exp_df.columns"
   ]
  },
  {
   "cell_type": "code",
   "execution_count": 6,
   "id": "0f635a5a-506e-4e58-8eb7-34aa0e3f4219",
   "metadata": {},
   "outputs": [
    {
     "data": {
      "text/plain": [
       "Developing    2426\n",
       "Developed      512\n",
       "Name: status, dtype: int64"
      ]
     },
     "execution_count": 6,
     "metadata": {},
     "output_type": "execute_result"
    }
   ],
   "source": [
    "life_exp_df['status'].value_counts()"
   ]
  },
  {
   "cell_type": "code",
   "execution_count": 19,
   "id": "110dd49c-9b33-4745-8ec2-7f8edd9f83c8",
   "metadata": {},
   "outputs": [
    {
     "data": {
      "text/plain": [
       "2015    183\n",
       "2014    183\n",
       "2013    193\n",
       "2012    183\n",
       "2011    183\n",
       "2010    183\n",
       "2009    183\n",
       "2008    183\n",
       "2007    183\n",
       "2006    183\n",
       "2005    183\n",
       "2004    183\n",
       "2003    183\n",
       "2002    183\n",
       "2001    183\n",
       "2000    183\n",
       "Name: year, dtype: int64"
      ]
     },
     "execution_count": 19,
     "metadata": {},
     "output_type": "execute_result"
    }
   ],
   "source": [
    "life_exp_df['year'].value_counts(sort=False)"
   ]
  },
  {
   "cell_type": "code",
   "execution_count": 133,
   "id": "a36a44bc-8ccb-444b-9c40-ca142f8d409b",
   "metadata": {},
   "outputs": [],
   "source": [
    "le_2015 = life_exp_df[life_exp_df['year'] == 2015]"
   ]
  },
  {
   "cell_type": "code",
   "execution_count": 134,
   "id": "bab7b3ec-22c1-4545-97a9-ea295bcbbc38",
   "metadata": {},
   "outputs": [
    {
     "data": {
      "text/html": [
       "<div>\n",
       "<style scoped>\n",
       "    .dataframe tbody tr th:only-of-type {\n",
       "        vertical-align: middle;\n",
       "    }\n",
       "\n",
       "    .dataframe tbody tr th {\n",
       "        vertical-align: top;\n",
       "    }\n",
       "\n",
       "    .dataframe thead th {\n",
       "        text-align: right;\n",
       "    }\n",
       "</style>\n",
       "<table border=\"1\" class=\"dataframe\">\n",
       "  <thead>\n",
       "    <tr style=\"text-align: right;\">\n",
       "      <th></th>\n",
       "      <th>country</th>\n",
       "      <th>year</th>\n",
       "      <th>status</th>\n",
       "      <th>life_expectancy</th>\n",
       "      <th>adult_mortality</th>\n",
       "      <th>infant_deaths</th>\n",
       "      <th>alcohol</th>\n",
       "      <th>percentage_expenditure</th>\n",
       "      <th>hepatitis_b</th>\n",
       "      <th>measles</th>\n",
       "      <th>...</th>\n",
       "      <th>polio</th>\n",
       "      <th>total_expenditure</th>\n",
       "      <th>diphtheria</th>\n",
       "      <th>hiv/aids</th>\n",
       "      <th>gdp</th>\n",
       "      <th>population</th>\n",
       "      <th>thinness__1-19_years</th>\n",
       "      <th>thinness_5-9_years</th>\n",
       "      <th>income_composition_of_resources</th>\n",
       "      <th>schooling</th>\n",
       "    </tr>\n",
       "  </thead>\n",
       "  <tbody>\n",
       "    <tr>\n",
       "      <th>480</th>\n",
       "      <td>Cameroon</td>\n",
       "      <td>2015</td>\n",
       "      <td>Developing</td>\n",
       "      <td>57.3</td>\n",
       "      <td>357.0</td>\n",
       "      <td>45</td>\n",
       "      <td>NaN</td>\n",
       "      <td>0.0</td>\n",
       "      <td>84.0</td>\n",
       "      <td>1809</td>\n",
       "      <td>...</td>\n",
       "      <td>83.0</td>\n",
       "      <td>NaN</td>\n",
       "      <td>84.0</td>\n",
       "      <td>3.5</td>\n",
       "      <td>1244.429421</td>\n",
       "      <td>22834522.0</td>\n",
       "      <td>5.6</td>\n",
       "      <td>5.5</td>\n",
       "      <td>0.514</td>\n",
       "      <td>10.4</td>\n",
       "    </tr>\n",
       "    <tr>\n",
       "      <th>320</th>\n",
       "      <td>Bosnia and Herzegovina</td>\n",
       "      <td>2015</td>\n",
       "      <td>Developing</td>\n",
       "      <td>77.4</td>\n",
       "      <td>88.0</td>\n",
       "      <td>0</td>\n",
       "      <td>NaN</td>\n",
       "      <td>0.0</td>\n",
       "      <td>82.0</td>\n",
       "      <td>1677</td>\n",
       "      <td>...</td>\n",
       "      <td>74.0</td>\n",
       "      <td>NaN</td>\n",
       "      <td>82.0</td>\n",
       "      <td>0.1</td>\n",
       "      <td>4574.978700</td>\n",
       "      <td>3535961.0</td>\n",
       "      <td>2.3</td>\n",
       "      <td>2.3</td>\n",
       "      <td>0.747</td>\n",
       "      <td>14.2</td>\n",
       "    </tr>\n",
       "    <tr>\n",
       "      <th>1522</th>\n",
       "      <td>Lithuania</td>\n",
       "      <td>2015</td>\n",
       "      <td>Developed</td>\n",
       "      <td>73.6</td>\n",
       "      <td>165.0</td>\n",
       "      <td>0</td>\n",
       "      <td>NaN</td>\n",
       "      <td>0.0</td>\n",
       "      <td>94.0</td>\n",
       "      <td>50</td>\n",
       "      <td>...</td>\n",
       "      <td>93.0</td>\n",
       "      <td>NaN</td>\n",
       "      <td>93.0</td>\n",
       "      <td>0.1</td>\n",
       "      <td>14252.428530</td>\n",
       "      <td>29491.0</td>\n",
       "      <td>2.6</td>\n",
       "      <td>2.6</td>\n",
       "      <td>0.846</td>\n",
       "      <td>16.5</td>\n",
       "    </tr>\n",
       "    <tr>\n",
       "      <th>1506</th>\n",
       "      <td>Libya</td>\n",
       "      <td>2015</td>\n",
       "      <td>Developing</td>\n",
       "      <td>72.7</td>\n",
       "      <td>138.0</td>\n",
       "      <td>1</td>\n",
       "      <td>NaN</td>\n",
       "      <td>0.0</td>\n",
       "      <td>97.0</td>\n",
       "      <td>82</td>\n",
       "      <td>...</td>\n",
       "      <td>97.0</td>\n",
       "      <td>NaN</td>\n",
       "      <td>97.0</td>\n",
       "      <td>0.1</td>\n",
       "      <td>NaN</td>\n",
       "      <td>NaN</td>\n",
       "      <td>5.8</td>\n",
       "      <td>5.5</td>\n",
       "      <td>0.719</td>\n",
       "      <td>13.4</td>\n",
       "    </tr>\n",
       "    <tr>\n",
       "      <th>1796</th>\n",
       "      <td>Namibia</td>\n",
       "      <td>2015</td>\n",
       "      <td>Developing</td>\n",
       "      <td>65.8</td>\n",
       "      <td>248.0</td>\n",
       "      <td>2</td>\n",
       "      <td>NaN</td>\n",
       "      <td>0.0</td>\n",
       "      <td>92.0</td>\n",
       "      <td>212</td>\n",
       "      <td>...</td>\n",
       "      <td>92.0</td>\n",
       "      <td>NaN</td>\n",
       "      <td>92.0</td>\n",
       "      <td>2.1</td>\n",
       "      <td>4737.669960</td>\n",
       "      <td>2425561.0</td>\n",
       "      <td>8.2</td>\n",
       "      <td>8.1</td>\n",
       "      <td>0.637</td>\n",
       "      <td>11.7</td>\n",
       "    </tr>\n",
       "    <tr>\n",
       "      <th>2810</th>\n",
       "      <td>Uruguay</td>\n",
       "      <td>2015</td>\n",
       "      <td>Developing</td>\n",
       "      <td>77.0</td>\n",
       "      <td>116.0</td>\n",
       "      <td>0</td>\n",
       "      <td>NaN</td>\n",
       "      <td>0.0</td>\n",
       "      <td>95.0</td>\n",
       "      <td>0</td>\n",
       "      <td>...</td>\n",
       "      <td>95.0</td>\n",
       "      <td>NaN</td>\n",
       "      <td>95.0</td>\n",
       "      <td>0.1</td>\n",
       "      <td>15524.842470</td>\n",
       "      <td>3431552.0</td>\n",
       "      <td>1.5</td>\n",
       "      <td>1.4</td>\n",
       "      <td>0.794</td>\n",
       "      <td>15.5</td>\n",
       "    </tr>\n",
       "    <tr>\n",
       "      <th>2521</th>\n",
       "      <td>Switzerland</td>\n",
       "      <td>2015</td>\n",
       "      <td>Developed</td>\n",
       "      <td>83.4</td>\n",
       "      <td>49.0</td>\n",
       "      <td>0</td>\n",
       "      <td>NaN</td>\n",
       "      <td>0.0</td>\n",
       "      <td>NaN</td>\n",
       "      <td>35</td>\n",
       "      <td>...</td>\n",
       "      <td>97.0</td>\n",
       "      <td>NaN</td>\n",
       "      <td>97.0</td>\n",
       "      <td>0.1</td>\n",
       "      <td>8989.842400</td>\n",
       "      <td>8282396.0</td>\n",
       "      <td>0.4</td>\n",
       "      <td>0.3</td>\n",
       "      <td>0.938</td>\n",
       "      <td>16.0</td>\n",
       "    </tr>\n",
       "    <tr>\n",
       "      <th>1602</th>\n",
       "      <td>Maldives</td>\n",
       "      <td>2015</td>\n",
       "      <td>Developing</td>\n",
       "      <td>78.5</td>\n",
       "      <td>61.0</td>\n",
       "      <td>0</td>\n",
       "      <td>NaN</td>\n",
       "      <td>0.0</td>\n",
       "      <td>99.0</td>\n",
       "      <td>0</td>\n",
       "      <td>...</td>\n",
       "      <td>99.0</td>\n",
       "      <td>NaN</td>\n",
       "      <td>99.0</td>\n",
       "      <td>0.1</td>\n",
       "      <td>8395.785198</td>\n",
       "      <td>49163.0</td>\n",
       "      <td>13.6</td>\n",
       "      <td>13.6</td>\n",
       "      <td>0.701</td>\n",
       "      <td>12.7</td>\n",
       "    </tr>\n",
       "    <tr>\n",
       "      <th>1959</th>\n",
       "      <td>Panama</td>\n",
       "      <td>2015</td>\n",
       "      <td>Developing</td>\n",
       "      <td>77.8</td>\n",
       "      <td>118.0</td>\n",
       "      <td>1</td>\n",
       "      <td>NaN</td>\n",
       "      <td>0.0</td>\n",
       "      <td>73.0</td>\n",
       "      <td>0</td>\n",
       "      <td>...</td>\n",
       "      <td>72.0</td>\n",
       "      <td>NaN</td>\n",
       "      <td>73.0</td>\n",
       "      <td>0.1</td>\n",
       "      <td>13134.436700</td>\n",
       "      <td>3969249.0</td>\n",
       "      <td>1.9</td>\n",
       "      <td>1.8</td>\n",
       "      <td>0.785</td>\n",
       "      <td>13.0</td>\n",
       "    </tr>\n",
       "    <tr>\n",
       "      <th>288</th>\n",
       "      <td>Bhutan</td>\n",
       "      <td>2015</td>\n",
       "      <td>Developing</td>\n",
       "      <td>69.8</td>\n",
       "      <td>211.0</td>\n",
       "      <td>0</td>\n",
       "      <td>NaN</td>\n",
       "      <td>0.0</td>\n",
       "      <td>99.0</td>\n",
       "      <td>11</td>\n",
       "      <td>...</td>\n",
       "      <td>98.0</td>\n",
       "      <td>NaN</td>\n",
       "      <td>99.0</td>\n",
       "      <td>0.5</td>\n",
       "      <td>2613.645177</td>\n",
       "      <td>787386.0</td>\n",
       "      <td>15.4</td>\n",
       "      <td>16.0</td>\n",
       "      <td>0.604</td>\n",
       "      <td>12.5</td>\n",
       "    </tr>\n",
       "    <tr>\n",
       "      <th>2329</th>\n",
       "      <td>Slovakia</td>\n",
       "      <td>2015</td>\n",
       "      <td>Developed</td>\n",
       "      <td>76.7</td>\n",
       "      <td>19.0</td>\n",
       "      <td>0</td>\n",
       "      <td>NaN</td>\n",
       "      <td>0.0</td>\n",
       "      <td>96.0</td>\n",
       "      <td>1</td>\n",
       "      <td>...</td>\n",
       "      <td>96.0</td>\n",
       "      <td>NaN</td>\n",
       "      <td>96.0</td>\n",
       "      <td>0.1</td>\n",
       "      <td>NaN</td>\n",
       "      <td>NaN</td>\n",
       "      <td>1.2</td>\n",
       "      <td>1.2</td>\n",
       "      <td>0.842</td>\n",
       "      <td>15.0</td>\n",
       "    </tr>\n",
       "    <tr>\n",
       "      <th>448</th>\n",
       "      <td>Cabo Verde</td>\n",
       "      <td>2015</td>\n",
       "      <td>Developing</td>\n",
       "      <td>73.3</td>\n",
       "      <td>114.0</td>\n",
       "      <td>0</td>\n",
       "      <td>NaN</td>\n",
       "      <td>0.0</td>\n",
       "      <td>96.0</td>\n",
       "      <td>0</td>\n",
       "      <td>...</td>\n",
       "      <td>93.0</td>\n",
       "      <td>NaN</td>\n",
       "      <td>93.0</td>\n",
       "      <td>0.2</td>\n",
       "      <td>2954.119467</td>\n",
       "      <td>532913.0</td>\n",
       "      <td>6.6</td>\n",
       "      <td>6.6</td>\n",
       "      <td>0.646</td>\n",
       "      <td>13.5</td>\n",
       "    </tr>\n",
       "  </tbody>\n",
       "</table>\n",
       "<p>12 rows × 22 columns</p>\n",
       "</div>"
      ],
      "text/plain": [
       "                     country  year      status  life_expectancy  \\\n",
       "480                 Cameroon  2015  Developing             57.3   \n",
       "320   Bosnia and Herzegovina  2015  Developing             77.4   \n",
       "1522               Lithuania  2015   Developed             73.6   \n",
       "1506                   Libya  2015  Developing             72.7   \n",
       "1796                 Namibia  2015  Developing             65.8   \n",
       "2810                 Uruguay  2015  Developing             77.0   \n",
       "2521             Switzerland  2015   Developed             83.4   \n",
       "1602                Maldives  2015  Developing             78.5   \n",
       "1959                  Panama  2015  Developing             77.8   \n",
       "288                   Bhutan  2015  Developing             69.8   \n",
       "2329                Slovakia  2015   Developed             76.7   \n",
       "448               Cabo Verde  2015  Developing             73.3   \n",
       "\n",
       "      adult_mortality  infant_deaths  alcohol  percentage_expenditure  \\\n",
       "480             357.0             45      NaN                     0.0   \n",
       "320              88.0              0      NaN                     0.0   \n",
       "1522            165.0              0      NaN                     0.0   \n",
       "1506            138.0              1      NaN                     0.0   \n",
       "1796            248.0              2      NaN                     0.0   \n",
       "2810            116.0              0      NaN                     0.0   \n",
       "2521             49.0              0      NaN                     0.0   \n",
       "1602             61.0              0      NaN                     0.0   \n",
       "1959            118.0              1      NaN                     0.0   \n",
       "288             211.0              0      NaN                     0.0   \n",
       "2329             19.0              0      NaN                     0.0   \n",
       "448             114.0              0      NaN                     0.0   \n",
       "\n",
       "      hepatitis_b  measles  ...  polio  total_expenditure  diphtheria  \\\n",
       "480          84.0     1809  ...   83.0                NaN        84.0   \n",
       "320          82.0     1677  ...   74.0                NaN        82.0   \n",
       "1522         94.0       50  ...   93.0                NaN        93.0   \n",
       "1506         97.0       82  ...   97.0                NaN        97.0   \n",
       "1796         92.0      212  ...   92.0                NaN        92.0   \n",
       "2810         95.0        0  ...   95.0                NaN        95.0   \n",
       "2521          NaN       35  ...   97.0                NaN        97.0   \n",
       "1602         99.0        0  ...   99.0                NaN        99.0   \n",
       "1959         73.0        0  ...   72.0                NaN        73.0   \n",
       "288          99.0       11  ...   98.0                NaN        99.0   \n",
       "2329         96.0        1  ...   96.0                NaN        96.0   \n",
       "448          96.0        0  ...   93.0                NaN        93.0   \n",
       "\n",
       "      hiv/aids           gdp  population  thinness__1-19_years  \\\n",
       "480        3.5   1244.429421  22834522.0                   5.6   \n",
       "320        0.1   4574.978700   3535961.0                   2.3   \n",
       "1522       0.1  14252.428530     29491.0                   2.6   \n",
       "1506       0.1           NaN         NaN                   5.8   \n",
       "1796       2.1   4737.669960   2425561.0                   8.2   \n",
       "2810       0.1  15524.842470   3431552.0                   1.5   \n",
       "2521       0.1   8989.842400   8282396.0                   0.4   \n",
       "1602       0.1   8395.785198     49163.0                  13.6   \n",
       "1959       0.1  13134.436700   3969249.0                   1.9   \n",
       "288        0.5   2613.645177    787386.0                  15.4   \n",
       "2329       0.1           NaN         NaN                   1.2   \n",
       "448        0.2   2954.119467    532913.0                   6.6   \n",
       "\n",
       "      thinness_5-9_years  income_composition_of_resources  schooling  \n",
       "480                  5.5                            0.514       10.4  \n",
       "320                  2.3                            0.747       14.2  \n",
       "1522                 2.6                            0.846       16.5  \n",
       "1506                 5.5                            0.719       13.4  \n",
       "1796                 8.1                            0.637       11.7  \n",
       "2810                 1.4                            0.794       15.5  \n",
       "2521                 0.3                            0.938       16.0  \n",
       "1602                13.6                            0.701       12.7  \n",
       "1959                 1.8                            0.785       13.0  \n",
       "288                 16.0                            0.604       12.5  \n",
       "2329                 1.2                            0.842       15.0  \n",
       "448                  6.6                            0.646       13.5  \n",
       "\n",
       "[12 rows x 22 columns]"
      ]
     },
     "execution_count": 134,
     "metadata": {},
     "output_type": "execute_result"
    }
   ],
   "source": [
    "le_2015.sample(12)"
   ]
  },
  {
   "cell_type": "markdown",
   "id": "05072bf1-4cbd-458c-9a5b-6d368a9047e1",
   "metadata": {},
   "source": [
    "> The predicitons on life expectancy will be based on year 2015"
   ]
  },
  {
   "cell_type": "markdown",
   "id": "ddc62cdc-56d0-44ed-bbe8-111a9d007787",
   "metadata": {},
   "source": [
    "#### Check for duplicate records"
   ]
  },
  {
   "cell_type": "code",
   "execution_count": 135,
   "id": "9eba6258-17d7-45a3-9a7f-8bed304f0676",
   "metadata": {},
   "outputs": [],
   "source": [
    "duplicate_rec_count = le_2015[le_2015.duplicated(['country', 'year', 'status']) == True]"
   ]
  },
  {
   "cell_type": "code",
   "execution_count": 136,
   "id": "dd932acf-022a-42d9-85a2-f222fd83e063",
   "metadata": {},
   "outputs": [
    {
     "data": {
      "text/plain": [
       "0"
      ]
     },
     "execution_count": 136,
     "metadata": {},
     "output_type": "execute_result"
    }
   ],
   "source": [
    "len(duplicate_rec_count)"
   ]
  },
  {
   "cell_type": "code",
   "execution_count": 137,
   "id": "37d119b7-64c3-442a-b8eb-8ef61b1e1568",
   "metadata": {},
   "outputs": [],
   "source": [
    "msg = f'There are {len(duplicate_rec_count)} duplicate rows'"
   ]
  },
  {
   "cell_type": "code",
   "execution_count": 138,
   "id": "8124ec20-c5c0-4d7c-a68d-8b0d51a411f2",
   "metadata": {},
   "outputs": [
    {
     "name": "stdout",
     "output_type": "stream",
     "text": [
      "There are 0 duplicate rows\n"
     ]
    }
   ],
   "source": [
    "print(msg)"
   ]
  },
  {
   "cell_type": "markdown",
   "id": "efa65c13-c544-42c6-be1e-eec34f8f063f",
   "metadata": {},
   "source": [
    "#### Check for missing data"
   ]
  },
  {
   "cell_type": "code",
   "execution_count": 164,
   "id": "897abf77-e280-444d-83c0-fbdeb454ba70",
   "metadata": {},
   "outputs": [],
   "source": [
    "def report_missing_data(col_name):\n",
    "    '''\n",
    "    Description: Check if col_name parameter is missing any values\n",
    "    \n",
    "    args: col_name - name of dataframe column\n",
    "    \n",
    "    returns: column name if missing values. Otherwise return None\n",
    "    '''\n",
    "    \n",
    "    num_missing = le_2015[col_name].isnull().sum()\n",
    "    msg = f'{col_name} has {num_missing} missing values'\n",
    "    \n",
    "    if (num_missing > 0):\n",
    "        print(msg)\n",
    "        return col_name\n",
    "        \n",
    "    return None"
   ]
  },
  {
   "cell_type": "code",
   "execution_count": 141,
   "id": "b28b2740-0cb4-4e1b-bcc9-1c94214fca81",
   "metadata": {},
   "outputs": [],
   "source": [
    "column_names = ['country', 'year', 'status', 'life_expectancy', 'adult_mortality',\n",
    "       'infant_deaths', 'alcohol', 'percentage_expenditure', 'hepatitis_b',\n",
    "       'measles', 'bmi', 'under-five_deaths', 'polio', 'total_expenditure',\n",
    "       'diphtheria', 'hiv/aids', 'gdp', 'population', 'thinness__1-19_years',\n",
    "       'thinness_5-9_years', 'income_composition_of_resources', 'schooling']"
   ]
  },
  {
   "cell_type": "code",
   "execution_count": 142,
   "id": "198edf46-15db-49c7-a6c8-bcede868c0a6",
   "metadata": {},
   "outputs": [],
   "source": [
    "missing_col_names = []"
   ]
  },
  {
   "cell_type": "code",
   "execution_count": 143,
   "id": "b5cfd69f-d54c-43f6-b7fc-8f2ec0c13515",
   "metadata": {},
   "outputs": [
    {
     "name": "stdout",
     "output_type": "stream",
     "text": [
      "alcohol has 177 missing values\n",
      "hepatitis_b has 9 missing values\n",
      "bmi has 2 missing values\n",
      "total_expenditure has 181 missing values\n",
      "gdp has 29 missing values\n",
      "population has 41 missing values\n",
      "thinness__1-19_years has 2 missing values\n",
      "thinness_5-9_years has 2 missing values\n",
      "income_composition_of_resources has 10 missing values\n",
      "schooling has 10 missing values\n"
     ]
    }
   ],
   "source": [
    "for c in column_names:\n",
    "    col_ret = report_missing_data(c)\n",
    "    \n",
    "    if col_ret != None:\n",
    "        missing_col_names.append(c)"
   ]
  },
  {
   "cell_type": "code",
   "execution_count": 144,
   "id": "648f374e-ff14-418f-883f-b44efe57b9b0",
   "metadata": {},
   "outputs": [
    {
     "data": {
      "text/plain": [
       "['alcohol',\n",
       " 'hepatitis_b',\n",
       " 'bmi',\n",
       " 'total_expenditure',\n",
       " 'gdp',\n",
       " 'population',\n",
       " 'thinness__1-19_years',\n",
       " 'thinness_5-9_years',\n",
       " 'income_composition_of_resources',\n",
       " 'schooling']"
      ]
     },
     "execution_count": 144,
     "metadata": {},
     "output_type": "execute_result"
    }
   ],
   "source": [
    "missing_col_names"
   ]
  },
  {
   "cell_type": "code",
   "execution_count": 145,
   "id": "0303db2c-66fc-444d-9a7c-064bb597641e",
   "metadata": {},
   "outputs": [],
   "source": [
    "# drop alcohol feature since column is mostly empty\n",
    "le_2015.drop(['alcohol'], axis=1, inplace=True)\n",
    "missing_col_names.remove('alcohol')"
   ]
  },
  {
   "cell_type": "code",
   "execution_count": 154,
   "id": "e3d5e7f8-1bb4-4b29-94e2-c483fca14eb5",
   "metadata": {},
   "outputs": [],
   "source": [
    "# drop total_expenditure since all observations are null for this column\n",
    "le_2015.drop(['total_expenditure'], axis=1, inplace=True)\n",
    "missing_col_names.remove('total_expenditure')"
   ]
  },
  {
   "cell_type": "code",
   "execution_count": 155,
   "id": "f0f37ee9-a391-4f0b-a945-bf605446a4bd",
   "metadata": {},
   "outputs": [
    {
     "data": {
      "text/plain": [
       "['hepatitis_b',\n",
       " 'bmi',\n",
       " 'gdp',\n",
       " 'population',\n",
       " 'thinness__1-19_years',\n",
       " 'thinness_5-9_years',\n",
       " 'income_composition_of_resources',\n",
       " 'schooling']"
      ]
     },
     "execution_count": 155,
     "metadata": {},
     "output_type": "execute_result"
    }
   ],
   "source": [
    "missing_col_names"
   ]
  },
  {
   "cell_type": "code",
   "execution_count": 157,
   "id": "3fde7d67-4759-4886-872d-196e59c731d1",
   "metadata": {},
   "outputs": [
    {
     "data": {
      "text/plain": [
       "hepatitis_b                         9\n",
       "bmi                                 2\n",
       "gdp                                29\n",
       "population                         41\n",
       "thinness__1-19_years                2\n",
       "thinness_5-9_years                  2\n",
       "income_composition_of_resources    10\n",
       "schooling                          10\n",
       "dtype: int64"
      ]
     },
     "execution_count": 157,
     "metadata": {},
     "output_type": "execute_result"
    }
   ],
   "source": [
    "le_2015[missing_col_names].isnull().sum()"
   ]
  },
  {
   "cell_type": "code",
   "execution_count": 158,
   "id": "83435017-17a3-4895-b7f1-7894f831c11c",
   "metadata": {},
   "outputs": [
    {
     "data": {
      "text/html": [
       "<div>\n",
       "<style scoped>\n",
       "    .dataframe tbody tr th:only-of-type {\n",
       "        vertical-align: middle;\n",
       "    }\n",
       "\n",
       "    .dataframe tbody tr th {\n",
       "        vertical-align: top;\n",
       "    }\n",
       "\n",
       "    .dataframe thead th {\n",
       "        text-align: right;\n",
       "    }\n",
       "</style>\n",
       "<table border=\"1\" class=\"dataframe\">\n",
       "  <thead>\n",
       "    <tr style=\"text-align: right;\">\n",
       "      <th></th>\n",
       "      <th>country</th>\n",
       "      <th>year</th>\n",
       "      <th>status</th>\n",
       "      <th>life_expectancy</th>\n",
       "      <th>adult_mortality</th>\n",
       "      <th>infant_deaths</th>\n",
       "      <th>percentage_expenditure</th>\n",
       "      <th>hepatitis_b</th>\n",
       "      <th>measles</th>\n",
       "      <th>bmi</th>\n",
       "      <th>under-five_deaths</th>\n",
       "      <th>polio</th>\n",
       "      <th>diphtheria</th>\n",
       "      <th>hiv/aids</th>\n",
       "      <th>gdp</th>\n",
       "      <th>population</th>\n",
       "      <th>thinness__1-19_years</th>\n",
       "      <th>thinness_5-9_years</th>\n",
       "      <th>income_composition_of_resources</th>\n",
       "      <th>schooling</th>\n",
       "    </tr>\n",
       "  </thead>\n",
       "  <tbody>\n",
       "    <tr>\n",
       "      <th>0</th>\n",
       "      <td>Afghanistan</td>\n",
       "      <td>2015</td>\n",
       "      <td>Developing</td>\n",
       "      <td>65.0</td>\n",
       "      <td>263.0</td>\n",
       "      <td>62</td>\n",
       "      <td>71.279624</td>\n",
       "      <td>65.0</td>\n",
       "      <td>1154</td>\n",
       "      <td>19.1</td>\n",
       "      <td>83</td>\n",
       "      <td>6.0</td>\n",
       "      <td>65.0</td>\n",
       "      <td>0.1</td>\n",
       "      <td>584.259210</td>\n",
       "      <td>33736494.0</td>\n",
       "      <td>17.2</td>\n",
       "      <td>17.3</td>\n",
       "      <td>0.479</td>\n",
       "      <td>10.1</td>\n",
       "    </tr>\n",
       "    <tr>\n",
       "      <th>16</th>\n",
       "      <td>Albania</td>\n",
       "      <td>2015</td>\n",
       "      <td>Developing</td>\n",
       "      <td>77.8</td>\n",
       "      <td>74.0</td>\n",
       "      <td>0</td>\n",
       "      <td>364.975229</td>\n",
       "      <td>99.0</td>\n",
       "      <td>0</td>\n",
       "      <td>58.0</td>\n",
       "      <td>0</td>\n",
       "      <td>99.0</td>\n",
       "      <td>99.0</td>\n",
       "      <td>0.1</td>\n",
       "      <td>3954.227830</td>\n",
       "      <td>28873.0</td>\n",
       "      <td>1.2</td>\n",
       "      <td>1.3</td>\n",
       "      <td>0.762</td>\n",
       "      <td>14.2</td>\n",
       "    </tr>\n",
       "    <tr>\n",
       "      <th>32</th>\n",
       "      <td>Algeria</td>\n",
       "      <td>2015</td>\n",
       "      <td>Developing</td>\n",
       "      <td>75.6</td>\n",
       "      <td>19.0</td>\n",
       "      <td>21</td>\n",
       "      <td>0.000000</td>\n",
       "      <td>95.0</td>\n",
       "      <td>63</td>\n",
       "      <td>59.5</td>\n",
       "      <td>24</td>\n",
       "      <td>95.0</td>\n",
       "      <td>95.0</td>\n",
       "      <td>0.1</td>\n",
       "      <td>4132.762920</td>\n",
       "      <td>39871528.0</td>\n",
       "      <td>6.0</td>\n",
       "      <td>5.8</td>\n",
       "      <td>0.743</td>\n",
       "      <td>14.4</td>\n",
       "    </tr>\n",
       "    <tr>\n",
       "      <th>48</th>\n",
       "      <td>Angola</td>\n",
       "      <td>2015</td>\n",
       "      <td>Developing</td>\n",
       "      <td>52.4</td>\n",
       "      <td>335.0</td>\n",
       "      <td>66</td>\n",
       "      <td>0.000000</td>\n",
       "      <td>64.0</td>\n",
       "      <td>118</td>\n",
       "      <td>23.3</td>\n",
       "      <td>98</td>\n",
       "      <td>7.0</td>\n",
       "      <td>64.0</td>\n",
       "      <td>1.9</td>\n",
       "      <td>3695.793748</td>\n",
       "      <td>2785935.0</td>\n",
       "      <td>8.3</td>\n",
       "      <td>8.2</td>\n",
       "      <td>0.531</td>\n",
       "      <td>11.4</td>\n",
       "    </tr>\n",
       "    <tr>\n",
       "      <th>64</th>\n",
       "      <td>Antigua and Barbuda</td>\n",
       "      <td>2015</td>\n",
       "      <td>Developing</td>\n",
       "      <td>76.4</td>\n",
       "      <td>13.0</td>\n",
       "      <td>0</td>\n",
       "      <td>0.000000</td>\n",
       "      <td>99.0</td>\n",
       "      <td>0</td>\n",
       "      <td>47.7</td>\n",
       "      <td>0</td>\n",
       "      <td>86.0</td>\n",
       "      <td>99.0</td>\n",
       "      <td>0.2</td>\n",
       "      <td>13566.954100</td>\n",
       "      <td>NaN</td>\n",
       "      <td>3.3</td>\n",
       "      <td>3.3</td>\n",
       "      <td>0.784</td>\n",
       "      <td>13.9</td>\n",
       "    </tr>\n",
       "  </tbody>\n",
       "</table>\n",
       "</div>"
      ],
      "text/plain": [
       "                country  year      status  life_expectancy  adult_mortality  \\\n",
       "0           Afghanistan  2015  Developing             65.0            263.0   \n",
       "16              Albania  2015  Developing             77.8             74.0   \n",
       "32              Algeria  2015  Developing             75.6             19.0   \n",
       "48               Angola  2015  Developing             52.4            335.0   \n",
       "64  Antigua and Barbuda  2015  Developing             76.4             13.0   \n",
       "\n",
       "    infant_deaths  percentage_expenditure  hepatitis_b  measles   bmi  \\\n",
       "0              62               71.279624         65.0     1154  19.1   \n",
       "16              0              364.975229         99.0        0  58.0   \n",
       "32             21                0.000000         95.0       63  59.5   \n",
       "48             66                0.000000         64.0      118  23.3   \n",
       "64              0                0.000000         99.0        0  47.7   \n",
       "\n",
       "    under-five_deaths  polio  diphtheria  hiv/aids           gdp  population  \\\n",
       "0                  83    6.0        65.0       0.1    584.259210  33736494.0   \n",
       "16                  0   99.0        99.0       0.1   3954.227830     28873.0   \n",
       "32                 24   95.0        95.0       0.1   4132.762920  39871528.0   \n",
       "48                 98    7.0        64.0       1.9   3695.793748   2785935.0   \n",
       "64                  0   86.0        99.0       0.2  13566.954100         NaN   \n",
       "\n",
       "    thinness__1-19_years  thinness_5-9_years  income_composition_of_resources  \\\n",
       "0                   17.2                17.3                            0.479   \n",
       "16                   1.2                 1.3                            0.762   \n",
       "32                   6.0                 5.8                            0.743   \n",
       "48                   8.3                 8.2                            0.531   \n",
       "64                   3.3                 3.3                            0.784   \n",
       "\n",
       "    schooling  \n",
       "0        10.1  \n",
       "16       14.2  \n",
       "32       14.4  \n",
       "48       11.4  \n",
       "64       13.9  "
      ]
     },
     "execution_count": 158,
     "metadata": {},
     "output_type": "execute_result"
    }
   ],
   "source": [
    "le_2015.head()"
   ]
  },
  {
   "cell_type": "markdown",
   "id": "4765e540-c0fb-4402-8564-9680754bd489",
   "metadata": {},
   "source": [
    "#### Impute missing values with the mean"
   ]
  },
  {
   "cell_type": "code",
   "execution_count": 165,
   "id": "100270ec-47ea-4974-8a95-31338eb8c61e",
   "metadata": {},
   "outputs": [],
   "source": [
    "def impute_missing_values(col_name):\n",
    "    pass"
   ]
  },
  {
   "cell_type": "code",
   "execution_count": 162,
   "id": "a90045e7-ca11-4381-85ab-d53408a60aaf",
   "metadata": {},
   "outputs": [],
   "source": [
    "mean_hepatitis_b = np.mean(le_2015['hepatitis_b'])"
   ]
  },
  {
   "cell_type": "code",
   "execution_count": 163,
   "id": "8df44ae9-6106-4a8f-a19e-079bfba4f8a8",
   "metadata": {},
   "outputs": [
    {
     "data": {
      "text/plain": [
       "82.42528735632185"
      ]
     },
     "execution_count": 163,
     "metadata": {},
     "output_type": "execute_result"
    }
   ],
   "source": [
    "mean_hepatitis_b"
   ]
  },
  {
   "cell_type": "code",
   "execution_count": null,
   "id": "33280582-f8b2-4e99-83a6-9547254eb6ce",
   "metadata": {},
   "outputs": [],
   "source": []
  }
 ],
 "metadata": {
  "kernelspec": {
   "display_name": "PythonDev (3.9)",
   "language": "python",
   "name": "pythondev"
  },
  "language_info": {
   "codemirror_mode": {
    "name": "ipython",
    "version": 3
   },
   "file_extension": ".py",
   "mimetype": "text/x-python",
   "name": "python",
   "nbconvert_exporter": "python",
   "pygments_lexer": "ipython3",
   "version": "3.9.12"
  }
 },
 "nbformat": 4,
 "nbformat_minor": 5
}
