{
 "cells": [
  {
   "cell_type": "markdown",
   "id": "40f4596f-4697-426c-9f1d-5164fc2fc8e1",
   "metadata": {},
   "source": [
    "## DSC-609: Machine Learning\n",
    "### Module 2 - Regularization\n",
    "**Michael Albers**\n",
    "\n",
    "**7/15/2022**"
   ]
  },
  {
   "cell_type": "markdown",
   "id": "3058f758-c8aa-4f9f-9d9d-6ec2264e25b6",
   "metadata": {},
   "source": [
    "### Overview\n",
    "Use Ridge and LASSO regression to predict Life Expectancy"
   ]
  },
  {
   "cell_type": "markdown",
   "id": "56670fdb-c64b-495a-98b9-d902e58323fe",
   "metadata": {},
   "source": [
    "### Data Set\n",
    "**Life Expectancy (WHO)** \n",
    "\n",
    "This data set contains immunization data, mortality, economic, and social factors, and other health related factors from 2000 to 2015 from world countries.\n",
    "\n",
    "https://www.kaggle.com/datasets/kumarajarshi/life-expectancy-who"
   ]
  },
  {
   "cell_type": "code",
   "execution_count": 1,
   "id": "3758ec8b-9262-4651-ae5e-9e0339e6f9fc",
   "metadata": {},
   "outputs": [],
   "source": [
    "import pandas as pd\n",
    "import numpy as np\n",
    "import matplotlib.pyplot as plt\n",
    "import seaborn as sns"
   ]
  },
  {
   "cell_type": "code",
   "execution_count": 396,
   "id": "abfd7f4b-9405-4fb1-af7a-6773d7471612",
   "metadata": {},
   "outputs": [],
   "source": [
    "%matplotlib inline"
   ]
  },
  {
   "cell_type": "code",
   "execution_count": 172,
   "id": "14d94f93-188d-4565-a0e6-7a86454296dc",
   "metadata": {},
   "outputs": [],
   "source": [
    "# set default theme\n",
    "sns.set_theme()"
   ]
  },
  {
   "cell_type": "code",
   "execution_count": 131,
   "id": "2a1f03d9-1995-472b-9f18-a98c3c31c80b",
   "metadata": {},
   "outputs": [],
   "source": [
    "import warnings\n",
    "warnings.filterwarnings('ignore')"
   ]
  },
  {
   "cell_type": "markdown",
   "id": "72b2634e-f503-4ead-85ee-7e4fd4bae855",
   "metadata": {},
   "source": [
    "### Read and Inspect data file"
   ]
  },
  {
   "cell_type": "code",
   "execution_count": 2,
   "id": "eff9be02-0fd1-401d-9f91-12daf5f2c0e5",
   "metadata": {},
   "outputs": [],
   "source": [
    "life_exp_df = pd.read_csv('data/Life Expectancy Data.csv')"
   ]
  },
  {
   "cell_type": "code",
   "execution_count": 3,
   "id": "c0660d0c-97a8-43cd-82c9-4ac4b71fd69b",
   "metadata": {},
   "outputs": [
    {
     "name": "stdout",
     "output_type": "stream",
     "text": [
      "<class 'pandas.core.frame.DataFrame'>\n",
      "RangeIndex: 2938 entries, 0 to 2937\n",
      "Data columns (total 22 columns):\n",
      " #   Column                           Non-Null Count  Dtype  \n",
      "---  ------                           --------------  -----  \n",
      " 0   Country                          2938 non-null   object \n",
      " 1   Year                             2938 non-null   int64  \n",
      " 2   Status                           2938 non-null   object \n",
      " 3   Life expectancy                  2928 non-null   float64\n",
      " 4   Adult Mortality                  2928 non-null   float64\n",
      " 5   infant deaths                    2938 non-null   int64  \n",
      " 6   Alcohol                          2744 non-null   float64\n",
      " 7   percentage expenditure           2938 non-null   float64\n",
      " 8   Hepatitis B                      2385 non-null   float64\n",
      " 9   Measles                          2938 non-null   int64  \n",
      " 10   BMI                             2904 non-null   float64\n",
      " 11  under-five deaths                2938 non-null   int64  \n",
      " 12  Polio                            2919 non-null   float64\n",
      " 13  Total expenditure                2712 non-null   float64\n",
      " 14  Diphtheria                       2919 non-null   float64\n",
      " 15   HIV/AIDS                        2938 non-null   float64\n",
      " 16  GDP                              2490 non-null   float64\n",
      " 17  Population                       2286 non-null   float64\n",
      " 18   thinness  1-19 years            2904 non-null   float64\n",
      " 19   thinness 5-9 years              2904 non-null   float64\n",
      " 20  Income composition of resources  2771 non-null   float64\n",
      " 21  Schooling                        2775 non-null   float64\n",
      "dtypes: float64(16), int64(4), object(2)\n",
      "memory usage: 505.1+ KB\n"
     ]
    }
   ],
   "source": [
    "life_exp_df.info()"
   ]
  },
  {
   "cell_type": "code",
   "execution_count": 4,
   "id": "0bbe234f-f937-42a6-af3b-899315f30df3",
   "metadata": {},
   "outputs": [
    {
     "data": {
      "text/plain": [
       "Index(['country', 'year', 'status', 'life_expectancy', 'adult_mortality',\n",
       "       'infant_deaths', 'alcohol', 'percentage_expenditure', 'hepatitis_b',\n",
       "       'measles', 'bmi', 'under-five_deaths', 'polio', 'total_expenditure',\n",
       "       'diphtheria', 'hiv/aids', 'gdp', 'population', 'thinness__1-19_years',\n",
       "       'thinness_5-9_years', 'income_composition_of_resources', 'schooling'],\n",
       "      dtype='object')"
      ]
     },
     "execution_count": 4,
     "metadata": {},
     "output_type": "execute_result"
    }
   ],
   "source": [
    "# Rename columns\n",
    "life_exp_df.rename(columns=lambda x: x.strip().lower().replace(\" \", \"_\"), inplace=True)\n",
    "life_exp_df.columns"
   ]
  },
  {
   "cell_type": "code",
   "execution_count": 6,
   "id": "0f635a5a-506e-4e58-8eb7-34aa0e3f4219",
   "metadata": {},
   "outputs": [
    {
     "data": {
      "text/plain": [
       "Developing    2426\n",
       "Developed      512\n",
       "Name: status, dtype: int64"
      ]
     },
     "execution_count": 6,
     "metadata": {},
     "output_type": "execute_result"
    }
   ],
   "source": [
    "life_exp_df['status'].value_counts()"
   ]
  },
  {
   "cell_type": "code",
   "execution_count": 19,
   "id": "110dd49c-9b33-4745-8ec2-7f8edd9f83c8",
   "metadata": {},
   "outputs": [
    {
     "data": {
      "text/plain": [
       "2015    183\n",
       "2014    183\n",
       "2013    193\n",
       "2012    183\n",
       "2011    183\n",
       "2010    183\n",
       "2009    183\n",
       "2008    183\n",
       "2007    183\n",
       "2006    183\n",
       "2005    183\n",
       "2004    183\n",
       "2003    183\n",
       "2002    183\n",
       "2001    183\n",
       "2000    183\n",
       "Name: year, dtype: int64"
      ]
     },
     "execution_count": 19,
     "metadata": {},
     "output_type": "execute_result"
    }
   ],
   "source": [
    "life_exp_df['year'].value_counts(sort=False)"
   ]
  },
  {
   "cell_type": "markdown",
   "id": "0b109a71-cfea-4141-ade7-0e59ee786e49",
   "metadata": {
    "tags": []
   },
   "source": [
    "#### Take copy of data frame"
   ]
  },
  {
   "cell_type": "code",
   "execution_count": 309,
   "id": "2820cbf9-be44-41d9-9ff4-a6fd3722603c",
   "metadata": {},
   "outputs": [],
   "source": [
    "life_exp_df_copy = life_exp_df.copy()"
   ]
  },
  {
   "cell_type": "code",
   "execution_count": 310,
   "id": "970c417b-d494-49ea-9e93-993564a9dcaa",
   "metadata": {},
   "outputs": [],
   "source": [
    "life_exp_df_copy.set_index('country', inplace=True)"
   ]
  },
  {
   "cell_type": "markdown",
   "id": "3d4a2c04-a5de-446b-b315-77504456903e",
   "metadata": {},
   "source": [
    "#### The predicitons on life expectancy will be based on year 2015"
   ]
  },
  {
   "cell_type": "code",
   "execution_count": 315,
   "id": "a36a44bc-8ccb-444b-9c40-ca142f8d409b",
   "metadata": {},
   "outputs": [],
   "source": [
    "le_2015 = life_exp_df[life_exp_df['year'] == 2015]"
   ]
  },
  {
   "cell_type": "code",
   "execution_count": 382,
   "id": "f30cd224-c105-432d-973c-ec81933711af",
   "metadata": {},
   "outputs": [
    {
     "name": "stdout",
     "output_type": "stream",
     "text": [
      "<class 'pandas.core.frame.DataFrame'>\n",
      "Index: 183 entries, Afghanistan to Zimbabwe\n",
      "Data columns (total 19 columns):\n",
      " #   Column                           Non-Null Count  Dtype  \n",
      "---  ------                           --------------  -----  \n",
      " 0   year                             183 non-null    int64  \n",
      " 1   status                           183 non-null    object \n",
      " 2   life_expectancy                  183 non-null    float64\n",
      " 3   adult_mortality                  183 non-null    float64\n",
      " 4   infant_deaths                    183 non-null    int64  \n",
      " 5   percentage_expenditure           183 non-null    float64\n",
      " 6   hepatitis_b                      183 non-null    float64\n",
      " 7   measles                          183 non-null    int64  \n",
      " 8   bmi                              183 non-null    float64\n",
      " 9   under-five_deaths                183 non-null    int64  \n",
      " 10  polio                            183 non-null    float64\n",
      " 11  diphtheria                       183 non-null    float64\n",
      " 12  hiv/aids                         183 non-null    float64\n",
      " 13  gdp                              183 non-null    float64\n",
      " 14  population                       183 non-null    float64\n",
      " 15  thinness__1-19_years             183 non-null    float64\n",
      " 16  thinness_5-9_years               183 non-null    float64\n",
      " 17  income_composition_of_resources  183 non-null    float64\n",
      " 18  schooling                        183 non-null    float64\n",
      "dtypes: float64(14), int64(4), object(1)\n",
      "memory usage: 32.7+ KB\n"
     ]
    }
   ],
   "source": [
    "le_2015.info()"
   ]
  },
  {
   "cell_type": "code",
   "execution_count": 316,
   "id": "bab7b3ec-22c1-4545-97a9-ea295bcbbc38",
   "metadata": {},
   "outputs": [
    {
     "data": {
      "text/html": [
       "<div>\n",
       "<style scoped>\n",
       "    .dataframe tbody tr th:only-of-type {\n",
       "        vertical-align: middle;\n",
       "    }\n",
       "\n",
       "    .dataframe tbody tr th {\n",
       "        vertical-align: top;\n",
       "    }\n",
       "\n",
       "    .dataframe thead th {\n",
       "        text-align: right;\n",
       "    }\n",
       "</style>\n",
       "<table border=\"1\" class=\"dataframe\">\n",
       "  <thead>\n",
       "    <tr style=\"text-align: right;\">\n",
       "      <th></th>\n",
       "      <th>country</th>\n",
       "      <th>year</th>\n",
       "      <th>status</th>\n",
       "      <th>life_expectancy</th>\n",
       "      <th>adult_mortality</th>\n",
       "      <th>infant_deaths</th>\n",
       "      <th>alcohol</th>\n",
       "      <th>percentage_expenditure</th>\n",
       "      <th>hepatitis_b</th>\n",
       "      <th>measles</th>\n",
       "      <th>...</th>\n",
       "      <th>polio</th>\n",
       "      <th>total_expenditure</th>\n",
       "      <th>diphtheria</th>\n",
       "      <th>hiv/aids</th>\n",
       "      <th>gdp</th>\n",
       "      <th>population</th>\n",
       "      <th>thinness__1-19_years</th>\n",
       "      <th>thinness_5-9_years</th>\n",
       "      <th>income_composition_of_resources</th>\n",
       "      <th>schooling</th>\n",
       "    </tr>\n",
       "  </thead>\n",
       "  <tbody>\n",
       "    <tr>\n",
       "      <th>2633</th>\n",
       "      <td>Tonga</td>\n",
       "      <td>2015</td>\n",
       "      <td>Developing</td>\n",
       "      <td>73.5</td>\n",
       "      <td>133.0</td>\n",
       "      <td>0</td>\n",
       "      <td>NaN</td>\n",
       "      <td>0.0</td>\n",
       "      <td>78.0</td>\n",
       "      <td>0</td>\n",
       "      <td>...</td>\n",
       "      <td>8.0</td>\n",
       "      <td>NaN</td>\n",
       "      <td>78.0</td>\n",
       "      <td>0.1</td>\n",
       "      <td>493.775387</td>\n",
       "      <td>16364.0</td>\n",
       "      <td>0.1</td>\n",
       "      <td>0.1</td>\n",
       "      <td>0.718</td>\n",
       "      <td>14.3</td>\n",
       "    </tr>\n",
       "    <tr>\n",
       "      <th>946</th>\n",
       "      <td>Gabon</td>\n",
       "      <td>2015</td>\n",
       "      <td>Developing</td>\n",
       "      <td>66.0</td>\n",
       "      <td>229.0</td>\n",
       "      <td>2</td>\n",
       "      <td>NaN</td>\n",
       "      <td>0.0</td>\n",
       "      <td>8.0</td>\n",
       "      <td>27</td>\n",
       "      <td>...</td>\n",
       "      <td>79.0</td>\n",
       "      <td>NaN</td>\n",
       "      <td>8.0</td>\n",
       "      <td>2.7</td>\n",
       "      <td>7388.984144</td>\n",
       "      <td>193175.0</td>\n",
       "      <td>6.1</td>\n",
       "      <td>5.9</td>\n",
       "      <td>0.694</td>\n",
       "      <td>12.6</td>\n",
       "    </tr>\n",
       "    <tr>\n",
       "      <th>496</th>\n",
       "      <td>Canada</td>\n",
       "      <td>2015</td>\n",
       "      <td>Developing</td>\n",
       "      <td>82.2</td>\n",
       "      <td>64.0</td>\n",
       "      <td>2</td>\n",
       "      <td>NaN</td>\n",
       "      <td>0.0</td>\n",
       "      <td>55.0</td>\n",
       "      <td>195</td>\n",
       "      <td>...</td>\n",
       "      <td>91.0</td>\n",
       "      <td>NaN</td>\n",
       "      <td>91.0</td>\n",
       "      <td>0.1</td>\n",
       "      <td>43315.744000</td>\n",
       "      <td>3584861.0</td>\n",
       "      <td>0.6</td>\n",
       "      <td>0.5</td>\n",
       "      <td>0.919</td>\n",
       "      <td>16.3</td>\n",
       "    </tr>\n",
       "    <tr>\n",
       "      <th>1378</th>\n",
       "      <td>Kiribati</td>\n",
       "      <td>2015</td>\n",
       "      <td>Developing</td>\n",
       "      <td>66.3</td>\n",
       "      <td>198.0</td>\n",
       "      <td>0</td>\n",
       "      <td>NaN</td>\n",
       "      <td>0.0</td>\n",
       "      <td>82.0</td>\n",
       "      <td>0</td>\n",
       "      <td>...</td>\n",
       "      <td>8.0</td>\n",
       "      <td>NaN</td>\n",
       "      <td>78.0</td>\n",
       "      <td>0.1</td>\n",
       "      <td>1424.483611</td>\n",
       "      <td>11247.0</td>\n",
       "      <td>0.1</td>\n",
       "      <td>0.1</td>\n",
       "      <td>0.586</td>\n",
       "      <td>11.9</td>\n",
       "    </tr>\n",
       "    <tr>\n",
       "      <th>737</th>\n",
       "      <td>Denmark</td>\n",
       "      <td>2015</td>\n",
       "      <td>Developed</td>\n",
       "      <td>86.0</td>\n",
       "      <td>71.0</td>\n",
       "      <td>0</td>\n",
       "      <td>NaN</td>\n",
       "      <td>0.0</td>\n",
       "      <td>NaN</td>\n",
       "      <td>9</td>\n",
       "      <td>...</td>\n",
       "      <td>93.0</td>\n",
       "      <td>NaN</td>\n",
       "      <td>93.0</td>\n",
       "      <td>0.1</td>\n",
       "      <td>5314.644160</td>\n",
       "      <td>5683483.0</td>\n",
       "      <td>1.1</td>\n",
       "      <td>0.9</td>\n",
       "      <td>0.923</td>\n",
       "      <td>19.2</td>\n",
       "    </tr>\n",
       "    <tr>\n",
       "      <th>1426</th>\n",
       "      <td>Lao People's Democratic Republic</td>\n",
       "      <td>2015</td>\n",
       "      <td>Developing</td>\n",
       "      <td>65.7</td>\n",
       "      <td>194.0</td>\n",
       "      <td>8</td>\n",
       "      <td>NaN</td>\n",
       "      <td>0.0</td>\n",
       "      <td>89.0</td>\n",
       "      <td>56</td>\n",
       "      <td>...</td>\n",
       "      <td>89.0</td>\n",
       "      <td>NaN</td>\n",
       "      <td>89.0</td>\n",
       "      <td>0.2</td>\n",
       "      <td>NaN</td>\n",
       "      <td>NaN</td>\n",
       "      <td>8.8</td>\n",
       "      <td>8.9</td>\n",
       "      <td>0.582</td>\n",
       "      <td>10.8</td>\n",
       "    </tr>\n",
       "    <tr>\n",
       "      <th>786</th>\n",
       "      <td>Ecuador</td>\n",
       "      <td>2015</td>\n",
       "      <td>Developing</td>\n",
       "      <td>76.2</td>\n",
       "      <td>118.0</td>\n",
       "      <td>6</td>\n",
       "      <td>NaN</td>\n",
       "      <td>0.0</td>\n",
       "      <td>78.0</td>\n",
       "      <td>0</td>\n",
       "      <td>...</td>\n",
       "      <td>84.0</td>\n",
       "      <td>NaN</td>\n",
       "      <td>78.0</td>\n",
       "      <td>0.1</td>\n",
       "      <td>625.622240</td>\n",
       "      <td>16144368.0</td>\n",
       "      <td>1.2</td>\n",
       "      <td>1.1</td>\n",
       "      <td>0.739</td>\n",
       "      <td>14.0</td>\n",
       "    </tr>\n",
       "    <tr>\n",
       "      <th>2233</th>\n",
       "      <td>Saudi Arabia</td>\n",
       "      <td>2015</td>\n",
       "      <td>Developing</td>\n",
       "      <td>74.5</td>\n",
       "      <td>88.0</td>\n",
       "      <td>7</td>\n",
       "      <td>NaN</td>\n",
       "      <td>0.0</td>\n",
       "      <td>98.0</td>\n",
       "      <td>219</td>\n",
       "      <td>...</td>\n",
       "      <td>97.0</td>\n",
       "      <td>NaN</td>\n",
       "      <td>98.0</td>\n",
       "      <td>0.1</td>\n",
       "      <td>2732.861720</td>\n",
       "      <td>NaN</td>\n",
       "      <td>7.8</td>\n",
       "      <td>7.6</td>\n",
       "      <td>0.845</td>\n",
       "      <td>16.1</td>\n",
       "    </tr>\n",
       "    <tr>\n",
       "      <th>1090</th>\n",
       "      <td>Guinea-Bissau</td>\n",
       "      <td>2015</td>\n",
       "      <td>Developing</td>\n",
       "      <td>58.9</td>\n",
       "      <td>275.0</td>\n",
       "      <td>4</td>\n",
       "      <td>NaN</td>\n",
       "      <td>0.0</td>\n",
       "      <td>87.0</td>\n",
       "      <td>153</td>\n",
       "      <td>...</td>\n",
       "      <td>87.0</td>\n",
       "      <td>NaN</td>\n",
       "      <td>87.0</td>\n",
       "      <td>3.2</td>\n",
       "      <td>596.871719</td>\n",
       "      <td>177526.0</td>\n",
       "      <td>7.1</td>\n",
       "      <td>7.0</td>\n",
       "      <td>0.421</td>\n",
       "      <td>9.2</td>\n",
       "    </tr>\n",
       "    <tr>\n",
       "      <th>1202</th>\n",
       "      <td>Indonesia</td>\n",
       "      <td>2015</td>\n",
       "      <td>Developing</td>\n",
       "      <td>69.1</td>\n",
       "      <td>176.0</td>\n",
       "      <td>114</td>\n",
       "      <td>NaN</td>\n",
       "      <td>0.0</td>\n",
       "      <td>78.0</td>\n",
       "      <td>15099</td>\n",
       "      <td>...</td>\n",
       "      <td>8.0</td>\n",
       "      <td>NaN</td>\n",
       "      <td>78.0</td>\n",
       "      <td>0.3</td>\n",
       "      <td>3336.166860</td>\n",
       "      <td>258162113.0</td>\n",
       "      <td>1.4</td>\n",
       "      <td>1.2</td>\n",
       "      <td>0.686</td>\n",
       "      <td>12.9</td>\n",
       "    </tr>\n",
       "    <tr>\n",
       "      <th>770</th>\n",
       "      <td>Dominican Republic</td>\n",
       "      <td>2015</td>\n",
       "      <td>Developing</td>\n",
       "      <td>73.9</td>\n",
       "      <td>152.0</td>\n",
       "      <td>6</td>\n",
       "      <td>NaN</td>\n",
       "      <td>0.0</td>\n",
       "      <td>81.0</td>\n",
       "      <td>0</td>\n",
       "      <td>...</td>\n",
       "      <td>87.0</td>\n",
       "      <td>NaN</td>\n",
       "      <td>85.0</td>\n",
       "      <td>0.3</td>\n",
       "      <td>6468.471648</td>\n",
       "      <td>1528394.0</td>\n",
       "      <td>3.3</td>\n",
       "      <td>3.2</td>\n",
       "      <td>0.718</td>\n",
       "      <td>13.2</td>\n",
       "    </tr>\n",
       "    <tr>\n",
       "      <th>2489</th>\n",
       "      <td>Swaziland</td>\n",
       "      <td>2015</td>\n",
       "      <td>Developing</td>\n",
       "      <td>58.9</td>\n",
       "      <td>373.0</td>\n",
       "      <td>2</td>\n",
       "      <td>NaN</td>\n",
       "      <td>0.0</td>\n",
       "      <td>9.0</td>\n",
       "      <td>0</td>\n",
       "      <td>...</td>\n",
       "      <td>84.0</td>\n",
       "      <td>NaN</td>\n",
       "      <td>9.0</td>\n",
       "      <td>7.1</td>\n",
       "      <td>3136.925110</td>\n",
       "      <td>131911.0</td>\n",
       "      <td>4.0</td>\n",
       "      <td>4.1</td>\n",
       "      <td>0.541</td>\n",
       "      <td>11.4</td>\n",
       "    </tr>\n",
       "  </tbody>\n",
       "</table>\n",
       "<p>12 rows × 22 columns</p>\n",
       "</div>"
      ],
      "text/plain": [
       "                               country  year      status  life_expectancy  \\\n",
       "2633                             Tonga  2015  Developing             73.5   \n",
       "946                              Gabon  2015  Developing             66.0   \n",
       "496                             Canada  2015  Developing             82.2   \n",
       "1378                          Kiribati  2015  Developing             66.3   \n",
       "737                            Denmark  2015   Developed             86.0   \n",
       "1426  Lao People's Democratic Republic  2015  Developing             65.7   \n",
       "786                            Ecuador  2015  Developing             76.2   \n",
       "2233                      Saudi Arabia  2015  Developing             74.5   \n",
       "1090                     Guinea-Bissau  2015  Developing             58.9   \n",
       "1202                         Indonesia  2015  Developing             69.1   \n",
       "770                 Dominican Republic  2015  Developing             73.9   \n",
       "2489                         Swaziland  2015  Developing             58.9   \n",
       "\n",
       "      adult_mortality  infant_deaths  alcohol  percentage_expenditure  \\\n",
       "2633            133.0              0      NaN                     0.0   \n",
       "946             229.0              2      NaN                     0.0   \n",
       "496              64.0              2      NaN                     0.0   \n",
       "1378            198.0              0      NaN                     0.0   \n",
       "737              71.0              0      NaN                     0.0   \n",
       "1426            194.0              8      NaN                     0.0   \n",
       "786             118.0              6      NaN                     0.0   \n",
       "2233             88.0              7      NaN                     0.0   \n",
       "1090            275.0              4      NaN                     0.0   \n",
       "1202            176.0            114      NaN                     0.0   \n",
       "770             152.0              6      NaN                     0.0   \n",
       "2489            373.0              2      NaN                     0.0   \n",
       "\n",
       "      hepatitis_b  measles  ...  polio  total_expenditure  diphtheria  \\\n",
       "2633         78.0        0  ...    8.0                NaN        78.0   \n",
       "946           8.0       27  ...   79.0                NaN         8.0   \n",
       "496          55.0      195  ...   91.0                NaN        91.0   \n",
       "1378         82.0        0  ...    8.0                NaN        78.0   \n",
       "737           NaN        9  ...   93.0                NaN        93.0   \n",
       "1426         89.0       56  ...   89.0                NaN        89.0   \n",
       "786          78.0        0  ...   84.0                NaN        78.0   \n",
       "2233         98.0      219  ...   97.0                NaN        98.0   \n",
       "1090         87.0      153  ...   87.0                NaN        87.0   \n",
       "1202         78.0    15099  ...    8.0                NaN        78.0   \n",
       "770          81.0        0  ...   87.0                NaN        85.0   \n",
       "2489          9.0        0  ...   84.0                NaN         9.0   \n",
       "\n",
       "      hiv/aids           gdp   population  thinness__1-19_years  \\\n",
       "2633       0.1    493.775387      16364.0                   0.1   \n",
       "946        2.7   7388.984144     193175.0                   6.1   \n",
       "496        0.1  43315.744000    3584861.0                   0.6   \n",
       "1378       0.1   1424.483611      11247.0                   0.1   \n",
       "737        0.1   5314.644160    5683483.0                   1.1   \n",
       "1426       0.2           NaN          NaN                   8.8   \n",
       "786        0.1    625.622240   16144368.0                   1.2   \n",
       "2233       0.1   2732.861720          NaN                   7.8   \n",
       "1090       3.2    596.871719     177526.0                   7.1   \n",
       "1202       0.3   3336.166860  258162113.0                   1.4   \n",
       "770        0.3   6468.471648    1528394.0                   3.3   \n",
       "2489       7.1   3136.925110     131911.0                   4.0   \n",
       "\n",
       "      thinness_5-9_years  income_composition_of_resources  schooling  \n",
       "2633                 0.1                            0.718       14.3  \n",
       "946                  5.9                            0.694       12.6  \n",
       "496                  0.5                            0.919       16.3  \n",
       "1378                 0.1                            0.586       11.9  \n",
       "737                  0.9                            0.923       19.2  \n",
       "1426                 8.9                            0.582       10.8  \n",
       "786                  1.1                            0.739       14.0  \n",
       "2233                 7.6                            0.845       16.1  \n",
       "1090                 7.0                            0.421        9.2  \n",
       "1202                 1.2                            0.686       12.9  \n",
       "770                  3.2                            0.718       13.2  \n",
       "2489                 4.1                            0.541       11.4  \n",
       "\n",
       "[12 rows x 22 columns]"
      ]
     },
     "execution_count": 316,
     "metadata": {},
     "output_type": "execute_result"
    }
   ],
   "source": [
    "le_2015.sample(12)"
   ]
  },
  {
   "cell_type": "markdown",
   "id": "ddc62cdc-56d0-44ed-bbe8-111a9d007787",
   "metadata": {},
   "source": [
    "#### Check for duplicate records"
   ]
  },
  {
   "cell_type": "code",
   "execution_count": 317,
   "id": "9eba6258-17d7-45a3-9a7f-8bed304f0676",
   "metadata": {},
   "outputs": [],
   "source": [
    "duplicate_rec_count = le_2015[le_2015.duplicated(['country', 'year', 'status']) == True]"
   ]
  },
  {
   "cell_type": "code",
   "execution_count": 318,
   "id": "dd932acf-022a-42d9-85a2-f222fd83e063",
   "metadata": {},
   "outputs": [
    {
     "data": {
      "text/plain": [
       "0"
      ]
     },
     "execution_count": 318,
     "metadata": {},
     "output_type": "execute_result"
    }
   ],
   "source": [
    "len(duplicate_rec_count)"
   ]
  },
  {
   "cell_type": "code",
   "execution_count": 319,
   "id": "37d119b7-64c3-442a-b8eb-8ef61b1e1568",
   "metadata": {},
   "outputs": [],
   "source": [
    "msg = f'There are {len(duplicate_rec_count)} duplicate rows'"
   ]
  },
  {
   "cell_type": "code",
   "execution_count": 320,
   "id": "8124ec20-c5c0-4d7c-a68d-8b0d51a411f2",
   "metadata": {},
   "outputs": [
    {
     "name": "stdout",
     "output_type": "stream",
     "text": [
      "There are 0 duplicate rows\n"
     ]
    }
   ],
   "source": [
    "print(msg)"
   ]
  },
  {
   "cell_type": "markdown",
   "id": "efa65c13-c544-42c6-be1e-eec34f8f063f",
   "metadata": {},
   "source": [
    "#### Check for missing data"
   ]
  },
  {
   "cell_type": "code",
   "execution_count": 321,
   "id": "897abf77-e280-444d-83c0-fbdeb454ba70",
   "metadata": {},
   "outputs": [],
   "source": [
    "def report_missing_data(col_name):\n",
    "    '''\n",
    "    Description: Check if col_name parameter is missing any values\n",
    "    \n",
    "    args: col_name - name of dataframe column\n",
    "    \n",
    "    returns: column name if missing values. Otherwise return None\n",
    "    '''\n",
    "    \n",
    "    num_missing = le_2015[col_name].isnull().sum()\n",
    "    msg = f'{col_name} has {num_missing} missing values'\n",
    "    \n",
    "    if (num_missing > 0):\n",
    "        print(msg)\n",
    "        return col_name\n",
    "        \n",
    "    return None"
   ]
  },
  {
   "cell_type": "code",
   "execution_count": 322,
   "id": "b28b2740-0cb4-4e1b-bcc9-1c94214fca81",
   "metadata": {},
   "outputs": [],
   "source": [
    "column_names = ['country', 'year', 'status', 'life_expectancy', 'adult_mortality',\n",
    "       'infant_deaths', 'alcohol', 'percentage_expenditure', 'hepatitis_b',\n",
    "       'measles', 'bmi', 'under-five_deaths', 'polio', 'total_expenditure',\n",
    "       'diphtheria', 'hiv/aids', 'gdp', 'population', 'thinness__1-19_years',\n",
    "       'thinness_5-9_years', 'income_composition_of_resources', 'schooling']"
   ]
  },
  {
   "cell_type": "code",
   "execution_count": 323,
   "id": "198edf46-15db-49c7-a6c8-bcede868c0a6",
   "metadata": {},
   "outputs": [],
   "source": [
    "missing_col_names = []"
   ]
  },
  {
   "cell_type": "code",
   "execution_count": 324,
   "id": "b5cfd69f-d54c-43f6-b7fc-8f2ec0c13515",
   "metadata": {},
   "outputs": [
    {
     "name": "stdout",
     "output_type": "stream",
     "text": [
      "alcohol has 177 missing values\n",
      "hepatitis_b has 9 missing values\n",
      "bmi has 2 missing values\n",
      "total_expenditure has 181 missing values\n",
      "gdp has 29 missing values\n",
      "population has 41 missing values\n",
      "thinness__1-19_years has 2 missing values\n",
      "thinness_5-9_years has 2 missing values\n",
      "income_composition_of_resources has 10 missing values\n",
      "schooling has 10 missing values\n"
     ]
    }
   ],
   "source": [
    "for c in column_names:\n",
    "    col_ret = report_missing_data(c)\n",
    "    \n",
    "    if col_ret != None:\n",
    "        missing_col_names.append(c)"
   ]
  },
  {
   "cell_type": "code",
   "execution_count": 325,
   "id": "648f374e-ff14-418f-883f-b44efe57b9b0",
   "metadata": {},
   "outputs": [
    {
     "data": {
      "text/plain": [
       "['alcohol',\n",
       " 'hepatitis_b',\n",
       " 'bmi',\n",
       " 'total_expenditure',\n",
       " 'gdp',\n",
       " 'population',\n",
       " 'thinness__1-19_years',\n",
       " 'thinness_5-9_years',\n",
       " 'income_composition_of_resources',\n",
       " 'schooling']"
      ]
     },
     "execution_count": 325,
     "metadata": {},
     "output_type": "execute_result"
    }
   ],
   "source": [
    "missing_col_names"
   ]
  },
  {
   "cell_type": "code",
   "execution_count": 326,
   "id": "0303db2c-66fc-444d-9a7c-064bb597641e",
   "metadata": {},
   "outputs": [],
   "source": [
    "# drop 'alcohol' and 'total_expenditure' feature since columns are mostly empty\n",
    "cols_to_drop = ['alcohol','total_expenditure']"
   ]
  },
  {
   "cell_type": "code",
   "execution_count": 327,
   "id": "8b1d173c-7e4e-4835-a17e-1d37be493cb5",
   "metadata": {},
   "outputs": [],
   "source": [
    "le_2015.drop(cols_to_drop, axis=1, inplace=True)"
   ]
  },
  {
   "cell_type": "code",
   "execution_count": 331,
   "id": "32eee96a-e50f-4fee-817b-c5b28d105a5a",
   "metadata": {},
   "outputs": [
    {
     "data": {
      "text/plain": [
       "Index(['country', 'year', 'status', 'life_expectancy', 'adult_mortality',\n",
       "       'infant_deaths', 'percentage_expenditure', 'hepatitis_b', 'measles',\n",
       "       'bmi', 'under-five_deaths', 'polio', 'diphtheria', 'hiv/aids', 'gdp',\n",
       "       'population', 'thinness__1-19_years', 'thinness_5-9_years',\n",
       "       'income_composition_of_resources', 'schooling'],\n",
       "      dtype='object')"
      ]
     },
     "execution_count": 331,
     "metadata": {},
     "output_type": "execute_result"
    }
   ],
   "source": [
    "le_2015.columns"
   ]
  },
  {
   "cell_type": "code",
   "execution_count": 328,
   "id": "4acac333-9df3-4326-b3c5-e109b00ac0c6",
   "metadata": {},
   "outputs": [],
   "source": [
    "missing_col_names_new = [c for c in missing_col_names if c not in cols_to_drop]"
   ]
  },
  {
   "cell_type": "code",
   "execution_count": 329,
   "id": "f0f37ee9-a391-4f0b-a945-bf605446a4bd",
   "metadata": {},
   "outputs": [
    {
     "data": {
      "text/plain": [
       "['hepatitis_b',\n",
       " 'bmi',\n",
       " 'gdp',\n",
       " 'population',\n",
       " 'thinness__1-19_years',\n",
       " 'thinness_5-9_years',\n",
       " 'income_composition_of_resources',\n",
       " 'schooling']"
      ]
     },
     "execution_count": 329,
     "metadata": {},
     "output_type": "execute_result"
    }
   ],
   "source": [
    "missing_col_names_new"
   ]
  },
  {
   "cell_type": "code",
   "execution_count": 332,
   "id": "3fde7d67-4759-4886-872d-196e59c731d1",
   "metadata": {},
   "outputs": [
    {
     "data": {
      "text/plain": [
       "hepatitis_b                         9\n",
       "bmi                                 2\n",
       "gdp                                29\n",
       "population                         41\n",
       "thinness__1-19_years                2\n",
       "thinness_5-9_years                  2\n",
       "income_composition_of_resources    10\n",
       "schooling                          10\n",
       "dtype: int64"
      ]
     },
     "execution_count": 332,
     "metadata": {},
     "output_type": "execute_result"
    }
   ],
   "source": [
    "le_2015[missing_col_names_new].isnull().sum()"
   ]
  },
  {
   "cell_type": "markdown",
   "id": "f39e6b81-5126-480a-ba86-616d81c64cfe",
   "metadata": {},
   "source": [
    "#### Calculate means for missing columns by Country"
   ]
  },
  {
   "cell_type": "code",
   "execution_count": 370,
   "id": "1f917d75-8029-4bc8-abf7-2b508977b8b0",
   "metadata": {},
   "outputs": [],
   "source": [
    "new_df = life_exp_df_copy[missing_col_names_new].fillna(0)"
   ]
  },
  {
   "cell_type": "code",
   "execution_count": 371,
   "id": "ec0bb454-34ed-402e-8474-671b6bf73687",
   "metadata": {},
   "outputs": [
    {
     "name": "stdout",
     "output_type": "stream",
     "text": [
      "<class 'pandas.core.frame.DataFrame'>\n",
      "Index: 2938 entries, Afghanistan to Zimbabwe\n",
      "Data columns (total 8 columns):\n",
      " #   Column                           Non-Null Count  Dtype  \n",
      "---  ------                           --------------  -----  \n",
      " 0   hepatitis_b                      2938 non-null   float64\n",
      " 1   bmi                              2938 non-null   float64\n",
      " 2   gdp                              2938 non-null   float64\n",
      " 3   population                       2938 non-null   float64\n",
      " 4   thinness__1-19_years             2938 non-null   float64\n",
      " 5   thinness_5-9_years               2938 non-null   float64\n",
      " 6   income_composition_of_resources  2938 non-null   float64\n",
      " 7   schooling                        2938 non-null   float64\n",
      "dtypes: float64(8)\n",
      "memory usage: 206.6+ KB\n"
     ]
    }
   ],
   "source": [
    "new_df.info()"
   ]
  },
  {
   "cell_type": "code",
   "execution_count": 372,
   "id": "cba9dcf5-178c-45d1-8afd-e62691926178",
   "metadata": {},
   "outputs": [],
   "source": [
    "# Calculate column means by country\n",
    "le_country_means = new_df.groupby('country')[missing_col_names_new].mean()"
   ]
  },
  {
   "cell_type": "code",
   "execution_count": 381,
   "id": "92531157-edd0-4f2d-8153-ce11262e6e97",
   "metadata": {},
   "outputs": [
    {
     "name": "stdout",
     "output_type": "stream",
     "text": [
      "<class 'pandas.core.frame.DataFrame'>\n",
      "Index: 193 entries, Afghanistan to Zimbabwe\n",
      "Data columns (total 8 columns):\n",
      " #   Column                           Non-Null Count  Dtype  \n",
      "---  ------                           --------------  -----  \n",
      " 0   hepatitis_b                      193 non-null    float64\n",
      " 1   bmi                              193 non-null    float64\n",
      " 2   gdp                              193 non-null    float64\n",
      " 3   population                       193 non-null    float64\n",
      " 4   thinness__1-19_years             193 non-null    float64\n",
      " 5   thinness_5-9_years               193 non-null    float64\n",
      " 6   income_composition_of_resources  193 non-null    float64\n",
      " 7   schooling                        193 non-null    float64\n",
      "dtypes: float64(8)\n",
      "memory usage: 17.6+ KB\n"
     ]
    }
   ],
   "source": [
    "le_country_means.info()"
   ]
  },
  {
   "cell_type": "code",
   "execution_count": 373,
   "id": "3fe766be-eda0-4bd8-8075-62737cb73899",
   "metadata": {},
   "outputs": [
    {
     "data": {
      "text/html": [
       "<div>\n",
       "<style scoped>\n",
       "    .dataframe tbody tr th:only-of-type {\n",
       "        vertical-align: middle;\n",
       "    }\n",
       "\n",
       "    .dataframe tbody tr th {\n",
       "        vertical-align: top;\n",
       "    }\n",
       "\n",
       "    .dataframe thead th {\n",
       "        text-align: right;\n",
       "    }\n",
       "</style>\n",
       "<table border=\"1\" class=\"dataframe\">\n",
       "  <thead>\n",
       "    <tr style=\"text-align: right;\">\n",
       "      <th></th>\n",
       "      <th>hepatitis_b</th>\n",
       "      <th>bmi</th>\n",
       "      <th>gdp</th>\n",
       "      <th>population</th>\n",
       "      <th>thinness__1-19_years</th>\n",
       "      <th>thinness_5-9_years</th>\n",
       "      <th>income_composition_of_resources</th>\n",
       "      <th>schooling</th>\n",
       "    </tr>\n",
       "    <tr>\n",
       "      <th>country</th>\n",
       "      <th></th>\n",
       "      <th></th>\n",
       "      <th></th>\n",
       "      <th></th>\n",
       "      <th></th>\n",
       "      <th></th>\n",
       "      <th></th>\n",
       "      <th></th>\n",
       "    </tr>\n",
       "  </thead>\n",
       "  <tbody>\n",
       "    <tr>\n",
       "      <th>Afghanistan</th>\n",
       "      <td>64.5625</td>\n",
       "      <td>15.51875</td>\n",
       "      <td>340.015425</td>\n",
       "      <td>9.972260e+06</td>\n",
       "      <td>16.58125</td>\n",
       "      <td>15.58125</td>\n",
       "      <td>0.415375</td>\n",
       "      <td>8.21250</td>\n",
       "    </tr>\n",
       "    <tr>\n",
       "      <th>Albania</th>\n",
       "      <td>98.0000</td>\n",
       "      <td>49.06875</td>\n",
       "      <td>2119.726679</td>\n",
       "      <td>6.969116e+05</td>\n",
       "      <td>1.61875</td>\n",
       "      <td>1.70000</td>\n",
       "      <td>0.709875</td>\n",
       "      <td>12.13750</td>\n",
       "    </tr>\n",
       "    <tr>\n",
       "      <th>Algeria</th>\n",
       "      <td>58.5000</td>\n",
       "      <td>48.74375</td>\n",
       "      <td>2847.853392</td>\n",
       "      <td>2.164983e+07</td>\n",
       "      <td>6.09375</td>\n",
       "      <td>5.97500</td>\n",
       "      <td>0.694875</td>\n",
       "      <td>12.71250</td>\n",
       "    </tr>\n",
       "    <tr>\n",
       "      <th>Angola</th>\n",
       "      <td>39.5000</td>\n",
       "      <td>18.01875</td>\n",
       "      <td>1975.143045</td>\n",
       "      <td>1.014710e+07</td>\n",
       "      <td>6.19375</td>\n",
       "      <td>6.66875</td>\n",
       "      <td>0.458375</td>\n",
       "      <td>8.04375</td>\n",
       "    </tr>\n",
       "    <tr>\n",
       "      <th>Antigua and Barbuda</th>\n",
       "      <td>92.1250</td>\n",
       "      <td>38.42500</td>\n",
       "      <td>9759.305728</td>\n",
       "      <td>0.000000e+00</td>\n",
       "      <td>3.42500</td>\n",
       "      <td>3.37500</td>\n",
       "      <td>0.488625</td>\n",
       "      <td>8.84375</td>\n",
       "    </tr>\n",
       "    <tr>\n",
       "      <th>Argentina</th>\n",
       "      <td>71.1250</td>\n",
       "      <td>54.98125</td>\n",
       "      <td>6998.575103</td>\n",
       "      <td>2.012120e+07</td>\n",
       "      <td>1.07500</td>\n",
       "      <td>0.95000</td>\n",
       "      <td>0.794125</td>\n",
       "      <td>16.50625</td>\n",
       "    </tr>\n",
       "    <tr>\n",
       "      <th>Armenia</th>\n",
       "      <td>87.5625</td>\n",
       "      <td>44.70625</td>\n",
       "      <td>1999.986318</td>\n",
       "      <td>1.015165e+06</td>\n",
       "      <td>2.03750</td>\n",
       "      <td>2.11250</td>\n",
       "      <td>0.698375</td>\n",
       "      <td>11.78750</td>\n",
       "    </tr>\n",
       "    <tr>\n",
       "      <th>Australia</th>\n",
       "      <td>87.5625</td>\n",
       "      <td>55.86250</td>\n",
       "      <td>34637.565047</td>\n",
       "      <td>4.587010e+06</td>\n",
       "      <td>0.66875</td>\n",
       "      <td>0.62500</td>\n",
       "      <td>0.918125</td>\n",
       "      <td>20.03750</td>\n",
       "    </tr>\n",
       "    <tr>\n",
       "      <th>Austria</th>\n",
       "      <td>81.0625</td>\n",
       "      <td>48.28750</td>\n",
       "      <td>33827.476309</td>\n",
       "      <td>6.474880e+06</td>\n",
       "      <td>1.73125</td>\n",
       "      <td>1.93750</td>\n",
       "      <td>0.862375</td>\n",
       "      <td>15.38750</td>\n",
       "    </tr>\n",
       "    <tr>\n",
       "      <th>Azerbaijan</th>\n",
       "      <td>51.8125</td>\n",
       "      <td>43.84375</td>\n",
       "      <td>3302.947807</td>\n",
       "      <td>2.157370e+06</td>\n",
       "      <td>2.90000</td>\n",
       "      <td>2.94375</td>\n",
       "      <td>0.702688</td>\n",
       "      <td>11.35000</td>\n",
       "    </tr>\n",
       "    <tr>\n",
       "      <th>Bahamas</th>\n",
       "      <td>78.3750</td>\n",
       "      <td>52.88125</td>\n",
       "      <td>0.000000</td>\n",
       "      <td>0.000000e+00</td>\n",
       "      <td>2.55000</td>\n",
       "      <td>2.51875</td>\n",
       "      <td>0.737938</td>\n",
       "      <td>12.42500</td>\n",
       "    </tr>\n",
       "    <tr>\n",
       "      <th>Bahrain</th>\n",
       "      <td>98.1250</td>\n",
       "      <td>51.65625</td>\n",
       "      <td>11191.247421</td>\n",
       "      <td>0.000000e+00</td>\n",
       "      <td>6.10625</td>\n",
       "      <td>5.95000</td>\n",
       "      <td>0.807937</td>\n",
       "      <td>14.11250</td>\n",
       "    </tr>\n",
       "  </tbody>\n",
       "</table>\n",
       "</div>"
      ],
      "text/plain": [
       "                     hepatitis_b       bmi           gdp    population  \\\n",
       "country                                                                  \n",
       "Afghanistan              64.5625  15.51875    340.015425  9.972260e+06   \n",
       "Albania                  98.0000  49.06875   2119.726679  6.969116e+05   \n",
       "Algeria                  58.5000  48.74375   2847.853392  2.164983e+07   \n",
       "Angola                   39.5000  18.01875   1975.143045  1.014710e+07   \n",
       "Antigua and Barbuda      92.1250  38.42500   9759.305728  0.000000e+00   \n",
       "Argentina                71.1250  54.98125   6998.575103  2.012120e+07   \n",
       "Armenia                  87.5625  44.70625   1999.986318  1.015165e+06   \n",
       "Australia                87.5625  55.86250  34637.565047  4.587010e+06   \n",
       "Austria                  81.0625  48.28750  33827.476309  6.474880e+06   \n",
       "Azerbaijan               51.8125  43.84375   3302.947807  2.157370e+06   \n",
       "Bahamas                  78.3750  52.88125      0.000000  0.000000e+00   \n",
       "Bahrain                  98.1250  51.65625  11191.247421  0.000000e+00   \n",
       "\n",
       "                     thinness__1-19_years  thinness_5-9_years  \\\n",
       "country                                                         \n",
       "Afghanistan                      16.58125            15.58125   \n",
       "Albania                           1.61875             1.70000   \n",
       "Algeria                           6.09375             5.97500   \n",
       "Angola                            6.19375             6.66875   \n",
       "Antigua and Barbuda               3.42500             3.37500   \n",
       "Argentina                         1.07500             0.95000   \n",
       "Armenia                           2.03750             2.11250   \n",
       "Australia                         0.66875             0.62500   \n",
       "Austria                           1.73125             1.93750   \n",
       "Azerbaijan                        2.90000             2.94375   \n",
       "Bahamas                           2.55000             2.51875   \n",
       "Bahrain                           6.10625             5.95000   \n",
       "\n",
       "                     income_composition_of_resources  schooling  \n",
       "country                                                          \n",
       "Afghanistan                                 0.415375    8.21250  \n",
       "Albania                                     0.709875   12.13750  \n",
       "Algeria                                     0.694875   12.71250  \n",
       "Angola                                      0.458375    8.04375  \n",
       "Antigua and Barbuda                         0.488625    8.84375  \n",
       "Argentina                                   0.794125   16.50625  \n",
       "Armenia                                     0.698375   11.78750  \n",
       "Australia                                   0.918125   20.03750  \n",
       "Austria                                     0.862375   15.38750  \n",
       "Azerbaijan                                  0.702688   11.35000  \n",
       "Bahamas                                     0.737938   12.42500  \n",
       "Bahrain                                     0.807937   14.11250  "
      ]
     },
     "execution_count": 373,
     "metadata": {},
     "output_type": "execute_result"
    }
   ],
   "source": [
    "le_country_means.head(12)"
   ]
  },
  {
   "cell_type": "markdown",
   "id": "4765e540-c0fb-4402-8564-9680754bd489",
   "metadata": {},
   "source": [
    "#### Impute missing values"
   ]
  },
  {
   "cell_type": "markdown",
   "id": "60184d6e-bc4e-4488-8339-d36f3e00bf89",
   "metadata": {},
   "source": [
    "> Fill missing values with the mean values calculated by country"
   ]
  },
  {
   "cell_type": "code",
   "execution_count": 339,
   "id": "1b1b93b8-f014-4cd7-be58-5994a3ea3e86",
   "metadata": {},
   "outputs": [],
   "source": [
    "le_2015.set_index('country', inplace=True)"
   ]
  },
  {
   "cell_type": "code",
   "execution_count": 340,
   "id": "cca35d86-879d-4ccd-af49-6d0424477638",
   "metadata": {},
   "outputs": [
    {
     "name": "stdout",
     "output_type": "stream",
     "text": [
      "<class 'pandas.core.frame.DataFrame'>\n",
      "Index: 183 entries, Afghanistan to Zimbabwe\n",
      "Data columns (total 19 columns):\n",
      " #   Column                           Non-Null Count  Dtype  \n",
      "---  ------                           --------------  -----  \n",
      " 0   year                             183 non-null    int64  \n",
      " 1   status                           183 non-null    object \n",
      " 2   life_expectancy                  183 non-null    float64\n",
      " 3   adult_mortality                  183 non-null    float64\n",
      " 4   infant_deaths                    183 non-null    int64  \n",
      " 5   percentage_expenditure           183 non-null    float64\n",
      " 6   hepatitis_b                      174 non-null    float64\n",
      " 7   measles                          183 non-null    int64  \n",
      " 8   bmi                              181 non-null    float64\n",
      " 9   under-five_deaths                183 non-null    int64  \n",
      " 10  polio                            183 non-null    float64\n",
      " 11  diphtheria                       183 non-null    float64\n",
      " 12  hiv/aids                         183 non-null    float64\n",
      " 13  gdp                              154 non-null    float64\n",
      " 14  population                       142 non-null    float64\n",
      " 15  thinness__1-19_years             181 non-null    float64\n",
      " 16  thinness_5-9_years               181 non-null    float64\n",
      " 17  income_composition_of_resources  173 non-null    float64\n",
      " 18  schooling                        173 non-null    float64\n",
      "dtypes: float64(14), int64(4), object(1)\n",
      "memory usage: 28.6+ KB\n"
     ]
    }
   ],
   "source": [
    "le_2015.info()"
   ]
  },
  {
   "cell_type": "code",
   "execution_count": 374,
   "id": "100270ec-47ea-4974-8a95-31338eb8c61e",
   "metadata": {},
   "outputs": [],
   "source": [
    "def impute_missing_values(col_name):\n",
    "    '''\n",
    "    Description: fill missing values for col_name argument to mean of col_name\n",
    "    \n",
    "    args: col_name - data frame column name\n",
    "    '''\n",
    "    le_2015[col_name].fillna(le_country_means[col_name], inplace=True)\n",
    "    "
   ]
  },
  {
   "cell_type": "code",
   "execution_count": 375,
   "id": "a90045e7-ca11-4381-85ab-d53408a60aaf",
   "metadata": {},
   "outputs": [],
   "source": [
    "for mc in missing_col_names_new:\n",
    "    impute_missing_values(mc)"
   ]
  },
  {
   "cell_type": "code",
   "execution_count": 376,
   "id": "33280582-f8b2-4e99-83a6-9547254eb6ce",
   "metadata": {},
   "outputs": [
    {
     "data": {
      "text/plain": [
       "year                               0\n",
       "status                             0\n",
       "life_expectancy                    0\n",
       "adult_mortality                    0\n",
       "infant_deaths                      0\n",
       "percentage_expenditure             0\n",
       "hepatitis_b                        0\n",
       "measles                            0\n",
       "bmi                                0\n",
       "under-five_deaths                  0\n",
       "polio                              0\n",
       "diphtheria                         0\n",
       "hiv/aids                           0\n",
       "gdp                                0\n",
       "population                         0\n",
       "thinness__1-19_years               0\n",
       "thinness_5-9_years                 0\n",
       "income_composition_of_resources    0\n",
       "schooling                          0\n",
       "dtype: int64"
      ]
     },
     "execution_count": 376,
     "metadata": {},
     "output_type": "execute_result"
    }
   ],
   "source": [
    "# final check for missing values\n",
    "le_2015.isnull().sum()"
   ]
  },
  {
   "cell_type": "code",
   "execution_count": 379,
   "id": "db85a8aa-2609-46a1-82aa-65f23dfe8448",
   "metadata": {},
   "outputs": [
    {
     "data": {
      "text/plain": [
       "0.0"
      ]
     },
     "execution_count": 379,
     "metadata": {},
     "output_type": "execute_result"
    }
   ],
   "source": [
    "le_2015.loc['Sudan']['bmi']"
   ]
  },
  {
   "cell_type": "code",
   "execution_count": 380,
   "id": "6e80d771-b695-42fb-ae9e-c6a21a076129",
   "metadata": {},
   "outputs": [
    {
     "data": {
      "text/html": [
       "<div>\n",
       "<style scoped>\n",
       "    .dataframe tbody tr th:only-of-type {\n",
       "        vertical-align: middle;\n",
       "    }\n",
       "\n",
       "    .dataframe tbody tr th {\n",
       "        vertical-align: top;\n",
       "    }\n",
       "\n",
       "    .dataframe thead th {\n",
       "        text-align: right;\n",
       "    }\n",
       "</style>\n",
       "<table border=\"1\" class=\"dataframe\">\n",
       "  <thead>\n",
       "    <tr style=\"text-align: right;\">\n",
       "      <th></th>\n",
       "      <th>year</th>\n",
       "      <th>status</th>\n",
       "      <th>life_expectancy</th>\n",
       "      <th>adult_mortality</th>\n",
       "      <th>infant_deaths</th>\n",
       "      <th>percentage_expenditure</th>\n",
       "      <th>hepatitis_b</th>\n",
       "      <th>measles</th>\n",
       "      <th>bmi</th>\n",
       "      <th>under-five_deaths</th>\n",
       "      <th>polio</th>\n",
       "      <th>diphtheria</th>\n",
       "      <th>hiv/aids</th>\n",
       "      <th>gdp</th>\n",
       "      <th>population</th>\n",
       "      <th>thinness__1-19_years</th>\n",
       "      <th>thinness_5-9_years</th>\n",
       "      <th>income_composition_of_resources</th>\n",
       "      <th>schooling</th>\n",
       "    </tr>\n",
       "    <tr>\n",
       "      <th>country</th>\n",
       "      <th></th>\n",
       "      <th></th>\n",
       "      <th></th>\n",
       "      <th></th>\n",
       "      <th></th>\n",
       "      <th></th>\n",
       "      <th></th>\n",
       "      <th></th>\n",
       "      <th></th>\n",
       "      <th></th>\n",
       "      <th></th>\n",
       "      <th></th>\n",
       "      <th></th>\n",
       "      <th></th>\n",
       "      <th></th>\n",
       "      <th></th>\n",
       "      <th></th>\n",
       "      <th></th>\n",
       "      <th></th>\n",
       "    </tr>\n",
       "  </thead>\n",
       "  <tbody>\n",
       "    <tr>\n",
       "      <th>Trinidad and Tobago</th>\n",
       "      <td>2015</td>\n",
       "      <td>Developing</td>\n",
       "      <td>71.2</td>\n",
       "      <td>17.0</td>\n",
       "      <td>0</td>\n",
       "      <td>0.0</td>\n",
       "      <td>9.0</td>\n",
       "      <td>0</td>\n",
       "      <td>47.1</td>\n",
       "      <td>0</td>\n",
       "      <td>88.0</td>\n",
       "      <td>96.0</td>\n",
       "      <td>0.3</td>\n",
       "      <td>17321.83373</td>\n",
       "      <td>13692.0</td>\n",
       "      <td>5.7</td>\n",
       "      <td>5.9</td>\n",
       "      <td>0.779</td>\n",
       "      <td>12.7</td>\n",
       "    </tr>\n",
       "    <tr>\n",
       "      <th>Croatia</th>\n",
       "      <td>2015</td>\n",
       "      <td>Developed</td>\n",
       "      <td>78.0</td>\n",
       "      <td>95.0</td>\n",
       "      <td>0</td>\n",
       "      <td>0.0</td>\n",
       "      <td>94.0</td>\n",
       "      <td>206</td>\n",
       "      <td>63.7</td>\n",
       "      <td>0</td>\n",
       "      <td>94.0</td>\n",
       "      <td>94.0</td>\n",
       "      <td>0.1</td>\n",
       "      <td>11579.66740</td>\n",
       "      <td>42364.0</td>\n",
       "      <td>1.5</td>\n",
       "      <td>1.4</td>\n",
       "      <td>0.823</td>\n",
       "      <td>15.3</td>\n",
       "    </tr>\n",
       "    <tr>\n",
       "      <th>Belarus</th>\n",
       "      <td>2015</td>\n",
       "      <td>Developing</td>\n",
       "      <td>72.3</td>\n",
       "      <td>196.0</td>\n",
       "      <td>0</td>\n",
       "      <td>0.0</td>\n",
       "      <td>99.0</td>\n",
       "      <td>2</td>\n",
       "      <td>62.3</td>\n",
       "      <td>0</td>\n",
       "      <td>99.0</td>\n",
       "      <td>99.0</td>\n",
       "      <td>0.1</td>\n",
       "      <td>5949.11677</td>\n",
       "      <td>9489616.0</td>\n",
       "      <td>1.9</td>\n",
       "      <td>2.0</td>\n",
       "      <td>0.798</td>\n",
       "      <td>15.6</td>\n",
       "    </tr>\n",
       "    <tr>\n",
       "      <th>Poland</th>\n",
       "      <td>2015</td>\n",
       "      <td>Developed</td>\n",
       "      <td>77.5</td>\n",
       "      <td>117.0</td>\n",
       "      <td>2</td>\n",
       "      <td>0.0</td>\n",
       "      <td>96.0</td>\n",
       "      <td>0</td>\n",
       "      <td>61.7</td>\n",
       "      <td>2</td>\n",
       "      <td>92.0</td>\n",
       "      <td>98.0</td>\n",
       "      <td>0.1</td>\n",
       "      <td>12565.98760</td>\n",
       "      <td>37986412.0</td>\n",
       "      <td>1.9</td>\n",
       "      <td>2.0</td>\n",
       "      <td>0.852</td>\n",
       "      <td>16.4</td>\n",
       "    </tr>\n",
       "    <tr>\n",
       "      <th>Italy</th>\n",
       "      <td>2015</td>\n",
       "      <td>Developed</td>\n",
       "      <td>82.7</td>\n",
       "      <td>56.0</td>\n",
       "      <td>1</td>\n",
       "      <td>0.0</td>\n",
       "      <td>93.0</td>\n",
       "      <td>159</td>\n",
       "      <td>63.6</td>\n",
       "      <td>2</td>\n",
       "      <td>93.0</td>\n",
       "      <td>93.0</td>\n",
       "      <td>0.1</td>\n",
       "      <td>349.14755</td>\n",
       "      <td>673582.0</td>\n",
       "      <td>0.6</td>\n",
       "      <td>0.6</td>\n",
       "      <td>0.881</td>\n",
       "      <td>16.3</td>\n",
       "    </tr>\n",
       "    <tr>\n",
       "      <th>Republic of Korea</th>\n",
       "      <td>2015</td>\n",
       "      <td>Developing</td>\n",
       "      <td>82.3</td>\n",
       "      <td>64.0</td>\n",
       "      <td>1</td>\n",
       "      <td>0.0</td>\n",
       "      <td>98.0</td>\n",
       "      <td>7</td>\n",
       "      <td>31.7</td>\n",
       "      <td>2</td>\n",
       "      <td>98.0</td>\n",
       "      <td>98.0</td>\n",
       "      <td>0.1</td>\n",
       "      <td>0.00000</td>\n",
       "      <td>0.0</td>\n",
       "      <td>1.5</td>\n",
       "      <td>1.0</td>\n",
       "      <td>0.000</td>\n",
       "      <td>0.0</td>\n",
       "    </tr>\n",
       "    <tr>\n",
       "      <th>Sao Tome and Principe</th>\n",
       "      <td>2015</td>\n",
       "      <td>Developing</td>\n",
       "      <td>67.5</td>\n",
       "      <td>19.0</td>\n",
       "      <td>0</td>\n",
       "      <td>0.0</td>\n",
       "      <td>96.0</td>\n",
       "      <td>0</td>\n",
       "      <td>3.9</td>\n",
       "      <td>0</td>\n",
       "      <td>96.0</td>\n",
       "      <td>96.0</td>\n",
       "      <td>0.2</td>\n",
       "      <td>1624.63963</td>\n",
       "      <td>195553.0</td>\n",
       "      <td>5.5</td>\n",
       "      <td>5.3</td>\n",
       "      <td>0.565</td>\n",
       "      <td>11.2</td>\n",
       "    </tr>\n",
       "    <tr>\n",
       "      <th>Barbados</th>\n",
       "      <td>2015</td>\n",
       "      <td>Developing</td>\n",
       "      <td>75.5</td>\n",
       "      <td>98.0</td>\n",
       "      <td>0</td>\n",
       "      <td>0.0</td>\n",
       "      <td>97.0</td>\n",
       "      <td>0</td>\n",
       "      <td>54.5</td>\n",
       "      <td>0</td>\n",
       "      <td>97.0</td>\n",
       "      <td>97.0</td>\n",
       "      <td>0.1</td>\n",
       "      <td>15557.83810</td>\n",
       "      <td>0.0</td>\n",
       "      <td>3.8</td>\n",
       "      <td>3.7</td>\n",
       "      <td>0.794</td>\n",
       "      <td>15.3</td>\n",
       "    </tr>\n",
       "    <tr>\n",
       "      <th>Turkey</th>\n",
       "      <td>2015</td>\n",
       "      <td>Developing</td>\n",
       "      <td>75.8</td>\n",
       "      <td>16.0</td>\n",
       "      <td>15</td>\n",
       "      <td>0.0</td>\n",
       "      <td>97.0</td>\n",
       "      <td>342</td>\n",
       "      <td>66.1</td>\n",
       "      <td>18</td>\n",
       "      <td>97.0</td>\n",
       "      <td>97.0</td>\n",
       "      <td>0.1</td>\n",
       "      <td>1979.52569</td>\n",
       "      <td>78271472.0</td>\n",
       "      <td>4.9</td>\n",
       "      <td>4.8</td>\n",
       "      <td>0.764</td>\n",
       "      <td>14.5</td>\n",
       "    </tr>\n",
       "    <tr>\n",
       "      <th>Kuwait</th>\n",
       "      <td>2015</td>\n",
       "      <td>Developing</td>\n",
       "      <td>74.7</td>\n",
       "      <td>81.0</td>\n",
       "      <td>0</td>\n",
       "      <td>0.0</td>\n",
       "      <td>99.0</td>\n",
       "      <td>18</td>\n",
       "      <td>71.4</td>\n",
       "      <td>1</td>\n",
       "      <td>99.0</td>\n",
       "      <td>99.0</td>\n",
       "      <td>0.1</td>\n",
       "      <td>28975.41800</td>\n",
       "      <td>0.0</td>\n",
       "      <td>3.5</td>\n",
       "      <td>3.4</td>\n",
       "      <td>0.799</td>\n",
       "      <td>13.3</td>\n",
       "    </tr>\n",
       "    <tr>\n",
       "      <th>Guinea</th>\n",
       "      <td>2015</td>\n",
       "      <td>Developing</td>\n",
       "      <td>59.0</td>\n",
       "      <td>284.0</td>\n",
       "      <td>26</td>\n",
       "      <td>0.0</td>\n",
       "      <td>54.0</td>\n",
       "      <td>243</td>\n",
       "      <td>23.3</td>\n",
       "      <td>40</td>\n",
       "      <td>42.0</td>\n",
       "      <td>54.0</td>\n",
       "      <td>0.5</td>\n",
       "      <td>554.48766</td>\n",
       "      <td>1291533.0</td>\n",
       "      <td>7.3</td>\n",
       "      <td>7.3</td>\n",
       "      <td>0.414</td>\n",
       "      <td>8.8</td>\n",
       "    </tr>\n",
       "    <tr>\n",
       "      <th>Saudi Arabia</th>\n",
       "      <td>2015</td>\n",
       "      <td>Developing</td>\n",
       "      <td>74.5</td>\n",
       "      <td>88.0</td>\n",
       "      <td>7</td>\n",
       "      <td>0.0</td>\n",
       "      <td>98.0</td>\n",
       "      <td>219</td>\n",
       "      <td>68.2</td>\n",
       "      <td>8</td>\n",
       "      <td>97.0</td>\n",
       "      <td>98.0</td>\n",
       "      <td>0.1</td>\n",
       "      <td>2732.86172</td>\n",
       "      <td>0.0</td>\n",
       "      <td>7.8</td>\n",
       "      <td>7.6</td>\n",
       "      <td>0.845</td>\n",
       "      <td>16.1</td>\n",
       "    </tr>\n",
       "  </tbody>\n",
       "</table>\n",
       "</div>"
      ],
      "text/plain": [
       "                       year      status  life_expectancy  adult_mortality  \\\n",
       "country                                                                     \n",
       "Trinidad and Tobago    2015  Developing             71.2             17.0   \n",
       "Croatia                2015   Developed             78.0             95.0   \n",
       "Belarus                2015  Developing             72.3            196.0   \n",
       "Poland                 2015   Developed             77.5            117.0   \n",
       "Italy                  2015   Developed             82.7             56.0   \n",
       "Republic of Korea      2015  Developing             82.3             64.0   \n",
       "Sao Tome and Principe  2015  Developing             67.5             19.0   \n",
       "Barbados               2015  Developing             75.5             98.0   \n",
       "Turkey                 2015  Developing             75.8             16.0   \n",
       "Kuwait                 2015  Developing             74.7             81.0   \n",
       "Guinea                 2015  Developing             59.0            284.0   \n",
       "Saudi Arabia           2015  Developing             74.5             88.0   \n",
       "\n",
       "                       infant_deaths  percentage_expenditure  hepatitis_b  \\\n",
       "country                                                                     \n",
       "Trinidad and Tobago                0                     0.0          9.0   \n",
       "Croatia                            0                     0.0         94.0   \n",
       "Belarus                            0                     0.0         99.0   \n",
       "Poland                             2                     0.0         96.0   \n",
       "Italy                              1                     0.0         93.0   \n",
       "Republic of Korea                  1                     0.0         98.0   \n",
       "Sao Tome and Principe              0                     0.0         96.0   \n",
       "Barbados                           0                     0.0         97.0   \n",
       "Turkey                            15                     0.0         97.0   \n",
       "Kuwait                             0                     0.0         99.0   \n",
       "Guinea                            26                     0.0         54.0   \n",
       "Saudi Arabia                       7                     0.0         98.0   \n",
       "\n",
       "                       measles   bmi  under-five_deaths  polio  diphtheria  \\\n",
       "country                                                                      \n",
       "Trinidad and Tobago          0  47.1                  0   88.0        96.0   \n",
       "Croatia                    206  63.7                  0   94.0        94.0   \n",
       "Belarus                      2  62.3                  0   99.0        99.0   \n",
       "Poland                       0  61.7                  2   92.0        98.0   \n",
       "Italy                      159  63.6                  2   93.0        93.0   \n",
       "Republic of Korea            7  31.7                  2   98.0        98.0   \n",
       "Sao Tome and Principe        0   3.9                  0   96.0        96.0   \n",
       "Barbados                     0  54.5                  0   97.0        97.0   \n",
       "Turkey                     342  66.1                 18   97.0        97.0   \n",
       "Kuwait                      18  71.4                  1   99.0        99.0   \n",
       "Guinea                     243  23.3                 40   42.0        54.0   \n",
       "Saudi Arabia               219  68.2                  8   97.0        98.0   \n",
       "\n",
       "                       hiv/aids          gdp  population  \\\n",
       "country                                                    \n",
       "Trinidad and Tobago         0.3  17321.83373     13692.0   \n",
       "Croatia                     0.1  11579.66740     42364.0   \n",
       "Belarus                     0.1   5949.11677   9489616.0   \n",
       "Poland                      0.1  12565.98760  37986412.0   \n",
       "Italy                       0.1    349.14755    673582.0   \n",
       "Republic of Korea           0.1      0.00000         0.0   \n",
       "Sao Tome and Principe       0.2   1624.63963    195553.0   \n",
       "Barbados                    0.1  15557.83810         0.0   \n",
       "Turkey                      0.1   1979.52569  78271472.0   \n",
       "Kuwait                      0.1  28975.41800         0.0   \n",
       "Guinea                      0.5    554.48766   1291533.0   \n",
       "Saudi Arabia                0.1   2732.86172         0.0   \n",
       "\n",
       "                       thinness__1-19_years  thinness_5-9_years  \\\n",
       "country                                                           \n",
       "Trinidad and Tobago                     5.7                 5.9   \n",
       "Croatia                                 1.5                 1.4   \n",
       "Belarus                                 1.9                 2.0   \n",
       "Poland                                  1.9                 2.0   \n",
       "Italy                                   0.6                 0.6   \n",
       "Republic of Korea                       1.5                 1.0   \n",
       "Sao Tome and Principe                   5.5                 5.3   \n",
       "Barbados                                3.8                 3.7   \n",
       "Turkey                                  4.9                 4.8   \n",
       "Kuwait                                  3.5                 3.4   \n",
       "Guinea                                  7.3                 7.3   \n",
       "Saudi Arabia                            7.8                 7.6   \n",
       "\n",
       "                       income_composition_of_resources  schooling  \n",
       "country                                                            \n",
       "Trinidad and Tobago                              0.779       12.7  \n",
       "Croatia                                          0.823       15.3  \n",
       "Belarus                                          0.798       15.6  \n",
       "Poland                                           0.852       16.4  \n",
       "Italy                                            0.881       16.3  \n",
       "Republic of Korea                                0.000        0.0  \n",
       "Sao Tome and Principe                            0.565       11.2  \n",
       "Barbados                                         0.794       15.3  \n",
       "Turkey                                           0.764       14.5  \n",
       "Kuwait                                           0.799       13.3  \n",
       "Guinea                                           0.414        8.8  \n",
       "Saudi Arabia                                     0.845       16.1  "
      ]
     },
     "execution_count": 380,
     "metadata": {},
     "output_type": "execute_result"
    }
   ],
   "source": [
    "le_2015.sample(12)"
   ]
  },
  {
   "cell_type": "code",
   "execution_count": 383,
   "id": "e4bf7d49-cdb1-43ca-983f-1c9c40e1bc5c",
   "metadata": {},
   "outputs": [],
   "source": [
    "# backup of life expectancy 2015 data\n",
    "le_2015.to_csv('data/le_2015.csv')"
   ]
  },
  {
   "cell_type": "markdown",
   "id": "b67631b6-ccf8-426e-aee2-27bad98ea6cd",
   "metadata": {},
   "source": [
    "### EDA (Exploratory Data Analysis)"
   ]
  },
  {
   "cell_type": "markdown",
   "id": "9a82544b-b64d-4346-b8f7-5521da78bbb6",
   "metadata": {},
   "source": [
    "#### Check for Outliers"
   ]
  },
  {
   "cell_type": "code",
   "execution_count": 444,
   "id": "51b4ff6c-ca36-4c5a-a647-ccbb5b69ad84",
   "metadata": {},
   "outputs": [
    {
     "data": {
      "text/plain": [
       "Index(['year', 'status', 'life_expectancy', 'adult_mortality', 'infant_deaths',\n",
       "       'percentage_expenditure', 'hepatitis_b', 'measles', 'bmi',\n",
       "       'under-five_deaths', 'polio', 'diphtheria', 'hiv/aids', 'gdp',\n",
       "       'population', 'thinness__1-19_years', 'thinness_5-9_years',\n",
       "       'income_composition_of_resources', 'schooling'],\n",
       "      dtype='object')"
      ]
     },
     "execution_count": 444,
     "metadata": {},
     "output_type": "execute_result"
    }
   ],
   "source": [
    "le_2015.columns"
   ]
  },
  {
   "cell_type": "code",
   "execution_count": 441,
   "id": "aea3f1f1-1c09-4a1a-96ef-b640c1a7c93d",
   "metadata": {},
   "outputs": [
    {
     "data": {
      "image/png": "[encoded data removed]",
      "text/plain": [
       "<Figure size 1440x288 with 5 Axes>"
      ]
     },
     "metadata": {
      "needs_background": "light"
     },
     "output_type": "display_data"
    }
   ],
   "source": [
    "fig, axes = plt.subplots(1, 5, figsize=(20, 4))\n",
    "\n",
    "for column_name, ax in zip(['percentage_expenditure',\n",
    "                            'hepatitis_b',\n",
    "                            'measles',\n",
    "                            'bmi',\n",
    "                            'under-five_deaths'], axes):\n",
    "    ax.hist(le_2015[column_name], bins=8, linewidth=0.5, edgecolor=\"white\")\n",
    "    ax.set_xlabel(column_name)\n",
    "    \n",
    "plt.show()"
   ]
  },
  {
   "cell_type": "code",
   "execution_count": 446,
   "id": "13ac6890-a10b-4a30-b38d-1dfdf674fb39",
   "metadata": {},
   "outputs": [
    {
     "data": {
      "image/png": "[encoded data removed]",
      "text/plain": [
       "<Figure size 1440x288 with 6 Axes>"
      ]
     },
     "metadata": {
      "needs_background": "light"
     },
     "output_type": "display_data"
    }
   ],
   "source": [
    "fig, axes = plt.subplots(1, 6, figsize=(20, 4))\n",
    "\n",
    "for column_name, ax in zip(['adult_mortality',\n",
    "                            'infant_deaths',\n",
    "                            'polio',\n",
    "                            'diphtheria',\n",
    "                            'hiv/aids',\n",
    "                            'gdp'], axes):\n",
    "    ax.hist(le_2015[column_name], bins=8, linewidth=0.5, edgecolor=\"white\")\n",
    "    ax.set_xlabel(column_name)\n",
    "    \n",
    "plt.show()"
   ]
  },
  {
   "cell_type": "code",
   "execution_count": 443,
   "id": "82245abb-ef26-44e8-8cad-72af75c4c090",
   "metadata": {},
   "outputs": [
    {
     "data": {
      "image/png": "[encoded data removed]",
      "text/plain": [
       "<Figure size 1440x288 with 5 Axes>"
      ]
     },
     "metadata": {
      "needs_background": "light"
     },
     "output_type": "display_data"
    }
   ],
   "source": [
    "fig, axes = plt.subplots(1, 5, figsize=(20, 4))\n",
    "\n",
    "for column_name, ax in zip(['population',\n",
    "                             'thinness__1-19_years',\n",
    "                             'thinness_5-9_years',\n",
    "                             'income_composition_of_resources',\n",
    "                             'schooling'], axes):\n",
    "    ax.hist(le_2015[column_name], bins=8, linewidth=0.5, edgecolor=\"white\")\n",
    "    ax.set_xlabel(column_name)\n",
    "    \n",
    "plt.show()"
   ]
  },
  {
   "cell_type": "markdown",
   "id": "69267f47-55d2-4454-ad21-a1a91dba61b9",
   "metadata": {},
   "source": [
    "#### Remove features with mostly zero values"
   ]
  },
  {
   "cell_type": "code",
   "execution_count": 447,
   "id": "4f0a592f-4947-4f3c-b5c7-b069b45d79b0",
   "metadata": {},
   "outputs": [
    {
     "data": {
      "text/plain": [
       "0.000000      181\n",
       "71.279624       1\n",
       "364.975229      1\n",
       "Name: percentage_expenditure, dtype: int64"
      ]
     },
     "execution_count": 447,
     "metadata": {},
     "output_type": "execute_result"
    }
   ],
   "source": [
    "le_2015['percentage_expenditure'].value_counts()"
   ]
  },
  {
   "cell_type": "code",
   "execution_count": 448,
   "id": "b7893a2f-72e1-4c1b-be3c-8276f39cb9d5",
   "metadata": {
    "tags": []
   },
   "outputs": [
    {
     "data": {
      "text/plain": [
       "0       54\n",
       "1       21\n",
       "2       12\n",
       "3       10\n",
       "12       5\n",
       "7        5\n",
       "4        5\n",
       "10       4\n",
       "5        3\n",
       "21       3\n",
       "6        3\n",
       "38       3\n",
       "11       3\n",
       "35       2\n",
       "40       2\n",
       "18       2\n",
       "15       2\n",
       "52       2\n",
       "8        2\n",
       "26       2\n",
       "47       2\n",
       "9        2\n",
       "39       2\n",
       "20       2\n",
       "80       1\n",
       "747      1\n",
       "85       1\n",
       "433      1\n",
       "30       1\n",
       "93       1\n",
       "66       1\n",
       "87       1\n",
       "50       1\n",
       "119      1\n",
       "81       1\n",
       "17       1\n",
       "83       1\n",
       "84       1\n",
       "68       1\n",
       "24       1\n",
       "98       1\n",
       "113      1\n",
       "61       1\n",
       "31       1\n",
       "79       1\n",
       "77       1\n",
       "75       1\n",
       "183      1\n",
       "308      1\n",
       "60       1\n",
       "194      1\n",
       "1100     1\n",
       "136      1\n",
       "32       1\n",
       "Name: under-five_deaths, dtype: int64"
      ]
     },
     "execution_count": 448,
     "metadata": {},
     "output_type": "execute_result"
    }
   ],
   "source": [
    "le_2015['under-five_deaths'].value_counts()"
   ]
  },
  {
   "cell_type": "code",
   "execution_count": 449,
   "id": "8d259e7e-72e7-4438-a55f-86b52501a946",
   "metadata": {},
   "outputs": [
    {
     "data": {
      "text/plain": [
       "0      59\n",
       "1      20\n",
       "2      15\n",
       "8       7\n",
       "3       7\n",
       "4       6\n",
       "6       5\n",
       "10      5\n",
       "26      3\n",
       "15      3\n",
       "22      2\n",
       "17      2\n",
       "37      2\n",
       "13      2\n",
       "7       2\n",
       "52      2\n",
       "28      2\n",
       "5       2\n",
       "66      2\n",
       "21      2\n",
       "42      2\n",
       "30      1\n",
       "60      1\n",
       "39      1\n",
       "49      1\n",
       "483     1\n",
       "50      1\n",
       "58      1\n",
       "9       1\n",
       "352     1\n",
       "23      1\n",
       "11      1\n",
       "85      1\n",
       "19      1\n",
       "62      1\n",
       "54      1\n",
       "157     1\n",
       "92      1\n",
       "25      1\n",
       "38      1\n",
       "57      1\n",
       "45      1\n",
       "46      1\n",
       "236     1\n",
       "32      1\n",
       "51      1\n",
       "136     1\n",
       "14      1\n",
       "910     1\n",
       "114     1\n",
       "18      1\n",
       "27      1\n",
       "Name: infant_deaths, dtype: int64"
      ]
     },
     "execution_count": 449,
     "metadata": {},
     "output_type": "execute_result"
    }
   ],
   "source": [
    "le_2015['infant_deaths'].value_counts()"
   ]
  },
  {
   "cell_type": "code",
   "execution_count": 450,
   "id": "dbde15d1-f2b9-4274-89f6-61d55fa49ed8",
   "metadata": {
    "tags": []
   },
   "outputs": [],
   "source": [
    "le_2015.drop('percentage_expenditure', axis=1, inplace=True)"
   ]
  },
  {
   "cell_type": "code",
   "execution_count": null,
   "id": "6f607f8f-2195-4250-97fc-e185e3902273",
   "metadata": {},
   "outputs": [],
   "source": [
    "le_2015['gdp'].value_counts()"
   ]
  },
  {
   "cell_type": "code",
   "execution_count": null,
   "id": "82f439cb-7b93-415d-a815-7bff2cafb21b",
   "metadata": {},
   "outputs": [],
   "source": [
    "le_2015['population'].value_counts()"
   ]
  },
  {
   "cell_type": "markdown",
   "id": "441e2cb4-6a1b-499c-8b36-5f71eb9c8699",
   "metadata": {},
   "source": [
    "#### Remove gdp and population features"
   ]
  },
  {
   "cell_type": "markdown",
   "id": "d4f6f6ef-0ca7-487a-96b0-447f610db8c6",
   "metadata": {},
   "source": [
    "> Since gdp and population have much wider ranges than the other features they will be removed."
   ]
  },
  {
   "cell_type": "code",
   "execution_count": 506,
   "id": "e4e09448-cb3f-45d6-8388-1c8c017c3ba4",
   "metadata": {},
   "outputs": [],
   "source": [
    "le_2015.drop(['gdp','population'], axis=1, inplace=True)"
   ]
  },
  {
   "cell_type": "code",
   "execution_count": 507,
   "id": "71be815e-ba4c-4bce-8e76-2dfd668520b3",
   "metadata": {},
   "outputs": [
    {
     "name": "stdout",
     "output_type": "stream",
     "text": [
      "<class 'pandas.core.frame.DataFrame'>\n",
      "RangeIndex: 183 entries, 0 to 182\n",
      "Data columns (total 18 columns):\n",
      " #   Column                           Non-Null Count  Dtype  \n",
      "---  ------                           --------------  -----  \n",
      " 0   index                            183 non-null    int64  \n",
      " 1   country                          183 non-null    object \n",
      " 2   year                             183 non-null    int64  \n",
      " 3   status                           183 non-null    object \n",
      " 4   life_expectancy                  183 non-null    float64\n",
      " 5   adult_mortality                  183 non-null    float64\n",
      " 6   infant_deaths                    183 non-null    int64  \n",
      " 7   hepatitis_b                      183 non-null    float64\n",
      " 8   measles                          183 non-null    int64  \n",
      " 9   bmi                              183 non-null    float64\n",
      " 10  under-five_deaths                183 non-null    int64  \n",
      " 11  polio                            183 non-null    float64\n",
      " 12  diphtheria                       183 non-null    float64\n",
      " 13  hiv/aids                         183 non-null    float64\n",
      " 14  thinness__1-19_years             183 non-null    float64\n",
      " 15  thinness_5-9_years               183 non-null    float64\n",
      " 16  income_composition_of_resources  183 non-null    float64\n",
      " 17  schooling                        183 non-null    float64\n",
      "dtypes: float64(11), int64(5), object(2)\n",
      "memory usage: 25.9+ KB\n"
     ]
    }
   ],
   "source": [
    "le_2015.info()"
   ]
  },
  {
   "cell_type": "markdown",
   "id": "59f5c9c0-1dc8-4915-8ad5-409eda823694",
   "metadata": {},
   "source": [
    "## Setup Training data and Target values"
   ]
  },
  {
   "cell_type": "markdown",
   "id": "372b40de-1d60-4a80-80d7-953b2a21e302",
   "metadata": {},
   "source": [
    "> X represents training data and y is the array of target values"
   ]
  },
  {
   "cell_type": "code",
   "execution_count": 509,
   "id": "792bf9c7-8cdd-4ee3-9aee-42f6c9958f60",
   "metadata": {},
   "outputs": [],
   "source": [
    "X = le_2015.loc[:, ~le_2015.columns.isin(['index','country','year','status', 'life_expectancy'])]"
   ]
  },
  {
   "cell_type": "code",
   "execution_count": 510,
   "id": "11d0a6f7-d2a4-488c-a2d8-f3624a35c732",
   "metadata": {},
   "outputs": [
    {
     "data": {
      "text/html": [
       "<div>\n",
       "<style scoped>\n",
       "    .dataframe tbody tr th:only-of-type {\n",
       "        vertical-align: middle;\n",
       "    }\n",
       "\n",
       "    .dataframe tbody tr th {\n",
       "        vertical-align: top;\n",
       "    }\n",
       "\n",
       "    .dataframe thead th {\n",
       "        text-align: right;\n",
       "    }\n",
       "</style>\n",
       "<table border=\"1\" class=\"dataframe\">\n",
       "  <thead>\n",
       "    <tr style=\"text-align: right;\">\n",
       "      <th></th>\n",
       "      <th>adult_mortality</th>\n",
       "      <th>infant_deaths</th>\n",
       "      <th>hepatitis_b</th>\n",
       "      <th>measles</th>\n",
       "      <th>bmi</th>\n",
       "      <th>under-five_deaths</th>\n",
       "      <th>polio</th>\n",
       "      <th>diphtheria</th>\n",
       "      <th>hiv/aids</th>\n",
       "      <th>thinness__1-19_years</th>\n",
       "      <th>thinness_5-9_years</th>\n",
       "      <th>income_composition_of_resources</th>\n",
       "      <th>schooling</th>\n",
       "    </tr>\n",
       "  </thead>\n",
       "  <tbody>\n",
       "    <tr>\n",
       "      <th>0</th>\n",
       "      <td>263.0</td>\n",
       "      <td>62</td>\n",
       "      <td>65.0</td>\n",
       "      <td>1154</td>\n",
       "      <td>19.1</td>\n",
       "      <td>83</td>\n",
       "      <td>6.0</td>\n",
       "      <td>65.0</td>\n",
       "      <td>0.1</td>\n",
       "      <td>17.2</td>\n",
       "      <td>17.3</td>\n",
       "      <td>0.479</td>\n",
       "      <td>10.1</td>\n",
       "    </tr>\n",
       "    <tr>\n",
       "      <th>1</th>\n",
       "      <td>74.0</td>\n",
       "      <td>0</td>\n",
       "      <td>99.0</td>\n",
       "      <td>0</td>\n",
       "      <td>58.0</td>\n",
       "      <td>0</td>\n",
       "      <td>99.0</td>\n",
       "      <td>99.0</td>\n",
       "      <td>0.1</td>\n",
       "      <td>1.2</td>\n",
       "      <td>1.3</td>\n",
       "      <td>0.762</td>\n",
       "      <td>14.2</td>\n",
       "    </tr>\n",
       "    <tr>\n",
       "      <th>2</th>\n",
       "      <td>19.0</td>\n",
       "      <td>21</td>\n",
       "      <td>95.0</td>\n",
       "      <td>63</td>\n",
       "      <td>59.5</td>\n",
       "      <td>24</td>\n",
       "      <td>95.0</td>\n",
       "      <td>95.0</td>\n",
       "      <td>0.1</td>\n",
       "      <td>6.0</td>\n",
       "      <td>5.8</td>\n",
       "      <td>0.743</td>\n",
       "      <td>14.4</td>\n",
       "    </tr>\n",
       "    <tr>\n",
       "      <th>3</th>\n",
       "      <td>335.0</td>\n",
       "      <td>66</td>\n",
       "      <td>64.0</td>\n",
       "      <td>118</td>\n",
       "      <td>23.3</td>\n",
       "      <td>98</td>\n",
       "      <td>7.0</td>\n",
       "      <td>64.0</td>\n",
       "      <td>1.9</td>\n",
       "      <td>8.3</td>\n",
       "      <td>8.2</td>\n",
       "      <td>0.531</td>\n",
       "      <td>11.4</td>\n",
       "    </tr>\n",
       "    <tr>\n",
       "      <th>4</th>\n",
       "      <td>13.0</td>\n",
       "      <td>0</td>\n",
       "      <td>99.0</td>\n",
       "      <td>0</td>\n",
       "      <td>47.7</td>\n",
       "      <td>0</td>\n",
       "      <td>86.0</td>\n",
       "      <td>99.0</td>\n",
       "      <td>0.2</td>\n",
       "      <td>3.3</td>\n",
       "      <td>3.3</td>\n",
       "      <td>0.784</td>\n",
       "      <td>13.9</td>\n",
       "    </tr>\n",
       "    <tr>\n",
       "      <th>...</th>\n",
       "      <td>...</td>\n",
       "      <td>...</td>\n",
       "      <td>...</td>\n",
       "      <td>...</td>\n",
       "      <td>...</td>\n",
       "      <td>...</td>\n",
       "      <td>...</td>\n",
       "      <td>...</td>\n",
       "      <td>...</td>\n",
       "      <td>...</td>\n",
       "      <td>...</td>\n",
       "      <td>...</td>\n",
       "      <td>...</td>\n",
       "    </tr>\n",
       "    <tr>\n",
       "      <th>178</th>\n",
       "      <td>157.0</td>\n",
       "      <td>9</td>\n",
       "      <td>87.0</td>\n",
       "      <td>0</td>\n",
       "      <td>62.1</td>\n",
       "      <td>10</td>\n",
       "      <td>87.0</td>\n",
       "      <td>87.0</td>\n",
       "      <td>0.1</td>\n",
       "      <td>1.6</td>\n",
       "      <td>1.5</td>\n",
       "      <td>0.769</td>\n",
       "      <td>14.3</td>\n",
       "    </tr>\n",
       "    <tr>\n",
       "      <th>179</th>\n",
       "      <td>127.0</td>\n",
       "      <td>28</td>\n",
       "      <td>97.0</td>\n",
       "      <td>256</td>\n",
       "      <td>17.5</td>\n",
       "      <td>35</td>\n",
       "      <td>97.0</td>\n",
       "      <td>97.0</td>\n",
       "      <td>0.1</td>\n",
       "      <td>14.2</td>\n",
       "      <td>14.5</td>\n",
       "      <td>0.678</td>\n",
       "      <td>12.6</td>\n",
       "    </tr>\n",
       "    <tr>\n",
       "      <th>180</th>\n",
       "      <td>224.0</td>\n",
       "      <td>37</td>\n",
       "      <td>69.0</td>\n",
       "      <td>468</td>\n",
       "      <td>41.3</td>\n",
       "      <td>47</td>\n",
       "      <td>63.0</td>\n",
       "      <td>69.0</td>\n",
       "      <td>0.1</td>\n",
       "      <td>13.6</td>\n",
       "      <td>13.4</td>\n",
       "      <td>0.499</td>\n",
       "      <td>9.0</td>\n",
       "    </tr>\n",
       "    <tr>\n",
       "      <th>181</th>\n",
       "      <td>33.0</td>\n",
       "      <td>27</td>\n",
       "      <td>9.0</td>\n",
       "      <td>9</td>\n",
       "      <td>23.4</td>\n",
       "      <td>40</td>\n",
       "      <td>9.0</td>\n",
       "      <td>9.0</td>\n",
       "      <td>4.1</td>\n",
       "      <td>6.3</td>\n",
       "      <td>6.1</td>\n",
       "      <td>0.576</td>\n",
       "      <td>12.5</td>\n",
       "    </tr>\n",
       "    <tr>\n",
       "      <th>182</th>\n",
       "      <td>336.0</td>\n",
       "      <td>22</td>\n",
       "      <td>87.0</td>\n",
       "      <td>0</td>\n",
       "      <td>31.8</td>\n",
       "      <td>32</td>\n",
       "      <td>88.0</td>\n",
       "      <td>87.0</td>\n",
       "      <td>6.2</td>\n",
       "      <td>5.6</td>\n",
       "      <td>5.5</td>\n",
       "      <td>0.507</td>\n",
       "      <td>10.3</td>\n",
       "    </tr>\n",
       "  </tbody>\n",
       "</table>\n",
       "<p>183 rows × 13 columns</p>\n",
       "</div>"
      ],
      "text/plain": [
       "     adult_mortality  infant_deaths  hepatitis_b  measles   bmi  \\\n",
       "0              263.0             62         65.0     1154  19.1   \n",
       "1               74.0              0         99.0        0  58.0   \n",
       "2               19.0             21         95.0       63  59.5   \n",
       "3              335.0             66         64.0      118  23.3   \n",
       "4               13.0              0         99.0        0  47.7   \n",
       "..               ...            ...          ...      ...   ...   \n",
       "178            157.0              9         87.0        0  62.1   \n",
       "179            127.0             28         97.0      256  17.5   \n",
       "180            224.0             37         69.0      468  41.3   \n",
       "181             33.0             27          9.0        9  23.4   \n",
       "182            336.0             22         87.0        0  31.8   \n",
       "\n",
       "     under-five_deaths  polio  diphtheria  hiv/aids  thinness__1-19_years  \\\n",
       "0                   83    6.0        65.0       0.1                  17.2   \n",
       "1                    0   99.0        99.0       0.1                   1.2   \n",
       "2                   24   95.0        95.0       0.1                   6.0   \n",
       "3                   98    7.0        64.0       1.9                   8.3   \n",
       "4                    0   86.0        99.0       0.2                   3.3   \n",
       "..                 ...    ...         ...       ...                   ...   \n",
       "178                 10   87.0        87.0       0.1                   1.6   \n",
       "179                 35   97.0        97.0       0.1                  14.2   \n",
       "180                 47   63.0        69.0       0.1                  13.6   \n",
       "181                 40    9.0         9.0       4.1                   6.3   \n",
       "182                 32   88.0        87.0       6.2                   5.6   \n",
       "\n",
       "     thinness_5-9_years  income_composition_of_resources  schooling  \n",
       "0                  17.3                            0.479       10.1  \n",
       "1                   1.3                            0.762       14.2  \n",
       "2                   5.8                            0.743       14.4  \n",
       "3                   8.2                            0.531       11.4  \n",
       "4                   3.3                            0.784       13.9  \n",
       "..                  ...                              ...        ...  \n",
       "178                 1.5                            0.769       14.3  \n",
       "179                14.5                            0.678       12.6  \n",
       "180                13.4                            0.499        9.0  \n",
       "181                 6.1                            0.576       12.5  \n",
       "182                 5.5                            0.507       10.3  \n",
       "\n",
       "[183 rows x 13 columns]"
      ]
     },
     "execution_count": 510,
     "metadata": {},
     "output_type": "execute_result"
    }
   ],
   "source": [
    "X "
   ]
  },
  {
   "cell_type": "code",
   "execution_count": 511,
   "id": "0f34d761-b7a7-4962-b2f3-22e3d6cbd8a4",
   "metadata": {},
   "outputs": [],
   "source": [
    "X = X.to_numpy()"
   ]
  },
  {
   "cell_type": "code",
   "execution_count": 512,
   "id": "0066bbb0-8992-402e-85a6-70f528c81752",
   "metadata": {},
   "outputs": [
    {
     "data": {
      "text/plain": [
       "array([[263.   ,  62.   ,  65.   , ...,  17.3  ,   0.479,  10.1  ],\n",
       "       [ 74.   ,   0.   ,  99.   , ...,   1.3  ,   0.762,  14.2  ],\n",
       "       [ 19.   ,  21.   ,  95.   , ...,   5.8  ,   0.743,  14.4  ],\n",
       "       ...,\n",
       "       [224.   ,  37.   ,  69.   , ...,  13.4  ,   0.499,   9.   ],\n",
       "       [ 33.   ,  27.   ,   9.   , ...,   6.1  ,   0.576,  12.5  ],\n",
       "       [336.   ,  22.   ,  87.   , ...,   5.5  ,   0.507,  10.3  ]])"
      ]
     },
     "execution_count": 512,
     "metadata": {},
     "output_type": "execute_result"
    }
   ],
   "source": [
    "X"
   ]
  },
  {
   "cell_type": "code",
   "execution_count": 513,
   "id": "7fd0ccc5-0da7-453e-9469-e56d7d71bcfc",
   "metadata": {},
   "outputs": [
    {
     "data": {
      "text/plain": [
       "(183, 13)"
      ]
     },
     "execution_count": 513,
     "metadata": {},
     "output_type": "execute_result"
    }
   ],
   "source": [
    "X.shape"
   ]
  },
  {
   "cell_type": "code",
   "execution_count": 514,
   "id": "d4872271-9430-45ac-b34a-1ddde8378f48",
   "metadata": {},
   "outputs": [],
   "source": [
    "y = le_2015.loc[:, le_2015.columns.isin(['life_expectancy'])]"
   ]
  },
  {
   "cell_type": "code",
   "execution_count": 515,
   "id": "a87d1c3c-31b1-4865-b3f3-9f5f0603e697",
   "metadata": {},
   "outputs": [
    {
     "data": {
      "text/html": [
       "<div>\n",
       "<style scoped>\n",
       "    .dataframe tbody tr th:only-of-type {\n",
       "        vertical-align: middle;\n",
       "    }\n",
       "\n",
       "    .dataframe tbody tr th {\n",
       "        vertical-align: top;\n",
       "    }\n",
       "\n",
       "    .dataframe thead th {\n",
       "        text-align: right;\n",
       "    }\n",
       "</style>\n",
       "<table border=\"1\" class=\"dataframe\">\n",
       "  <thead>\n",
       "    <tr style=\"text-align: right;\">\n",
       "      <th></th>\n",
       "      <th>life_expectancy</th>\n",
       "    </tr>\n",
       "  </thead>\n",
       "  <tbody>\n",
       "    <tr>\n",
       "      <th>0</th>\n",
       "      <td>65.0</td>\n",
       "    </tr>\n",
       "    <tr>\n",
       "      <th>1</th>\n",
       "      <td>77.8</td>\n",
       "    </tr>\n",
       "    <tr>\n",
       "      <th>2</th>\n",
       "      <td>75.6</td>\n",
       "    </tr>\n",
       "    <tr>\n",
       "      <th>3</th>\n",
       "      <td>52.4</td>\n",
       "    </tr>\n",
       "    <tr>\n",
       "      <th>4</th>\n",
       "      <td>76.4</td>\n",
       "    </tr>\n",
       "    <tr>\n",
       "      <th>...</th>\n",
       "      <td>...</td>\n",
       "    </tr>\n",
       "    <tr>\n",
       "      <th>178</th>\n",
       "      <td>74.1</td>\n",
       "    </tr>\n",
       "    <tr>\n",
       "      <th>179</th>\n",
       "      <td>76.0</td>\n",
       "    </tr>\n",
       "    <tr>\n",
       "      <th>180</th>\n",
       "      <td>65.7</td>\n",
       "    </tr>\n",
       "    <tr>\n",
       "      <th>181</th>\n",
       "      <td>61.8</td>\n",
       "    </tr>\n",
       "    <tr>\n",
       "      <th>182</th>\n",
       "      <td>67.0</td>\n",
       "    </tr>\n",
       "  </tbody>\n",
       "</table>\n",
       "<p>183 rows × 1 columns</p>\n",
       "</div>"
      ],
      "text/plain": [
       "     life_expectancy\n",
       "0               65.0\n",
       "1               77.8\n",
       "2               75.6\n",
       "3               52.4\n",
       "4               76.4\n",
       "..               ...\n",
       "178             74.1\n",
       "179             76.0\n",
       "180             65.7\n",
       "181             61.8\n",
       "182             67.0\n",
       "\n",
       "[183 rows x 1 columns]"
      ]
     },
     "execution_count": 515,
     "metadata": {},
     "output_type": "execute_result"
    }
   ],
   "source": [
    "y"
   ]
  },
  {
   "cell_type": "code",
   "execution_count": 516,
   "id": "ee1579e1-b0b6-42c4-9433-50e218a282dd",
   "metadata": {},
   "outputs": [],
   "source": [
    "y = y.to_numpy()"
   ]
  },
  {
   "cell_type": "code",
   "execution_count": 517,
   "id": "af9602a0-6fb9-4a19-b595-3b39301f77d1",
   "metadata": {},
   "outputs": [
    {
     "data": {
      "text/plain": [
       "(183, 1)"
      ]
     },
     "execution_count": 517,
     "metadata": {},
     "output_type": "execute_result"
    }
   ],
   "source": [
    "y.shape"
   ]
  },
  {
   "cell_type": "markdown",
   "id": "e93a394c-679d-4756-8600-80ef812b7af9",
   "metadata": {},
   "source": [
    "### Ridge Regression"
   ]
  },
  {
   "cell_type": "code",
   "execution_count": null,
   "id": "f6120a8e-b962-4847-8caf-8287bd9ca49d",
   "metadata": {},
   "outputs": [],
   "source": []
  }
 ],
 "metadata": {
  "kernelspec": {
   "display_name": "PythonDev (3.9)",
   "language": "python",
   "name": "pythondev"
  },
  "language_info": {
   "codemirror_mode": {
    "name": "ipython",
    "version": 3
   },
   "file_extension": ".py",
   "mimetype": "text/x-python",
   "name": "python",
   "nbconvert_exporter": "python",
   "pygments_lexer": "ipython3",
   "version": "3.9.12"
  }
 },
 "nbformat": 4,
 "nbformat_minor": 5
}
