{
 "cells": [
  {
   "cell_type": "markdown",
   "id": "40f4596f-4697-426c-9f1d-5164fc2fc8e1",
   "metadata": {},
   "source": [
    "## DSC-609: Machine Learning\n",
    "### Module 2 - Regularization\n",
    "**Michael Albers**\n",
    "\n",
    "**7/17/2022**"
   ]
  },
  {
   "cell_type": "markdown",
   "id": "3058f758-c8aa-4f9f-9d9d-6ec2264e25b6",
   "metadata": {},
   "source": [
    "### Overview\n",
    "Use Ridge and LASSO regression to predict Life Expectancy"
   ]
  },
  {
   "cell_type": "markdown",
   "id": "56670fdb-c64b-495a-98b9-d902e58323fe",
   "metadata": {},
   "source": [
    "### Data Set\n",
    "**Life Expectancy (WHO)** \n",
    "\n",
    "This data set contains immunization data, mortality, economic, and social factors, and other health related factors from 2000 to 2015 from world countries.\n",
    "\n",
    "https://www.kaggle.com/datasets/kumarajarshi/life-expectancy-who"
   ]
  },
  {
   "cell_type": "code",
   "execution_count": 572,
   "id": "3758ec8b-9262-4651-ae5e-9e0339e6f9fc",
   "metadata": {},
   "outputs": [],
   "source": [
    "import pandas as pd\n",
    "import numpy as np\n",
    "import matplotlib.pyplot as plt\n",
    "import seaborn as sns"
   ]
  },
  {
   "cell_type": "code",
   "execution_count": 573,
   "id": "abfd7f4b-9405-4fb1-af7a-6773d7471612",
   "metadata": {},
   "outputs": [],
   "source": [
    "%matplotlib inline"
   ]
  },
  {
   "cell_type": "code",
   "execution_count": 574,
   "id": "14d94f93-188d-4565-a0e6-7a86454296dc",
   "metadata": {},
   "outputs": [],
   "source": [
    "# set default theme\n",
    "sns.set_theme()"
   ]
  },
  {
   "cell_type": "code",
   "execution_count": 575,
   "id": "2a1f03d9-1995-472b-9f18-a98c3c31c80b",
   "metadata": {},
   "outputs": [],
   "source": [
    "import warnings\n",
    "warnings.filterwarnings('ignore')"
   ]
  },
  {
   "cell_type": "code",
   "execution_count": 576,
   "id": "5d4d995f-a18a-4d22-9f0b-2f369932bcdc",
   "metadata": {},
   "outputs": [],
   "source": [
    "# Load libraries for Ridge and LASSO regression\n",
    "from sklearn.model_selection import RepeatedKFold\n",
    "from sklearn.model_selection import cross_val_score\n",
    "from sklearn.linear_model import RidgeCV\n",
    "from sklearn.linear_model import LassoCV"
   ]
  },
  {
   "cell_type": "markdown",
   "id": "72b2634e-f503-4ead-85ee-7e4fd4bae855",
   "metadata": {},
   "source": [
    "### Read and Inspect data file"
   ]
  },
  {
   "cell_type": "code",
   "execution_count": 577,
   "id": "eff9be02-0fd1-401d-9f91-12daf5f2c0e5",
   "metadata": {},
   "outputs": [],
   "source": [
    "life_exp_df = pd.read_csv('data/Life Expectancy Data.csv')"
   ]
  },
  {
   "cell_type": "code",
   "execution_count": 578,
   "id": "c0660d0c-97a8-43cd-82c9-4ac4b71fd69b",
   "metadata": {},
   "outputs": [
    {
     "name": "stdout",
     "output_type": "stream",
     "text": [
      "<class 'pandas.core.frame.DataFrame'>\n",
      "RangeIndex: 2938 entries, 0 to 2937\n",
      "Data columns (total 22 columns):\n",
      " #   Column                           Non-Null Count  Dtype  \n",
      "---  ------                           --------------  -----  \n",
      " 0   Country                          2938 non-null   object \n",
      " 1   Year                             2938 non-null   int64  \n",
      " 2   Status                           2938 non-null   object \n",
      " 3   Life expectancy                  2928 non-null   float64\n",
      " 4   Adult Mortality                  2928 non-null   float64\n",
      " 5   infant deaths                    2938 non-null   int64  \n",
      " 6   Alcohol                          2744 non-null   float64\n",
      " 7   percentage expenditure           2938 non-null   float64\n",
      " 8   Hepatitis B                      2385 non-null   float64\n",
      " 9   Measles                          2938 non-null   int64  \n",
      " 10   BMI                             2904 non-null   float64\n",
      " 11  under-five deaths                2938 non-null   int64  \n",
      " 12  Polio                            2919 non-null   float64\n",
      " 13  Total expenditure                2712 non-null   float64\n",
      " 14  Diphtheria                       2919 non-null   float64\n",
      " 15   HIV/AIDS                        2938 non-null   float64\n",
      " 16  GDP                              2490 non-null   float64\n",
      " 17  Population                       2286 non-null   float64\n",
      " 18   thinness  1-19 years            2904 non-null   float64\n",
      " 19   thinness 5-9 years              2904 non-null   float64\n",
      " 20  Income composition of resources  2771 non-null   float64\n",
      " 21  Schooling                        2775 non-null   float64\n",
      "dtypes: float64(16), int64(4), object(2)\n",
      "memory usage: 505.1+ KB\n"
     ]
    }
   ],
   "source": [
    "life_exp_df.info()"
   ]
  },
  {
   "cell_type": "code",
   "execution_count": 617,
   "id": "0bbe234f-f937-42a6-af3b-899315f30df3",
   "metadata": {},
   "outputs": [
    {
     "data": {
      "text/plain": [
       "Index(['country', 'year', 'status', 'life_expectancy', 'adult_mortality',\n",
       "       'infant_deaths', 'alcohol', 'percentage_expenditure', 'hepatitis_b',\n",
       "       'measles', 'bmi', 'under_five_deaths', 'polio', 'total_expenditure',\n",
       "       'diphtheria', 'hiv_aids', 'gdp', 'population', 'thinness_1_19_years',\n",
       "       'thinness_5_9_years', 'income_composition_of_resources', 'schooling'],\n",
       "      dtype='object')"
      ]
     },
     "execution_count": 617,
     "metadata": {},
     "output_type": "execute_result"
    }
   ],
   "source": [
    "# Rename columns\n",
    "life_exp_df.rename(columns=lambda x: x.strip().lower().replace(\" \", \"_\"), inplace=True)\n",
    "life_exp_df.rename(columns=lambda x: x.strip().lower().replace(\"/\", \"_\"), inplace=True)\n",
    "life_exp_df.rename(columns=lambda x: x.strip().lower().replace(\"__\", \"_\"), inplace=True)\n",
    "life_exp_df.rename(columns=lambda x: x.strip().lower().replace(\"-\", \"_\"), inplace=True)\n",
    "life_exp_df.columns"
   ]
  },
  {
   "cell_type": "code",
   "execution_count": 618,
   "id": "0f635a5a-506e-4e58-8eb7-34aa0e3f4219",
   "metadata": {},
   "outputs": [
    {
     "data": {
      "text/plain": [
       "Developing    2426\n",
       "Developed      512\n",
       "Name: status, dtype: int64"
      ]
     },
     "execution_count": 618,
     "metadata": {},
     "output_type": "execute_result"
    }
   ],
   "source": [
    "life_exp_df['status'].value_counts()"
   ]
  },
  {
   "cell_type": "code",
   "execution_count": 619,
   "id": "110dd49c-9b33-4745-8ec2-7f8edd9f83c8",
   "metadata": {},
   "outputs": [
    {
     "data": {
      "text/plain": [
       "2015    183\n",
       "2014    183\n",
       "2013    193\n",
       "2012    183\n",
       "2011    183\n",
       "2010    183\n",
       "2009    183\n",
       "2008    183\n",
       "2007    183\n",
       "2006    183\n",
       "2005    183\n",
       "2004    183\n",
       "2003    183\n",
       "2002    183\n",
       "2001    183\n",
       "2000    183\n",
       "Name: year, dtype: int64"
      ]
     },
     "execution_count": 619,
     "metadata": {},
     "output_type": "execute_result"
    }
   ],
   "source": [
    "life_exp_df['year'].value_counts(sort=False)"
   ]
  },
  {
   "cell_type": "markdown",
   "id": "0b109a71-cfea-4141-ade7-0e59ee786e49",
   "metadata": {
    "tags": []
   },
   "source": [
    "#### Take copy of data frame"
   ]
  },
  {
   "cell_type": "code",
   "execution_count": 620,
   "id": "2820cbf9-be44-41d9-9ff4-a6fd3722603c",
   "metadata": {},
   "outputs": [],
   "source": [
    "life_exp_df_copy = life_exp_df.copy()"
   ]
  },
  {
   "cell_type": "code",
   "execution_count": 621,
   "id": "970c417b-d494-49ea-9e93-993564a9dcaa",
   "metadata": {},
   "outputs": [],
   "source": [
    "life_exp_df_copy.set_index('country', inplace=True)"
   ]
  },
  {
   "cell_type": "markdown",
   "id": "3d4a2c04-a5de-446b-b315-77504456903e",
   "metadata": {},
   "source": [
    "#### The predicitons on life expectancy will be based on year 2015"
   ]
  },
  {
   "cell_type": "code",
   "execution_count": 622,
   "id": "a36a44bc-8ccb-444b-9c40-ca142f8d409b",
   "metadata": {},
   "outputs": [],
   "source": [
    "le_2015 = life_exp_df[life_exp_df['year'] == 2015]"
   ]
  },
  {
   "cell_type": "code",
   "execution_count": 623,
   "id": "f30cd224-c105-432d-973c-ec81933711af",
   "metadata": {},
   "outputs": [
    {
     "name": "stdout",
     "output_type": "stream",
     "text": [
      "<class 'pandas.core.frame.DataFrame'>\n",
      "Int64Index: 183 entries, 0 to 2922\n",
      "Data columns (total 22 columns):\n",
      " #   Column                           Non-Null Count  Dtype  \n",
      "---  ------                           --------------  -----  \n",
      " 0   country                          183 non-null    object \n",
      " 1   year                             183 non-null    int64  \n",
      " 2   status                           183 non-null    object \n",
      " 3   life_expectancy                  183 non-null    float64\n",
      " 4   adult_mortality                  183 non-null    float64\n",
      " 5   infant_deaths                    183 non-null    int64  \n",
      " 6   alcohol                          6 non-null      float64\n",
      " 7   percentage_expenditure           183 non-null    float64\n",
      " 8   hepatitis_b                      174 non-null    float64\n",
      " 9   measles                          183 non-null    int64  \n",
      " 10  bmi                              181 non-null    float64\n",
      " 11  under_five_deaths                183 non-null    int64  \n",
      " 12  polio                            183 non-null    float64\n",
      " 13  total_expenditure                2 non-null      float64\n",
      " 14  diphtheria                       183 non-null    float64\n",
      " 15  hiv_aids                         183 non-null    float64\n",
      " 16  gdp                              154 non-null    float64\n",
      " 17  population                       142 non-null    float64\n",
      " 18  thinness_1_19_years              181 non-null    float64\n",
      " 19  thinness_5_9_years               181 non-null    float64\n",
      " 20  income_composition_of_resources  173 non-null    float64\n",
      " 21  schooling                        173 non-null    float64\n",
      "dtypes: float64(16), int64(4), object(2)\n",
      "memory usage: 32.9+ KB\n"
     ]
    }
   ],
   "source": [
    "le_2015.info()"
   ]
  },
  {
   "cell_type": "code",
   "execution_count": 624,
   "id": "bab7b3ec-22c1-4545-97a9-ea295bcbbc38",
   "metadata": {},
   "outputs": [
    {
     "data": {
      "text/html": [
       "<div>\n",
       "<style scoped>\n",
       "    .dataframe tbody tr th:only-of-type {\n",
       "        vertical-align: middle;\n",
       "    }\n",
       "\n",
       "    .dataframe tbody tr th {\n",
       "        vertical-align: top;\n",
       "    }\n",
       "\n",
       "    .dataframe thead th {\n",
       "        text-align: right;\n",
       "    }\n",
       "</style>\n",
       "<table border=\"1\" class=\"dataframe\">\n",
       "  <thead>\n",
       "    <tr style=\"text-align: right;\">\n",
       "      <th></th>\n",
       "      <th>country</th>\n",
       "      <th>year</th>\n",
       "      <th>status</th>\n",
       "      <th>life_expectancy</th>\n",
       "      <th>adult_mortality</th>\n",
       "      <th>infant_deaths</th>\n",
       "      <th>alcohol</th>\n",
       "      <th>percentage_expenditure</th>\n",
       "      <th>hepatitis_b</th>\n",
       "      <th>measles</th>\n",
       "      <th>...</th>\n",
       "      <th>polio</th>\n",
       "      <th>total_expenditure</th>\n",
       "      <th>diphtheria</th>\n",
       "      <th>hiv_aids</th>\n",
       "      <th>gdp</th>\n",
       "      <th>population</th>\n",
       "      <th>thinness_1_19_years</th>\n",
       "      <th>thinness_5_9_years</th>\n",
       "      <th>income_composition_of_resources</th>\n",
       "      <th>schooling</th>\n",
       "    </tr>\n",
       "  </thead>\n",
       "  <tbody>\n",
       "    <tr>\n",
       "      <th>673</th>\n",
       "      <td>Cyprus</td>\n",
       "      <td>2015</td>\n",
       "      <td>Developed</td>\n",
       "      <td>85.0</td>\n",
       "      <td>52.0</td>\n",
       "      <td>0</td>\n",
       "      <td>NaN</td>\n",
       "      <td>0.0</td>\n",
       "      <td>97.0</td>\n",
       "      <td>0</td>\n",
       "      <td>...</td>\n",
       "      <td>97.0</td>\n",
       "      <td>NaN</td>\n",
       "      <td>97.0</td>\n",
       "      <td>0.1</td>\n",
       "      <td>2375.112700</td>\n",
       "      <td>116985.0</td>\n",
       "      <td>1.0</td>\n",
       "      <td>1.0</td>\n",
       "      <td>0.854</td>\n",
       "      <td>14.3</td>\n",
       "    </tr>\n",
       "    <tr>\n",
       "      <th>576</th>\n",
       "      <td>Colombia</td>\n",
       "      <td>2015</td>\n",
       "      <td>Developing</td>\n",
       "      <td>74.8</td>\n",
       "      <td>143.0</td>\n",
       "      <td>10</td>\n",
       "      <td>NaN</td>\n",
       "      <td>0.0</td>\n",
       "      <td>91.0</td>\n",
       "      <td>1</td>\n",
       "      <td>...</td>\n",
       "      <td>91.0</td>\n",
       "      <td>NaN</td>\n",
       "      <td>91.0</td>\n",
       "      <td>0.1</td>\n",
       "      <td>644.525556</td>\n",
       "      <td>48228697.0</td>\n",
       "      <td>2.1</td>\n",
       "      <td>1.9</td>\n",
       "      <td>0.724</td>\n",
       "      <td>13.6</td>\n",
       "    </tr>\n",
       "    <tr>\n",
       "      <th>1975</th>\n",
       "      <td>Papua New Guinea</td>\n",
       "      <td>2015</td>\n",
       "      <td>Developing</td>\n",
       "      <td>62.9</td>\n",
       "      <td>275.0</td>\n",
       "      <td>10</td>\n",
       "      <td>NaN</td>\n",
       "      <td>0.0</td>\n",
       "      <td>67.0</td>\n",
       "      <td>38</td>\n",
       "      <td>...</td>\n",
       "      <td>74.0</td>\n",
       "      <td>NaN</td>\n",
       "      <td>73.0</td>\n",
       "      <td>0.6</td>\n",
       "      <td>NaN</td>\n",
       "      <td>7919825.0</td>\n",
       "      <td>1.3</td>\n",
       "      <td>1.3</td>\n",
       "      <td>0.515</td>\n",
       "      <td>10.0</td>\n",
       "    </tr>\n",
       "    <tr>\n",
       "      <th>432</th>\n",
       "      <td>Côte d'Ivoire</td>\n",
       "      <td>2015</td>\n",
       "      <td>Developing</td>\n",
       "      <td>53.3</td>\n",
       "      <td>397.0</td>\n",
       "      <td>57</td>\n",
       "      <td>NaN</td>\n",
       "      <td>0.0</td>\n",
       "      <td>83.0</td>\n",
       "      <td>65</td>\n",
       "      <td>...</td>\n",
       "      <td>81.0</td>\n",
       "      <td>NaN</td>\n",
       "      <td>83.0</td>\n",
       "      <td>1.9</td>\n",
       "      <td>NaN</td>\n",
       "      <td>NaN</td>\n",
       "      <td>5.5</td>\n",
       "      <td>5.5</td>\n",
       "      <td>NaN</td>\n",
       "      <td>NaN</td>\n",
       "    </tr>\n",
       "    <tr>\n",
       "      <th>2281</th>\n",
       "      <td>Seychelles</td>\n",
       "      <td>2015</td>\n",
       "      <td>Developing</td>\n",
       "      <td>73.2</td>\n",
       "      <td>168.0</td>\n",
       "      <td>0</td>\n",
       "      <td>NaN</td>\n",
       "      <td>0.0</td>\n",
       "      <td>98.0</td>\n",
       "      <td>0</td>\n",
       "      <td>...</td>\n",
       "      <td>97.0</td>\n",
       "      <td>NaN</td>\n",
       "      <td>97.0</td>\n",
       "      <td>0.1</td>\n",
       "      <td>1539.464000</td>\n",
       "      <td>93419.0</td>\n",
       "      <td>5.7</td>\n",
       "      <td>6.0</td>\n",
       "      <td>0.781</td>\n",
       "      <td>14.1</td>\n",
       "    </tr>\n",
       "    <tr>\n",
       "      <th>496</th>\n",
       "      <td>Canada</td>\n",
       "      <td>2015</td>\n",
       "      <td>Developing</td>\n",
       "      <td>82.2</td>\n",
       "      <td>64.0</td>\n",
       "      <td>2</td>\n",
       "      <td>NaN</td>\n",
       "      <td>0.0</td>\n",
       "      <td>55.0</td>\n",
       "      <td>195</td>\n",
       "      <td>...</td>\n",
       "      <td>91.0</td>\n",
       "      <td>NaN</td>\n",
       "      <td>91.0</td>\n",
       "      <td>0.1</td>\n",
       "      <td>43315.744000</td>\n",
       "      <td>3584861.0</td>\n",
       "      <td>0.6</td>\n",
       "      <td>0.5</td>\n",
       "      <td>0.919</td>\n",
       "      <td>16.3</td>\n",
       "    </tr>\n",
       "    <tr>\n",
       "      <th>1090</th>\n",
       "      <td>Guinea-Bissau</td>\n",
       "      <td>2015</td>\n",
       "      <td>Developing</td>\n",
       "      <td>58.9</td>\n",
       "      <td>275.0</td>\n",
       "      <td>4</td>\n",
       "      <td>NaN</td>\n",
       "      <td>0.0</td>\n",
       "      <td>87.0</td>\n",
       "      <td>153</td>\n",
       "      <td>...</td>\n",
       "      <td>87.0</td>\n",
       "      <td>NaN</td>\n",
       "      <td>87.0</td>\n",
       "      <td>3.2</td>\n",
       "      <td>596.871719</td>\n",
       "      <td>177526.0</td>\n",
       "      <td>7.1</td>\n",
       "      <td>7.0</td>\n",
       "      <td>0.421</td>\n",
       "      <td>9.2</td>\n",
       "    </tr>\n",
       "    <tr>\n",
       "      <th>144</th>\n",
       "      <td>Azerbaijan</td>\n",
       "      <td>2015</td>\n",
       "      <td>Developing</td>\n",
       "      <td>72.7</td>\n",
       "      <td>118.0</td>\n",
       "      <td>5</td>\n",
       "      <td>NaN</td>\n",
       "      <td>0.0</td>\n",
       "      <td>96.0</td>\n",
       "      <td>0</td>\n",
       "      <td>...</td>\n",
       "      <td>98.0</td>\n",
       "      <td>NaN</td>\n",
       "      <td>96.0</td>\n",
       "      <td>0.1</td>\n",
       "      <td>55.313820</td>\n",
       "      <td>9649341.0</td>\n",
       "      <td>2.8</td>\n",
       "      <td>2.9</td>\n",
       "      <td>0.758</td>\n",
       "      <td>12.7</td>\n",
       "    </tr>\n",
       "    <tr>\n",
       "      <th>1764</th>\n",
       "      <td>Mozambique</td>\n",
       "      <td>2015</td>\n",
       "      <td>Developing</td>\n",
       "      <td>57.6</td>\n",
       "      <td>355.0</td>\n",
       "      <td>60</td>\n",
       "      <td>NaN</td>\n",
       "      <td>0.0</td>\n",
       "      <td>8.0</td>\n",
       "      <td>79</td>\n",
       "      <td>...</td>\n",
       "      <td>8.0</td>\n",
       "      <td>NaN</td>\n",
       "      <td>8.0</td>\n",
       "      <td>3.9</td>\n",
       "      <td>528.312560</td>\n",
       "      <td>281691.0</td>\n",
       "      <td>3.6</td>\n",
       "      <td>3.5</td>\n",
       "      <td>0.414</td>\n",
       "      <td>9.1</td>\n",
       "    </tr>\n",
       "    <tr>\n",
       "      <th>336</th>\n",
       "      <td>Botswana</td>\n",
       "      <td>2015</td>\n",
       "      <td>Developing</td>\n",
       "      <td>65.7</td>\n",
       "      <td>256.0</td>\n",
       "      <td>2</td>\n",
       "      <td>NaN</td>\n",
       "      <td>0.0</td>\n",
       "      <td>95.0</td>\n",
       "      <td>0</td>\n",
       "      <td>...</td>\n",
       "      <td>96.0</td>\n",
       "      <td>NaN</td>\n",
       "      <td>95.0</td>\n",
       "      <td>2.2</td>\n",
       "      <td>6532.651000</td>\n",
       "      <td>229197.0</td>\n",
       "      <td>6.4</td>\n",
       "      <td>6.1</td>\n",
       "      <td>0.698</td>\n",
       "      <td>12.6</td>\n",
       "    </tr>\n",
       "    <tr>\n",
       "      <th>1282</th>\n",
       "      <td>Italy</td>\n",
       "      <td>2015</td>\n",
       "      <td>Developed</td>\n",
       "      <td>82.7</td>\n",
       "      <td>56.0</td>\n",
       "      <td>1</td>\n",
       "      <td>NaN</td>\n",
       "      <td>0.0</td>\n",
       "      <td>93.0</td>\n",
       "      <td>159</td>\n",
       "      <td>...</td>\n",
       "      <td>93.0</td>\n",
       "      <td>NaN</td>\n",
       "      <td>93.0</td>\n",
       "      <td>0.1</td>\n",
       "      <td>349.147550</td>\n",
       "      <td>673582.0</td>\n",
       "      <td>0.6</td>\n",
       "      <td>0.6</td>\n",
       "      <td>0.881</td>\n",
       "      <td>16.3</td>\n",
       "    </tr>\n",
       "    <tr>\n",
       "      <th>1748</th>\n",
       "      <td>Morocco</td>\n",
       "      <td>2015</td>\n",
       "      <td>Developing</td>\n",
       "      <td>74.3</td>\n",
       "      <td>95.0</td>\n",
       "      <td>17</td>\n",
       "      <td>NaN</td>\n",
       "      <td>0.0</td>\n",
       "      <td>99.0</td>\n",
       "      <td>17</td>\n",
       "      <td>...</td>\n",
       "      <td>99.0</td>\n",
       "      <td>NaN</td>\n",
       "      <td>99.0</td>\n",
       "      <td>0.1</td>\n",
       "      <td>2847.285569</td>\n",
       "      <td>3483322.0</td>\n",
       "      <td>6.4</td>\n",
       "      <td>6.2</td>\n",
       "      <td>0.645</td>\n",
       "      <td>12.1</td>\n",
       "    </tr>\n",
       "  </tbody>\n",
       "</table>\n",
       "<p>12 rows × 22 columns</p>\n",
       "</div>"
      ],
      "text/plain": [
       "               country  year      status  life_expectancy  adult_mortality  \\\n",
       "673             Cyprus  2015   Developed             85.0             52.0   \n",
       "576           Colombia  2015  Developing             74.8            143.0   \n",
       "1975  Papua New Guinea  2015  Developing             62.9            275.0   \n",
       "432      Côte d'Ivoire  2015  Developing             53.3            397.0   \n",
       "2281        Seychelles  2015  Developing             73.2            168.0   \n",
       "496             Canada  2015  Developing             82.2             64.0   \n",
       "1090     Guinea-Bissau  2015  Developing             58.9            275.0   \n",
       "144         Azerbaijan  2015  Developing             72.7            118.0   \n",
       "1764        Mozambique  2015  Developing             57.6            355.0   \n",
       "336           Botswana  2015  Developing             65.7            256.0   \n",
       "1282             Italy  2015   Developed             82.7             56.0   \n",
       "1748           Morocco  2015  Developing             74.3             95.0   \n",
       "\n",
       "      infant_deaths  alcohol  percentage_expenditure  hepatitis_b  measles  \\\n",
       "673               0      NaN                     0.0         97.0        0   \n",
       "576              10      NaN                     0.0         91.0        1   \n",
       "1975             10      NaN                     0.0         67.0       38   \n",
       "432              57      NaN                     0.0         83.0       65   \n",
       "2281              0      NaN                     0.0         98.0        0   \n",
       "496               2      NaN                     0.0         55.0      195   \n",
       "1090              4      NaN                     0.0         87.0      153   \n",
       "144               5      NaN                     0.0         96.0        0   \n",
       "1764             60      NaN                     0.0          8.0       79   \n",
       "336               2      NaN                     0.0         95.0        0   \n",
       "1282              1      NaN                     0.0         93.0      159   \n",
       "1748             17      NaN                     0.0         99.0       17   \n",
       "\n",
       "      ...  polio  total_expenditure  diphtheria  hiv_aids           gdp  \\\n",
       "673   ...   97.0                NaN        97.0       0.1   2375.112700   \n",
       "576   ...   91.0                NaN        91.0       0.1    644.525556   \n",
       "1975  ...   74.0                NaN        73.0       0.6           NaN   \n",
       "432   ...   81.0                NaN        83.0       1.9           NaN   \n",
       "2281  ...   97.0                NaN        97.0       0.1   1539.464000   \n",
       "496   ...   91.0                NaN        91.0       0.1  43315.744000   \n",
       "1090  ...   87.0                NaN        87.0       3.2    596.871719   \n",
       "144   ...   98.0                NaN        96.0       0.1     55.313820   \n",
       "1764  ...    8.0                NaN         8.0       3.9    528.312560   \n",
       "336   ...   96.0                NaN        95.0       2.2   6532.651000   \n",
       "1282  ...   93.0                NaN        93.0       0.1    349.147550   \n",
       "1748  ...   99.0                NaN        99.0       0.1   2847.285569   \n",
       "\n",
       "      population  thinness_1_19_years  thinness_5_9_years  \\\n",
       "673     116985.0                  1.0                 1.0   \n",
       "576   48228697.0                  2.1                 1.9   \n",
       "1975   7919825.0                  1.3                 1.3   \n",
       "432          NaN                  5.5                 5.5   \n",
       "2281     93419.0                  5.7                 6.0   \n",
       "496    3584861.0                  0.6                 0.5   \n",
       "1090    177526.0                  7.1                 7.0   \n",
       "144    9649341.0                  2.8                 2.9   \n",
       "1764    281691.0                  3.6                 3.5   \n",
       "336     229197.0                  6.4                 6.1   \n",
       "1282    673582.0                  0.6                 0.6   \n",
       "1748   3483322.0                  6.4                 6.2   \n",
       "\n",
       "      income_composition_of_resources  schooling  \n",
       "673                             0.854       14.3  \n",
       "576                             0.724       13.6  \n",
       "1975                            0.515       10.0  \n",
       "432                               NaN        NaN  \n",
       "2281                            0.781       14.1  \n",
       "496                             0.919       16.3  \n",
       "1090                            0.421        9.2  \n",
       "144                             0.758       12.7  \n",
       "1764                            0.414        9.1  \n",
       "336                             0.698       12.6  \n",
       "1282                            0.881       16.3  \n",
       "1748                            0.645       12.1  \n",
       "\n",
       "[12 rows x 22 columns]"
      ]
     },
     "execution_count": 624,
     "metadata": {},
     "output_type": "execute_result"
    }
   ],
   "source": [
    "le_2015.sample(12)"
   ]
  },
  {
   "cell_type": "markdown",
   "id": "ddc62cdc-56d0-44ed-bbe8-111a9d007787",
   "metadata": {},
   "source": [
    "#### Check for duplicate records"
   ]
  },
  {
   "cell_type": "code",
   "execution_count": 625,
   "id": "9eba6258-17d7-45a3-9a7f-8bed304f0676",
   "metadata": {},
   "outputs": [],
   "source": [
    "duplicate_rec_count = le_2015[le_2015.duplicated(['country', 'year', 'status']) == True]"
   ]
  },
  {
   "cell_type": "code",
   "execution_count": 626,
   "id": "dd932acf-022a-42d9-85a2-f222fd83e063",
   "metadata": {},
   "outputs": [
    {
     "data": {
      "text/plain": [
       "0"
      ]
     },
     "execution_count": 626,
     "metadata": {},
     "output_type": "execute_result"
    }
   ],
   "source": [
    "len(duplicate_rec_count)"
   ]
  },
  {
   "cell_type": "code",
   "execution_count": 627,
   "id": "37d119b7-64c3-442a-b8eb-8ef61b1e1568",
   "metadata": {},
   "outputs": [],
   "source": [
    "msg = f'There are {len(duplicate_rec_count)} duplicate rows'"
   ]
  },
  {
   "cell_type": "code",
   "execution_count": 628,
   "id": "8124ec20-c5c0-4d7c-a68d-8b0d51a411f2",
   "metadata": {},
   "outputs": [
    {
     "name": "stdout",
     "output_type": "stream",
     "text": [
      "There are 0 duplicate rows\n"
     ]
    }
   ],
   "source": [
    "print(msg)"
   ]
  },
  {
   "cell_type": "markdown",
   "id": "efa65c13-c544-42c6-be1e-eec34f8f063f",
   "metadata": {},
   "source": [
    "#### Check for missing data"
   ]
  },
  {
   "cell_type": "code",
   "execution_count": 629,
   "id": "897abf77-e280-444d-83c0-fbdeb454ba70",
   "metadata": {},
   "outputs": [],
   "source": [
    "def report_missing_data(col_name):\n",
    "    '''\n",
    "    Description: Check if col_name parameter is missing any values\n",
    "    \n",
    "    args: col_name - name of dataframe column\n",
    "    \n",
    "    returns: column name if missing values. Otherwise return None\n",
    "    '''\n",
    "    \n",
    "    num_missing = le_2015[col_name].isnull().sum()\n",
    "    msg = f'{col_name} has {num_missing} missing values'\n",
    "    \n",
    "    if (num_missing > 0):\n",
    "        print(msg)\n",
    "        return col_name\n",
    "        \n",
    "    return None"
   ]
  },
  {
   "cell_type": "code",
   "execution_count": 633,
   "id": "b28b2740-0cb4-4e1b-bcc9-1c94214fca81",
   "metadata": {},
   "outputs": [],
   "source": [
    "column_names = ['country', 'year', 'status', 'life_expectancy', 'adult_mortality',\n",
    "       'infant_deaths', 'alcohol', 'percentage_expenditure', 'hepatitis_b',\n",
    "       'measles', 'bmi', 'under_five_deaths', 'polio', 'total_expenditure',\n",
    "       'diphtheria', 'hiv_aids', 'gdp', 'population', 'thinness_1_19_years',\n",
    "       'thinness_5_9_years', 'income_composition_of_resources', 'schooling']"
   ]
  },
  {
   "cell_type": "code",
   "execution_count": 634,
   "id": "198edf46-15db-49c7-a6c8-bcede868c0a6",
   "metadata": {},
   "outputs": [],
   "source": [
    "missing_col_names = []"
   ]
  },
  {
   "cell_type": "code",
   "execution_count": 635,
   "id": "b5cfd69f-d54c-43f6-b7fc-8f2ec0c13515",
   "metadata": {},
   "outputs": [
    {
     "name": "stdout",
     "output_type": "stream",
     "text": [
      "alcohol has 177 missing values\n",
      "hepatitis_b has 9 missing values\n",
      "bmi has 2 missing values\n",
      "total_expenditure has 181 missing values\n",
      "gdp has 29 missing values\n",
      "population has 41 missing values\n",
      "thinness_1_19_years has 2 missing values\n",
      "thinness_5_9_years has 2 missing values\n",
      "income_composition_of_resources has 10 missing values\n",
      "schooling has 10 missing values\n"
     ]
    }
   ],
   "source": [
    "for c in column_names:\n",
    "    col_ret = report_missing_data(c)\n",
    "    \n",
    "    if col_ret != None:\n",
    "        missing_col_names.append(c)"
   ]
  },
  {
   "cell_type": "code",
   "execution_count": 636,
   "id": "648f374e-ff14-418f-883f-b44efe57b9b0",
   "metadata": {},
   "outputs": [
    {
     "data": {
      "text/plain": [
       "['alcohol',\n",
       " 'hepatitis_b',\n",
       " 'bmi',\n",
       " 'total_expenditure',\n",
       " 'gdp',\n",
       " 'population',\n",
       " 'thinness_1_19_years',\n",
       " 'thinness_5_9_years',\n",
       " 'income_composition_of_resources',\n",
       " 'schooling']"
      ]
     },
     "execution_count": 636,
     "metadata": {},
     "output_type": "execute_result"
    }
   ],
   "source": [
    "missing_col_names"
   ]
  },
  {
   "cell_type": "code",
   "execution_count": 637,
   "id": "0303db2c-66fc-444d-9a7c-064bb597641e",
   "metadata": {},
   "outputs": [],
   "source": [
    "# drop 'alcohol' and 'total_expenditure' feature since columns are mostly empty\n",
    "cols_to_drop = ['alcohol','total_expenditure']"
   ]
  },
  {
   "cell_type": "code",
   "execution_count": 638,
   "id": "8b1d173c-7e4e-4835-a17e-1d37be493cb5",
   "metadata": {},
   "outputs": [],
   "source": [
    "le_2015.drop(cols_to_drop, axis=1, inplace=True)"
   ]
  },
  {
   "cell_type": "code",
   "execution_count": 639,
   "id": "32eee96a-e50f-4fee-817b-c5b28d105a5a",
   "metadata": {},
   "outputs": [
    {
     "data": {
      "text/plain": [
       "Index(['country', 'year', 'status', 'life_expectancy', 'adult_mortality',\n",
       "       'infant_deaths', 'percentage_expenditure', 'hepatitis_b', 'measles',\n",
       "       'bmi', 'under_five_deaths', 'polio', 'diphtheria', 'hiv_aids', 'gdp',\n",
       "       'population', 'thinness_1_19_years', 'thinness_5_9_years',\n",
       "       'income_composition_of_resources', 'schooling'],\n",
       "      dtype='object')"
      ]
     },
     "execution_count": 639,
     "metadata": {},
     "output_type": "execute_result"
    }
   ],
   "source": [
    "le_2015.columns"
   ]
  },
  {
   "cell_type": "code",
   "execution_count": 640,
   "id": "4acac333-9df3-4326-b3c5-e109b00ac0c6",
   "metadata": {},
   "outputs": [],
   "source": [
    "missing_col_names_new = [c for c in missing_col_names if c not in cols_to_drop]"
   ]
  },
  {
   "cell_type": "code",
   "execution_count": 641,
   "id": "f0f37ee9-a391-4f0b-a945-bf605446a4bd",
   "metadata": {},
   "outputs": [
    {
     "data": {
      "text/plain": [
       "['hepatitis_b',\n",
       " 'bmi',\n",
       " 'gdp',\n",
       " 'population',\n",
       " 'thinness_1_19_years',\n",
       " 'thinness_5_9_years',\n",
       " 'income_composition_of_resources',\n",
       " 'schooling']"
      ]
     },
     "execution_count": 641,
     "metadata": {},
     "output_type": "execute_result"
    }
   ],
   "source": [
    "missing_col_names_new"
   ]
  },
  {
   "cell_type": "code",
   "execution_count": 642,
   "id": "3fde7d67-4759-4886-872d-196e59c731d1",
   "metadata": {},
   "outputs": [
    {
     "data": {
      "text/plain": [
       "hepatitis_b                         9\n",
       "bmi                                 2\n",
       "gdp                                29\n",
       "population                         41\n",
       "thinness_1_19_years                 2\n",
       "thinness_5_9_years                  2\n",
       "income_composition_of_resources    10\n",
       "schooling                          10\n",
       "dtype: int64"
      ]
     },
     "execution_count": 642,
     "metadata": {},
     "output_type": "execute_result"
    }
   ],
   "source": [
    "le_2015[missing_col_names_new].isnull().sum()"
   ]
  },
  {
   "cell_type": "markdown",
   "id": "f39e6b81-5126-480a-ba86-616d81c64cfe",
   "metadata": {},
   "source": [
    "#### Calculate means for missing columns by Country"
   ]
  },
  {
   "cell_type": "code",
   "execution_count": 643,
   "id": "1f917d75-8029-4bc8-abf7-2b508977b8b0",
   "metadata": {},
   "outputs": [],
   "source": [
    "new_df = life_exp_df_copy[missing_col_names_new].fillna(0)"
   ]
  },
  {
   "cell_type": "code",
   "execution_count": 644,
   "id": "ec0bb454-34ed-402e-8474-671b6bf73687",
   "metadata": {},
   "outputs": [
    {
     "name": "stdout",
     "output_type": "stream",
     "text": [
      "<class 'pandas.core.frame.DataFrame'>\n",
      "Index: 2938 entries, Afghanistan to Zimbabwe\n",
      "Data columns (total 8 columns):\n",
      " #   Column                           Non-Null Count  Dtype  \n",
      "---  ------                           --------------  -----  \n",
      " 0   hepatitis_b                      2938 non-null   float64\n",
      " 1   bmi                              2938 non-null   float64\n",
      " 2   gdp                              2938 non-null   float64\n",
      " 3   population                       2938 non-null   float64\n",
      " 4   thinness_1_19_years              2938 non-null   float64\n",
      " 5   thinness_5_9_years               2938 non-null   float64\n",
      " 6   income_composition_of_resources  2938 non-null   float64\n",
      " 7   schooling                        2938 non-null   float64\n",
      "dtypes: float64(8)\n",
      "memory usage: 206.6+ KB\n"
     ]
    }
   ],
   "source": [
    "new_df.info()"
   ]
  },
  {
   "cell_type": "code",
   "execution_count": 645,
   "id": "cba9dcf5-178c-45d1-8afd-e62691926178",
   "metadata": {},
   "outputs": [],
   "source": [
    "# Calculate column means by country\n",
    "le_country_means = new_df.groupby('country')[missing_col_names_new].mean()"
   ]
  },
  {
   "cell_type": "code",
   "execution_count": 646,
   "id": "92531157-edd0-4f2d-8153-ce11262e6e97",
   "metadata": {},
   "outputs": [
    {
     "name": "stdout",
     "output_type": "stream",
     "text": [
      "<class 'pandas.core.frame.DataFrame'>\n",
      "Index: 193 entries, Afghanistan to Zimbabwe\n",
      "Data columns (total 8 columns):\n",
      " #   Column                           Non-Null Count  Dtype  \n",
      "---  ------                           --------------  -----  \n",
      " 0   hepatitis_b                      193 non-null    float64\n",
      " 1   bmi                              193 non-null    float64\n",
      " 2   gdp                              193 non-null    float64\n",
      " 3   population                       193 non-null    float64\n",
      " 4   thinness_1_19_years              193 non-null    float64\n",
      " 5   thinness_5_9_years               193 non-null    float64\n",
      " 6   income_composition_of_resources  193 non-null    float64\n",
      " 7   schooling                        193 non-null    float64\n",
      "dtypes: float64(8)\n",
      "memory usage: 13.6+ KB\n"
     ]
    }
   ],
   "source": [
    "le_country_means.info()"
   ]
  },
  {
   "cell_type": "code",
   "execution_count": 647,
   "id": "3fe766be-eda0-4bd8-8075-62737cb73899",
   "metadata": {},
   "outputs": [
    {
     "data": {
      "text/html": [
       "<div>\n",
       "<style scoped>\n",
       "    .dataframe tbody tr th:only-of-type {\n",
       "        vertical-align: middle;\n",
       "    }\n",
       "\n",
       "    .dataframe tbody tr th {\n",
       "        vertical-align: top;\n",
       "    }\n",
       "\n",
       "    .dataframe thead th {\n",
       "        text-align: right;\n",
       "    }\n",
       "</style>\n",
       "<table border=\"1\" class=\"dataframe\">\n",
       "  <thead>\n",
       "    <tr style=\"text-align: right;\">\n",
       "      <th></th>\n",
       "      <th>hepatitis_b</th>\n",
       "      <th>bmi</th>\n",
       "      <th>gdp</th>\n",
       "      <th>population</th>\n",
       "      <th>thinness_1_19_years</th>\n",
       "      <th>thinness_5_9_years</th>\n",
       "      <th>income_composition_of_resources</th>\n",
       "      <th>schooling</th>\n",
       "    </tr>\n",
       "    <tr>\n",
       "      <th>country</th>\n",
       "      <th></th>\n",
       "      <th></th>\n",
       "      <th></th>\n",
       "      <th></th>\n",
       "      <th></th>\n",
       "      <th></th>\n",
       "      <th></th>\n",
       "      <th></th>\n",
       "    </tr>\n",
       "  </thead>\n",
       "  <tbody>\n",
       "    <tr>\n",
       "      <th>Afghanistan</th>\n",
       "      <td>64.5625</td>\n",
       "      <td>15.51875</td>\n",
       "      <td>340.015425</td>\n",
       "      <td>9.972260e+06</td>\n",
       "      <td>16.58125</td>\n",
       "      <td>15.58125</td>\n",
       "      <td>0.415375</td>\n",
       "      <td>8.21250</td>\n",
       "    </tr>\n",
       "    <tr>\n",
       "      <th>Albania</th>\n",
       "      <td>98.0000</td>\n",
       "      <td>49.06875</td>\n",
       "      <td>2119.726679</td>\n",
       "      <td>6.969116e+05</td>\n",
       "      <td>1.61875</td>\n",
       "      <td>1.70000</td>\n",
       "      <td>0.709875</td>\n",
       "      <td>12.13750</td>\n",
       "    </tr>\n",
       "    <tr>\n",
       "      <th>Algeria</th>\n",
       "      <td>58.5000</td>\n",
       "      <td>48.74375</td>\n",
       "      <td>2847.853392</td>\n",
       "      <td>2.164983e+07</td>\n",
       "      <td>6.09375</td>\n",
       "      <td>5.97500</td>\n",
       "      <td>0.694875</td>\n",
       "      <td>12.71250</td>\n",
       "    </tr>\n",
       "    <tr>\n",
       "      <th>Angola</th>\n",
       "      <td>39.5000</td>\n",
       "      <td>18.01875</td>\n",
       "      <td>1975.143045</td>\n",
       "      <td>1.014710e+07</td>\n",
       "      <td>6.19375</td>\n",
       "      <td>6.66875</td>\n",
       "      <td>0.458375</td>\n",
       "      <td>8.04375</td>\n",
       "    </tr>\n",
       "    <tr>\n",
       "      <th>Antigua and Barbuda</th>\n",
       "      <td>92.1250</td>\n",
       "      <td>38.42500</td>\n",
       "      <td>9759.305728</td>\n",
       "      <td>0.000000e+00</td>\n",
       "      <td>3.42500</td>\n",
       "      <td>3.37500</td>\n",
       "      <td>0.488625</td>\n",
       "      <td>8.84375</td>\n",
       "    </tr>\n",
       "    <tr>\n",
       "      <th>Argentina</th>\n",
       "      <td>71.1250</td>\n",
       "      <td>54.98125</td>\n",
       "      <td>6998.575103</td>\n",
       "      <td>2.012120e+07</td>\n",
       "      <td>1.07500</td>\n",
       "      <td>0.95000</td>\n",
       "      <td>0.794125</td>\n",
       "      <td>16.50625</td>\n",
       "    </tr>\n",
       "    <tr>\n",
       "      <th>Armenia</th>\n",
       "      <td>87.5625</td>\n",
       "      <td>44.70625</td>\n",
       "      <td>1999.986318</td>\n",
       "      <td>1.015165e+06</td>\n",
       "      <td>2.03750</td>\n",
       "      <td>2.11250</td>\n",
       "      <td>0.698375</td>\n",
       "      <td>11.78750</td>\n",
       "    </tr>\n",
       "    <tr>\n",
       "      <th>Australia</th>\n",
       "      <td>87.5625</td>\n",
       "      <td>55.86250</td>\n",
       "      <td>34637.565047</td>\n",
       "      <td>4.587010e+06</td>\n",
       "      <td>0.66875</td>\n",
       "      <td>0.62500</td>\n",
       "      <td>0.918125</td>\n",
       "      <td>20.03750</td>\n",
       "    </tr>\n",
       "    <tr>\n",
       "      <th>Austria</th>\n",
       "      <td>81.0625</td>\n",
       "      <td>48.28750</td>\n",
       "      <td>33827.476309</td>\n",
       "      <td>6.474880e+06</td>\n",
       "      <td>1.73125</td>\n",
       "      <td>1.93750</td>\n",
       "      <td>0.862375</td>\n",
       "      <td>15.38750</td>\n",
       "    </tr>\n",
       "    <tr>\n",
       "      <th>Azerbaijan</th>\n",
       "      <td>51.8125</td>\n",
       "      <td>43.84375</td>\n",
       "      <td>3302.947807</td>\n",
       "      <td>2.157370e+06</td>\n",
       "      <td>2.90000</td>\n",
       "      <td>2.94375</td>\n",
       "      <td>0.702688</td>\n",
       "      <td>11.35000</td>\n",
       "    </tr>\n",
       "    <tr>\n",
       "      <th>Bahamas</th>\n",
       "      <td>78.3750</td>\n",
       "      <td>52.88125</td>\n",
       "      <td>0.000000</td>\n",
       "      <td>0.000000e+00</td>\n",
       "      <td>2.55000</td>\n",
       "      <td>2.51875</td>\n",
       "      <td>0.737938</td>\n",
       "      <td>12.42500</td>\n",
       "    </tr>\n",
       "    <tr>\n",
       "      <th>Bahrain</th>\n",
       "      <td>98.1250</td>\n",
       "      <td>51.65625</td>\n",
       "      <td>11191.247421</td>\n",
       "      <td>0.000000e+00</td>\n",
       "      <td>6.10625</td>\n",
       "      <td>5.95000</td>\n",
       "      <td>0.807937</td>\n",
       "      <td>14.11250</td>\n",
       "    </tr>\n",
       "  </tbody>\n",
       "</table>\n",
       "</div>"
      ],
      "text/plain": [
       "                     hepatitis_b       bmi           gdp    population  \\\n",
       "country                                                                  \n",
       "Afghanistan              64.5625  15.51875    340.015425  9.972260e+06   \n",
       "Albania                  98.0000  49.06875   2119.726679  6.969116e+05   \n",
       "Algeria                  58.5000  48.74375   2847.853392  2.164983e+07   \n",
       "Angola                   39.5000  18.01875   1975.143045  1.014710e+07   \n",
       "Antigua and Barbuda      92.1250  38.42500   9759.305728  0.000000e+00   \n",
       "Argentina                71.1250  54.98125   6998.575103  2.012120e+07   \n",
       "Armenia                  87.5625  44.70625   1999.986318  1.015165e+06   \n",
       "Australia                87.5625  55.86250  34637.565047  4.587010e+06   \n",
       "Austria                  81.0625  48.28750  33827.476309  6.474880e+06   \n",
       "Azerbaijan               51.8125  43.84375   3302.947807  2.157370e+06   \n",
       "Bahamas                  78.3750  52.88125      0.000000  0.000000e+00   \n",
       "Bahrain                  98.1250  51.65625  11191.247421  0.000000e+00   \n",
       "\n",
       "                     thinness_1_19_years  thinness_5_9_years  \\\n",
       "country                                                        \n",
       "Afghanistan                     16.58125            15.58125   \n",
       "Albania                          1.61875             1.70000   \n",
       "Algeria                          6.09375             5.97500   \n",
       "Angola                           6.19375             6.66875   \n",
       "Antigua and Barbuda              3.42500             3.37500   \n",
       "Argentina                        1.07500             0.95000   \n",
       "Armenia                          2.03750             2.11250   \n",
       "Australia                        0.66875             0.62500   \n",
       "Austria                          1.73125             1.93750   \n",
       "Azerbaijan                       2.90000             2.94375   \n",
       "Bahamas                          2.55000             2.51875   \n",
       "Bahrain                          6.10625             5.95000   \n",
       "\n",
       "                     income_composition_of_resources  schooling  \n",
       "country                                                          \n",
       "Afghanistan                                 0.415375    8.21250  \n",
       "Albania                                     0.709875   12.13750  \n",
       "Algeria                                     0.694875   12.71250  \n",
       "Angola                                      0.458375    8.04375  \n",
       "Antigua and Barbuda                         0.488625    8.84375  \n",
       "Argentina                                   0.794125   16.50625  \n",
       "Armenia                                     0.698375   11.78750  \n",
       "Australia                                   0.918125   20.03750  \n",
       "Austria                                     0.862375   15.38750  \n",
       "Azerbaijan                                  0.702688   11.35000  \n",
       "Bahamas                                     0.737938   12.42500  \n",
       "Bahrain                                     0.807937   14.11250  "
      ]
     },
     "execution_count": 647,
     "metadata": {},
     "output_type": "execute_result"
    }
   ],
   "source": [
    "le_country_means.head(12)"
   ]
  },
  {
   "cell_type": "markdown",
   "id": "4765e540-c0fb-4402-8564-9680754bd489",
   "metadata": {},
   "source": [
    "#### Impute missing values"
   ]
  },
  {
   "cell_type": "markdown",
   "id": "60184d6e-bc4e-4488-8339-d36f3e00bf89",
   "metadata": {},
   "source": [
    "> Fill missing values with the mean values calculated by country"
   ]
  },
  {
   "cell_type": "code",
   "execution_count": 648,
   "id": "1b1b93b8-f014-4cd7-be58-5994a3ea3e86",
   "metadata": {},
   "outputs": [],
   "source": [
    "le_2015.set_index('country', inplace=True)"
   ]
  },
  {
   "cell_type": "code",
   "execution_count": 649,
   "id": "cca35d86-879d-4ccd-af49-6d0424477638",
   "metadata": {},
   "outputs": [
    {
     "name": "stdout",
     "output_type": "stream",
     "text": [
      "<class 'pandas.core.frame.DataFrame'>\n",
      "Index: 183 entries, Afghanistan to Zimbabwe\n",
      "Data columns (total 19 columns):\n",
      " #   Column                           Non-Null Count  Dtype  \n",
      "---  ------                           --------------  -----  \n",
      " 0   year                             183 non-null    int64  \n",
      " 1   status                           183 non-null    object \n",
      " 2   life_expectancy                  183 non-null    float64\n",
      " 3   adult_mortality                  183 non-null    float64\n",
      " 4   infant_deaths                    183 non-null    int64  \n",
      " 5   percentage_expenditure           183 non-null    float64\n",
      " 6   hepatitis_b                      174 non-null    float64\n",
      " 7   measles                          183 non-null    int64  \n",
      " 8   bmi                              181 non-null    float64\n",
      " 9   under_five_deaths                183 non-null    int64  \n",
      " 10  polio                            183 non-null    float64\n",
      " 11  diphtheria                       183 non-null    float64\n",
      " 12  hiv_aids                         183 non-null    float64\n",
      " 13  gdp                              154 non-null    float64\n",
      " 14  population                       142 non-null    float64\n",
      " 15  thinness_1_19_years              181 non-null    float64\n",
      " 16  thinness_5_9_years               181 non-null    float64\n",
      " 17  income_composition_of_resources  173 non-null    float64\n",
      " 18  schooling                        173 non-null    float64\n",
      "dtypes: float64(14), int64(4), object(1)\n",
      "memory usage: 28.6+ KB\n"
     ]
    }
   ],
   "source": [
    "le_2015.info()"
   ]
  },
  {
   "cell_type": "code",
   "execution_count": 650,
   "id": "100270ec-47ea-4974-8a95-31338eb8c61e",
   "metadata": {},
   "outputs": [],
   "source": [
    "def impute_missing_values(col_name):\n",
    "    '''\n",
    "    Description: fill missing values for col_name argument to mean of col_name\n",
    "    \n",
    "    args: col_name - data frame column name\n",
    "    '''\n",
    "    le_2015[col_name].fillna(le_country_means[col_name], inplace=True)\n",
    "    "
   ]
  },
  {
   "cell_type": "code",
   "execution_count": 651,
   "id": "a90045e7-ca11-4381-85ab-d53408a60aaf",
   "metadata": {},
   "outputs": [],
   "source": [
    "for mc in missing_col_names_new:\n",
    "    impute_missing_values(mc)"
   ]
  },
  {
   "cell_type": "code",
   "execution_count": 652,
   "id": "33280582-f8b2-4e99-83a6-9547254eb6ce",
   "metadata": {},
   "outputs": [
    {
     "data": {
      "text/plain": [
       "year                               0\n",
       "status                             0\n",
       "life_expectancy                    0\n",
       "adult_mortality                    0\n",
       "infant_deaths                      0\n",
       "percentage_expenditure             0\n",
       "hepatitis_b                        0\n",
       "measles                            0\n",
       "bmi                                0\n",
       "under_five_deaths                  0\n",
       "polio                              0\n",
       "diphtheria                         0\n",
       "hiv_aids                           0\n",
       "gdp                                0\n",
       "population                         0\n",
       "thinness_1_19_years                0\n",
       "thinness_5_9_years                 0\n",
       "income_composition_of_resources    0\n",
       "schooling                          0\n",
       "dtype: int64"
      ]
     },
     "execution_count": 652,
     "metadata": {},
     "output_type": "execute_result"
    }
   ],
   "source": [
    "# final check for missing values\n",
    "le_2015.isnull().sum()"
   ]
  },
  {
   "cell_type": "code",
   "execution_count": 653,
   "id": "6e80d771-b695-42fb-ae9e-c6a21a076129",
   "metadata": {},
   "outputs": [
    {
     "data": {
      "text/html": [
       "<div>\n",
       "<style scoped>\n",
       "    .dataframe tbody tr th:only-of-type {\n",
       "        vertical-align: middle;\n",
       "    }\n",
       "\n",
       "    .dataframe tbody tr th {\n",
       "        vertical-align: top;\n",
       "    }\n",
       "\n",
       "    .dataframe thead th {\n",
       "        text-align: right;\n",
       "    }\n",
       "</style>\n",
       "<table border=\"1\" class=\"dataframe\">\n",
       "  <thead>\n",
       "    <tr style=\"text-align: right;\">\n",
       "      <th></th>\n",
       "      <th>year</th>\n",
       "      <th>status</th>\n",
       "      <th>life_expectancy</th>\n",
       "      <th>adult_mortality</th>\n",
       "      <th>infant_deaths</th>\n",
       "      <th>percentage_expenditure</th>\n",
       "      <th>hepatitis_b</th>\n",
       "      <th>measles</th>\n",
       "      <th>bmi</th>\n",
       "      <th>under_five_deaths</th>\n",
       "      <th>polio</th>\n",
       "      <th>diphtheria</th>\n",
       "      <th>hiv_aids</th>\n",
       "      <th>gdp</th>\n",
       "      <th>population</th>\n",
       "      <th>thinness_1_19_years</th>\n",
       "      <th>thinness_5_9_years</th>\n",
       "      <th>income_composition_of_resources</th>\n",
       "      <th>schooling</th>\n",
       "    </tr>\n",
       "    <tr>\n",
       "      <th>country</th>\n",
       "      <th></th>\n",
       "      <th></th>\n",
       "      <th></th>\n",
       "      <th></th>\n",
       "      <th></th>\n",
       "      <th></th>\n",
       "      <th></th>\n",
       "      <th></th>\n",
       "      <th></th>\n",
       "      <th></th>\n",
       "      <th></th>\n",
       "      <th></th>\n",
       "      <th></th>\n",
       "      <th></th>\n",
       "      <th></th>\n",
       "      <th></th>\n",
       "      <th></th>\n",
       "      <th></th>\n",
       "      <th></th>\n",
       "    </tr>\n",
       "  </thead>\n",
       "  <tbody>\n",
       "    <tr>\n",
       "      <th>Dominican Republic</th>\n",
       "      <td>2015</td>\n",
       "      <td>Developing</td>\n",
       "      <td>73.9</td>\n",
       "      <td>152.0</td>\n",
       "      <td>6</td>\n",
       "      <td>0.0</td>\n",
       "      <td>81.0</td>\n",
       "      <td>0</td>\n",
       "      <td>58.9</td>\n",
       "      <td>7</td>\n",
       "      <td>87.0</td>\n",
       "      <td>85.0</td>\n",
       "      <td>0.3</td>\n",
       "      <td>6468.471648</td>\n",
       "      <td>1528394.0</td>\n",
       "      <td>3.3</td>\n",
       "      <td>3.2</td>\n",
       "      <td>0.718</td>\n",
       "      <td>13.2</td>\n",
       "    </tr>\n",
       "    <tr>\n",
       "      <th>Republic of Korea</th>\n",
       "      <td>2015</td>\n",
       "      <td>Developing</td>\n",
       "      <td>82.3</td>\n",
       "      <td>64.0</td>\n",
       "      <td>1</td>\n",
       "      <td>0.0</td>\n",
       "      <td>98.0</td>\n",
       "      <td>7</td>\n",
       "      <td>31.7</td>\n",
       "      <td>2</td>\n",
       "      <td>98.0</td>\n",
       "      <td>98.0</td>\n",
       "      <td>0.1</td>\n",
       "      <td>0.000000</td>\n",
       "      <td>0.0</td>\n",
       "      <td>1.5</td>\n",
       "      <td>1.0</td>\n",
       "      <td>0.000</td>\n",
       "      <td>0.0</td>\n",
       "    </tr>\n",
       "    <tr>\n",
       "      <th>Seychelles</th>\n",
       "      <td>2015</td>\n",
       "      <td>Developing</td>\n",
       "      <td>73.2</td>\n",
       "      <td>168.0</td>\n",
       "      <td>0</td>\n",
       "      <td>0.0</td>\n",
       "      <td>98.0</td>\n",
       "      <td>0</td>\n",
       "      <td>37.4</td>\n",
       "      <td>0</td>\n",
       "      <td>97.0</td>\n",
       "      <td>97.0</td>\n",
       "      <td>0.1</td>\n",
       "      <td>1539.464000</td>\n",
       "      <td>93419.0</td>\n",
       "      <td>5.7</td>\n",
       "      <td>6.0</td>\n",
       "      <td>0.781</td>\n",
       "      <td>14.1</td>\n",
       "    </tr>\n",
       "    <tr>\n",
       "      <th>Namibia</th>\n",
       "      <td>2015</td>\n",
       "      <td>Developing</td>\n",
       "      <td>65.8</td>\n",
       "      <td>248.0</td>\n",
       "      <td>2</td>\n",
       "      <td>0.0</td>\n",
       "      <td>92.0</td>\n",
       "      <td>212</td>\n",
       "      <td>35.7</td>\n",
       "      <td>3</td>\n",
       "      <td>92.0</td>\n",
       "      <td>92.0</td>\n",
       "      <td>2.1</td>\n",
       "      <td>4737.669960</td>\n",
       "      <td>2425561.0</td>\n",
       "      <td>8.2</td>\n",
       "      <td>8.1</td>\n",
       "      <td>0.637</td>\n",
       "      <td>11.7</td>\n",
       "    </tr>\n",
       "    <tr>\n",
       "      <th>Ukraine</th>\n",
       "      <td>2015</td>\n",
       "      <td>Developing</td>\n",
       "      <td>71.3</td>\n",
       "      <td>195.0</td>\n",
       "      <td>4</td>\n",
       "      <td>0.0</td>\n",
       "      <td>22.0</td>\n",
       "      <td>105</td>\n",
       "      <td>61.3</td>\n",
       "      <td>5</td>\n",
       "      <td>51.0</td>\n",
       "      <td>23.0</td>\n",
       "      <td>0.2</td>\n",
       "      <td>2124.662666</td>\n",
       "      <td>4515429.0</td>\n",
       "      <td>2.3</td>\n",
       "      <td>2.4</td>\n",
       "      <td>0.748</td>\n",
       "      <td>15.3</td>\n",
       "    </tr>\n",
       "    <tr>\n",
       "      <th>Bulgaria</th>\n",
       "      <td>2015</td>\n",
       "      <td>Developed</td>\n",
       "      <td>74.5</td>\n",
       "      <td>137.0</td>\n",
       "      <td>0</td>\n",
       "      <td>0.0</td>\n",
       "      <td>92.0</td>\n",
       "      <td>0</td>\n",
       "      <td>65.7</td>\n",
       "      <td>1</td>\n",
       "      <td>91.0</td>\n",
       "      <td>91.0</td>\n",
       "      <td>0.1</td>\n",
       "      <td>6993.477360</td>\n",
       "      <td>7177991.0</td>\n",
       "      <td>1.9</td>\n",
       "      <td>1.8</td>\n",
       "      <td>0.792</td>\n",
       "      <td>15.0</td>\n",
       "    </tr>\n",
       "    <tr>\n",
       "      <th>Chile</th>\n",
       "      <td>2015</td>\n",
       "      <td>Developing</td>\n",
       "      <td>85.0</td>\n",
       "      <td>82.0</td>\n",
       "      <td>2</td>\n",
       "      <td>0.0</td>\n",
       "      <td>97.0</td>\n",
       "      <td>9</td>\n",
       "      <td>63.8</td>\n",
       "      <td>2</td>\n",
       "      <td>96.0</td>\n",
       "      <td>96.0</td>\n",
       "      <td>0.1</td>\n",
       "      <td>13653.226400</td>\n",
       "      <td>17762681.0</td>\n",
       "      <td>0.8</td>\n",
       "      <td>0.8</td>\n",
       "      <td>0.845</td>\n",
       "      <td>16.3</td>\n",
       "    </tr>\n",
       "    <tr>\n",
       "      <th>Croatia</th>\n",
       "      <td>2015</td>\n",
       "      <td>Developed</td>\n",
       "      <td>78.0</td>\n",
       "      <td>95.0</td>\n",
       "      <td>0</td>\n",
       "      <td>0.0</td>\n",
       "      <td>94.0</td>\n",
       "      <td>206</td>\n",
       "      <td>63.7</td>\n",
       "      <td>0</td>\n",
       "      <td>94.0</td>\n",
       "      <td>94.0</td>\n",
       "      <td>0.1</td>\n",
       "      <td>11579.667400</td>\n",
       "      <td>42364.0</td>\n",
       "      <td>1.5</td>\n",
       "      <td>1.4</td>\n",
       "      <td>0.823</td>\n",
       "      <td>15.3</td>\n",
       "    </tr>\n",
       "    <tr>\n",
       "      <th>Oman</th>\n",
       "      <td>2015</td>\n",
       "      <td>Developing</td>\n",
       "      <td>76.6</td>\n",
       "      <td>99.0</td>\n",
       "      <td>1</td>\n",
       "      <td>0.0</td>\n",
       "      <td>99.0</td>\n",
       "      <td>0</td>\n",
       "      <td>54.6</td>\n",
       "      <td>1</td>\n",
       "      <td>99.0</td>\n",
       "      <td>99.0</td>\n",
       "      <td>0.1</td>\n",
       "      <td>16627.364330</td>\n",
       "      <td>0.0</td>\n",
       "      <td>7.1</td>\n",
       "      <td>6.9</td>\n",
       "      <td>0.795</td>\n",
       "      <td>13.7</td>\n",
       "    </tr>\n",
       "    <tr>\n",
       "      <th>Libya</th>\n",
       "      <td>2015</td>\n",
       "      <td>Developing</td>\n",
       "      <td>72.7</td>\n",
       "      <td>138.0</td>\n",
       "      <td>1</td>\n",
       "      <td>0.0</td>\n",
       "      <td>97.0</td>\n",
       "      <td>82</td>\n",
       "      <td>64.8</td>\n",
       "      <td>2</td>\n",
       "      <td>97.0</td>\n",
       "      <td>97.0</td>\n",
       "      <td>0.1</td>\n",
       "      <td>3448.621482</td>\n",
       "      <td>0.0</td>\n",
       "      <td>5.8</td>\n",
       "      <td>5.5</td>\n",
       "      <td>0.719</td>\n",
       "      <td>13.4</td>\n",
       "    </tr>\n",
       "    <tr>\n",
       "      <th>Bolivia (Plurinational State of)</th>\n",
       "      <td>2015</td>\n",
       "      <td>Developing</td>\n",
       "      <td>77.0</td>\n",
       "      <td>186.0</td>\n",
       "      <td>8</td>\n",
       "      <td>0.0</td>\n",
       "      <td>99.0</td>\n",
       "      <td>0</td>\n",
       "      <td>52.6</td>\n",
       "      <td>10</td>\n",
       "      <td>99.0</td>\n",
       "      <td>99.0</td>\n",
       "      <td>0.1</td>\n",
       "      <td>0.000000</td>\n",
       "      <td>0.0</td>\n",
       "      <td>1.2</td>\n",
       "      <td>1.1</td>\n",
       "      <td>0.671</td>\n",
       "      <td>13.8</td>\n",
       "    </tr>\n",
       "    <tr>\n",
       "      <th>Mauritania</th>\n",
       "      <td>2015</td>\n",
       "      <td>Developing</td>\n",
       "      <td>63.1</td>\n",
       "      <td>25.0</td>\n",
       "      <td>8</td>\n",
       "      <td>0.0</td>\n",
       "      <td>73.0</td>\n",
       "      <td>1</td>\n",
       "      <td>3.8</td>\n",
       "      <td>12</td>\n",
       "      <td>67.0</td>\n",
       "      <td>73.0</td>\n",
       "      <td>0.9</td>\n",
       "      <td>1158.256469</td>\n",
       "      <td>4182341.0</td>\n",
       "      <td>7.8</td>\n",
       "      <td>7.5</td>\n",
       "      <td>0.513</td>\n",
       "      <td>8.5</td>\n",
       "    </tr>\n",
       "  </tbody>\n",
       "</table>\n",
       "</div>"
      ],
      "text/plain": [
       "                                  year      status  life_expectancy  \\\n",
       "country                                                               \n",
       "Dominican Republic                2015  Developing             73.9   \n",
       "Republic of Korea                 2015  Developing             82.3   \n",
       "Seychelles                        2015  Developing             73.2   \n",
       "Namibia                           2015  Developing             65.8   \n",
       "Ukraine                           2015  Developing             71.3   \n",
       "Bulgaria                          2015   Developed             74.5   \n",
       "Chile                             2015  Developing             85.0   \n",
       "Croatia                           2015   Developed             78.0   \n",
       "Oman                              2015  Developing             76.6   \n",
       "Libya                             2015  Developing             72.7   \n",
       "Bolivia (Plurinational State of)  2015  Developing             77.0   \n",
       "Mauritania                        2015  Developing             63.1   \n",
       "\n",
       "                                  adult_mortality  infant_deaths  \\\n",
       "country                                                            \n",
       "Dominican Republic                          152.0              6   \n",
       "Republic of Korea                            64.0              1   \n",
       "Seychelles                                  168.0              0   \n",
       "Namibia                                     248.0              2   \n",
       "Ukraine                                     195.0              4   \n",
       "Bulgaria                                    137.0              0   \n",
       "Chile                                        82.0              2   \n",
       "Croatia                                      95.0              0   \n",
       "Oman                                         99.0              1   \n",
       "Libya                                       138.0              1   \n",
       "Bolivia (Plurinational State of)            186.0              8   \n",
       "Mauritania                                   25.0              8   \n",
       "\n",
       "                                  percentage_expenditure  hepatitis_b  \\\n",
       "country                                                                 \n",
       "Dominican Republic                                   0.0         81.0   \n",
       "Republic of Korea                                    0.0         98.0   \n",
       "Seychelles                                           0.0         98.0   \n",
       "Namibia                                              0.0         92.0   \n",
       "Ukraine                                              0.0         22.0   \n",
       "Bulgaria                                             0.0         92.0   \n",
       "Chile                                                0.0         97.0   \n",
       "Croatia                                              0.0         94.0   \n",
       "Oman                                                 0.0         99.0   \n",
       "Libya                                                0.0         97.0   \n",
       "Bolivia (Plurinational State of)                     0.0         99.0   \n",
       "Mauritania                                           0.0         73.0   \n",
       "\n",
       "                                  measles   bmi  under_five_deaths  polio  \\\n",
       "country                                                                     \n",
       "Dominican Republic                      0  58.9                  7   87.0   \n",
       "Republic of Korea                       7  31.7                  2   98.0   \n",
       "Seychelles                              0  37.4                  0   97.0   \n",
       "Namibia                               212  35.7                  3   92.0   \n",
       "Ukraine                               105  61.3                  5   51.0   \n",
       "Bulgaria                                0  65.7                  1   91.0   \n",
       "Chile                                   9  63.8                  2   96.0   \n",
       "Croatia                               206  63.7                  0   94.0   \n",
       "Oman                                    0  54.6                  1   99.0   \n",
       "Libya                                  82  64.8                  2   97.0   \n",
       "Bolivia (Plurinational State of)        0  52.6                 10   99.0   \n",
       "Mauritania                              1   3.8                 12   67.0   \n",
       "\n",
       "                                  diphtheria  hiv_aids           gdp  \\\n",
       "country                                                                \n",
       "Dominican Republic                      85.0       0.3   6468.471648   \n",
       "Republic of Korea                       98.0       0.1      0.000000   \n",
       "Seychelles                              97.0       0.1   1539.464000   \n",
       "Namibia                                 92.0       2.1   4737.669960   \n",
       "Ukraine                                 23.0       0.2   2124.662666   \n",
       "Bulgaria                                91.0       0.1   6993.477360   \n",
       "Chile                                   96.0       0.1  13653.226400   \n",
       "Croatia                                 94.0       0.1  11579.667400   \n",
       "Oman                                    99.0       0.1  16627.364330   \n",
       "Libya                                   97.0       0.1   3448.621482   \n",
       "Bolivia (Plurinational State of)        99.0       0.1      0.000000   \n",
       "Mauritania                              73.0       0.9   1158.256469   \n",
       "\n",
       "                                  population  thinness_1_19_years  \\\n",
       "country                                                             \n",
       "Dominican Republic                 1528394.0                  3.3   \n",
       "Republic of Korea                        0.0                  1.5   \n",
       "Seychelles                           93419.0                  5.7   \n",
       "Namibia                            2425561.0                  8.2   \n",
       "Ukraine                            4515429.0                  2.3   \n",
       "Bulgaria                           7177991.0                  1.9   \n",
       "Chile                             17762681.0                  0.8   \n",
       "Croatia                              42364.0                  1.5   \n",
       "Oman                                     0.0                  7.1   \n",
       "Libya                                    0.0                  5.8   \n",
       "Bolivia (Plurinational State of)         0.0                  1.2   \n",
       "Mauritania                         4182341.0                  7.8   \n",
       "\n",
       "                                  thinness_5_9_years  \\\n",
       "country                                                \n",
       "Dominican Republic                               3.2   \n",
       "Republic of Korea                                1.0   \n",
       "Seychelles                                       6.0   \n",
       "Namibia                                          8.1   \n",
       "Ukraine                                          2.4   \n",
       "Bulgaria                                         1.8   \n",
       "Chile                                            0.8   \n",
       "Croatia                                          1.4   \n",
       "Oman                                             6.9   \n",
       "Libya                                            5.5   \n",
       "Bolivia (Plurinational State of)                 1.1   \n",
       "Mauritania                                       7.5   \n",
       "\n",
       "                                  income_composition_of_resources  schooling  \n",
       "country                                                                       \n",
       "Dominican Republic                                          0.718       13.2  \n",
       "Republic of Korea                                           0.000        0.0  \n",
       "Seychelles                                                  0.781       14.1  \n",
       "Namibia                                                     0.637       11.7  \n",
       "Ukraine                                                     0.748       15.3  \n",
       "Bulgaria                                                    0.792       15.0  \n",
       "Chile                                                       0.845       16.3  \n",
       "Croatia                                                     0.823       15.3  \n",
       "Oman                                                        0.795       13.7  \n",
       "Libya                                                       0.719       13.4  \n",
       "Bolivia (Plurinational State of)                            0.671       13.8  \n",
       "Mauritania                                                  0.513        8.5  "
      ]
     },
     "execution_count": 653,
     "metadata": {},
     "output_type": "execute_result"
    }
   ],
   "source": [
    "le_2015.sample(12)"
   ]
  },
  {
   "cell_type": "code",
   "execution_count": 654,
   "id": "e4bf7d49-cdb1-43ca-983f-1c9c40e1bc5c",
   "metadata": {},
   "outputs": [],
   "source": [
    "# backup of life expectancy 2015 data\n",
    "le_2015.to_csv('data/le_2015.csv')"
   ]
  },
  {
   "cell_type": "markdown",
   "id": "b67631b6-ccf8-426e-aee2-27bad98ea6cd",
   "metadata": {},
   "source": [
    "### EDA (Exploratory Data Analysis)"
   ]
  },
  {
   "cell_type": "markdown",
   "id": "9a82544b-b64d-4346-b8f7-5521da78bbb6",
   "metadata": {},
   "source": [
    "#### Check for Outliers"
   ]
  },
  {
   "cell_type": "code",
   "execution_count": 655,
   "id": "51b4ff6c-ca36-4c5a-a647-ccbb5b69ad84",
   "metadata": {},
   "outputs": [
    {
     "data": {
      "text/plain": [
       "Index(['year', 'status', 'life_expectancy', 'adult_mortality', 'infant_deaths',\n",
       "       'percentage_expenditure', 'hepatitis_b', 'measles', 'bmi',\n",
       "       'under_five_deaths', 'polio', 'diphtheria', 'hiv_aids', 'gdp',\n",
       "       'population', 'thinness_1_19_years', 'thinness_5_9_years',\n",
       "       'income_composition_of_resources', 'schooling'],\n",
       "      dtype='object')"
      ]
     },
     "execution_count": 655,
     "metadata": {},
     "output_type": "execute_result"
    }
   ],
   "source": [
    "le_2015.columns"
   ]
  },
  {
   "cell_type": "code",
   "execution_count": 656,
   "id": "aea3f1f1-1c09-4a1a-96ef-b640c1a7c93d",
   "metadata": {},
   "outputs": [
    {
     "data": {
      "image/png": "[encoded data removed]",
      "text/plain": [
       "<Figure size 1440x288 with 5 Axes>"
      ]
     },
     "metadata": {},
     "output_type": "display_data"
    }
   ],
   "source": [
    "fig, axes = plt.subplots(1, 5, figsize=(20, 4))\n",
    "\n",
    "for column_name, ax in zip(['percentage_expenditure',\n",
    "                            'hepatitis_b',\n",
    "                            'measles',\n",
    "                            'bmi',\n",
    "                            'under_five_deaths'], axes):\n",
    "    ax.hist(le_2015[column_name], bins=8, linewidth=0.5, edgecolor=\"white\")\n",
    "    ax.set_xlabel(column_name)\n",
    "    \n",
    "plt.show()"
   ]
  },
  {
   "cell_type": "code",
   "execution_count": 657,
   "id": "13ac6890-a10b-4a30-b38d-1dfdf674fb39",
   "metadata": {},
   "outputs": [
    {
     "data": {
      "image/png": "[encoded data removed]",
      "text/plain": [
       "<Figure size 1440x288 with 6 Axes>"
      ]
     },
     "metadata": {},
     "output_type": "display_data"
    }
   ],
   "source": [
    "fig, axes = plt.subplots(1, 6, figsize=(20, 4))\n",
    "\n",
    "for column_name, ax in zip(['adult_mortality',\n",
    "                            'infant_deaths',\n",
    "                            'polio',\n",
    "                            'diphtheria',\n",
    "                            'hiv_aids',\n",
    "                            'gdp'], axes):\n",
    "    ax.hist(le_2015[column_name], bins=8, linewidth=0.5, edgecolor=\"white\")\n",
    "    ax.set_xlabel(column_name)\n",
    "    \n",
    "plt.show()"
   ]
  },
  {
   "cell_type": "code",
   "execution_count": 658,
   "id": "82245abb-ef26-44e8-8cad-72af75c4c090",
   "metadata": {},
   "outputs": [
    {
     "data": {
      "image/png": "[encoded data removed]",
      "text/plain": [
       "<Figure size 1440x288 with 5 Axes>"
      ]
     },
     "metadata": {},
     "output_type": "display_data"
    }
   ],
   "source": [
    "fig, axes = plt.subplots(1, 5, figsize=(20, 4))\n",
    "\n",
    "for column_name, ax in zip(['population',\n",
    "                             'thinness_1_19_years',\n",
    "                             'thinness_5_9_years',\n",
    "                             'income_composition_of_resources',\n",
    "                             'schooling'], axes):\n",
    "    ax.hist(le_2015[column_name], bins=8, linewidth=0.5, edgecolor=\"white\")\n",
    "    ax.set_xlabel(column_name)\n",
    "    \n",
    "plt.show()"
   ]
  },
  {
   "cell_type": "markdown",
   "id": "69267f47-55d2-4454-ad21-a1a91dba61b9",
   "metadata": {},
   "source": [
    "#### Remove features with mostly zero values"
   ]
  },
  {
   "cell_type": "code",
   "execution_count": 659,
   "id": "4f0a592f-4947-4f3c-b5c7-b069b45d79b0",
   "metadata": {},
   "outputs": [
    {
     "data": {
      "text/plain": [
       "0.000000      181\n",
       "71.279624       1\n",
       "364.975229      1\n",
       "Name: percentage_expenditure, dtype: int64"
      ]
     },
     "execution_count": 659,
     "metadata": {},
     "output_type": "execute_result"
    }
   ],
   "source": [
    "le_2015['percentage_expenditure'].value_counts()"
   ]
  },
  {
   "cell_type": "code",
   "execution_count": 660,
   "id": "dbde15d1-f2b9-4274-89f6-61d55fa49ed8",
   "metadata": {
    "tags": []
   },
   "outputs": [],
   "source": [
    "le_2015.drop('percentage_expenditure', axis=1, inplace=True)"
   ]
  },
  {
   "cell_type": "markdown",
   "id": "441e2cb4-6a1b-499c-8b36-5f71eb9c8699",
   "metadata": {},
   "source": [
    "#### Remove gdp and population features"
   ]
  },
  {
   "cell_type": "markdown",
   "id": "d4f6f6ef-0ca7-487a-96b0-447f610db8c6",
   "metadata": {},
   "source": [
    "> Since gdp and population have much wider ranges than the other features they will be removed."
   ]
  },
  {
   "cell_type": "code",
   "execution_count": 661,
   "id": "6f607f8f-2195-4250-97fc-e185e3902273",
   "metadata": {},
   "outputs": [
    {
     "data": {
      "text/plain": [
       "0.000000        25\n",
       "4737.669960      1\n",
       "44292.884730     1\n",
       "3821.893700      1\n",
       "295.966488       1\n",
       "                ..\n",
       "41176.881580     1\n",
       "1361.113950      1\n",
       "187.789910       1\n",
       "9212.192824      1\n",
       "118.693830       1\n",
       "Name: gdp, Length: 159, dtype: int64"
      ]
     },
     "execution_count": 661,
     "metadata": {},
     "output_type": "execute_result"
    }
   ],
   "source": [
    "le_2015['gdp'].value_counts()"
   ]
  },
  {
   "cell_type": "code",
   "execution_count": 662,
   "id": "82f439cb-7b93-415d-a815-7bff2cafb21b",
   "metadata": {},
   "outputs": [
    {
     "data": {
      "text/plain": [
       "0.0           40\n",
       "33736494.0     1\n",
       "18938513.0     1\n",
       "28656282.0     1\n",
       "16939923.0     1\n",
       "              ..\n",
       "81686611.0     1\n",
       "27582821.0     1\n",
       "182883.0       1\n",
       "16252429.0     1\n",
       "15777451.0     1\n",
       "Name: population, Length: 144, dtype: int64"
      ]
     },
     "execution_count": 662,
     "metadata": {},
     "output_type": "execute_result"
    }
   ],
   "source": [
    "le_2015['population'].value_counts()"
   ]
  },
  {
   "cell_type": "code",
   "execution_count": 663,
   "id": "e4e09448-cb3f-45d6-8388-1c8c017c3ba4",
   "metadata": {},
   "outputs": [],
   "source": [
    "le_2015.drop(['gdp','population'], axis=1, inplace=True)"
   ]
  },
  {
   "cell_type": "code",
   "execution_count": 664,
   "id": "71be815e-ba4c-4bce-8e76-2dfd668520b3",
   "metadata": {},
   "outputs": [
    {
     "name": "stdout",
     "output_type": "stream",
     "text": [
      "<class 'pandas.core.frame.DataFrame'>\n",
      "Index: 183 entries, Afghanistan to Zimbabwe\n",
      "Data columns (total 16 columns):\n",
      " #   Column                           Non-Null Count  Dtype  \n",
      "---  ------                           --------------  -----  \n",
      " 0   year                             183 non-null    int64  \n",
      " 1   status                           183 non-null    object \n",
      " 2   life_expectancy                  183 non-null    float64\n",
      " 3   adult_mortality                  183 non-null    float64\n",
      " 4   infant_deaths                    183 non-null    int64  \n",
      " 5   hepatitis_b                      183 non-null    float64\n",
      " 6   measles                          183 non-null    int64  \n",
      " 7   bmi                              183 non-null    float64\n",
      " 8   under_five_deaths                183 non-null    int64  \n",
      " 9   polio                            183 non-null    float64\n",
      " 10  diphtheria                       183 non-null    float64\n",
      " 11  hiv_aids                         183 non-null    float64\n",
      " 12  thinness_1_19_years              183 non-null    float64\n",
      " 13  thinness_5_9_years               183 non-null    float64\n",
      " 14  income_composition_of_resources  183 non-null    float64\n",
      " 15  schooling                        183 non-null    float64\n",
      "dtypes: float64(11), int64(4), object(1)\n",
      "memory usage: 24.3+ KB\n"
     ]
    }
   ],
   "source": [
    "le_2015.info()"
   ]
  },
  {
   "cell_type": "markdown",
   "id": "59f5c9c0-1dc8-4915-8ad5-409eda823694",
   "metadata": {},
   "source": [
    "## Setup Training data and Target values"
   ]
  },
  {
   "cell_type": "markdown",
   "id": "372b40de-1d60-4a80-80d7-953b2a21e302",
   "metadata": {},
   "source": [
    "> X represents training data and y is the array of target values"
   ]
  },
  {
   "cell_type": "code",
   "execution_count": 665,
   "id": "792bf9c7-8cdd-4ee3-9aee-42f6c9958f60",
   "metadata": {},
   "outputs": [],
   "source": [
    "X = le_2015.loc[:, ~le_2015.columns.isin(['index','country','year','status', 'life_expectancy'])]"
   ]
  },
  {
   "cell_type": "code",
   "execution_count": 666,
   "id": "11d0a6f7-d2a4-488c-a2d8-f3624a35c732",
   "metadata": {},
   "outputs": [
    {
     "data": {
      "text/html": [
       "<div>\n",
       "<style scoped>\n",
       "    .dataframe tbody tr th:only-of-type {\n",
       "        vertical-align: middle;\n",
       "    }\n",
       "\n",
       "    .dataframe tbody tr th {\n",
       "        vertical-align: top;\n",
       "    }\n",
       "\n",
       "    .dataframe thead th {\n",
       "        text-align: right;\n",
       "    }\n",
       "</style>\n",
       "<table border=\"1\" class=\"dataframe\">\n",
       "  <thead>\n",
       "    <tr style=\"text-align: right;\">\n",
       "      <th></th>\n",
       "      <th>adult_mortality</th>\n",
       "      <th>infant_deaths</th>\n",
       "      <th>hepatitis_b</th>\n",
       "      <th>measles</th>\n",
       "      <th>bmi</th>\n",
       "      <th>under_five_deaths</th>\n",
       "      <th>polio</th>\n",
       "      <th>diphtheria</th>\n",
       "      <th>hiv_aids</th>\n",
       "      <th>thinness_1_19_years</th>\n",
       "      <th>thinness_5_9_years</th>\n",
       "      <th>income_composition_of_resources</th>\n",
       "      <th>schooling</th>\n",
       "    </tr>\n",
       "    <tr>\n",
       "      <th>country</th>\n",
       "      <th></th>\n",
       "      <th></th>\n",
       "      <th></th>\n",
       "      <th></th>\n",
       "      <th></th>\n",
       "      <th></th>\n",
       "      <th></th>\n",
       "      <th></th>\n",
       "      <th></th>\n",
       "      <th></th>\n",
       "      <th></th>\n",
       "      <th></th>\n",
       "      <th></th>\n",
       "    </tr>\n",
       "  </thead>\n",
       "  <tbody>\n",
       "    <tr>\n",
       "      <th>Afghanistan</th>\n",
       "      <td>263.0</td>\n",
       "      <td>62</td>\n",
       "      <td>65.0</td>\n",
       "      <td>1154</td>\n",
       "      <td>19.1</td>\n",
       "      <td>83</td>\n",
       "      <td>6.0</td>\n",
       "      <td>65.0</td>\n",
       "      <td>0.1</td>\n",
       "      <td>17.2</td>\n",
       "      <td>17.3</td>\n",
       "      <td>0.479</td>\n",
       "      <td>10.1</td>\n",
       "    </tr>\n",
       "    <tr>\n",
       "      <th>Albania</th>\n",
       "      <td>74.0</td>\n",
       "      <td>0</td>\n",
       "      <td>99.0</td>\n",
       "      <td>0</td>\n",
       "      <td>58.0</td>\n",
       "      <td>0</td>\n",
       "      <td>99.0</td>\n",
       "      <td>99.0</td>\n",
       "      <td>0.1</td>\n",
       "      <td>1.2</td>\n",
       "      <td>1.3</td>\n",
       "      <td>0.762</td>\n",
       "      <td>14.2</td>\n",
       "    </tr>\n",
       "    <tr>\n",
       "      <th>Algeria</th>\n",
       "      <td>19.0</td>\n",
       "      <td>21</td>\n",
       "      <td>95.0</td>\n",
       "      <td>63</td>\n",
       "      <td>59.5</td>\n",
       "      <td>24</td>\n",
       "      <td>95.0</td>\n",
       "      <td>95.0</td>\n",
       "      <td>0.1</td>\n",
       "      <td>6.0</td>\n",
       "      <td>5.8</td>\n",
       "      <td>0.743</td>\n",
       "      <td>14.4</td>\n",
       "    </tr>\n",
       "    <tr>\n",
       "      <th>Angola</th>\n",
       "      <td>335.0</td>\n",
       "      <td>66</td>\n",
       "      <td>64.0</td>\n",
       "      <td>118</td>\n",
       "      <td>23.3</td>\n",
       "      <td>98</td>\n",
       "      <td>7.0</td>\n",
       "      <td>64.0</td>\n",
       "      <td>1.9</td>\n",
       "      <td>8.3</td>\n",
       "      <td>8.2</td>\n",
       "      <td>0.531</td>\n",
       "      <td>11.4</td>\n",
       "    </tr>\n",
       "    <tr>\n",
       "      <th>Antigua and Barbuda</th>\n",
       "      <td>13.0</td>\n",
       "      <td>0</td>\n",
       "      <td>99.0</td>\n",
       "      <td>0</td>\n",
       "      <td>47.7</td>\n",
       "      <td>0</td>\n",
       "      <td>86.0</td>\n",
       "      <td>99.0</td>\n",
       "      <td>0.2</td>\n",
       "      <td>3.3</td>\n",
       "      <td>3.3</td>\n",
       "      <td>0.784</td>\n",
       "      <td>13.9</td>\n",
       "    </tr>\n",
       "    <tr>\n",
       "      <th>...</th>\n",
       "      <td>...</td>\n",
       "      <td>...</td>\n",
       "      <td>...</td>\n",
       "      <td>...</td>\n",
       "      <td>...</td>\n",
       "      <td>...</td>\n",
       "      <td>...</td>\n",
       "      <td>...</td>\n",
       "      <td>...</td>\n",
       "      <td>...</td>\n",
       "      <td>...</td>\n",
       "      <td>...</td>\n",
       "      <td>...</td>\n",
       "    </tr>\n",
       "    <tr>\n",
       "      <th>Venezuela (Bolivarian Republic of)</th>\n",
       "      <td>157.0</td>\n",
       "      <td>9</td>\n",
       "      <td>87.0</td>\n",
       "      <td>0</td>\n",
       "      <td>62.1</td>\n",
       "      <td>10</td>\n",
       "      <td>87.0</td>\n",
       "      <td>87.0</td>\n",
       "      <td>0.1</td>\n",
       "      <td>1.6</td>\n",
       "      <td>1.5</td>\n",
       "      <td>0.769</td>\n",
       "      <td>14.3</td>\n",
       "    </tr>\n",
       "    <tr>\n",
       "      <th>Viet Nam</th>\n",
       "      <td>127.0</td>\n",
       "      <td>28</td>\n",
       "      <td>97.0</td>\n",
       "      <td>256</td>\n",
       "      <td>17.5</td>\n",
       "      <td>35</td>\n",
       "      <td>97.0</td>\n",
       "      <td>97.0</td>\n",
       "      <td>0.1</td>\n",
       "      <td>14.2</td>\n",
       "      <td>14.5</td>\n",
       "      <td>0.678</td>\n",
       "      <td>12.6</td>\n",
       "    </tr>\n",
       "    <tr>\n",
       "      <th>Yemen</th>\n",
       "      <td>224.0</td>\n",
       "      <td>37</td>\n",
       "      <td>69.0</td>\n",
       "      <td>468</td>\n",
       "      <td>41.3</td>\n",
       "      <td>47</td>\n",
       "      <td>63.0</td>\n",
       "      <td>69.0</td>\n",
       "      <td>0.1</td>\n",
       "      <td>13.6</td>\n",
       "      <td>13.4</td>\n",
       "      <td>0.499</td>\n",
       "      <td>9.0</td>\n",
       "    </tr>\n",
       "    <tr>\n",
       "      <th>Zambia</th>\n",
       "      <td>33.0</td>\n",
       "      <td>27</td>\n",
       "      <td>9.0</td>\n",
       "      <td>9</td>\n",
       "      <td>23.4</td>\n",
       "      <td>40</td>\n",
       "      <td>9.0</td>\n",
       "      <td>9.0</td>\n",
       "      <td>4.1</td>\n",
       "      <td>6.3</td>\n",
       "      <td>6.1</td>\n",
       "      <td>0.576</td>\n",
       "      <td>12.5</td>\n",
       "    </tr>\n",
       "    <tr>\n",
       "      <th>Zimbabwe</th>\n",
       "      <td>336.0</td>\n",
       "      <td>22</td>\n",
       "      <td>87.0</td>\n",
       "      <td>0</td>\n",
       "      <td>31.8</td>\n",
       "      <td>32</td>\n",
       "      <td>88.0</td>\n",
       "      <td>87.0</td>\n",
       "      <td>6.2</td>\n",
       "      <td>5.6</td>\n",
       "      <td>5.5</td>\n",
       "      <td>0.507</td>\n",
       "      <td>10.3</td>\n",
       "    </tr>\n",
       "  </tbody>\n",
       "</table>\n",
       "<p>183 rows × 13 columns</p>\n",
       "</div>"
      ],
      "text/plain": [
       "                                    adult_mortality  infant_deaths  \\\n",
       "country                                                              \n",
       "Afghanistan                                   263.0             62   \n",
       "Albania                                        74.0              0   \n",
       "Algeria                                        19.0             21   \n",
       "Angola                                        335.0             66   \n",
       "Antigua and Barbuda                            13.0              0   \n",
       "...                                             ...            ...   \n",
       "Venezuela (Bolivarian Republic of)            157.0              9   \n",
       "Viet Nam                                      127.0             28   \n",
       "Yemen                                         224.0             37   \n",
       "Zambia                                         33.0             27   \n",
       "Zimbabwe                                      336.0             22   \n",
       "\n",
       "                                    hepatitis_b  measles   bmi  \\\n",
       "country                                                          \n",
       "Afghanistan                                65.0     1154  19.1   \n",
       "Albania                                    99.0        0  58.0   \n",
       "Algeria                                    95.0       63  59.5   \n",
       "Angola                                     64.0      118  23.3   \n",
       "Antigua and Barbuda                        99.0        0  47.7   \n",
       "...                                         ...      ...   ...   \n",
       "Venezuela (Bolivarian Republic of)         87.0        0  62.1   \n",
       "Viet Nam                                   97.0      256  17.5   \n",
       "Yemen                                      69.0      468  41.3   \n",
       "Zambia                                      9.0        9  23.4   \n",
       "Zimbabwe                                   87.0        0  31.8   \n",
       "\n",
       "                                    under_five_deaths  polio  diphtheria  \\\n",
       "country                                                                    \n",
       "Afghanistan                                        83    6.0        65.0   \n",
       "Albania                                             0   99.0        99.0   \n",
       "Algeria                                            24   95.0        95.0   \n",
       "Angola                                             98    7.0        64.0   \n",
       "Antigua and Barbuda                                 0   86.0        99.0   \n",
       "...                                               ...    ...         ...   \n",
       "Venezuela (Bolivarian Republic of)                 10   87.0        87.0   \n",
       "Viet Nam                                           35   97.0        97.0   \n",
       "Yemen                                              47   63.0        69.0   \n",
       "Zambia                                             40    9.0         9.0   \n",
       "Zimbabwe                                           32   88.0        87.0   \n",
       "\n",
       "                                    hiv_aids  thinness_1_19_years  \\\n",
       "country                                                             \n",
       "Afghanistan                              0.1                 17.2   \n",
       "Albania                                  0.1                  1.2   \n",
       "Algeria                                  0.1                  6.0   \n",
       "Angola                                   1.9                  8.3   \n",
       "Antigua and Barbuda                      0.2                  3.3   \n",
       "...                                      ...                  ...   \n",
       "Venezuela (Bolivarian Republic of)       0.1                  1.6   \n",
       "Viet Nam                                 0.1                 14.2   \n",
       "Yemen                                    0.1                 13.6   \n",
       "Zambia                                   4.1                  6.3   \n",
       "Zimbabwe                                 6.2                  5.6   \n",
       "\n",
       "                                    thinness_5_9_years  \\\n",
       "country                                                  \n",
       "Afghanistan                                       17.3   \n",
       "Albania                                            1.3   \n",
       "Algeria                                            5.8   \n",
       "Angola                                             8.2   \n",
       "Antigua and Barbuda                                3.3   \n",
       "...                                                ...   \n",
       "Venezuela (Bolivarian Republic of)                 1.5   \n",
       "Viet Nam                                          14.5   \n",
       "Yemen                                             13.4   \n",
       "Zambia                                             6.1   \n",
       "Zimbabwe                                           5.5   \n",
       "\n",
       "                                    income_composition_of_resources  schooling  \n",
       "country                                                                         \n",
       "Afghanistan                                                   0.479       10.1  \n",
       "Albania                                                       0.762       14.2  \n",
       "Algeria                                                       0.743       14.4  \n",
       "Angola                                                        0.531       11.4  \n",
       "Antigua and Barbuda                                           0.784       13.9  \n",
       "...                                                             ...        ...  \n",
       "Venezuela (Bolivarian Republic of)                            0.769       14.3  \n",
       "Viet Nam                                                      0.678       12.6  \n",
       "Yemen                                                         0.499        9.0  \n",
       "Zambia                                                        0.576       12.5  \n",
       "Zimbabwe                                                      0.507       10.3  \n",
       "\n",
       "[183 rows x 13 columns]"
      ]
     },
     "execution_count": 666,
     "metadata": {},
     "output_type": "execute_result"
    }
   ],
   "source": [
    "X "
   ]
  },
  {
   "cell_type": "code",
   "execution_count": 667,
   "id": "0f34d761-b7a7-4962-b2f3-22e3d6cbd8a4",
   "metadata": {},
   "outputs": [],
   "source": [
    "X = X.to_numpy()"
   ]
  },
  {
   "cell_type": "code",
   "execution_count": 668,
   "id": "0066bbb0-8992-402e-85a6-70f528c81752",
   "metadata": {},
   "outputs": [
    {
     "data": {
      "text/plain": [
       "array([[263.   ,  62.   ,  65.   , ...,  17.3  ,   0.479,  10.1  ],\n",
       "       [ 74.   ,   0.   ,  99.   , ...,   1.3  ,   0.762,  14.2  ],\n",
       "       [ 19.   ,  21.   ,  95.   , ...,   5.8  ,   0.743,  14.4  ],\n",
       "       ...,\n",
       "       [224.   ,  37.   ,  69.   , ...,  13.4  ,   0.499,   9.   ],\n",
       "       [ 33.   ,  27.   ,   9.   , ...,   6.1  ,   0.576,  12.5  ],\n",
       "       [336.   ,  22.   ,  87.   , ...,   5.5  ,   0.507,  10.3  ]])"
      ]
     },
     "execution_count": 668,
     "metadata": {},
     "output_type": "execute_result"
    }
   ],
   "source": [
    "X"
   ]
  },
  {
   "cell_type": "code",
   "execution_count": 669,
   "id": "7fd0ccc5-0da7-453e-9469-e56d7d71bcfc",
   "metadata": {},
   "outputs": [
    {
     "data": {
      "text/plain": [
       "(183, 13)"
      ]
     },
     "execution_count": 669,
     "metadata": {},
     "output_type": "execute_result"
    }
   ],
   "source": [
    "X.shape"
   ]
  },
  {
   "cell_type": "code",
   "execution_count": 670,
   "id": "d4872271-9430-45ac-b34a-1ddde8378f48",
   "metadata": {},
   "outputs": [],
   "source": [
    "y = le_2015.loc[:, le_2015.columns.isin(['life_expectancy'])]"
   ]
  },
  {
   "cell_type": "code",
   "execution_count": 671,
   "id": "a87d1c3c-31b1-4865-b3f3-9f5f0603e697",
   "metadata": {},
   "outputs": [
    {
     "data": {
      "text/html": [
       "<div>\n",
       "<style scoped>\n",
       "    .dataframe tbody tr th:only-of-type {\n",
       "        vertical-align: middle;\n",
       "    }\n",
       "\n",
       "    .dataframe tbody tr th {\n",
       "        vertical-align: top;\n",
       "    }\n",
       "\n",
       "    .dataframe thead th {\n",
       "        text-align: right;\n",
       "    }\n",
       "</style>\n",
       "<table border=\"1\" class=\"dataframe\">\n",
       "  <thead>\n",
       "    <tr style=\"text-align: right;\">\n",
       "      <th></th>\n",
       "      <th>life_expectancy</th>\n",
       "    </tr>\n",
       "    <tr>\n",
       "      <th>country</th>\n",
       "      <th></th>\n",
       "    </tr>\n",
       "  </thead>\n",
       "  <tbody>\n",
       "    <tr>\n",
       "      <th>Afghanistan</th>\n",
       "      <td>65.0</td>\n",
       "    </tr>\n",
       "    <tr>\n",
       "      <th>Albania</th>\n",
       "      <td>77.8</td>\n",
       "    </tr>\n",
       "    <tr>\n",
       "      <th>Algeria</th>\n",
       "      <td>75.6</td>\n",
       "    </tr>\n",
       "    <tr>\n",
       "      <th>Angola</th>\n",
       "      <td>52.4</td>\n",
       "    </tr>\n",
       "    <tr>\n",
       "      <th>Antigua and Barbuda</th>\n",
       "      <td>76.4</td>\n",
       "    </tr>\n",
       "    <tr>\n",
       "      <th>...</th>\n",
       "      <td>...</td>\n",
       "    </tr>\n",
       "    <tr>\n",
       "      <th>Venezuela (Bolivarian Republic of)</th>\n",
       "      <td>74.1</td>\n",
       "    </tr>\n",
       "    <tr>\n",
       "      <th>Viet Nam</th>\n",
       "      <td>76.0</td>\n",
       "    </tr>\n",
       "    <tr>\n",
       "      <th>Yemen</th>\n",
       "      <td>65.7</td>\n",
       "    </tr>\n",
       "    <tr>\n",
       "      <th>Zambia</th>\n",
       "      <td>61.8</td>\n",
       "    </tr>\n",
       "    <tr>\n",
       "      <th>Zimbabwe</th>\n",
       "      <td>67.0</td>\n",
       "    </tr>\n",
       "  </tbody>\n",
       "</table>\n",
       "<p>183 rows × 1 columns</p>\n",
       "</div>"
      ],
      "text/plain": [
       "                                    life_expectancy\n",
       "country                                            \n",
       "Afghanistan                                    65.0\n",
       "Albania                                        77.8\n",
       "Algeria                                        75.6\n",
       "Angola                                         52.4\n",
       "Antigua and Barbuda                            76.4\n",
       "...                                             ...\n",
       "Venezuela (Bolivarian Republic of)             74.1\n",
       "Viet Nam                                       76.0\n",
       "Yemen                                          65.7\n",
       "Zambia                                         61.8\n",
       "Zimbabwe                                       67.0\n",
       "\n",
       "[183 rows x 1 columns]"
      ]
     },
     "execution_count": 671,
     "metadata": {},
     "output_type": "execute_result"
    }
   ],
   "source": [
    "y"
   ]
  },
  {
   "cell_type": "code",
   "execution_count": 672,
   "id": "ee1579e1-b0b6-42c4-9433-50e218a282dd",
   "metadata": {},
   "outputs": [],
   "source": [
    "y = y.to_numpy()"
   ]
  },
  {
   "cell_type": "code",
   "execution_count": 673,
   "id": "af9602a0-6fb9-4a19-b595-3b39301f77d1",
   "metadata": {},
   "outputs": [
    {
     "data": {
      "text/plain": [
       "(183, 1)"
      ]
     },
     "execution_count": 673,
     "metadata": {},
     "output_type": "execute_result"
    }
   ],
   "source": [
    "y.shape"
   ]
  },
  {
   "cell_type": "markdown",
   "id": "e93a394c-679d-4756-8600-80ef812b7af9",
   "metadata": {},
   "source": [
    "### Ridge Regression"
   ]
  },
  {
   "cell_type": "code",
   "execution_count": 674,
   "id": "f6120a8e-b962-4847-8caf-8287bd9ca49d",
   "metadata": {},
   "outputs": [],
   "source": [
    "lambdas = np.linspace(10,-2,100)"
   ]
  },
  {
   "cell_type": "code",
   "execution_count": 675,
   "id": "b63a15e1-8071-45df-ba7b-57b94e3cf049",
   "metadata": {},
   "outputs": [
    {
     "data": {
      "text/plain": [
       "array([10.        ,  9.87878788,  9.75757576,  9.63636364,  9.51515152,\n",
       "        9.39393939,  9.27272727,  9.15151515,  9.03030303,  8.90909091,\n",
       "        8.78787879,  8.66666667,  8.54545455,  8.42424242,  8.3030303 ,\n",
       "        8.18181818,  8.06060606,  7.93939394,  7.81818182,  7.6969697 ,\n",
       "        7.57575758,  7.45454545,  7.33333333,  7.21212121,  7.09090909,\n",
       "        6.96969697,  6.84848485,  6.72727273,  6.60606061,  6.48484848,\n",
       "        6.36363636,  6.24242424,  6.12121212,  6.        ,  5.87878788,\n",
       "        5.75757576,  5.63636364,  5.51515152,  5.39393939,  5.27272727,\n",
       "        5.15151515,  5.03030303,  4.90909091,  4.78787879,  4.66666667,\n",
       "        4.54545455,  4.42424242,  4.3030303 ,  4.18181818,  4.06060606,\n",
       "        3.93939394,  3.81818182,  3.6969697 ,  3.57575758,  3.45454545,\n",
       "        3.33333333,  3.21212121,  3.09090909,  2.96969697,  2.84848485,\n",
       "        2.72727273,  2.60606061,  2.48484848,  2.36363636,  2.24242424,\n",
       "        2.12121212,  2.        ,  1.87878788,  1.75757576,  1.63636364,\n",
       "        1.51515152,  1.39393939,  1.27272727,  1.15151515,  1.03030303,\n",
       "        0.90909091,  0.78787879,  0.66666667,  0.54545455,  0.42424242,\n",
       "        0.3030303 ,  0.18181818,  0.06060606, -0.06060606, -0.18181818,\n",
       "       -0.3030303 , -0.42424242, -0.54545455, -0.66666667, -0.78787879,\n",
       "       -0.90909091, -1.03030303, -1.15151515, -1.27272727, -1.39393939,\n",
       "       -1.51515152, -1.63636364, -1.75757576, -1.87878788, -2.        ])"
      ]
     },
     "execution_count": 675,
     "metadata": {},
     "output_type": "execute_result"
    }
   ],
   "source": [
    "lambdas"
   ]
  },
  {
   "cell_type": "code",
   "execution_count": 676,
   "id": "05def44f-fc35-4026-8343-7386596a83e6",
   "metadata": {},
   "outputs": [
    {
     "data": {
      "text/plain": [
       "RidgeCV(alphas=array([10.        ,  9.87878788,  9.75757576,  9.63636364,  9.51515152,\n",
       "        9.39393939,  9.27272727,  9.15151515,  9.03030303,  8.90909091,\n",
       "        8.78787879,  8.66666667,  8.54545455,  8.42424242,  8.3030303 ,\n",
       "        8.18181818,  8.06060606,  7.93939394,  7.81818182,  7.6969697 ,\n",
       "        7.57575758,  7.45454545,  7.33333333,  7.21212121,  7.09090909,\n",
       "        6.96969697,  6.84848485,  6.72727273,  6.60606061,  6.48484848,\n",
       "        6.36363...\n",
       "        0.90909091,  0.78787879,  0.66666667,  0.54545455,  0.42424242,\n",
       "        0.3030303 ,  0.18181818,  0.06060606, -0.06060606, -0.18181818,\n",
       "       -0.3030303 , -0.42424242, -0.54545455, -0.66666667, -0.78787879,\n",
       "       -0.90909091, -1.03030303, -1.15151515, -1.27272727, -1.39393939,\n",
       "       -1.51515152, -1.63636364, -1.75757576, -1.87878788, -2.        ]),\n",
       "        cv=RepeatedKFold(n_repeats=1, n_splits=10, random_state=1),\n",
       "        normalize=True)"
      ]
     },
     "execution_count": 676,
     "metadata": {},
     "output_type": "execute_result"
    }
   ],
   "source": [
    "fold = RepeatedKFold(n_splits=10, n_repeats=1, random_state=1)\n",
    "ridge = RidgeCV(alphas=lambdas, cv=fold, normalize = True)\n",
    "ridge.fit(X, y)"
   ]
  },
  {
   "cell_type": "code",
   "execution_count": 677,
   "id": "40429603-7ac0-4162-99ef-4b2efee76685",
   "metadata": {},
   "outputs": [],
   "source": [
    "def get_cross_val_scores(reg, X, y, fold):\n",
    "    MSE = cross_val_score(reg, X, y, scoring='neg_mean_squared_error', cv=fold).mean()\n",
    "    print(f'MSE = {-MSE}')\n",
    "    RMSE = cross_val_score(reg, X, y, scoring='neg_root_mean_squared_error', cv=fold).mean()\n",
    "    print(f'RMSE = {-RMSE}')\n",
    "    MAE = cross_val_score(reg, X, y, scoring='neg_mean_absolute_error', cv=fold).mean()\n",
    "    print(f'MAE = {-MAE}')\n",
    "    r2 = cross_val_score(reg, X, y, scoring='explained_variance', cv=fold).mean()\n",
    "    print(f'R-Squared = {r2}')    "
   ]
  },
  {
   "cell_type": "markdown",
   "id": "fca4722c-e5de-49bc-ae13-4a2820d7e527",
   "metadata": {},
   "source": [
    "#### Get cross validation scores for Ridge Regression"
   ]
  },
  {
   "cell_type": "code",
   "execution_count": 678,
   "id": "fe6642ea-b5f9-44d9-9b36-212531cd9146",
   "metadata": {},
   "outputs": [
    {
     "name": "stdout",
     "output_type": "stream",
     "text": [
      "MSE = 17.387850573500394\n",
      "RMSE = 4.068653006761957\n",
      "MAE = 3.061774002874028\n",
      "R-Squared = 0.6889177355643399\n"
     ]
    }
   ],
   "source": [
    "get_cross_val_scores(ridge, X, y, fold)"
   ]
  },
  {
   "cell_type": "code",
   "execution_count": 679,
   "id": "0271e46e-15b6-4ef9-894c-978a7a8430cb",
   "metadata": {},
   "outputs": [
    {
     "data": {
      "text/plain": [
       "0.18181818181818166"
      ]
     },
     "execution_count": 679,
     "metadata": {},
     "output_type": "execute_result"
    }
   ],
   "source": [
    "ridge.alpha_"
   ]
  },
  {
   "cell_type": "code",
   "execution_count": 680,
   "id": "839b1b4b-8154-4698-852c-dbd3322b5669",
   "metadata": {},
   "outputs": [
    {
     "data": {
      "text/plain": [
       "array([[-2.89523228e-02,  2.58264474e-03, -2.22311830e-02,\n",
       "         2.06115512e-05,  4.53859547e-02, -1.91732692e-03,\n",
       "         3.77463409e-02,  6.24334648e-02, -8.28784805e-01,\n",
       "        -1.80444494e-01, -1.34260022e-01,  5.37307181e+00,\n",
       "         1.63912576e-01]])"
      ]
     },
     "execution_count": 680,
     "metadata": {},
     "output_type": "execute_result"
    }
   ],
   "source": [
    "ridge.coef_"
   ]
  },
  {
   "cell_type": "code",
   "execution_count": 681,
   "id": "e017b669-cd79-458c-af6b-99ec450ceeab",
   "metadata": {},
   "outputs": [
    {
     "data": {
      "text/plain": [
       "array([63.85683437])"
      ]
     },
     "execution_count": 681,
     "metadata": {},
     "output_type": "execute_result"
    }
   ],
   "source": [
    "ridge.intercept_"
   ]
  },
  {
   "cell_type": "markdown",
   "id": "805dff58-ba8d-4850-bd7b-5c25e347eec9",
   "metadata": {},
   "source": [
    "### LASSO Regression"
   ]
  },
  {
   "cell_type": "code",
   "execution_count": 682,
   "id": "328b4bca-2e71-4b10-b806-88da117b5213",
   "metadata": {},
   "outputs": [
    {
     "data": {
      "text/plain": [
       "LassoCV(alphas=array([10.        ,  9.87878788,  9.75757576,  9.63636364,  9.51515152,\n",
       "        9.39393939,  9.27272727,  9.15151515,  9.03030303,  8.90909091,\n",
       "        8.78787879,  8.66666667,  8.54545455,  8.42424242,  8.3030303 ,\n",
       "        8.18181818,  8.06060606,  7.93939394,  7.81818182,  7.6969697 ,\n",
       "        7.57575758,  7.45454545,  7.33333333,  7.21212121,  7.09090909,\n",
       "        6.96969697,  6.84848485,  6.72727273,  6.60606061,  6.48484848,\n",
       "        6.36363...\n",
       "        0.90909091,  0.78787879,  0.66666667,  0.54545455,  0.42424242,\n",
       "        0.3030303 ,  0.18181818,  0.06060606, -0.06060606, -0.18181818,\n",
       "       -0.3030303 , -0.42424242, -0.54545455, -0.66666667, -0.78787879,\n",
       "       -0.90909091, -1.03030303, -1.15151515, -1.27272727, -1.39393939,\n",
       "       -1.51515152, -1.63636364, -1.75757576, -1.87878788, -2.        ]),\n",
       "        cv=RepeatedKFold(n_repeats=1, n_splits=10, random_state=1),\n",
       "        normalize=True)"
      ]
     },
     "execution_count": 682,
     "metadata": {},
     "output_type": "execute_result"
    }
   ],
   "source": [
    "lasso = LassoCV(alphas = lambdas, cv=fold, normalize = True)\n",
    "lasso.fit(X, y)"
   ]
  },
  {
   "cell_type": "code",
   "execution_count": 683,
   "id": "a0c880f5-9f90-4ce1-9639-4df23d7775e4",
   "metadata": {},
   "outputs": [
    {
     "name": "stdout",
     "output_type": "stream",
     "text": [
      "MSE = 19.474987021995503\n",
      "RMSE = 4.2319837435136165\n",
      "MAE = 3.2490164355292457\n",
      "R-Squared = 0.6792253044435533\n"
     ]
    }
   ],
   "source": [
    "get_cross_val_scores(lasso, X, y, fold)"
   ]
  },
  {
   "cell_type": "code",
   "execution_count": 684,
   "id": "70e9d9db-9163-44a3-aede-c6f894908588",
   "metadata": {},
   "outputs": [
    {
     "data": {
      "text/plain": [
       "0.06060606060606055"
      ]
     },
     "execution_count": 684,
     "metadata": {},
     "output_type": "execute_result"
    }
   ],
   "source": [
    "lasso.alpha_"
   ]
  },
  {
   "cell_type": "code",
   "execution_count": 685,
   "id": "e8b7ad17-2e2f-413c-9e01-aa300982ddb1",
   "metadata": {},
   "outputs": [
    {
     "data": {
      "text/plain": [
       "array([-0.03560725, -0.        , -0.        ,  0.        ,  0.03234499,\n",
       "       -0.        ,  0.0216706 ,  0.04060793, -0.38905524, -0.20322936,\n",
       "       -0.        ,  7.0571242 ,  0.        ])"
      ]
     },
     "execution_count": 685,
     "metadata": {},
     "output_type": "execute_result"
    }
   ],
   "source": [
    "lasso.coef_"
   ]
  },
  {
   "cell_type": "code",
   "execution_count": 686,
   "id": "6d67771f-6df6-4a00-a59b-826b2e3be04f",
   "metadata": {},
   "outputs": [
    {
     "data": {
      "text/plain": [
       "67.00587880207482"
      ]
     },
     "execution_count": 686,
     "metadata": {},
     "output_type": "execute_result"
    }
   ],
   "source": [
    "lasso.intercept_"
   ]
  },
  {
   "cell_type": "markdown",
   "id": "f303a604-9f21-4864-a295-96e99cb070af",
   "metadata": {},
   "source": [
    "### Summary"
   ]
  },
  {
   "cell_type": "markdown",
   "id": "88547782-d471-4553-a0c0-c9ec975e552a",
   "metadata": {},
   "source": [
    "- The Ridge Regression and LASSO regression models produced similar R-Squared values (Ridge R-Squared was 0.68 and LASSO R-Squared was 0.67)\n",
    "- Both models had similar MSE, RMSE, and MAE scores \n",
    "- The LASSO regression was able to produce similiar cross validation scores as Ridge regression by using only seven features as opposed to all thirteen features"
   ]
  },
  {
   "cell_type": "code",
   "execution_count": null,
   "id": "7beabef5-fd22-4f37-9d47-33dc94938ef1",
   "metadata": {},
   "outputs": [],
   "source": []
  }
 ],
 "metadata": {
  "kernelspec": {
   "display_name": "PythonDev (3.9)",
   "language": "python",
   "name": "pythondev"
  },
  "language_info": {
   "codemirror_mode": {
    "name": "ipython",
    "version": 3
   },
   "file_extension": ".py",
   "mimetype": "text/x-python",
   "name": "python",
   "nbconvert_exporter": "python",
   "pygments_lexer": "ipython3",
   "version": "3.9.12"
  }
 },
 "nbformat": 4,
 "nbformat_minor": 5
}
