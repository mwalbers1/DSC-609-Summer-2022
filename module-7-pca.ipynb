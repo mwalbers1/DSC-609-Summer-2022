{
 "cells": [
  {
   "cell_type": "markdown",
   "id": "62b578db-4371-4b9b-833d-f122bb41af87",
   "metadata": {},
   "source": [
    "# DSC-609 Machine Learning\n",
    "## Michael Albers\n",
    "### 8/20/2022"
   ]
  },
  {
   "cell_type": "markdown",
   "id": "1111f46e-6629-48f5-af65-a573a01a41d0",
   "metadata": {},
   "source": [
    "## Data Set"
   ]
  },
  {
   "cell_type": "markdown",
   "id": "8efe79b1-ef20-4142-b2e9-09b0e6e45cdf",
   "metadata": {},
   "source": [
    "The data set consists of sensor data readings of eight subjects (people) while exercising on a stepper (A13).  The 45 features in the data set represent the 45 sensor axes at a particular sample instance. https://archive.ics.uci.edu/ml/datasets/daily+and+sports+activities"
   ]
  },
  {
   "cell_type": "markdown",
   "id": "2ae24ae1-d359-402b-a1e8-5db56ae859a7",
   "metadata": {},
   "source": [
    "## Overview"
   ]
  },
  {
   "cell_type": "markdown",
   "id": "5ae725f0-1a98-4618-b84f-f03c4abc8acb",
   "metadata": {},
   "source": [
    "Use Principal Component Analysis to reduce dimensions of data set which currently has 45 features. The body sensor categories are Torso (T), Right Arm (RA), Left Arm (LA), Right Leg (RL), and Left Leg (LL). Each of these sensor categories has nine sensors.  The total number of sensor points (axes) is 45."
   ]
  },
  {
   "cell_type": "markdown",
   "id": "36999448-453a-4014-9dd6-1e2483bb9997",
   "metadata": {},
   "source": [
    "## Read and Inspect Data"
   ]
  },
  {
   "cell_type": "code",
   "execution_count": 1,
   "id": "46df91b0-e5f2-4e5f-ac15-3f7e1251c91b",
   "metadata": {},
   "outputs": [],
   "source": [
    "import pandas as pd\n",
    "import numpy as np"
   ]
  },
  {
   "cell_type": "code",
   "execution_count": 4,
   "id": "f3a544a0-fb31-4326-a82f-a2481f8b76f7",
   "metadata": {},
   "outputs": [],
   "source": [
    "stepper_activity = pd.read_csv('data/daily_exercise_stepper_activity.csv')"
   ]
  },
  {
   "cell_type": "code",
   "execution_count": 5,
   "id": "208a5ded-db39-4041-8657-b1bc849db6f3",
   "metadata": {},
   "outputs": [
    {
     "name": "stdout",
     "output_type": "stream",
     "text": [
      "<class 'pandas.core.frame.DataFrame'>\n",
      "RangeIndex: 60000 entries, 0 to 59999\n",
      "Data columns (total 45 columns):\n",
      " #   Column  Non-Null Count  Dtype  \n",
      "---  ------  --------------  -----  \n",
      " 0   T1      60000 non-null  float64\n",
      " 1   T2      60000 non-null  float64\n",
      " 2   T3      60000 non-null  float64\n",
      " 3   T4      60000 non-null  float64\n",
      " 4   T5      60000 non-null  float64\n",
      " 5   T6      60000 non-null  float64\n",
      " 6   T7      60000 non-null  float64\n",
      " 7   T8      60000 non-null  float64\n",
      " 8   T9      60000 non-null  float64\n",
      " 9   RA1     60000 non-null  float64\n",
      " 10  RA2     60000 non-null  float64\n",
      " 11  RA3     60000 non-null  float64\n",
      " 12  RA4     60000 non-null  float64\n",
      " 13  RA5     60000 non-null  float64\n",
      " 14  RA6     60000 non-null  float64\n",
      " 15  RA7     60000 non-null  float64\n",
      " 16  RA8     60000 non-null  float64\n",
      " 17  RA9     60000 non-null  float64\n",
      " 18  LA1     60000 non-null  float64\n",
      " 19  LA2     60000 non-null  float64\n",
      " 20  LA3     60000 non-null  float64\n",
      " 21  LA4     60000 non-null  float64\n",
      " 22  LA5     60000 non-null  float64\n",
      " 23  LA6     60000 non-null  float64\n",
      " 24  LA7     60000 non-null  float64\n",
      " 25  LA8     60000 non-null  float64\n",
      " 26  LA9     60000 non-null  float64\n",
      " 27  RL1     60000 non-null  float64\n",
      " 28  RL2     60000 non-null  float64\n",
      " 29  RL3     60000 non-null  float64\n",
      " 30  RL4     60000 non-null  float64\n",
      " 31  RL5     60000 non-null  float64\n",
      " 32  RL6     60000 non-null  float64\n",
      " 33  RL7     60000 non-null  float64\n",
      " 34  RL8     60000 non-null  float64\n",
      " 35  RL9     60000 non-null  float64\n",
      " 36  LL1     60000 non-null  float64\n",
      " 37  LL2     60000 non-null  float64\n",
      " 38  LL3     60000 non-null  float64\n",
      " 39  LL4     60000 non-null  float64\n",
      " 40  LL5     60000 non-null  float64\n",
      " 41  LL6     60000 non-null  float64\n",
      " 42  LL7     60000 non-null  float64\n",
      " 43  LL8     60000 non-null  float64\n",
      " 44  LL9     60000 non-null  float64\n",
      "dtypes: float64(45)\n",
      "memory usage: 20.6 MB\n"
     ]
    }
   ],
   "source": [
    "stepper_activity.info()"
   ]
  },
  {
   "cell_type": "code",
   "execution_count": null,
   "id": "93276dd0-bb37-4854-aa99-4d111fe72cea",
   "metadata": {},
   "outputs": [],
   "source": []
  },
  {
   "cell_type": "code",
   "execution_count": null,
   "id": "06325415-2c0b-4421-b42e-107db1ebb7fd",
   "metadata": {},
   "outputs": [],
   "source": []
  },
  {
   "cell_type": "code",
   "execution_count": null,
   "id": "62d84495-5dbc-4463-bf09-651b1f1f4081",
   "metadata": {},
   "outputs": [],
   "source": []
  },
  {
   "cell_type": "code",
   "execution_count": null,
   "id": "b52b72d1-90bc-4942-bed4-7e697f93f6e4",
   "metadata": {},
   "outputs": [],
   "source": []
  },
  {
   "cell_type": "code",
   "execution_count": null,
   "id": "4631a500-af2e-42a4-97ef-54aa8fb41014",
   "metadata": {},
   "outputs": [],
   "source": []
  },
  {
   "cell_type": "markdown",
   "id": "6ca120b3-4fa9-4d39-8d98-4ae464e19489",
   "metadata": {},
   "source": [
    "## References and Citations"
   ]
  },
  {
   "cell_type": "markdown",
   "id": "b0309a33-490b-44dc-b21b-82c938cd9ee7",
   "metadata": {},
   "source": [
    "K. Altun, B. Barshan, and O. Tunçel,\n",
    "``Comparative study on classifying human activities with miniature inertial and magnetic sensors,''\n",
    "Pattern Recognition, 43(10):3605-3620, October 2010.\n",
    "\n",
    "B. Barshan and M. C. Yüksek, ``Recognizing daily and sports activities in two open source machine learning environments using body-worn sensor units,'' The Computer Journal, 57(11):1649--1667, November 2014.\n",
    "\n",
    "K. Altun and B. Barshan,\n",
    "``Human activity recognition using inertial/magnetic sensor units,'' Proceedings First International Workshop on Human Behavior Understanding (in conjunction with the 20th Int. Conf. on Pattern Recognition), 22 August 2010, Istanbul, Turkey,\n",
    "A. A. Salah, T. Gevers, N. Sebe, A. Vinciarelli (editors), HBU 2010, LNCS 6219, pp.38-51, Springer: Berlin, Heidelberg, 2010."
   ]
  },
  {
   "cell_type": "code",
   "execution_count": null,
   "id": "7c5232ca-c187-460e-b1a0-2dae063f3a8d",
   "metadata": {},
   "outputs": [],
   "source": []
  }
 ],
 "metadata": {
  "kernelspec": {
   "display_name": "PythonDev (3.9)",
   "language": "python",
   "name": "pythondev"
  },
  "language_info": {
   "codemirror_mode": {
    "name": "ipython",
    "version": 3
   },
   "file_extension": ".py",
   "mimetype": "text/x-python",
   "name": "python",
   "nbconvert_exporter": "python",
   "pygments_lexer": "ipython3",
   "version": "3.9.12"
  }
 },
 "nbformat": 4,
 "nbformat_minor": 5
}
