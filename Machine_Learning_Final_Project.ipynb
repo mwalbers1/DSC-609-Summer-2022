{
 "cells": [
  {
   "cell_type": "markdown",
   "id": "8894d621-0434-41fb-a09d-e05c7eb35473",
   "metadata": {},
   "source": [
    "# DSC-609: Machine Learning"
   ]
  },
  {
   "cell_type": "markdown",
   "id": "b058c65c-e674-4694-8427-eaebd145859c",
   "metadata": {},
   "source": [
    "## Michael Albers\n",
    "### 8/25/2022"
   ]
  },
  {
   "cell_type": "markdown",
   "id": "afb5a2a1-0144-4448-ab53-545d5188a2f8",
   "metadata": {
    "tags": []
   },
   "source": [
    "## Overview\n",
    "\n",
    "Use Natural Language Processing (NLP) to classify online Data Science job postings"
   ]
  },
  {
   "cell_type": "markdown",
   "id": "04a73d15-231b-45f5-a001-b27cfd0484c5",
   "metadata": {},
   "source": [
    "- [Data Gathering](#Data-Gathering)\n",
    "    - [Python Code](#Python-Code)\n",
    "    - [Filter Job posting files](#Filter-Job-posting-files)\n",
    "- [Preprocessing](#Preprocessing)\n",
    "    - [Part of Speech Tagging](#Part-of-Speech-Tagging)\n",
    "    - [Create Label Column](#Create-Label-Column)\n",
    "- [Job Postings Data Set](#Job-Postings-Data-Set)\n",
    "    - [Encode labels](#Encode-labels)\n",
    "    - [Split dataframe into Training and Test sets](#Split-dataframe-into-Training-and-Test-sets)\n",
    "    - [Word tokenization](#Word-tokenization)\n",
    "- [Naive Bayes Classifier](#Naive-Bayes-Classifier)\n",
    "    - [Training Naive Bayes Classifier](#Training-Naive-Bayes-Classifier)\n",
    "    - [Testing Naive Bayes Classifier](#Testing-Naive-Bayes-Classifier)\n",
    "    - [Classification Metrics](#Classification-Metrics)\n",
    "- [Random Forest Classifier](#Random-Forest-Classifier)\n",
    "    - [Training Random Forest Classifier](#Training-Random-Forest-Classifier)\n",
    "    - [Testing Random Forest Classifier](#Testing-Random-Forest-Classifier)\n",
    "    - [Classification Metrics Random Forest](#Classification-Metrics-Random-Forest)"
   ]
  },
  {
   "cell_type": "code",
   "execution_count": 99,
   "id": "9f346dc4-308f-4a6d-a11e-f687cd50dda8",
   "metadata": {},
   "outputs": [],
   "source": [
    "import pandas as pd\n",
    "import numpy as np\n",
    "import matplotlib.pyplot as plt"
   ]
  },
  {
   "cell_type": "code",
   "execution_count": 289,
   "id": "419390a2-4601-45e9-b489-c7ce6d909027",
   "metadata": {},
   "outputs": [],
   "source": [
    "from sklearn.model_selection import train_test_split\n",
    "from sklearn.feature_extraction.text import CountVectorizer\n",
    "from sklearn.naive_bayes import MultinomialNB\n",
    "from sklearn.multioutput import MultiOutputClassifier\n",
    "from sklearn.ensemble import RandomForestClassifier\n",
    "from sklearn.metrics import confusion_matrix\n",
    "from sklearn.metrics import classification_report"
   ]
  },
  {
   "cell_type": "code",
   "execution_count": 100,
   "id": "f82e7025-944c-4ed2-9410-b3cb60e0d55a",
   "metadata": {},
   "outputs": [],
   "source": [
    "import io\n",
    "import nltk\n",
    "import nltk.data\n",
    "from nltk import pos_tag\n",
    "from nltk.corpus import stopwords\n",
    "from nltk.tokenize import word_tokenize"
   ]
  },
  {
   "cell_type": "markdown",
   "id": "6bb1b6f8-2345-451e-b497-59078270cf1a",
   "metadata": {},
   "source": [
    "## Data Gathering\n",
    "\n",
    "- Use Python Selenium library to scrape Data Science job postings from Denver, Tampa, and New York city\n",
    "- Save each job posting into a separate CSV file\n",
    "- Clean job posting CSV files\n",
    "- Consolodate into aggregate CSV file"
   ]
  },
  {
   "cell_type": "markdown",
   "id": "c2cde72f-bb13-42ea-8a70-a0cbc6e9a8d1",
   "metadata": {
    "tags": []
   },
   "source": [
    "### Python Code\n",
    "Python classes were written to gather job postings via a web scraping library called selenium. The python code was executed outside of this notebook from the terminal"
   ]
  },
  {
   "cell_type": "markdown",
   "id": "d34373a2-ce78-469c-bbb4-80b7491e3112",
   "metadata": {},
   "source": [
    "#### main.py\n",
    "The **JobPostSearch** Python class is responsible for opening the job search website using selenium to capture a listing of job post href links"
   ]
  },
  {
   "cell_type": "markdown",
   "id": "8adf943c-9beb-4d7d-bcb4-bc06f3ed8b8b",
   "metadata": {
    "tags": []
   },
   "source": [
    "```Python\n",
    "from selenium import webdriver\n",
    "from selenium.webdriver.chrome import service\n",
    "from jobposting.page import PageMain\n",
    "from jobposting.job_post_detail import JobPosting\n",
    "import time\n",
    "\n",
    "\n",
    "class JobPostSearch(object):\n",
    "    \"\"\"\n",
    "    Open job search site and use selenium to capture listing of job post href links\n",
    "    \"\"\"\n",
    "\n",
    "    def __init__(self):\n",
    "        \"\"\"\n",
    "        Initialize chrome browser driver. Open job site url\n",
    "        \"\"\"\n",
    "\n",
    "        cd_path = \"D:\\\\Program Files\\\\chromedriver.exe\"\n",
    "        chrome_service = service.Service(cd_path)\n",
    "        self.driver = webdriver.Chrome(service=chrome_service)\n",
    "\n",
    "    def begin_search(self, web_page_url_list):\n",
    "        \"\"\"\n",
    "        begin search for job postings\n",
    "\n",
    "        param job_post_url_list: list of job site url addresses\n",
    "        :return:\n",
    "        \"\"\"\n",
    "        len_url_list = len(web_page_url_list)\n",
    "        print(f\"Begin search for {len_url_list} web pages\")\n",
    "\n",
    "        for web_page_url in web_page_url_list:\n",
    "            try:\n",
    "                self.driver.get(web_page_url)\n",
    "\n",
    "                # get a list of the href job titles on job postings page\n",
    "                job_post_hrefs = self.get_job_postings()\n",
    "\n",
    "                # write list of job post hrefs to CSV file\n",
    "                job_posting = JobPosting(\"denver\")\n",
    "                job_posting.process_job_posts(job_post_hrefs)\n",
    "\n",
    "                # sleep for two seconds\n",
    "                time.sleep(2)\n",
    "            except:\n",
    "                print(\"Exception occurred in JobPostSearch.begin_search() method. Skipping..\")\n",
    "                continue\n",
    "\n",
    "    def end_search(self):\n",
    "        self.driver.quit()\n",
    "\n",
    "    def get_job_postings(self):\n",
    "        \"\"\"\n",
    "        Call search_job_postings method on MainPage\n",
    "\n",
    "        :return: list of href links of job posts\n",
    "        \"\"\"\n",
    "        main_page = PageMain(self.driver)\n",
    "        job_href_list = main_page.search_job_postings()\n",
    "        assert len(job_href_list) > 0, \"Job href list is empty..\"\n",
    "        return job_href_list\n",
    "\n",
    "\n",
    "if __name__ == \"__main__\":\n",
    "    list_url_str = [\n",
    "        # list of urls to open and scrape\n",
    "    ]\n",
    "\n",
    "    jp = JobPostSearch()\n",
    "    jp.begin_search(list_url_str)\n",
    "    jp.end_search()\n",
    "```"
   ]
  },
  {
   "cell_type": "markdown",
   "id": "f55333a6-e06a-4615-882e-8088ed63e168",
   "metadata": {},
   "source": [
    "#### page.py\n",
    "The **PageMain** Python class iterates through job posting links for the web page via the selenium driver object"
   ]
  },
  {
   "cell_type": "markdown",
   "id": "8b1d2913-b41b-40a6-ac8c-a27f58187069",
   "metadata": {},
   "source": [
    "```Python\n",
    "from selenium.webdriver.common.by import By\n",
    "from selenium.webdriver.support.wait import WebDriverWait\n",
    "from selenium.webdriver.support import expected_conditions as EC\n",
    "\n",
    "\n",
    "class BasePage(object):\n",
    "\n",
    "    def __init__(self, driver):\n",
    "        self.driver = driver\n",
    "\n",
    "\n",
    "class PageMain(BasePage):\n",
    "    \"\"\"\n",
    "    Use selenium to get job postings href list\n",
    "    \"\"\"\n",
    "\n",
    "    def search_job_postings(self, catch=None):\n",
    "        \"\"\"\n",
    "        Iterate through job posting links for the web page via the selenium driver object\n",
    "\n",
    "        :return: list of href links to job posts\n",
    "        \"\"\"\n",
    "\n",
    "        job_href_list = []\n",
    "\n",
    "        try:\n",
    "            self.driver.maximize_window()\n",
    "\n",
    "            search_div = WebDriverWait(self.driver, 15).until(\n",
    "                EC.presence_of_element_located((By.ID, \"searchDisplay-div\"))\n",
    "            )\n",
    "\n",
    "            job_ads = search_div.find_elements(by=By.CLASS_NAME, value=\"card-title-link\")\n",
    "            assert len(job_ads) > 0, \"Job ads not found..\"\n",
    "\n",
    "            # iterate through all job title links\n",
    "            for ja in job_ads:\n",
    "                href_attr = ja.get_attribute('href')\n",
    "                job_href_list.append(href_attr)\n",
    "\n",
    "            return job_href_list\n",
    "        except Exception as e:\n",
    "            print(\"Exception occurred. \" + e)\n",
    "```"
   ]
  },
  {
   "cell_type": "markdown",
   "id": "c1f7ee43-b603-4bf5-abea-84930ad1f795",
   "metadata": {},
   "source": [
    "#### job_post_detail.py\n",
    "The **JobPosting** Python class will iterate through job posts list and get details of the job posting, and then writes detail text to output file"
   ]
  },
  {
   "cell_type": "markdown",
   "id": "9af62f26-8f2e-4654-a9fd-384c5dc816d2",
   "metadata": {},
   "source": [
    "```Python\n",
    "import requests\n",
    "from datetime import datetime as dt\n",
    "from bs4 import BeautifulSoup\n",
    "import csv\n",
    "import re\n",
    "\n",
    "\n",
    "class JobPosting(object):\n",
    "\n",
    "    def __init__(self, base_file_name):\n",
    "        now = dt.now()\n",
    "        s = now.strftime(\"%Y-%m-%d_%H-%M-%S\")\n",
    "        new_file_name = f'data/{base_file_name}_{s}.csv'\n",
    "\n",
    "        self.output_file_name = new_file_name\n",
    "\n",
    "    def process_job_posts(self, job_posts_list):\n",
    "        \"\"\"\n",
    "        Iterate through job posts list and get details of job posting\n",
    "        Write detail text to output file\n",
    "\n",
    "        :param job_posts_list: list of href links to job postings\n",
    "        :return:\n",
    "        \"\"\"\n",
    "\n",
    "        # Use BeautifulSoup to download URL\n",
    "        headers = {\n",
    "            'Access-Control-Allow-Origin': '*',\n",
    "            'Access-Control-Allow-Methods': 'GET',\n",
    "            'Access-Control-Allow-Headers': 'Content-Type',\n",
    "            'Access-Control-Max-Age': '3600',\n",
    "            'User-Agent': 'Mozilla/5.0 (X11; Ubuntu; Linux x86_64; rv:52.0) Gecko/20100101 Firefox/52.0'\n",
    "        }\n",
    "\n",
    "        # define output file\n",
    "        with open(self.output_file_name, mode='w', newline='') as csv_file:\n",
    "            field_names = ['url', 'job_title', 'job_description']\n",
    "            writer = csv.DictWriter(csv_file, fieldnames=field_names)\n",
    "            writer.writeheader()\n",
    "\n",
    "            # iterate through job posts\n",
    "            for href_attr in job_posts_list:\n",
    "                req = requests.get(href_attr, headers)\n",
    "\n",
    "                # define soup object\n",
    "                soup = BeautifulSoup(req.content, 'html.parser')\n",
    "\n",
    "                job_title = soup.find(id=\"jt\").text\n",
    "\n",
    "                str_text = soup.find(id=\"jobdescSec\").text\n",
    "                job_description = self.clean_input_string(str_text)\n",
    "\n",
    "                print(f'Writing record for {job_title} ..')\n",
    "\n",
    "                # write job detail text to output file\n",
    "                writer.writerow({'url': href_attr, 'job_title': job_title, 'job_description': job_description})\n",
    "\n",
    "    def clean_input_string(self, str_input):\n",
    "        \"\"\"\n",
    "        Remove punctuation and special characters from str_input parameter\n",
    "        :param str_input: input string\n",
    "        :return: cleaned string\n",
    "        \"\"\"\n",
    "        job_desc1 = str_input.lstrip().lower().replace(\",\", \" \").replace(\".\", \" \")\n",
    "        job_desc2 = re.sub(r\"[\\\"()\\\\\\/@&!;:#-\\?]\", \" \", job_desc1)\n",
    "        job_desc3 = re.sub(r\"('re|'s|'ll|'d)\", \" \", job_desc2)\n",
    "        job_description = job_desc3.strip()\n",
    "        return job_description\n",
    "```"
   ]
  },
  {
   "cell_type": "markdown",
   "id": "9a048bd5-b08c-4281-9f43-656a373d3eed",
   "metadata": {},
   "source": [
    "#### preprocess.py\n",
    "The **Preprocess** Python class filters stop words and extraneous words from the job description text and writes cleaned text to new output file"
   ]
  },
  {
   "cell_type": "markdown",
   "id": "ff5c0a1c-2a3b-49d5-aaf1-7e7ab74a1664",
   "metadata": {},
   "source": [
    "```Python\n",
    "import csv\n",
    "import getopt\n",
    "import os\n",
    "import re\n",
    "import sys\n",
    "from datetime import datetime as dt\n",
    "\n",
    "from nltk.corpus import stopwords\n",
    "\n",
    "\n",
    "class Preprocess(object):\n",
    "\n",
    "    def __init__(self, output_base_filename, ext, append_dtm=True):\n",
    "        now = dt.now()\n",
    "        s = now.strftime(\"%Y-%m-%d_%H-%M-%S\")\n",
    "\n",
    "        if append_dtm:\n",
    "            self.output_file_name = f'data/{output_base_filename}_{s}.{ext}'\n",
    "        else:\n",
    "            self.output_file_name = f'data/{output_base_filename}.{ext}'\n",
    "\n",
    "    def filter_words(self, input_file_name):\n",
    "        \"\"\"\n",
    "        Remove stop words from job_description text from input file. Write new job_description to new output file\n",
    "\n",
    "        :param: input_file_name->str - input file name\n",
    "\n",
    "        :return:\n",
    "        \"\"\"\n",
    "        stop_words = set(stopwords.words('english'))\n",
    "\n",
    "        csv_path = os.path.join(\"data\", input_file_name)\n",
    "        print(f'Input file is: {csv_path}')\n",
    "\n",
    "        with open(csv_path, newline=\"\") as csv_file:\n",
    "            field_names = ['city', 'url', 'job_title', 'job_description']\n",
    "            dict_reader = csv.DictReader(csv_file, fieldnames=field_names)\n",
    "\n",
    "            # define output file\n",
    "            with open(self.output_file_name, mode='w', newline='') as csv_output_file:\n",
    "                output_field_names = ['city', 'job_title', 'job_description']\n",
    "                writer = csv.DictWriter(csv_output_file, fieldnames=output_field_names)\n",
    "                writer.writeheader()\n",
    "\n",
    "                next(dict_reader)  # skip header in input file\n",
    "\n",
    "                for row in dict_reader:\n",
    "                    line = row['job_description']\n",
    "                    words = line.split()\n",
    "\n",
    "                    new_job_description = \"\"\n",
    "                    for w in words:\n",
    "                        # filter out stop words\n",
    "                        if w not in stop_words:\n",
    "                            cleaned_word = self.clean_keyword(w)\n",
    "                            if not self.exists_extraneous_word(cleaned_word):\n",
    "                                new_job_description += \" \" + cleaned_word  # check for keywords followed by word characters\n",
    "\n",
    "                    # write record to output file\n",
    "                    writer.writerow({'city': row['city'], 'job_title': row['job_title'], 'job_description': new_job_description})\n",
    "\n",
    "    def clean_keyword(self, str_text):\n",
    "        \"\"\"\n",
    "        Identify keywords which are followed by one or more characters and replace with keyword and second word\n",
    "        :param str_text: word token i.e. pythonexperience\n",
    "        :return: new keyword space followed by second word\n",
    "\n",
    "        example: clean(\"pythonexperience\") returns \"python experience\"\n",
    "        \"\"\"\n",
    "        kw_list = [\"python\", \"aws\", \"azure\", \"databricks\", \"databrick\", \"models\", \"science\", \"algorithms\",\n",
    "                   \"algorithm\", \"data\", \"ml\", \"sql\", \"postgresql\", \"postgres\", \"big\", \"hadoop\", \"pyspark\", \"spark\",\n",
    "                   \"saas\", \"analysis\", \"analyst\", \"analytics\", \"scala\", \"powerbi\", \"query\", \"devops\", \"dbms\", \"datasets\",\n",
    "                   \"cloud\", \"java\", \"scientist\", \"modeling\", \"engineer\", \"etl\", \"library\", \"alteryx\", \"airflow\", \"redshift\",\n",
    "                   \"numpy\", \"pandas\", \"code\", \"programming\", \"hdfs\", \"requirements\", \"education\", \"bases\", \"qualifications\",\n",
    "                   \"opportunities\", \"workflows\", \"required\"]\n",
    "\n",
    "        for kw in kw_list:\n",
    "            expr1 = r\"(\" + re.escape(kw) + r\")([a-zA-Z]+)\"\n",
    "\n",
    "            matches = re.match(expr1, str_text)\n",
    "            if matches is not None:\n",
    "                str_temp = re.sub(expr1, r\"\\1\" + \" \" + r\"\\2\", str_text)\n",
    "                return str_temp\n",
    "\n",
    "        return str_text\n",
    "\n",
    "    def exists_extraneous_word(self, word_arg):\n",
    "        \"\"\"\n",
    "        Returns true if word is extraneous. Other return false\n",
    "\n",
    "        The words such as \"requirements\", \"milestone\", \"qualifications\" do not add\n",
    "        any predictive value in classifying the job posting into distinct categories\n",
    "\n",
    "        :return: set of extraneous words\n",
    "        \"\"\"\n",
    "        extraneous_words = {\"data\", \"experience\", \"business\", \"work\", \"years\",\n",
    "                            \"management\", \"team\", \"teams\", \"skills\", \"solutions\", \"requirements\",\n",
    "                            \"design\", \"support\", \"knowledge\", \"new\", \"information\", \"ing\",\n",
    "                            \"technical\", \"ability\", \"s\", \"systems\", \"risk\",\t\"tools\", \"required\", \"related\",\n",
    "                            \"including\", \"technology\", \"job\", \"computer\", \"using\", \"strong\", \"services\", \"time\", \"role\",\n",
    "                            \"processes\", \"company\", \"learning\", \"quality\", \"client\", \"opportunity\"}\n",
    "\n",
    "        for ew in extraneous_words:\n",
    "            expr1 = r\"\\s*([a-zA-Z]*)(\" + re.escape(ew) + r\")\\s*\"\n",
    "\n",
    "            matches = re.match(expr1, word_arg)\n",
    "            if matches is not None:\n",
    "                return True\n",
    "\n",
    "        return False\n",
    "\n",
    "    def create_job_posting_corpus(self, input_file_name):\n",
    "        \"\"\"\n",
    "        Combine all job_descriptions from the input CSV file into one text document. This text document will be the corpus of all job descriptions and it will\n",
    "        be used for the POS (Part of Speech tagging)\n",
    "\n",
    "        :param: input_file_name->str - name of input CSV file containing all job description records\n",
    "\n",
    "        :return:\n",
    "        \"\"\"\n",
    "        csv_path = os.path.join(\"data\", input_file_name)\n",
    "        print(f'Input file is: {csv_path}')\n",
    "\n",
    "        with open(csv_path, newline=\"\") as csv_file:\n",
    "            field_names = ['city', 'job_title', 'job_description']\n",
    "            dict_reader = csv.DictReader(csv_file, fieldnames=field_names)\n",
    "            next(dict_reader)  # skip header in input file\n",
    "\n",
    "            # define output file\n",
    "            with open(self.output_file_name, mode='w', encoding='utf-8') as txt_output_file:\n",
    "                for row in dict_reader:\n",
    "                    line = row['job_description']\n",
    "                    txt_output_file.write(line)\n",
    "                    txt_output_file.write('\\n')\n",
    "\n",
    "\n",
    "def main(argv):\n",
    "    operation_task = ''\n",
    "    output_filename = ''\n",
    "\n",
    "    try:\n",
    "        opts, args = getopt.getopt(argv, \"ht:o:\", [\"task=\", \"output_file=\"])\n",
    "    except getopt.GetoptError:\n",
    "        print('preprocess_text.py -t <task (filter or corpus)> -o <output_filename>')\n",
    "        sys.exit(2)\n",
    "\n",
    "    for opt, arg in opts:\n",
    "        if opt == '-h':\n",
    "            print('preprocess_text.py -t <task (filter or corpus)> -o <output_filename>')\n",
    "            sys.exit()\n",
    "        elif opt in (\"-t\", \"--task\"):\n",
    "            operation_task = arg\n",
    "        elif opt in (\"-o\", \"--output_file\"):\n",
    "            output_filename = arg\n",
    "\n",
    "    print(f'Task is: {operation_task}')\n",
    "    print(f'Output file is: {output_filename}')\n",
    "\n",
    "    if operation_task == 'filter':\n",
    "        pre_process_text = Preprocess(output_filename, 'csv', append_dtm=False)\n",
    "        pre_process_text.filter_words(\"aggregate_job_postings.csv\")\n",
    "    elif operation_task == 'corpus':\n",
    "        pre_process_text = Preprocess(output_filename, 'txt', append_dtm=False)\n",
    "        pre_process_text.create_job_posting_corpus(\"job_postings_filtered.csv\")\n",
    "\n",
    "\n",
    "if __name__ == \"__main__\":\n",
    "    # filter out stop words and extraneous words\n",
    "    # usage: python .\\preprocess_text.py -t filter -o job_postings_filtered\n",
    "\n",
    "    # create corpus of all job descriptions\n",
    "    # usage: python .\\preprocess_text.py -t corpus -o job_postings_corpus\n",
    "\n",
    "    # For debugging..\n",
    "    # debug_args = ['-t', 'corpus', '-o', 'job_postings_corpus']\n",
    "    # main(debug_args)\n",
    "\n",
    "    main(sys.argv[1:])\n",
    "\n",
    "```"
   ]
  },
  {
   "cell_type": "markdown",
   "id": "f19d0916-becc-4941-a155-498643a384c1",
   "metadata": {
    "tags": []
   },
   "source": [
    "### Filter Job posting files\n",
    "\n",
    "Use **`Alteryx`** workflow to filter out job postings unrelated to Data Science"
   ]
  },
  {
   "attachments": {
    "809f3956-906f-487c-80b4-6a669fb43cfa.png": {
     "image/png": "[encoded data removed]"
    }
   },
   "cell_type": "markdown",
   "id": "79f7fbbe-f8e4-4770-9b65-a87100191fea",
   "metadata": {},
   "source": [
    "![job_search_files.png](attachment:809f3956-906f-487c-80b4-6a669fb43cfa.png)"
   ]
  },
  {
   "cell_type": "markdown",
   "id": "169d0e7b-e75b-47f7-95c5-74a61274e5f1",
   "metadata": {},
   "source": [
    "## Preprocessing"
   ]
  },
  {
   "cell_type": "markdown",
   "id": "3efcba86-7be7-4de2-a8dd-bb1ff52970fb",
   "metadata": {},
   "source": [
    "- Use Parts of Speech (POS) tagging on corpus of job descriptions to identify keywords and extraneous words such as \"data\", \"experience\", \"business\""
   ]
  },
  {
   "cell_type": "code",
   "execution_count": 79,
   "id": "ad3c891f-0e41-4fea-bd12-b39cf6448947",
   "metadata": {},
   "outputs": [],
   "source": [
    "txt_data = nltk.data.load('data/job_postings_corpus.txt')"
   ]
  },
  {
   "cell_type": "code",
   "execution_count": 80,
   "id": "848240e1-d93c-4d5b-aa20-6ea99d1fd8ed",
   "metadata": {},
   "outputs": [
    {
     "name": "stdout",
     "output_type": "stream",
     "text": [
      " milestone technologies hiring sr dev ops engineer based usa one clients urgent need looking someone\n"
     ]
    }
   ],
   "source": [
    "print(txt_data[0:100])"
   ]
  },
  {
   "cell_type": "code",
   "execution_count": 82,
   "id": "f96d9e37-803c-4846-aca1-313f61123032",
   "metadata": {},
   "outputs": [],
   "source": [
    "# Tokenize the article into sentences: sentences\n",
    "words = nltk.word_tokenize(txt_data)"
   ]
  },
  {
   "cell_type": "code",
   "execution_count": 83,
   "id": "85ca25e3-b447-4d6f-840c-9e5627562850",
   "metadata": {},
   "outputs": [
    {
     "data": {
      "text/plain": [
       "285044"
      ]
     },
     "execution_count": 83,
     "metadata": {},
     "output_type": "execute_result"
    }
   ],
   "source": [
    "len(words)"
   ]
  },
  {
   "cell_type": "code",
   "execution_count": 84,
   "id": "e1f9cba4-f72a-4e9b-bf25-f1dba3f62085",
   "metadata": {},
   "outputs": [
    {
     "data": {
      "text/plain": [
       "['milestone',\n",
       " 'technologies',\n",
       " 'hiring',\n",
       " 'sr',\n",
       " 'dev',\n",
       " 'ops',\n",
       " 'engineer',\n",
       " 'based',\n",
       " 'usa',\n",
       " 'one',\n",
       " 'clients',\n",
       " 'urgent',\n",
       " 'need',\n",
       " 'looking',\n",
       " 'someone',\n",
       " 'start',\n",
       " 'asap',\n",
       " 'data',\n",
       " 'science',\n",
       " 'engineer',\n",
       " 'responsible',\n",
       " 'building',\n",
       " 'ai',\n",
       " 'ml',\n",
       " 'solutions']"
      ]
     },
     "execution_count": 84,
     "metadata": {},
     "output_type": "execute_result"
    }
   ],
   "source": [
    "words[0:25]"
   ]
  },
  {
   "cell_type": "markdown",
   "id": "c2f81c2f-14ca-4bec-bb4a-91e78ba1b835",
   "metadata": {
    "tags": []
   },
   "source": [
    "### Part of Speech Tagging"
   ]
  },
  {
   "cell_type": "code",
   "execution_count": 85,
   "id": "2fd7d8c6-3afd-45d7-b894-4e54a354ec42",
   "metadata": {},
   "outputs": [],
   "source": [
    "def pos_tag_counts(words):\n",
    "    \"\"\"\n",
    "    Creates dataframe of parts of speech (pos) value counts and then prints out value_counts\n",
    "    \"\"\"\n",
    "    df = pd.DataFrame(pos_tag(words), columns=['word', 'tag'])\n",
    "    print(df.value_counts())\n",
    "    return df"
   ]
  },
  {
   "cell_type": "markdown",
   "id": "3e7b5356-6a14-4b4b-ab76-1124a10c09e6",
   "metadata": {},
   "source": [
    "#### First Pass"
   ]
  },
  {
   "cell_type": "code",
   "execution_count": 87,
   "id": "63f26b0e-f178-4a12-8d83-50ab166ae0a3",
   "metadata": {},
   "outputs": [
    {
     "name": "stdout",
     "output_type": "stream",
     "text": [
      "word           tag\n",
      "data           NNS    10180\n",
      "experience     NN      3601\n",
      "business       NN      2997\n",
      "work           NN      1696\n",
      "years          NNS     1692\n",
      "                      ...  \n",
      "relation       NN         1\n",
      "firehouse      VBP        1\n",
      "relatedwork    NN         1\n",
      "relatedfield•  NN         1\n",
      "0              CD         1\n",
      "Length: 17149, dtype: int64\n"
     ]
    }
   ],
   "source": [
    "df_1 = pos_tag_counts(words)"
   ]
  },
  {
   "cell_type": "markdown",
   "id": "cc83198b-4d69-467a-bf25-e716d93dd9ff",
   "metadata": {
    "tags": []
   },
   "source": [
    "#### Second Pass"
   ]
  },
  {
   "cell_type": "code",
   "execution_count": 88,
   "id": "22c3d481-82d5-4008-98d7-82407d899a0a",
   "metadata": {},
   "outputs": [],
   "source": [
    "txt_data2 = nltk.data.load('data/job_postings_corpus_v2.txt')"
   ]
  },
  {
   "cell_type": "code",
   "execution_count": 89,
   "id": "1a85ab7d-0b79-4fe0-ad66-5f50e91b03ea",
   "metadata": {},
   "outputs": [],
   "source": [
    "words_2 = nltk.word_tokenize(txt_data2)"
   ]
  },
  {
   "cell_type": "code",
   "execution_count": 90,
   "id": "0d6ea583-e5ff-4ada-9af6-6c6fabc9235b",
   "metadata": {},
   "outputs": [
    {
     "name": "stdout",
     "output_type": "stream",
     "text": [
      "word        tag\n",
      "management  NN     1636\n",
      "science     NN     1517\n",
      "team        NN     1475\n",
      "skills      NNS    1435\n",
      "solutions   NNS    1407\n",
      "                   ... \n",
      "remaining   VBG       1\n",
      "freight     VBD       1\n",
      "frequency   NN        1\n",
      "frequent    NN        1\n",
      "0           CD        1\n",
      "Length: 16557, dtype: int64\n"
     ]
    }
   ],
   "source": [
    "df_second = pos_tag_counts(words_2)"
   ]
  },
  {
   "cell_type": "code",
   "execution_count": 92,
   "id": "31697030-96ea-4738-abd3-03f042dd5bc7",
   "metadata": {},
   "outputs": [
    {
     "data": {
      "text/html": [
       "<div>\n",
       "<style scoped>\n",
       "    .dataframe tbody tr th:only-of-type {\n",
       "        vertical-align: middle;\n",
       "    }\n",
       "\n",
       "    .dataframe tbody tr th {\n",
       "        vertical-align: top;\n",
       "    }\n",
       "\n",
       "    .dataframe thead th {\n",
       "        text-align: right;\n",
       "    }\n",
       "</style>\n",
       "<table border=\"1\" class=\"dataframe\">\n",
       "  <thead>\n",
       "    <tr style=\"text-align: right;\">\n",
       "      <th></th>\n",
       "      <th>tag</th>\n",
       "    </tr>\n",
       "    <tr>\n",
       "      <th>word</th>\n",
       "      <th></th>\n",
       "    </tr>\n",
       "  </thead>\n",
       "  <tbody>\n",
       "    <tr>\n",
       "      <th>engineer</th>\n",
       "      <td>1774</td>\n",
       "    </tr>\n",
       "    <tr>\n",
       "      <th>team</th>\n",
       "      <td>1639</td>\n",
       "    </tr>\n",
       "    <tr>\n",
       "      <th>management</th>\n",
       "      <td>1636</td>\n",
       "    </tr>\n",
       "    <tr>\n",
       "      <th>science</th>\n",
       "      <td>1571</td>\n",
       "    </tr>\n",
       "    <tr>\n",
       "      <th>skills</th>\n",
       "      <td>1491</td>\n",
       "    </tr>\n",
       "    <tr>\n",
       "      <th>solutions</th>\n",
       "      <td>1407</td>\n",
       "    </tr>\n",
       "    <tr>\n",
       "      <th>analytics</th>\n",
       "      <td>1331</td>\n",
       "    </tr>\n",
       "    <tr>\n",
       "      <th>development</th>\n",
       "      <td>1261</td>\n",
       "    </tr>\n",
       "    <tr>\n",
       "      <th>analysis</th>\n",
       "      <td>1113</td>\n",
       "    </tr>\n",
       "    <tr>\n",
       "      <th>requirements</th>\n",
       "      <td>1108</td>\n",
       "    </tr>\n",
       "    <tr>\n",
       "      <th>design</th>\n",
       "      <td>1082</td>\n",
       "    </tr>\n",
       "    <tr>\n",
       "      <th>support</th>\n",
       "      <td>1059</td>\n",
       "    </tr>\n",
       "    <tr>\n",
       "      <th>knowledge</th>\n",
       "      <td>1057</td>\n",
       "    </tr>\n",
       "    <tr>\n",
       "      <th>new</th>\n",
       "      <td>1026</td>\n",
       "    </tr>\n",
       "    <tr>\n",
       "      <th>information</th>\n",
       "      <td>1022</td>\n",
       "    </tr>\n",
       "    <tr>\n",
       "      <th>ing</th>\n",
       "      <td>997</td>\n",
       "    </tr>\n",
       "    <tr>\n",
       "      <th>technical</th>\n",
       "      <td>994</td>\n",
       "    </tr>\n",
       "    <tr>\n",
       "      <th>ability</th>\n",
       "      <td>990</td>\n",
       "    </tr>\n",
       "    <tr>\n",
       "      <th>s</th>\n",
       "      <td>985</td>\n",
       "    </tr>\n",
       "    <tr>\n",
       "      <th>systems</th>\n",
       "      <td>965</td>\n",
       "    </tr>\n",
       "    <tr>\n",
       "      <th>sql</th>\n",
       "      <td>958</td>\n",
       "    </tr>\n",
       "    <tr>\n",
       "      <th>risk</th>\n",
       "      <td>940</td>\n",
       "    </tr>\n",
       "    <tr>\n",
       "      <th>•</th>\n",
       "      <td>936</td>\n",
       "    </tr>\n",
       "    <tr>\n",
       "      <th>tools</th>\n",
       "      <td>912</td>\n",
       "    </tr>\n",
       "    <tr>\n",
       "      <th>required</th>\n",
       "      <td>899</td>\n",
       "    </tr>\n",
       "    <tr>\n",
       "      <th>related</th>\n",
       "      <td>899</td>\n",
       "    </tr>\n",
       "    <tr>\n",
       "      <th>including</th>\n",
       "      <td>896</td>\n",
       "    </tr>\n",
       "    <tr>\n",
       "      <th>technology</th>\n",
       "      <td>887</td>\n",
       "    </tr>\n",
       "    <tr>\n",
       "      <th>job</th>\n",
       "      <td>862</td>\n",
       "    </tr>\n",
       "    <tr>\n",
       "      <th>cloud</th>\n",
       "      <td>843</td>\n",
       "    </tr>\n",
       "    <tr>\n",
       "      <th>degree</th>\n",
       "      <td>828</td>\n",
       "    </tr>\n",
       "    <tr>\n",
       "      <th>computer</th>\n",
       "      <td>799</td>\n",
       "    </tr>\n",
       "    <tr>\n",
       "      <th>using</th>\n",
       "      <td>775</td>\n",
       "    </tr>\n",
       "    <tr>\n",
       "      <th>strong</th>\n",
       "      <td>753</td>\n",
       "    </tr>\n",
       "    <tr>\n",
       "      <th>models</th>\n",
       "      <td>709</td>\n",
       "    </tr>\n",
       "    <tr>\n",
       "      <th>teams</th>\n",
       "      <td>693</td>\n",
       "    </tr>\n",
       "    <tr>\n",
       "      <th>services</th>\n",
       "      <td>667</td>\n",
       "    </tr>\n",
       "    <tr>\n",
       "      <th>time</th>\n",
       "      <td>662</td>\n",
       "    </tr>\n",
       "    <tr>\n",
       "      <th>role</th>\n",
       "      <td>657</td>\n",
       "    </tr>\n",
       "    <tr>\n",
       "      <th>software</th>\n",
       "      <td>657</td>\n",
       "    </tr>\n",
       "    <tr>\n",
       "      <th>processes</th>\n",
       "      <td>656</td>\n",
       "    </tr>\n",
       "    <tr>\n",
       "      <th>company</th>\n",
       "      <td>647</td>\n",
       "    </tr>\n",
       "    <tr>\n",
       "      <th>learning</th>\n",
       "      <td>642</td>\n",
       "    </tr>\n",
       "    <tr>\n",
       "      <th>develop</th>\n",
       "      <td>641</td>\n",
       "    </tr>\n",
       "    <tr>\n",
       "      <th>modeling</th>\n",
       "      <td>629</td>\n",
       "    </tr>\n",
       "    <tr>\n",
       "      <th>python</th>\n",
       "      <td>618</td>\n",
       "    </tr>\n",
       "    <tr>\n",
       "      <th>quality</th>\n",
       "      <td>616</td>\n",
       "    </tr>\n",
       "    <tr>\n",
       "      <th>client</th>\n",
       "      <td>616</td>\n",
       "    </tr>\n",
       "    <tr>\n",
       "      <th>analyst</th>\n",
       "      <td>616</td>\n",
       "    </tr>\n",
       "    <tr>\n",
       "      <th>opportunity</th>\n",
       "      <td>607</td>\n",
       "    </tr>\n",
       "  </tbody>\n",
       "</table>\n",
       "</div>"
      ],
      "text/plain": [
       "               tag\n",
       "word              \n",
       "engineer      1774\n",
       "team          1639\n",
       "management    1636\n",
       "science       1571\n",
       "skills        1491\n",
       "solutions     1407\n",
       "analytics     1331\n",
       "development   1261\n",
       "analysis      1113\n",
       "requirements  1108\n",
       "design        1082\n",
       "support       1059\n",
       "knowledge     1057\n",
       "new           1026\n",
       "information   1022\n",
       "ing            997\n",
       "technical      994\n",
       "ability        990\n",
       "s              985\n",
       "systems        965\n",
       "sql            958\n",
       "risk           940\n",
       "•              936\n",
       "tools          912\n",
       "required       899\n",
       "related        899\n",
       "including      896\n",
       "technology     887\n",
       "job            862\n",
       "cloud          843\n",
       "degree         828\n",
       "computer       799\n",
       "using          775\n",
       "strong         753\n",
       "models         709\n",
       "teams          693\n",
       "services       667\n",
       "time           662\n",
       "role           657\n",
       "software       657\n",
       "processes      656\n",
       "company        647\n",
       "learning       642\n",
       "develop        641\n",
       "modeling       629\n",
       "python         618\n",
       "quality        616\n",
       "client         616\n",
       "analyst        616\n",
       "opportunity    607"
      ]
     },
     "execution_count": 92,
     "metadata": {},
     "output_type": "execute_result"
    }
   ],
   "source": [
    "word_count_series = df_second.groupby([\"word\"])[\"tag\"].count().sort_values(ascending=False)\n",
    "word_count_df = pd.DataFrame(word_count_series)\n",
    "word_count_df.head(50)"
   ]
  },
  {
   "cell_type": "markdown",
   "id": "d90f2f5d-c9e5-4af6-84ac-84f974888489",
   "metadata": {},
   "source": [
    "#### Third Pass"
   ]
  },
  {
   "cell_type": "code",
   "execution_count": 93,
   "id": "14797508-00be-48b3-959e-faa304ed5fe6",
   "metadata": {},
   "outputs": [],
   "source": [
    "txt_data3 = nltk.data.load('data/job_postings_corpus_v3.txt')"
   ]
  },
  {
   "cell_type": "code",
   "execution_count": 94,
   "id": "dbc21fb0-e6c4-4afe-a3a8-87eb3adec1ef",
   "metadata": {},
   "outputs": [],
   "source": [
    "words_3 = nltk.word_tokenize(txt_data3)"
   ]
  },
  {
   "cell_type": "code",
   "execution_count": 95,
   "id": "4a47cc1f-9fab-4f7f-ad74-18fe6af48a73",
   "metadata": {},
   "outputs": [
    {
     "name": "stdout",
     "output_type": "stream",
     "text": [
      "word          tag\n",
      "science       NN     1520\n",
      "engineer      NN     1338\n",
      "analytics     NNS    1306\n",
      "development   NN     1261\n",
      "requirements  NNS    1108\n",
      "                     ... \n",
      "refreshed     VBN       1\n",
      "fortrends     NNS       1\n",
      "fortune       NNS       1\n",
      "reflects      VBZ       1\n",
      "0             CD        1\n",
      "Length: 16363, dtype: int64\n"
     ]
    }
   ],
   "source": [
    "df_3 = pos_tag_counts(words_3)"
   ]
  },
  {
   "cell_type": "code",
   "execution_count": 101,
   "id": "f76ec686-aab8-4b46-8338-13da654c111a",
   "metadata": {},
   "outputs": [
    {
     "data": {
      "text/html": [
       "<div>\n",
       "<style scoped>\n",
       "    .dataframe tbody tr th:only-of-type {\n",
       "        vertical-align: middle;\n",
       "    }\n",
       "\n",
       "    .dataframe tbody tr th {\n",
       "        vertical-align: top;\n",
       "    }\n",
       "\n",
       "    .dataframe thead th {\n",
       "        text-align: right;\n",
       "    }\n",
       "</style>\n",
       "<table border=\"1\" class=\"dataframe\">\n",
       "  <thead>\n",
       "    <tr style=\"text-align: right;\">\n",
       "      <th></th>\n",
       "      <th>tag</th>\n",
       "    </tr>\n",
       "    <tr>\n",
       "      <th>word</th>\n",
       "      <th></th>\n",
       "    </tr>\n",
       "  </thead>\n",
       "  <tbody>\n",
       "    <tr>\n",
       "      <th>engineer</th>\n",
       "      <td>1774</td>\n",
       "    </tr>\n",
       "    <tr>\n",
       "      <th>science</th>\n",
       "      <td>1571</td>\n",
       "    </tr>\n",
       "    <tr>\n",
       "      <th>analytics</th>\n",
       "      <td>1331</td>\n",
       "    </tr>\n",
       "    <tr>\n",
       "      <th>development</th>\n",
       "      <td>1261</td>\n",
       "    </tr>\n",
       "    <tr>\n",
       "      <th>analysis</th>\n",
       "      <td>1113</td>\n",
       "    </tr>\n",
       "    <tr>\n",
       "      <th>requirements</th>\n",
       "      <td>1108</td>\n",
       "    </tr>\n",
       "    <tr>\n",
       "      <th>design</th>\n",
       "      <td>1082</td>\n",
       "    </tr>\n",
       "    <tr>\n",
       "      <th>support</th>\n",
       "      <td>1059</td>\n",
       "    </tr>\n",
       "    <tr>\n",
       "      <th>knowledge</th>\n",
       "      <td>1057</td>\n",
       "    </tr>\n",
       "    <tr>\n",
       "      <th>new</th>\n",
       "      <td>1026</td>\n",
       "    </tr>\n",
       "    <tr>\n",
       "      <th>information</th>\n",
       "      <td>1022</td>\n",
       "    </tr>\n",
       "    <tr>\n",
       "      <th>ing</th>\n",
       "      <td>997</td>\n",
       "    </tr>\n",
       "    <tr>\n",
       "      <th>technical</th>\n",
       "      <td>994</td>\n",
       "    </tr>\n",
       "    <tr>\n",
       "      <th>ability</th>\n",
       "      <td>990</td>\n",
       "    </tr>\n",
       "    <tr>\n",
       "      <th>s</th>\n",
       "      <td>971</td>\n",
       "    </tr>\n",
       "    <tr>\n",
       "      <th>systems</th>\n",
       "      <td>965</td>\n",
       "    </tr>\n",
       "    <tr>\n",
       "      <th>sql</th>\n",
       "      <td>958</td>\n",
       "    </tr>\n",
       "    <tr>\n",
       "      <th>risk</th>\n",
       "      <td>940</td>\n",
       "    </tr>\n",
       "    <tr>\n",
       "      <th>•</th>\n",
       "      <td>936</td>\n",
       "    </tr>\n",
       "    <tr>\n",
       "      <th>tools</th>\n",
       "      <td>912</td>\n",
       "    </tr>\n",
       "    <tr>\n",
       "      <th>required</th>\n",
       "      <td>899</td>\n",
       "    </tr>\n",
       "    <tr>\n",
       "      <th>related</th>\n",
       "      <td>899</td>\n",
       "    </tr>\n",
       "    <tr>\n",
       "      <th>including</th>\n",
       "      <td>896</td>\n",
       "    </tr>\n",
       "    <tr>\n",
       "      <th>technology</th>\n",
       "      <td>887</td>\n",
       "    </tr>\n",
       "    <tr>\n",
       "      <th>job</th>\n",
       "      <td>862</td>\n",
       "    </tr>\n",
       "    <tr>\n",
       "      <th>cloud</th>\n",
       "      <td>843</td>\n",
       "    </tr>\n",
       "    <tr>\n",
       "      <th>degree</th>\n",
       "      <td>828</td>\n",
       "    </tr>\n",
       "    <tr>\n",
       "      <th>computer</th>\n",
       "      <td>799</td>\n",
       "    </tr>\n",
       "    <tr>\n",
       "      <th>using</th>\n",
       "      <td>775</td>\n",
       "    </tr>\n",
       "    <tr>\n",
       "      <th>strong</th>\n",
       "      <td>753</td>\n",
       "    </tr>\n",
       "    <tr>\n",
       "      <th>models</th>\n",
       "      <td>709</td>\n",
       "    </tr>\n",
       "    <tr>\n",
       "      <th>services</th>\n",
       "      <td>667</td>\n",
       "    </tr>\n",
       "    <tr>\n",
       "      <th>time</th>\n",
       "      <td>662</td>\n",
       "    </tr>\n",
       "    <tr>\n",
       "      <th>software</th>\n",
       "      <td>657</td>\n",
       "    </tr>\n",
       "    <tr>\n",
       "      <th>role</th>\n",
       "      <td>657</td>\n",
       "    </tr>\n",
       "    <tr>\n",
       "      <th>processes</th>\n",
       "      <td>656</td>\n",
       "    </tr>\n",
       "    <tr>\n",
       "      <th>company</th>\n",
       "      <td>647</td>\n",
       "    </tr>\n",
       "    <tr>\n",
       "      <th>learning</th>\n",
       "      <td>642</td>\n",
       "    </tr>\n",
       "    <tr>\n",
       "      <th>develop</th>\n",
       "      <td>641</td>\n",
       "    </tr>\n",
       "    <tr>\n",
       "      <th>modeling</th>\n",
       "      <td>629</td>\n",
       "    </tr>\n",
       "    <tr>\n",
       "      <th>python</th>\n",
       "      <td>618</td>\n",
       "    </tr>\n",
       "    <tr>\n",
       "      <th>client</th>\n",
       "      <td>616</td>\n",
       "    </tr>\n",
       "    <tr>\n",
       "      <th>quality</th>\n",
       "      <td>616</td>\n",
       "    </tr>\n",
       "    <tr>\n",
       "      <th>analyst</th>\n",
       "      <td>616</td>\n",
       "    </tr>\n",
       "    <tr>\n",
       "      <th>opportunity</th>\n",
       "      <td>607</td>\n",
       "    </tr>\n",
       "    <tr>\n",
       "      <th>understanding</th>\n",
       "      <td>606</td>\n",
       "    </tr>\n",
       "    <tr>\n",
       "      <th>remote</th>\n",
       "      <td>592</td>\n",
       "    </tr>\n",
       "    <tr>\n",
       "      <th>azure</th>\n",
       "      <td>588</td>\n",
       "    </tr>\n",
       "    <tr>\n",
       "      <th>performance</th>\n",
       "      <td>574</td>\n",
       "    </tr>\n",
       "    <tr>\n",
       "      <th>provide</th>\n",
       "      <td>565</td>\n",
       "    </tr>\n",
       "  </tbody>\n",
       "</table>\n",
       "</div>"
      ],
      "text/plain": [
       "                tag\n",
       "word               \n",
       "engineer       1774\n",
       "science        1571\n",
       "analytics      1331\n",
       "development    1261\n",
       "analysis       1113\n",
       "requirements   1108\n",
       "design         1082\n",
       "support        1059\n",
       "knowledge      1057\n",
       "new            1026\n",
       "information    1022\n",
       "ing             997\n",
       "technical       994\n",
       "ability         990\n",
       "s               971\n",
       "systems         965\n",
       "sql             958\n",
       "risk            940\n",
       "•               936\n",
       "tools           912\n",
       "required        899\n",
       "related         899\n",
       "including       896\n",
       "technology      887\n",
       "job             862\n",
       "cloud           843\n",
       "degree          828\n",
       "computer        799\n",
       "using           775\n",
       "strong          753\n",
       "models          709\n",
       "services        667\n",
       "time            662\n",
       "software        657\n",
       "role            657\n",
       "processes       656\n",
       "company         647\n",
       "learning        642\n",
       "develop         641\n",
       "modeling        629\n",
       "python          618\n",
       "client          616\n",
       "quality         616\n",
       "analyst         616\n",
       "opportunity     607\n",
       "understanding   606\n",
       "remote          592\n",
       "azure           588\n",
       "performance     574\n",
       "provide         565"
      ]
     },
     "execution_count": 101,
     "metadata": {},
     "output_type": "execute_result"
    }
   ],
   "source": [
    "word_count_series_3 = df_3.groupby([\"word\"])[\"tag\"].count().sort_values(ascending=False)\n",
    "word_count_df_3 = pd.DataFrame(word_count_series_3)\n",
    "word_count_df_3.head(50)"
   ]
  },
  {
   "cell_type": "markdown",
   "id": "7359d73f-bbbb-458f-b66d-fd886280ac98",
   "metadata": {},
   "source": [
    "### Create Label Column\n",
    "\n",
    "- Use **`Alteryx`** workflow to label job postings based on keywords in the job description\n",
    "- Write output to CSV file"
   ]
  },
  {
   "attachments": {
    "d92b57a9-e2b4-4719-9815-57c1e0cb8c8c.png": {
     "image/png": "[encoded data removed]"
    }
   },
   "cell_type": "markdown",
   "id": "bce22ee6-5838-4a24-8ed6-011fce841bca",
   "metadata": {},
   "source": [
    "![create_labels_workflow.png](attachment:d92b57a9-e2b4-4719-9815-57c1e0cb8c8c.png)"
   ]
  },
  {
   "cell_type": "markdown",
   "id": "3876e19c-54d6-49a7-b0fd-35390c3d4144",
   "metadata": {},
   "source": [
    "## Job Postings Data Set\n",
    "- Read job_postings_labeled.csv which was created in preprocessing step into dataframe"
   ]
  },
  {
   "cell_type": "code",
   "execution_count": 193,
   "id": "48d92055-c3cd-4fe7-a61a-806c94e19e3b",
   "metadata": {},
   "outputs": [],
   "source": [
    "job_postings_df = pd.read_csv('data/job_postings_labeled.csv')"
   ]
  },
  {
   "cell_type": "code",
   "execution_count": 194,
   "id": "7a16d8cd-7475-4c42-8bc5-8ad2b3e19f8b",
   "metadata": {},
   "outputs": [
    {
     "name": "stdout",
     "output_type": "stream",
     "text": [
      "<class 'pandas.core.frame.DataFrame'>\n",
      "RangeIndex: 856 entries, 0 to 855\n",
      "Data columns (total 4 columns):\n",
      " #   Column           Non-Null Count  Dtype \n",
      "---  ------           --------------  ----- \n",
      " 0   city             856 non-null    object\n",
      " 1   job_title        856 non-null    object\n",
      " 2   job_description  856 non-null    object\n",
      " 3   label            856 non-null    object\n",
      "dtypes: object(4)\n",
      "memory usage: 26.9+ KB\n"
     ]
    }
   ],
   "source": [
    "job_postings_df.info()"
   ]
  },
  {
   "cell_type": "code",
   "execution_count": 195,
   "id": "2e7da0ed-8005-46f5-a1ba-4ad1a1f906db",
   "metadata": {},
   "outputs": [
    {
     "data": {
      "text/html": [
       "<div>\n",
       "<style scoped>\n",
       "    .dataframe tbody tr th:only-of-type {\n",
       "        vertical-align: middle;\n",
       "    }\n",
       "\n",
       "    .dataframe tbody tr th {\n",
       "        vertical-align: top;\n",
       "    }\n",
       "\n",
       "    .dataframe thead th {\n",
       "        text-align: right;\n",
       "    }\n",
       "</style>\n",
       "<table border=\"1\" class=\"dataframe\">\n",
       "  <thead>\n",
       "    <tr style=\"text-align: right;\">\n",
       "      <th></th>\n",
       "      <th>city</th>\n",
       "      <th>job_title</th>\n",
       "      <th>job_description</th>\n",
       "      <th>label</th>\n",
       "    </tr>\n",
       "  </thead>\n",
       "  <tbody>\n",
       "    <tr>\n",
       "      <th>0</th>\n",
       "      <td>denver</td>\n",
       "      <td>Data Science Engineer</td>\n",
       "      <td>dev engineer one urgent need engineer ai ml id...</td>\n",
       "      <td>cloud_data</td>\n",
       "    </tr>\n",
       "    <tr>\n",
       "      <th>1</th>\n",
       "      <td>denver</td>\n",
       "      <td>Data Science Trainee</td>\n",
       "      <td>equal employer committed qualified trainee joi...</td>\n",
       "      <td>modeling</td>\n",
       "    </tr>\n",
       "    <tr>\n",
       "      <th>2</th>\n",
       "      <td>denver</td>\n",
       "      <td>Visualization Consultant (Data Science)</td>\n",
       "      <td>market retail e commerce partner worlds weve...</td>\n",
       "      <td>modeling</td>\n",
       "    </tr>\n",
       "    <tr>\n",
       "      <th>3</th>\n",
       "      <td>denver</td>\n",
       "      <td>Data Science Engineer (100% Remote)</td>\n",
       "      <td>include creation delivery advanced big environ...</td>\n",
       "      <td>analytics</td>\n",
       "    </tr>\n",
       "    <tr>\n",
       "      <th>4</th>\n",
       "      <td>denver</td>\n",
       "      <td>Data Science Visualization Specialist</td>\n",
       "      <td>actively join government advanced iterative ag...</td>\n",
       "      <td>cloud_data</td>\n",
       "    </tr>\n",
       "  </tbody>\n",
       "</table>\n",
       "</div>"
      ],
      "text/plain": [
       "     city                                job_title  \\\n",
       "0  denver                    Data Science Engineer   \n",
       "1  denver                     Data Science Trainee   \n",
       "2  denver  Visualization Consultant (Data Science)   \n",
       "3  denver      Data Science Engineer (100% Remote)   \n",
       "4  denver    Data Science Visualization Specialist   \n",
       "\n",
       "                                     job_description       label  \n",
       "0  dev engineer one urgent need engineer ai ml id...  cloud_data  \n",
       "1  equal employer committed qualified trainee joi...    modeling  \n",
       "2  market retail e commerce partner worlds weve...    modeling  \n",
       "3  include creation delivery advanced big environ...   analytics  \n",
       "4  actively join government advanced iterative ag...  cloud_data  "
      ]
     },
     "execution_count": 195,
     "metadata": {},
     "output_type": "execute_result"
    }
   ],
   "source": [
    "job_postings_df.head()"
   ]
  },
  {
   "cell_type": "code",
   "execution_count": 196,
   "id": "de989955-b478-4b92-a094-ce83c8497328",
   "metadata": {},
   "outputs": [
    {
     "data": {
      "text/plain": [
       "cloud_data    454\n",
       "modeling      371\n",
       "analytics      28\n",
       "programmer      3\n",
       "Name: label, dtype: int64"
      ]
     },
     "execution_count": 196,
     "metadata": {},
     "output_type": "execute_result"
    }
   ],
   "source": [
    "job_postings_df['label'].value_counts()"
   ]
  },
  {
   "cell_type": "markdown",
   "id": "13d019f2-9f5e-4981-b505-e9dd825eec11",
   "metadata": {},
   "source": [
    "> The **`programmer`** job descriptions will be removed from data set since there are only three samples classified as programmer"
   ]
  },
  {
   "cell_type": "code",
   "execution_count": 197,
   "id": "298264b5-6458-4c16-ab55-5e347ee84b3d",
   "metadata": {},
   "outputs": [],
   "source": [
    "job_postings_df = job_postings_df.loc[job_postings_df.label!='programmer']"
   ]
  },
  {
   "cell_type": "code",
   "execution_count": 198,
   "id": "93116ad4-6d57-4136-8412-cc3d80c6ff7b",
   "metadata": {},
   "outputs": [
    {
     "name": "stdout",
     "output_type": "stream",
     "text": [
      "<class 'pandas.core.frame.DataFrame'>\n",
      "Int64Index: 853 entries, 0 to 855\n",
      "Data columns (total 4 columns):\n",
      " #   Column           Non-Null Count  Dtype \n",
      "---  ------           --------------  ----- \n",
      " 0   city             853 non-null    object\n",
      " 1   job_title        853 non-null    object\n",
      " 2   job_description  853 non-null    object\n",
      " 3   label            853 non-null    object\n",
      "dtypes: object(4)\n",
      "memory usage: 33.3+ KB\n"
     ]
    }
   ],
   "source": [
    "job_postings_df.info()"
   ]
  },
  {
   "cell_type": "code",
   "execution_count": 199,
   "id": "5d5393af-b1a8-40f0-bb2c-6ae7b3ee13b7",
   "metadata": {},
   "outputs": [
    {
     "data": {
      "image/png": "[encoded data removed]",
      "text/plain": [
       "<Figure size 432x288 with 1 Axes>"
      ]
     },
     "metadata": {
      "needs_background": "light"
     },
     "output_type": "display_data"
    }
   ],
   "source": [
    "job_postings_df['label'].value_counts().plot(kind='bar')\n",
    "plt.title(\"Job Posting Labels\")\n",
    "plt.ylabel(\"Count\")\n",
    "plt.xlabel(\"Class\")\n",
    "plt.show()"
   ]
  },
  {
   "cell_type": "code",
   "execution_count": 200,
   "id": "3d1126e6-ddc2-4afa-bf5a-d5887860e306",
   "metadata": {},
   "outputs": [
    {
     "data": {
      "text/plain": [
       "cloud_data    454\n",
       "modeling      371\n",
       "analytics      28\n",
       "Name: label, dtype: int64"
      ]
     },
     "execution_count": 200,
     "metadata": {},
     "output_type": "execute_result"
    }
   ],
   "source": [
    "job_postings_df['label'].value_counts()"
   ]
  },
  {
   "cell_type": "markdown",
   "id": "0792aa76-2455-49ea-a908-9f7505fd6df1",
   "metadata": {},
   "source": [
    "### Encode labels"
   ]
  },
  {
   "cell_type": "code",
   "execution_count": 201,
   "id": "d2d3c713-9989-4177-8f24-eaa8af18b7dd",
   "metadata": {},
   "outputs": [
    {
     "data": {
      "text/plain": [
       "{'analytics': 0, 'cloud_data': 1, 'modeling': 2}"
      ]
     },
     "execution_count": 201,
     "metadata": {},
     "output_type": "execute_result"
    }
   ],
   "source": [
    "class_map = {label:idx for idx, label in enumerate(np.unique(job_postings_df['label']))}\n",
    "class_map"
   ]
  },
  {
   "cell_type": "code",
   "execution_count": 202,
   "id": "289db8d5-7152-4eec-b22e-bcf1196d90d5",
   "metadata": {},
   "outputs": [],
   "source": [
    "job_postings_df['class_label'] = job_postings_df['label'].map(class_map)"
   ]
  },
  {
   "cell_type": "code",
   "execution_count": 203,
   "id": "67728ef9-4d49-4547-a9ff-32c786d27499",
   "metadata": {},
   "outputs": [
    {
     "data": {
      "text/html": [
       "<div>\n",
       "<style scoped>\n",
       "    .dataframe tbody tr th:only-of-type {\n",
       "        vertical-align: middle;\n",
       "    }\n",
       "\n",
       "    .dataframe tbody tr th {\n",
       "        vertical-align: top;\n",
       "    }\n",
       "\n",
       "    .dataframe thead th {\n",
       "        text-align: right;\n",
       "    }\n",
       "</style>\n",
       "<table border=\"1\" class=\"dataframe\">\n",
       "  <thead>\n",
       "    <tr style=\"text-align: right;\">\n",
       "      <th></th>\n",
       "      <th>city</th>\n",
       "      <th>job_title</th>\n",
       "      <th>job_description</th>\n",
       "      <th>label</th>\n",
       "      <th>class_label</th>\n",
       "    </tr>\n",
       "  </thead>\n",
       "  <tbody>\n",
       "    <tr>\n",
       "      <th>0</th>\n",
       "      <td>denver</td>\n",
       "      <td>Data Science Engineer</td>\n",
       "      <td>dev engineer one urgent need engineer ai ml id...</td>\n",
       "      <td>cloud_data</td>\n",
       "      <td>1</td>\n",
       "    </tr>\n",
       "    <tr>\n",
       "      <th>1</th>\n",
       "      <td>denver</td>\n",
       "      <td>Data Science Trainee</td>\n",
       "      <td>equal employer committed qualified trainee joi...</td>\n",
       "      <td>modeling</td>\n",
       "      <td>2</td>\n",
       "    </tr>\n",
       "    <tr>\n",
       "      <th>2</th>\n",
       "      <td>denver</td>\n",
       "      <td>Visualization Consultant (Data Science)</td>\n",
       "      <td>market retail e commerce partner worlds weve...</td>\n",
       "      <td>modeling</td>\n",
       "      <td>2</td>\n",
       "    </tr>\n",
       "    <tr>\n",
       "      <th>3</th>\n",
       "      <td>denver</td>\n",
       "      <td>Data Science Engineer (100% Remote)</td>\n",
       "      <td>include creation delivery advanced big environ...</td>\n",
       "      <td>analytics</td>\n",
       "      <td>0</td>\n",
       "    </tr>\n",
       "    <tr>\n",
       "      <th>4</th>\n",
       "      <td>denver</td>\n",
       "      <td>Data Science Visualization Specialist</td>\n",
       "      <td>actively join government advanced iterative ag...</td>\n",
       "      <td>cloud_data</td>\n",
       "      <td>1</td>\n",
       "    </tr>\n",
       "  </tbody>\n",
       "</table>\n",
       "</div>"
      ],
      "text/plain": [
       "     city                                job_title  \\\n",
       "0  denver                    Data Science Engineer   \n",
       "1  denver                     Data Science Trainee   \n",
       "2  denver  Visualization Consultant (Data Science)   \n",
       "3  denver      Data Science Engineer (100% Remote)   \n",
       "4  denver    Data Science Visualization Specialist   \n",
       "\n",
       "                                     job_description       label  class_label  \n",
       "0  dev engineer one urgent need engineer ai ml id...  cloud_data            1  \n",
       "1  equal employer committed qualified trainee joi...    modeling            2  \n",
       "2  market retail e commerce partner worlds weve...    modeling            2  \n",
       "3  include creation delivery advanced big environ...   analytics            0  \n",
       "4  actively join government advanced iterative ag...  cloud_data            1  "
      ]
     },
     "execution_count": 203,
     "metadata": {},
     "output_type": "execute_result"
    }
   ],
   "source": [
    "job_postings_df.head()"
   ]
  },
  {
   "cell_type": "markdown",
   "id": "f0e50ad5-085a-4922-8fa8-23ca394305f0",
   "metadata": {},
   "source": [
    "### Split dataframe into Training and Test sets"
   ]
  },
  {
   "cell_type": "code",
   "execution_count": 204,
   "id": "c3e7d310-b780-4179-90c7-b3001bc63cf5",
   "metadata": {},
   "outputs": [],
   "source": [
    "dataset = job_postings_df[['job_description', 'class_label']]"
   ]
  },
  {
   "cell_type": "code",
   "execution_count": 205,
   "id": "e96065d6-8a83-4368-aa4c-eac4782ef551",
   "metadata": {},
   "outputs": [
    {
     "data": {
      "text/html": [
       "<div>\n",
       "<style scoped>\n",
       "    .dataframe tbody tr th:only-of-type {\n",
       "        vertical-align: middle;\n",
       "    }\n",
       "\n",
       "    .dataframe tbody tr th {\n",
       "        vertical-align: top;\n",
       "    }\n",
       "\n",
       "    .dataframe thead th {\n",
       "        text-align: right;\n",
       "    }\n",
       "</style>\n",
       "<table border=\"1\" class=\"dataframe\">\n",
       "  <thead>\n",
       "    <tr style=\"text-align: right;\">\n",
       "      <th></th>\n",
       "      <th>job_description</th>\n",
       "      <th>class_label</th>\n",
       "    </tr>\n",
       "  </thead>\n",
       "  <tbody>\n",
       "    <tr>\n",
       "      <th>0</th>\n",
       "      <td>dev engineer one urgent need engineer ai ml id...</td>\n",
       "      <td>1</td>\n",
       "    </tr>\n",
       "    <tr>\n",
       "      <th>1</th>\n",
       "      <td>equal employer committed qualified trainee joi...</td>\n",
       "      <td>2</td>\n",
       "    </tr>\n",
       "    <tr>\n",
       "      <th>2</th>\n",
       "      <td>market retail e commerce partner worlds weve...</td>\n",
       "      <td>2</td>\n",
       "    </tr>\n",
       "    <tr>\n",
       "      <th>3</th>\n",
       "      <td>include creation delivery advanced big environ...</td>\n",
       "      <td>0</td>\n",
       "    </tr>\n",
       "    <tr>\n",
       "      <th>4</th>\n",
       "      <td>actively join government advanced iterative ag...</td>\n",
       "      <td>1</td>\n",
       "    </tr>\n",
       "  </tbody>\n",
       "</table>\n",
       "</div>"
      ],
      "text/plain": [
       "                                     job_description  class_label\n",
       "0  dev engineer one urgent need engineer ai ml id...            1\n",
       "1  equal employer committed qualified trainee joi...            2\n",
       "2  market retail e commerce partner worlds weve...            2\n",
       "3  include creation delivery advanced big environ...            0\n",
       "4  actively join government advanced iterative ag...            1"
      ]
     },
     "execution_count": 205,
     "metadata": {},
     "output_type": "execute_result"
    }
   ],
   "source": [
    "dataset.head()"
   ]
  },
  {
   "cell_type": "code",
   "execution_count": 206,
   "id": "03c5bcc8-0661-4678-992a-2b5e22592881",
   "metadata": {},
   "outputs": [],
   "source": [
    "X = dataset.iloc[:, :-1].values\n",
    "y = dataset.iloc[:, -1].values"
   ]
  },
  {
   "cell_type": "code",
   "execution_count": 207,
   "id": "e3ac4eb8-1b73-4c30-a73b-4b4e525917e0",
   "metadata": {},
   "outputs": [],
   "source": [
    "X_train, X_test, y_train, y_test = train_test_split(X, y, test_size=0.2, random_state = 0)"
   ]
  },
  {
   "cell_type": "code",
   "execution_count": 208,
   "id": "b63819fb-cf34-401f-b4dc-ddea4563e441",
   "metadata": {},
   "outputs": [
    {
     "data": {
      "text/plain": [
       "array([['property domain remote candidate contractcorp corp welcome apply dot dot com input output internal validation property domain target unexpected back third party analyze integrate analytical problem documentation communication bachelor\\x92s degree major equivalent'],\n",
       "       ['optimize profit minimize turnover help make better complex market behavior reach accuracy yearly total pay remote bachelor graduate degree engineer ing equivalent problem machine critical attention detaila leader critical thinker contribute collection neededverify accurate effectively broader identify needed produce future may apply'],\n",
       "       ['private group llc veteran owned firm northern virginia commercial federal agile provide competitive advantage like join tech that\\x92s agile reality federal attitude ethic growth that\\x92s tangible impact world culture life balance apart none provide contribute within collaborative difference challenge grow careerwe realize honor large operate centricity core embrace innovation creativitywe take aim excellence conduct integrity offer culture open communication believe healthy life balance offer competitive pay bi annual performance program family live healthy offer full remote flex entry mid level engineer excited employ creativity build highly variety government private developer incorporated talented track record variety flight agile engineer s develop deploy maintain follow \\x96 actively advice well thoroughly motivated learner \\x96 learnattention identify elevate right people organizational analytical critical convert friendly power bi platform webexcellent verbal written variety flat azure cdm power bi relational linux python r c java script c php groovy control gitagile development lifecycleeducation ba degree prior vacontractual obtain maintain public remote'],\n",
       "       ['manager engineer ing number manager lead efficient performant tier reliable internal external platform engineer s engineer s platform intricate web limited oracle greenplum cloud play digital internet artificial intelligence machine well modernization legacy partner provide well internal bi engineer ing integration cloud followed balance people deliver operational candidate platform proven drive enable development move quicker ideal candidate need expert background wide variety corporate pa center tampa fl open qualified one two people know big yellow much year chain world award key people great people really cool ultimately help develop keep forward implement operationalize platform participate integration pipeline implementation platform develop road map audit capacity future lead multiple level concurrently align budget vendor provided cloud manage platform growth feedback participate architecture review board application end end provide guidance integration development major large production create run contribute platform operational well current maintain depth level create backup recovery platform bachelor degree project itil operational agile methodology jira preferred complete engineer ing graph ql vendor delivery within oracle greenplum hadoop cloud preferred lake bi qlik preferred public cloud preferred integration deployment configuration automation integration etl kafka rabbitmq preferred automation cloud formation terraform etc preferred current cloud memory cache gemfire machine ai environment preferred individual contributor dba preferred thorough ldap certificate proven ethic integrity improvement goal oriented may include motivated empathetic approachable energetic upbeat regular predictable full attendance function travel location complete employment application background include employment education criminal drug mental met perform may made enable perform read communicate verbally written form remember analyze certain remember certain may walk frequently touch handle feel reach able lift move kg include peripheral depth perception equal employer truck truck co l p headquartered corporation automotive group co ltd global provider premier fleet north america america europe product include full truck contract maintenance commercial truck truck chain www com learn dice kennedy blvd kennedy blvd tampa fl primary location united florida tampa oracle ca edit ptl manager req id'],\n",
       "       ['nonprofit nyc aim find treatment better life people major engineer environment azure environment degree relatable 4 development api development collaborative oriented tech breakdown 100 python c kafka code azure power bi daily current environment azure provide help drive offer equity offered receive plan annual health dental 401 k pto open fully remote currently authorized united future motion recruitment contract contracttohire direct hire major north american unique today demand tech paired deep local exemplary track record lipb1']],\n",
       "      dtype=object)"
      ]
     },
     "execution_count": 208,
     "metadata": {},
     "output_type": "execute_result"
    }
   ],
   "source": [
    "X_train[:5]"
   ]
  },
  {
   "cell_type": "code",
   "execution_count": 209,
   "id": "1bb39638-9534-413d-bbdb-1f9301be6918",
   "metadata": {},
   "outputs": [
    {
     "data": {
      "text/plain": [
       "array([2, 2, 1, 1, 1], dtype=int64)"
      ]
     },
     "execution_count": 209,
     "metadata": {},
     "output_type": "execute_result"
    }
   ],
   "source": [
    "y_train[:5]"
   ]
  },
  {
   "cell_type": "markdown",
   "id": "db1512c0-f6c2-47fe-8b14-201068fe5cda",
   "metadata": {},
   "source": [
    "### Word tokenization"
   ]
  },
  {
   "cell_type": "code",
   "execution_count": 210,
   "id": "7ea244f0-a21f-4e01-859e-32d0b9f79bbc",
   "metadata": {},
   "outputs": [],
   "source": [
    "train_data = [line[0] for line in X_train]"
   ]
  },
  {
   "cell_type": "code",
   "execution_count": 211,
   "id": "ebdce531-dc6f-47b5-9c9a-6ff2aea29259",
   "metadata": {},
   "outputs": [
    {
     "data": {
      "text/plain": [
       "['property domain remote candidate contractcorp corp welcome apply dot dot com input output internal validation property domain target unexpected back third party analyze integrate analytical problem documentation communication bachelor\\x92s degree major equivalent',\n",
       " 'optimize profit minimize turnover help make better complex market behavior reach accuracy yearly total pay remote bachelor graduate degree engineer ing equivalent problem machine critical attention detaila leader critical thinker contribute collection neededverify accurate effectively broader identify needed produce future may apply',\n",
       " 'private group llc veteran owned firm northern virginia commercial federal agile provide competitive advantage like join tech that\\x92s agile reality federal attitude ethic growth that\\x92s tangible impact world culture life balance apart none provide contribute within collaborative difference challenge grow careerwe realize honor large operate centricity core embrace innovation creativitywe take aim excellence conduct integrity offer culture open communication believe healthy life balance offer competitive pay bi annual performance program family live healthy offer full remote flex entry mid level engineer excited employ creativity build highly variety government private developer incorporated talented track record variety flight agile engineer s develop deploy maintain follow \\x96 actively advice well thoroughly motivated learner \\x96 learnattention identify elevate right people organizational analytical critical convert friendly power bi platform webexcellent verbal written variety flat azure cdm power bi relational linux python r c java script c php groovy control gitagile development lifecycleeducation ba degree prior vacontractual obtain maintain public remote',\n",
       " 'manager engineer ing number manager lead efficient performant tier reliable internal external platform engineer s engineer s platform intricate web limited oracle greenplum cloud play digital internet artificial intelligence machine well modernization legacy partner provide well internal bi engineer ing integration cloud followed balance people deliver operational candidate platform proven drive enable development move quicker ideal candidate need expert background wide variety corporate pa center tampa fl open qualified one two people know big yellow much year chain world award key people great people really cool ultimately help develop keep forward implement operationalize platform participate integration pipeline implementation platform develop road map audit capacity future lead multiple level concurrently align budget vendor provided cloud manage platform growth feedback participate architecture review board application end end provide guidance integration development major large production create run contribute platform operational well current maintain depth level create backup recovery platform bachelor degree project itil operational agile methodology jira preferred complete engineer ing graph ql vendor delivery within oracle greenplum hadoop cloud preferred lake bi qlik preferred public cloud preferred integration deployment configuration automation integration etl kafka rabbitmq preferred automation cloud formation terraform etc preferred current cloud memory cache gemfire machine ai environment preferred individual contributor dba preferred thorough ldap certificate proven ethic integrity improvement goal oriented may include motivated empathetic approachable energetic upbeat regular predictable full attendance function travel location complete employment application background include employment education criminal drug mental met perform may made enable perform read communicate verbally written form remember analyze certain remember certain may walk frequently touch handle feel reach able lift move kg include peripheral depth perception equal employer truck truck co l p headquartered corporation automotive group co ltd global provider premier fleet north america america europe product include full truck contract maintenance commercial truck truck chain www com learn dice kennedy blvd kennedy blvd tampa fl primary location united florida tampa oracle ca edit ptl manager req id']"
      ]
     },
     "execution_count": 211,
     "metadata": {},
     "output_type": "execute_result"
    }
   ],
   "source": [
    "train_data[0:4]"
   ]
  },
  {
   "cell_type": "code",
   "execution_count": 212,
   "id": "ca9ef5b9-4432-4a5c-b926-8d2b6bc4ba50",
   "metadata": {},
   "outputs": [],
   "source": [
    "count_vectorizer = CountVectorizer()"
   ]
  },
  {
   "cell_type": "code",
   "execution_count": 213,
   "id": "7795f828-b7e2-4898-af85-122cfadfc81d",
   "metadata": {},
   "outputs": [],
   "source": [
    "train_job_descriptions = count_vectorizer.fit_transform(train_data)"
   ]
  },
  {
   "cell_type": "code",
   "execution_count": 214,
   "id": "1e005118-046d-40b1-8065-2fef53994268",
   "metadata": {},
   "outputs": [
    {
     "data": {
      "text/plain": [
       "<682x4418 sparse matrix of type '<class 'numpy.int64'>'\n",
       "\twith 70058 stored elements in Compressed Sparse Row format>"
      ]
     },
     "execution_count": 214,
     "metadata": {},
     "output_type": "execute_result"
    }
   ],
   "source": [
    "train_job_descriptions"
   ]
  },
  {
   "cell_type": "code",
   "execution_count": 215,
   "id": "c97fd78e-03c6-48c6-8155-655bb9519071",
   "metadata": {},
   "outputs": [
    {
     "name": "stdout",
     "output_type": "stream",
     "text": [
      "  (0, 3517)\t2\n",
      "  (0, 1298)\t2\n",
      "  (0, 3752)\t1\n",
      "  (0, 626)\t1\n",
      "  (0, 955)\t1\n",
      "  (0, 992)\t1\n",
      "  (0, 4325)\t1\n",
      "  (0, 304)\t1\n",
      "  (0, 1310)\t2\n",
      "  (0, 825)\t1\n",
      "  (0, 2278)\t1\n",
      "  (0, 3164)\t1\n",
      "  (0, 2307)\t1\n",
      "  (0, 4199)\t1\n",
      "  (0, 3914)\t1\n",
      "  (0, 4136)\t1\n",
      "  (0, 436)\t1\n",
      "  (0, 3995)\t1\n",
      "  (0, 3221)\t1\n",
      "  (0, 243)\t1\n",
      "  (0, 2282)\t1\n",
      "  (0, 241)\t1\n",
      "  (0, 3462)\t1\n",
      "  (0, 1289)\t1\n",
      "  (0, 853)\t1\n",
      "  (0, 435)\t1\n",
      "  (0, 1148)\t1\n",
      "  (0, 2631)\t1\n",
      "  (0, 1541)\t1\n"
     ]
    }
   ],
   "source": [
    "print(train_job_descriptions[0])"
   ]
  },
  {
   "cell_type": "markdown",
   "id": "efc41a8e-bf17-40ae-af99-5563fe8940fd",
   "metadata": {},
   "source": [
    "## Naive Bayes Classifier"
   ]
  },
  {
   "cell_type": "markdown",
   "id": "e478bd0d-0a8b-4f8e-bac9-05ff3fc91a7b",
   "metadata": {},
   "source": [
    "### Training Naive Bayes Classifier"
   ]
  },
  {
   "cell_type": "code",
   "execution_count": 216,
   "id": "3ddbbd8d-d6b3-48f4-ac43-2bdbeb7b4920",
   "metadata": {},
   "outputs": [],
   "source": [
    "mnb_classifier = MultinomialNB().fit(train_job_descriptions, y_train)"
   ]
  },
  {
   "cell_type": "code",
   "execution_count": 325,
   "id": "585b27c3-3c92-439f-a3b3-7e4b70887685",
   "metadata": {},
   "outputs": [
    {
     "data": {
      "text/plain": [
       "4418"
      ]
     },
     "execution_count": 325,
     "metadata": {},
     "output_type": "execute_result"
    }
   ],
   "source": [
    "mnb_classifier.n_features_in_"
   ]
  },
  {
   "cell_type": "markdown",
   "id": "3ada4e52-8b4e-4824-bcba-d072f969495c",
   "metadata": {},
   "source": [
    "### Testing Naive Bayes Classifier"
   ]
  },
  {
   "cell_type": "code",
   "execution_count": 220,
   "id": "a29f1b8e-77bc-4a2c-90bd-92d784e60071",
   "metadata": {},
   "outputs": [],
   "source": [
    "test_data = [line[0] for line in X_test]"
   ]
  },
  {
   "cell_type": "code",
   "execution_count": 221,
   "id": "56d19969-5b58-4f05-913c-c2b1dcfc6a22",
   "metadata": {},
   "outputs": [
    {
     "data": {
      "text/plain": [
       "['big platform development engineer remote wide overview engineer evolve cloud platform validate normalize enrich rule healthcare provide big cloud engineer ing product program platform independent backend full development engineer advanced problem competency cloud enjoy paced engineer ing develop cloud platform around governance privacy thought leader partner development execution change feature drive value partner product drive agile delivery collaboration engineer ing within change manage optimize portfolio needed big java python proven track record large engineer ing public cloud s azure backend practical multi threaded development performance engineer ing development would helpful innovation better organization effectively multi mode convey clear unique need different accountable meet general office li remotejoin today better coordinated collaborative efficient healthcare covid vaccination remain committed part health well require covid vaccination prior employment may require periodic certain addition require full covid vaccination function change healthcare covid vaccination well covid vaccination obtain prior employment compliance equal affirmative action change healthcare equal employer qualified receive employment without regard race color religion age orientation gender identity genetic national origin veteran read employment federal law read eeo law www eeoc gov eeo law www dol gov ofccp compliance pdf c pdf need accommodation application employment contact email changehealthcare comwith applicant accommodation email box accepted click www dol gov ofccp pdf pay c pdfto view pay policy california application change healthcare employment read healthcare privacy notice california collection change healthcare drug free pre employment drug applicable accordance federal local',\n",
       " 'note allow remotely however require per week therefore critical local nyc able travel office without needed one day operation flexible enough fill needed pm pm function cyber perform tier follow remediation activity tier level wide range follow incident lifecycle completion include limited critical key critical thinker analytical aptitude tier ii incident operation center threat detection threat detection conduct incident event b analyze validate threat c endpoint perform email analyze email apply appropriate enhance email e cloud analyze detected traffic defined attack validate treat determine remediation f entity behavior recognize entity activity detect intent g web application familiarity code detect h prevention analyze dlp detect exfiltration covert document future j coordinate facilitate performed within cyber operation center environment education communication internet protection remote vpn proxy nac id event organizational attention detail creative problem coupled take player engage promote unit handle multiple paced environment prioritize highly varied order maintain productivity communicate info make appropriate relative potential apply collaborative create unexpected bachelor degree cyber equivalent additional event event email header packet capture malware triage tip tech',\n",
       " 'title type contract location remote oh united migration power bi agile overview immediate object migration power bi candidate additional include proactively functionally improve multiple candidate detail oriented effectively communicate education migration office problem analytical able adapt communication different finance agile bi power bi acumen degree maintain overall integrity organization develop document maintain loaded accuracyidentify improvement help appropriate choice error detection correction control improvement functional identify integrity complex define error engineer ing conjunction help architecture key member impact level determine root make long term engineer s implement automate promote overall organizationdefine overall db bi unit validation report validation',\n",
       " 'hi remote c h candidate local bay candidate engineer bachelor degree field highly proficient java language python huge big apache java python machine google cloud platform google pub big query proc flow cloud highly detection big hadoop']"
      ]
     },
     "execution_count": 221,
     "metadata": {},
     "output_type": "execute_result"
    }
   ],
   "source": [
    "test_data[0:4]"
   ]
  },
  {
   "cell_type": "code",
   "execution_count": 222,
   "id": "adf1bfef-064d-422f-ab1d-865b5b6af3ea",
   "metadata": {},
   "outputs": [],
   "source": [
    "test_job_descriptions = count_vectorizer.transform(test_data)"
   ]
  },
  {
   "cell_type": "code",
   "execution_count": 326,
   "id": "94998856-7204-4cfd-a7bf-5f8ff02494ab",
   "metadata": {},
   "outputs": [
    {
     "data": {
      "text/plain": [
       "<171x4418 sparse matrix of type '<class 'numpy.int64'>'\n",
       "\twith 15906 stored elements in Compressed Sparse Row format>"
      ]
     },
     "execution_count": 326,
     "metadata": {},
     "output_type": "execute_result"
    }
   ],
   "source": [
    "test_job_descriptions"
   ]
  },
  {
   "cell_type": "code",
   "execution_count": 223,
   "id": "c1994286-3371-4a46-8de6-b9af3f809141",
   "metadata": {},
   "outputs": [],
   "source": [
    "test_predictions = mnb_classifier.predict(test_job_descriptions)"
   ]
  },
  {
   "cell_type": "markdown",
   "id": "0038d4f0-f02f-4d25-ba50-d791e2ceaaf7",
   "metadata": {},
   "source": [
    "### Classification Metrics"
   ]
  },
  {
   "cell_type": "code",
   "execution_count": 280,
   "id": "25a2c471-b32b-4203-8938-2fd73b1e3844",
   "metadata": {},
   "outputs": [],
   "source": [
    "def create_formatted_confusion_matrix(cm_param):\n",
    "    \"\"\"\n",
    "    Create formatted confusion matrix for confusion matrix parameter\n",
    "    \n",
    "    param: cm_param - confusion matrix\n",
    "    \"\"\"\n",
    "    fig, ax = plt.subplots(figsize=(4, 4))\n",
    "    ax.matshow(cm_param, cmap=plt.cm.Blues, alpha=0.3)\n",
    "\n",
    "    for i in range(cm_param.shape[0]):\n",
    "        for j in range(cm_param.shape[1]):\n",
    "            ax.text(x=j, y=i, s=cm_param[i, j], va='center', ha='center')\n",
    "\n",
    "    plt.title(\"Confusion Matrix\", fontweight=\"bold\", fontsize=\"12\")\n",
    "    plt.xlabel('predicted label\\n\\n'\n",
    "              'analytics: 0, cloud_data: 1, modeling: 2', fontsize=\"11.5\")\n",
    "    plt.ylabel('true label', fontsize=\"11.5\")\n",
    "\n",
    "    plt.tight_layout()\n",
    "    plt.show()"
   ]
  },
  {
   "cell_type": "code",
   "execution_count": 281,
   "id": "1575a365-b7fa-4a82-9e80-aa0d9373501c",
   "metadata": {},
   "outputs": [],
   "source": [
    "# Create confusion matrix\n",
    "cm = confusion_matrix(y_true=y_test, y_pred=test_predictions)"
   ]
  },
  {
   "cell_type": "code",
   "execution_count": 282,
   "id": "5bb96099-5609-4f7c-85b8-f2a8f812bed1",
   "metadata": {},
   "outputs": [
    {
     "data": {
      "text/plain": [
       "array([[ 0,  3,  1],\n",
       "       [ 0, 86,  5],\n",
       "       [ 0, 16, 60]], dtype=int64)"
      ]
     },
     "execution_count": 282,
     "metadata": {},
     "output_type": "execute_result"
    }
   ],
   "source": [
    "cm"
   ]
  },
  {
   "cell_type": "code",
   "execution_count": 284,
   "id": "b98e01f4-0c07-46a2-a47f-4ece517f1061",
   "metadata": {},
   "outputs": [
    {
     "data": {
      "image/png": "[encoded data removed]",
      "text/plain": [
       "<Figure size 288x288 with 1 Axes>"
      ]
     },
     "metadata": {
      "needs_background": "light"
     },
     "output_type": "display_data"
    }
   ],
   "source": [
    "create_formatted_confusion_matrix(cm)"
   ]
  },
  {
   "cell_type": "code",
   "execution_count": 270,
   "id": "205ec42a-197d-49b4-adda-d00067ea4e66",
   "metadata": {},
   "outputs": [],
   "source": [
    "classification_report = classification_report(y_test, test_predictions, target_names=[\"analytics\", \"cloud_data\", \"modeling\"], zero_division=0)"
   ]
  },
  {
   "cell_type": "code",
   "execution_count": 271,
   "id": "06962817-dbed-4ced-b538-0971516795af",
   "metadata": {},
   "outputs": [
    {
     "name": "stdout",
     "output_type": "stream",
     "text": [
      "              precision    recall  f1-score   support\n",
      "\n",
      "   analytics       0.00      0.00      0.00         4\n",
      "  cloud_data       0.82      0.95      0.88        91\n",
      "    modeling       0.91      0.79      0.85        76\n",
      "\n",
      "    accuracy                           0.85       171\n",
      "   macro avg       0.58      0.58      0.57       171\n",
      "weighted avg       0.84      0.85      0.84       171\n",
      "\n"
     ]
    }
   ],
   "source": [
    "print(classification_report)"
   ]
  },
  {
   "cell_type": "code",
   "execution_count": 273,
   "id": "066f43b9-3a65-4b49-bec5-df74b1b2df8a",
   "metadata": {},
   "outputs": [
    {
     "data": {
      "text/plain": [
       "0.8538011695906432"
      ]
     },
     "execution_count": 273,
     "metadata": {},
     "output_type": "execute_result"
    }
   ],
   "source": [
    "np.mean(y_test==test_predictions)"
   ]
  },
  {
   "cell_type": "markdown",
   "id": "a627489d-7f68-4b80-9d10-a801fba8a700",
   "metadata": {},
   "source": [
    "## Random Forest Classifier"
   ]
  },
  {
   "cell_type": "markdown",
   "id": "97051ac2-4dc1-4c7e-8e3f-be3fd15a2ff6",
   "metadata": {},
   "source": [
    "### Training Random Forest Classifier"
   ]
  },
  {
   "cell_type": "code",
   "execution_count": 319,
   "id": "9e82c574-ab06-4067-9607-db3bb058026f",
   "metadata": {},
   "outputs": [],
   "source": [
    "rf_classifier = RandomForestClassifier(random_state=0, verbose=1)"
   ]
  },
  {
   "cell_type": "code",
   "execution_count": 320,
   "id": "38178672-aaf3-4bdb-bf24-5c5be6e050a9",
   "metadata": {},
   "outputs": [
    {
     "name": "stderr",
     "output_type": "stream",
     "text": [
      "[Parallel(n_jobs=1)]: Using backend SequentialBackend with 1 concurrent workers.\n",
      "[Parallel(n_jobs=1)]: Done 100 out of 100 | elapsed:    0.1s finished\n"
     ]
    },
    {
     "data": {
      "text/plain": [
       "RandomForestClassifier(random_state=0, verbose=1)"
      ]
     },
     "execution_count": 320,
     "metadata": {},
     "output_type": "execute_result"
    }
   ],
   "source": [
    "rf_classifier.fit(train_job_descriptions, y_train)"
   ]
  },
  {
   "cell_type": "code",
   "execution_count": 324,
   "id": "303749df-2bea-4ea1-8071-15bdee6d55fe",
   "metadata": {},
   "outputs": [
    {
     "data": {
      "text/plain": [
       "4418"
      ]
     },
     "execution_count": 324,
     "metadata": {},
     "output_type": "execute_result"
    }
   ],
   "source": [
    "rf_classifier.n_features_in_"
   ]
  },
  {
   "cell_type": "markdown",
   "id": "a874f1b8-84de-47a3-88fa-1734e5d9e224",
   "metadata": {},
   "source": [
    "### Testing Random Forest Classifier"
   ]
  },
  {
   "cell_type": "code",
   "execution_count": 321,
   "id": "0affb43b-e0a5-44d2-895f-4c2cb2f46679",
   "metadata": {},
   "outputs": [
    {
     "name": "stderr",
     "output_type": "stream",
     "text": [
      "[Parallel(n_jobs=1)]: Using backend SequentialBackend with 1 concurrent workers.\n",
      "[Parallel(n_jobs=1)]: Done 100 out of 100 | elapsed:    0.0s finished\n"
     ]
    }
   ],
   "source": [
    "rf_test_predictions = rf_classifier.predict(test_job_descriptions)"
   ]
  },
  {
   "cell_type": "markdown",
   "id": "f7a41c1c-2941-419f-a02f-78bb22e1771c",
   "metadata": {},
   "source": [
    "### Classification Metrics Random Forest"
   ]
  },
  {
   "cell_type": "code",
   "execution_count": 322,
   "id": "615e0739-8b57-4762-b450-7281349c73b0",
   "metadata": {},
   "outputs": [],
   "source": [
    "# Create confusion matrix\n",
    "rf_cm = confusion_matrix(y_true=y_test, y_pred=rf_test_predictions)"
   ]
  },
  {
   "cell_type": "code",
   "execution_count": 323,
   "id": "4067730c-407b-4463-b315-0e2589a59023",
   "metadata": {},
   "outputs": [
    {
     "data": {
      "text/plain": [
       "array([[ 2,  1,  1],\n",
       "       [ 0, 90,  1],\n",
       "       [ 0,  4, 72]], dtype=int64)"
      ]
     },
     "execution_count": 323,
     "metadata": {},
     "output_type": "execute_result"
    }
   ],
   "source": [
    "rf_cm"
   ]
  },
  {
   "cell_type": "code",
   "execution_count": 298,
   "id": "4ee64bc6-85fb-494b-9a0d-2b70448e4620",
   "metadata": {},
   "outputs": [
    {
     "data": {
      "image/png": "[encoded data removed]",
      "text/plain": [
       "<Figure size 288x288 with 1 Axes>"
      ]
     },
     "metadata": {
      "needs_background": "light"
     },
     "output_type": "display_data"
    }
   ],
   "source": [
    "create_formatted_confusion_matrix(rf_cm)"
   ]
  },
  {
   "cell_type": "code",
   "execution_count": 299,
   "id": "0616d07e-6e18-46d2-9ff9-ba0294dcf01c",
   "metadata": {},
   "outputs": [],
   "source": [
    "rf_classification_report = classification_report(y_test, rf_test_predictions, target_names=[\"analytics\", \"cloud_data\", \"modeling\"], zero_division=0)"
   ]
  },
  {
   "cell_type": "code",
   "execution_count": 300,
   "id": "a23ccc89-386e-400b-8934-033d02e7d950",
   "metadata": {},
   "outputs": [
    {
     "name": "stdout",
     "output_type": "stream",
     "text": [
      "              precision    recall  f1-score   support\n",
      "\n",
      "   analytics       1.00      0.50      0.67         4\n",
      "  cloud_data       0.95      0.99      0.97        91\n",
      "    modeling       0.97      0.95      0.96        76\n",
      "\n",
      "    accuracy                           0.96       171\n",
      "   macro avg       0.97      0.81      0.86       171\n",
      "weighted avg       0.96      0.96      0.96       171\n",
      "\n"
     ]
    }
   ],
   "source": [
    "print(rf_classification_report)"
   ]
  },
  {
   "cell_type": "code",
   "execution_count": 301,
   "id": "723b3813-801f-453b-9014-c8fbfa618ea6",
   "metadata": {},
   "outputs": [
    {
     "data": {
      "text/plain": [
       "0.9590643274853801"
      ]
     },
     "execution_count": 301,
     "metadata": {},
     "output_type": "execute_result"
    }
   ],
   "source": [
    "np.mean(y_test == rf_test_predictions)"
   ]
  },
  {
   "cell_type": "markdown",
   "id": "51929422-5262-4a44-a377-2eaf2d52c739",
   "metadata": {},
   "source": [
    "## References"
   ]
  },
  {
   "cell_type": "markdown",
   "id": "c5fe1765-2867-464b-878d-76ff9a2a7a8d",
   "metadata": {},
   "source": [
    "Raschka, S.; Julian, D.; Hearty, J. Python: Deeper Insights into Machine Learning. Packt Publishing. Copyright 2016. 978-1-78712-857-6"
   ]
  },
  {
   "cell_type": "code",
   "execution_count": null,
   "id": "f6175a28-a8d5-4371-9900-dfa88518a44a",
   "metadata": {},
   "outputs": [],
   "source": []
  }
 ],
 "metadata": {
  "kernelspec": {
   "display_name": "PythonDev (3.9)",
   "language": "python",
   "name": "pythondev"
  },
  "language_info": {
   "codemirror_mode": {
    "name": "ipython",
    "version": 3
   },
   "file_extension": ".py",
   "mimetype": "text/x-python",
   "name": "python",
   "nbconvert_exporter": "python",
   "pygments_lexer": "ipython3",
   "version": "3.9.12"
  }
 },
 "nbformat": 4,
 "nbformat_minor": 5
}
