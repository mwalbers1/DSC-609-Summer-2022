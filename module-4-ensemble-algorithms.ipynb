{
 "cells": [
  {
   "cell_type": "markdown",
   "id": "76493cbb-38ac-4661-abd4-94036983cc11",
   "metadata": {},
   "source": [
    "# Ensemble Methods\n",
    "**Michael Albers**\n",
    "\n",
    "**7/30/2022**"
   ]
  },
  {
   "cell_type": "markdown",
   "id": "7b03dc4d-6c94-442e-8c19-37130a066839",
   "metadata": {
    "tags": []
   },
   "source": [
    "## Overview"
   ]
  },
  {
   "cell_type": "markdown",
   "id": "56bfb8de-b48f-46f8-b774-f7cd2bdab8f3",
   "metadata": {},
   "source": [
    "- [Decision Tree Classifier](#Decision-Tree-Classifier)\n",
    "- [Bagging Decision Tree Classifier](#Bagging-Decision-Tree-Classifier)\n",
    "- [Random Forest Classifier](#Random-Forest-Classifier)\n",
    "- [Summary](#Summary)"
   ]
  },
  {
   "cell_type": "code",
   "execution_count": 564,
   "id": "b7a57ccc-341a-4250-9b1a-f2f45fb6f230",
   "metadata": {
    "tags": []
   },
   "outputs": [],
   "source": [
    "%matplotlib inline"
   ]
  },
  {
   "cell_type": "code",
   "execution_count": 565,
   "id": "ed2650f1-3ded-4623-8cc4-bd74af7af139",
   "metadata": {},
   "outputs": [],
   "source": [
    "import warnings\n",
    "warnings.filterwarnings('ignore')"
   ]
  },
  {
   "cell_type": "code",
   "execution_count": 566,
   "id": "daa07123-5165-44c7-9c87-79507dfb8972",
   "metadata": {},
   "outputs": [],
   "source": [
    "import pandas as pd \n",
    "import numpy as np\n",
    "from matplotlib import pyplot as plt\n",
    "import seaborn as sns"
   ]
  },
  {
   "cell_type": "code",
   "execution_count": 567,
   "id": "662cbc4b-c582-4c50-9658-8114e73b967c",
   "metadata": {},
   "outputs": [],
   "source": [
    "# set default theme\n",
    "sns.set_theme()"
   ]
  },
  {
   "cell_type": "code",
   "execution_count": 568,
   "id": "fc0faab2-f31e-40f7-9041-b9535f846f2d",
   "metadata": {},
   "outputs": [],
   "source": [
    "from sklearn.model_selection import train_test_split\n",
    "from sklearn.model_selection import cross_val_score\n",
    "from sklearn.model_selection import cross_validate\n",
    "from sklearn.model_selection import StratifiedKFold\n",
    "import sklearn.model_selection"
   ]
  },
  {
   "cell_type": "code",
   "execution_count": 569,
   "id": "bb3be8f6-9e44-488a-b914-9ac6c9056e4c",
   "metadata": {},
   "outputs": [],
   "source": [
    "from sklearn.ensemble import RandomForestClassifier\n",
    "from sklearn.ensemble import BaggingClassifier\n",
    "from sklearn.tree import DecisionTreeClassifier"
   ]
  },
  {
   "cell_type": "markdown",
   "id": "b2106f02-d366-48d8-90d0-877aec2c67ee",
   "metadata": {},
   "source": [
    "## Data Set"
   ]
  },
  {
   "cell_type": "markdown",
   "id": "5fb93800-166e-4263-8243-b557fc27747d",
   "metadata": {},
   "source": [
    "The data set has statistics of every NBA basketball player during their rookie year. In addition to their normal statistics, the CSV file has a class column called “TARGET_5YRS”. TARGET_5YRS is a binary response variable that takes on the value either 1 or 0. \n",
    "\n",
    "- If TARGET_5YRS is equal to 1, it implies the player has made it to 5 or more years in the NBA. \n",
    "\n",
    "- If TARGET_5YRS is equal to 0, it implies the player either is too young to have played 5 years or did not make it to 5 years in the NBA.\n",
    "\n",
    "**Download link:**\n",
    "\n",
    "https://data.world/jz5jx/logistic-regression-and-simple-machine-learning-nba-rookies/workspace/file?filename=nba_logreg.csv"
   ]
  },
  {
   "cell_type": "markdown",
   "id": "654273f5-3c48-409a-a625-bf001008949f",
   "metadata": {},
   "source": [
    "## Load and Prepare Data"
   ]
  },
  {
   "cell_type": "code",
   "execution_count": 570,
   "id": "8c487352-7d67-403e-a607-feaf3f214cb4",
   "metadata": {},
   "outputs": [],
   "source": [
    "nba_rookie_df = pd.read_csv('data/nba_rookie_player_stats.csv')"
   ]
  },
  {
   "cell_type": "code",
   "execution_count": 571,
   "id": "d96155a8-eadb-49e3-8cc9-85bc8506b521",
   "metadata": {},
   "outputs": [
    {
     "data": {
      "text/html": [
       "<div>\n",
       "<style scoped>\n",
       "    .dataframe tbody tr th:only-of-type {\n",
       "        vertical-align: middle;\n",
       "    }\n",
       "\n",
       "    .dataframe tbody tr th {\n",
       "        vertical-align: top;\n",
       "    }\n",
       "\n",
       "    .dataframe thead th {\n",
       "        text-align: right;\n",
       "    }\n",
       "</style>\n",
       "<table border=\"1\" class=\"dataframe\">\n",
       "  <thead>\n",
       "    <tr style=\"text-align: right;\">\n",
       "      <th></th>\n",
       "      <th>Name</th>\n",
       "      <th>GP</th>\n",
       "      <th>MIN</th>\n",
       "      <th>PTS</th>\n",
       "      <th>FGM</th>\n",
       "      <th>FGA</th>\n",
       "      <th>FG%</th>\n",
       "      <th>3P Made</th>\n",
       "      <th>3PA</th>\n",
       "      <th>3P%</th>\n",
       "      <th>...</th>\n",
       "      <th>FTA</th>\n",
       "      <th>FT%</th>\n",
       "      <th>OREB</th>\n",
       "      <th>DREB</th>\n",
       "      <th>REB</th>\n",
       "      <th>AST</th>\n",
       "      <th>STL</th>\n",
       "      <th>BLK</th>\n",
       "      <th>TOV</th>\n",
       "      <th>TARGET_5Yrs</th>\n",
       "    </tr>\n",
       "  </thead>\n",
       "  <tbody>\n",
       "    <tr>\n",
       "      <th>0</th>\n",
       "      <td>A.C. Green</td>\n",
       "      <td>82</td>\n",
       "      <td>18.8</td>\n",
       "      <td>6.4</td>\n",
       "      <td>2.5</td>\n",
       "      <td>4.7</td>\n",
       "      <td>53.9</td>\n",
       "      <td>0.0</td>\n",
       "      <td>0.1</td>\n",
       "      <td>16.7</td>\n",
       "      <td>...</td>\n",
       "      <td>2.0</td>\n",
       "      <td>61.1</td>\n",
       "      <td>2.0</td>\n",
       "      <td>2.7</td>\n",
       "      <td>4.6</td>\n",
       "      <td>0.7</td>\n",
       "      <td>0.6</td>\n",
       "      <td>0.6</td>\n",
       "      <td>1.2</td>\n",
       "      <td>1.0</td>\n",
       "    </tr>\n",
       "    <tr>\n",
       "      <th>1</th>\n",
       "      <td>A.J. English</td>\n",
       "      <td>70</td>\n",
       "      <td>20.6</td>\n",
       "      <td>8.8</td>\n",
       "      <td>3.6</td>\n",
       "      <td>8.2</td>\n",
       "      <td>43.9</td>\n",
       "      <td>0.0</td>\n",
       "      <td>0.4</td>\n",
       "      <td>9.7</td>\n",
       "      <td>...</td>\n",
       "      <td>2.2</td>\n",
       "      <td>70.7</td>\n",
       "      <td>0.9</td>\n",
       "      <td>1.2</td>\n",
       "      <td>2.1</td>\n",
       "      <td>2.5</td>\n",
       "      <td>0.4</td>\n",
       "      <td>0.2</td>\n",
       "      <td>1.6</td>\n",
       "      <td>0.0</td>\n",
       "    </tr>\n",
       "    <tr>\n",
       "      <th>2</th>\n",
       "      <td>A.J. Price</td>\n",
       "      <td>56</td>\n",
       "      <td>15.4</td>\n",
       "      <td>7.3</td>\n",
       "      <td>2.6</td>\n",
       "      <td>6.3</td>\n",
       "      <td>41.0</td>\n",
       "      <td>1.1</td>\n",
       "      <td>3.1</td>\n",
       "      <td>34.5</td>\n",
       "      <td>...</td>\n",
       "      <td>1.3</td>\n",
       "      <td>80.0</td>\n",
       "      <td>0.2</td>\n",
       "      <td>1.4</td>\n",
       "      <td>1.6</td>\n",
       "      <td>1.9</td>\n",
       "      <td>0.6</td>\n",
       "      <td>0.1</td>\n",
       "      <td>1.1</td>\n",
       "      <td>1.0</td>\n",
       "    </tr>\n",
       "    <tr>\n",
       "      <th>3</th>\n",
       "      <td>Aaron Brooks</td>\n",
       "      <td>51</td>\n",
       "      <td>11.9</td>\n",
       "      <td>5.2</td>\n",
       "      <td>1.8</td>\n",
       "      <td>4.4</td>\n",
       "      <td>41.3</td>\n",
       "      <td>0.7</td>\n",
       "      <td>2.1</td>\n",
       "      <td>33.0</td>\n",
       "      <td>...</td>\n",
       "      <td>1.0</td>\n",
       "      <td>85.7</td>\n",
       "      <td>0.3</td>\n",
       "      <td>0.8</td>\n",
       "      <td>1.1</td>\n",
       "      <td>1.7</td>\n",
       "      <td>0.3</td>\n",
       "      <td>0.1</td>\n",
       "      <td>0.9</td>\n",
       "      <td>1.0</td>\n",
       "    </tr>\n",
       "    <tr>\n",
       "      <th>4</th>\n",
       "      <td>Aaron Gordon</td>\n",
       "      <td>47</td>\n",
       "      <td>17.0</td>\n",
       "      <td>5.2</td>\n",
       "      <td>2.0</td>\n",
       "      <td>4.4</td>\n",
       "      <td>44.7</td>\n",
       "      <td>0.3</td>\n",
       "      <td>1.0</td>\n",
       "      <td>27.1</td>\n",
       "      <td>...</td>\n",
       "      <td>1.3</td>\n",
       "      <td>72.1</td>\n",
       "      <td>1.0</td>\n",
       "      <td>2.6</td>\n",
       "      <td>3.6</td>\n",
       "      <td>0.7</td>\n",
       "      <td>0.5</td>\n",
       "      <td>0.5</td>\n",
       "      <td>0.8</td>\n",
       "      <td>0.0</td>\n",
       "    </tr>\n",
       "  </tbody>\n",
       "</table>\n",
       "<p>5 rows × 21 columns</p>\n",
       "</div>"
      ],
      "text/plain": [
       "           Name  GP   MIN  PTS  FGM  FGA   FG%  3P Made  3PA   3P%  ...  FTA  \\\n",
       "0    A.C. Green  82  18.8  6.4  2.5  4.7  53.9      0.0  0.1  16.7  ...  2.0   \n",
       "1  A.J. English  70  20.6  8.8  3.6  8.2  43.9      0.0  0.4   9.7  ...  2.2   \n",
       "2    A.J. Price  56  15.4  7.3  2.6  6.3  41.0      1.1  3.1  34.5  ...  1.3   \n",
       "3  Aaron Brooks  51  11.9  5.2  1.8  4.4  41.3      0.7  2.1  33.0  ...  1.0   \n",
       "4  Aaron Gordon  47  17.0  5.2  2.0  4.4  44.7      0.3  1.0  27.1  ...  1.3   \n",
       "\n",
       "    FT%  OREB  DREB  REB  AST  STL  BLK  TOV  TARGET_5Yrs  \n",
       "0  61.1   2.0   2.7  4.6  0.7  0.6  0.6  1.2          1.0  \n",
       "1  70.7   0.9   1.2  2.1  2.5  0.4  0.2  1.6          0.0  \n",
       "2  80.0   0.2   1.4  1.6  1.9  0.6  0.1  1.1          1.0  \n",
       "3  85.7   0.3   0.8  1.1  1.7  0.3  0.1  0.9          1.0  \n",
       "4  72.1   1.0   2.6  3.6  0.7  0.5  0.5  0.8          0.0  \n",
       "\n",
       "[5 rows x 21 columns]"
      ]
     },
     "execution_count": 571,
     "metadata": {},
     "output_type": "execute_result"
    }
   ],
   "source": [
    "nba_rookie_df.head()"
   ]
  },
  {
   "cell_type": "code",
   "execution_count": 572,
   "id": "c29a5cc2-36fd-4f6c-ae4b-fb80fc89b43e",
   "metadata": {},
   "outputs": [],
   "source": [
    "# take backup of data frame\n",
    "nba_rookie_df_copy = nba_rookie_df.copy()"
   ]
  },
  {
   "cell_type": "code",
   "execution_count": 573,
   "id": "b496b9a6-9411-4f3c-b9d0-b86edddfc059",
   "metadata": {},
   "outputs": [
    {
     "data": {
      "text/plain": [
       "Index(['Name', 'GP', 'MIN', 'PTS', 'FGM', 'FGA', 'FG%', '3P Made', '3PA',\n",
       "       '3P%', 'FTM', 'FTA', 'FT%', 'OREB', 'DREB', 'REB', 'AST', 'STL', 'BLK',\n",
       "       'TOV', 'TARGET_5Yrs'],\n",
       "      dtype='object')"
      ]
     },
     "execution_count": 573,
     "metadata": {},
     "output_type": "execute_result"
    }
   ],
   "source": [
    "nba_rookie_df.columns"
   ]
  },
  {
   "cell_type": "markdown",
   "id": "3c523e47-a9cc-4f7c-9f24-1ff30dcabc82",
   "metadata": {},
   "source": [
    "### Rename columns"
   ]
  },
  {
   "cell_type": "code",
   "execution_count": 574,
   "id": "264ea70d-5ae9-4b60-b129-0a664b404c97",
   "metadata": {},
   "outputs": [],
   "source": [
    "nba_rookie_df.columns = ['name', 'games_played', 'minutes', 'points', 'field_goals_made', 'field_goals_attempted', 'field_goal_pct', '3p_made',\n",
    "       '3p_attempted', '3p_pct', 'free_throws_made', 'free_throws_attempted', 'free_throws_pct', 'offensive_rebounds', 'defensive_rebounds', 'total_rebounds', 'assists', 'steals',\n",
    "       'blocks', 'turnovers', 'target_5yrs']"
   ]
  },
  {
   "cell_type": "code",
   "execution_count": 575,
   "id": "590525bd-650b-43f3-a8bc-09977e184932",
   "metadata": {},
   "outputs": [
    {
     "data": {
      "text/html": [
       "<div>\n",
       "<style scoped>\n",
       "    .dataframe tbody tr th:only-of-type {\n",
       "        vertical-align: middle;\n",
       "    }\n",
       "\n",
       "    .dataframe tbody tr th {\n",
       "        vertical-align: top;\n",
       "    }\n",
       "\n",
       "    .dataframe thead th {\n",
       "        text-align: right;\n",
       "    }\n",
       "</style>\n",
       "<table border=\"1\" class=\"dataframe\">\n",
       "  <thead>\n",
       "    <tr style=\"text-align: right;\">\n",
       "      <th></th>\n",
       "      <th>name</th>\n",
       "      <th>games_played</th>\n",
       "      <th>minutes</th>\n",
       "      <th>points</th>\n",
       "      <th>field_goals_made</th>\n",
       "      <th>field_goals_attempted</th>\n",
       "      <th>field_goal_pct</th>\n",
       "      <th>3p_made</th>\n",
       "      <th>3p_attempted</th>\n",
       "      <th>3p_pct</th>\n",
       "      <th>...</th>\n",
       "      <th>free_throws_attempted</th>\n",
       "      <th>free_throws_pct</th>\n",
       "      <th>offensive_rebounds</th>\n",
       "      <th>defensive_rebounds</th>\n",
       "      <th>total_rebounds</th>\n",
       "      <th>assists</th>\n",
       "      <th>steals</th>\n",
       "      <th>blocks</th>\n",
       "      <th>turnovers</th>\n",
       "      <th>target_5yrs</th>\n",
       "    </tr>\n",
       "  </thead>\n",
       "  <tbody>\n",
       "    <tr>\n",
       "      <th>0</th>\n",
       "      <td>A.C. Green</td>\n",
       "      <td>82</td>\n",
       "      <td>18.8</td>\n",
       "      <td>6.4</td>\n",
       "      <td>2.5</td>\n",
       "      <td>4.7</td>\n",
       "      <td>53.9</td>\n",
       "      <td>0.0</td>\n",
       "      <td>0.1</td>\n",
       "      <td>16.7</td>\n",
       "      <td>...</td>\n",
       "      <td>2.0</td>\n",
       "      <td>61.1</td>\n",
       "      <td>2.0</td>\n",
       "      <td>2.7</td>\n",
       "      <td>4.6</td>\n",
       "      <td>0.7</td>\n",
       "      <td>0.6</td>\n",
       "      <td>0.6</td>\n",
       "      <td>1.2</td>\n",
       "      <td>1.0</td>\n",
       "    </tr>\n",
       "    <tr>\n",
       "      <th>1</th>\n",
       "      <td>A.J. English</td>\n",
       "      <td>70</td>\n",
       "      <td>20.6</td>\n",
       "      <td>8.8</td>\n",
       "      <td>3.6</td>\n",
       "      <td>8.2</td>\n",
       "      <td>43.9</td>\n",
       "      <td>0.0</td>\n",
       "      <td>0.4</td>\n",
       "      <td>9.7</td>\n",
       "      <td>...</td>\n",
       "      <td>2.2</td>\n",
       "      <td>70.7</td>\n",
       "      <td>0.9</td>\n",
       "      <td>1.2</td>\n",
       "      <td>2.1</td>\n",
       "      <td>2.5</td>\n",
       "      <td>0.4</td>\n",
       "      <td>0.2</td>\n",
       "      <td>1.6</td>\n",
       "      <td>0.0</td>\n",
       "    </tr>\n",
       "    <tr>\n",
       "      <th>2</th>\n",
       "      <td>A.J. Price</td>\n",
       "      <td>56</td>\n",
       "      <td>15.4</td>\n",
       "      <td>7.3</td>\n",
       "      <td>2.6</td>\n",
       "      <td>6.3</td>\n",
       "      <td>41.0</td>\n",
       "      <td>1.1</td>\n",
       "      <td>3.1</td>\n",
       "      <td>34.5</td>\n",
       "      <td>...</td>\n",
       "      <td>1.3</td>\n",
       "      <td>80.0</td>\n",
       "      <td>0.2</td>\n",
       "      <td>1.4</td>\n",
       "      <td>1.6</td>\n",
       "      <td>1.9</td>\n",
       "      <td>0.6</td>\n",
       "      <td>0.1</td>\n",
       "      <td>1.1</td>\n",
       "      <td>1.0</td>\n",
       "    </tr>\n",
       "    <tr>\n",
       "      <th>3</th>\n",
       "      <td>Aaron Brooks</td>\n",
       "      <td>51</td>\n",
       "      <td>11.9</td>\n",
       "      <td>5.2</td>\n",
       "      <td>1.8</td>\n",
       "      <td>4.4</td>\n",
       "      <td>41.3</td>\n",
       "      <td>0.7</td>\n",
       "      <td>2.1</td>\n",
       "      <td>33.0</td>\n",
       "      <td>...</td>\n",
       "      <td>1.0</td>\n",
       "      <td>85.7</td>\n",
       "      <td>0.3</td>\n",
       "      <td>0.8</td>\n",
       "      <td>1.1</td>\n",
       "      <td>1.7</td>\n",
       "      <td>0.3</td>\n",
       "      <td>0.1</td>\n",
       "      <td>0.9</td>\n",
       "      <td>1.0</td>\n",
       "    </tr>\n",
       "    <tr>\n",
       "      <th>4</th>\n",
       "      <td>Aaron Gordon</td>\n",
       "      <td>47</td>\n",
       "      <td>17.0</td>\n",
       "      <td>5.2</td>\n",
       "      <td>2.0</td>\n",
       "      <td>4.4</td>\n",
       "      <td>44.7</td>\n",
       "      <td>0.3</td>\n",
       "      <td>1.0</td>\n",
       "      <td>27.1</td>\n",
       "      <td>...</td>\n",
       "      <td>1.3</td>\n",
       "      <td>72.1</td>\n",
       "      <td>1.0</td>\n",
       "      <td>2.6</td>\n",
       "      <td>3.6</td>\n",
       "      <td>0.7</td>\n",
       "      <td>0.5</td>\n",
       "      <td>0.5</td>\n",
       "      <td>0.8</td>\n",
       "      <td>0.0</td>\n",
       "    </tr>\n",
       "  </tbody>\n",
       "</table>\n",
       "<p>5 rows × 21 columns</p>\n",
       "</div>"
      ],
      "text/plain": [
       "           name  games_played  minutes  points  field_goals_made  \\\n",
       "0    A.C. Green            82     18.8     6.4               2.5   \n",
       "1  A.J. English            70     20.6     8.8               3.6   \n",
       "2    A.J. Price            56     15.4     7.3               2.6   \n",
       "3  Aaron Brooks            51     11.9     5.2               1.8   \n",
       "4  Aaron Gordon            47     17.0     5.2               2.0   \n",
       "\n",
       "   field_goals_attempted  field_goal_pct  3p_made  3p_attempted  3p_pct  ...  \\\n",
       "0                    4.7            53.9      0.0           0.1    16.7  ...   \n",
       "1                    8.2            43.9      0.0           0.4     9.7  ...   \n",
       "2                    6.3            41.0      1.1           3.1    34.5  ...   \n",
       "3                    4.4            41.3      0.7           2.1    33.0  ...   \n",
       "4                    4.4            44.7      0.3           1.0    27.1  ...   \n",
       "\n",
       "   free_throws_attempted  free_throws_pct  offensive_rebounds  \\\n",
       "0                    2.0             61.1                 2.0   \n",
       "1                    2.2             70.7                 0.9   \n",
       "2                    1.3             80.0                 0.2   \n",
       "3                    1.0             85.7                 0.3   \n",
       "4                    1.3             72.1                 1.0   \n",
       "\n",
       "   defensive_rebounds  total_rebounds  assists  steals  blocks  turnovers  \\\n",
       "0                 2.7             4.6      0.7     0.6     0.6        1.2   \n",
       "1                 1.2             2.1      2.5     0.4     0.2        1.6   \n",
       "2                 1.4             1.6      1.9     0.6     0.1        1.1   \n",
       "3                 0.8             1.1      1.7     0.3     0.1        0.9   \n",
       "4                 2.6             3.6      0.7     0.5     0.5        0.8   \n",
       "\n",
       "   target_5yrs  \n",
       "0          1.0  \n",
       "1          0.0  \n",
       "2          1.0  \n",
       "3          1.0  \n",
       "4          0.0  \n",
       "\n",
       "[5 rows x 21 columns]"
      ]
     },
     "execution_count": 575,
     "metadata": {},
     "output_type": "execute_result"
    }
   ],
   "source": [
    "nba_rookie_df.head()"
   ]
  },
  {
   "cell_type": "code",
   "execution_count": 576,
   "id": "732f139f-7786-4a76-9cd2-3e182c16d13c",
   "metadata": {},
   "outputs": [
    {
     "name": "stdout",
     "output_type": "stream",
     "text": [
      "<class 'pandas.core.frame.DataFrame'>\n",
      "RangeIndex: 1308 entries, 0 to 1307\n",
      "Data columns (total 21 columns):\n",
      " #   Column                 Non-Null Count  Dtype  \n",
      "---  ------                 --------------  -----  \n",
      " 0   name                   1308 non-null   object \n",
      " 1   games_played           1308 non-null   int64  \n",
      " 2   minutes                1308 non-null   float64\n",
      " 3   points                 1308 non-null   float64\n",
      " 4   field_goals_made       1308 non-null   float64\n",
      " 5   field_goals_attempted  1308 non-null   float64\n",
      " 6   field_goal_pct         1308 non-null   float64\n",
      " 7   3p_made                1308 non-null   float64\n",
      " 8   3p_attempted           1308 non-null   float64\n",
      " 9   3p_pct                 1298 non-null   float64\n",
      " 10  free_throws_made       1308 non-null   float64\n",
      " 11  free_throws_attempted  1308 non-null   float64\n",
      " 12  free_throws_pct        1308 non-null   float64\n",
      " 13  offensive_rebounds     1308 non-null   float64\n",
      " 14  defensive_rebounds     1308 non-null   float64\n",
      " 15  total_rebounds         1308 non-null   float64\n",
      " 16  assists                1308 non-null   float64\n",
      " 17  steals                 1308 non-null   float64\n",
      " 18  blocks                 1308 non-null   float64\n",
      " 19  turnovers              1308 non-null   float64\n",
      " 20  target_5yrs            1308 non-null   float64\n",
      "dtypes: float64(19), int64(1), object(1)\n",
      "memory usage: 214.7+ KB\n"
     ]
    }
   ],
   "source": [
    "nba_rookie_df.info()"
   ]
  },
  {
   "cell_type": "code",
   "execution_count": 577,
   "id": "a850482a-7e83-4ec2-9ad4-9acc2f09a64e",
   "metadata": {},
   "outputs": [
    {
     "data": {
      "text/html": [
       "<div>\n",
       "<style scoped>\n",
       "    .dataframe tbody tr th:only-of-type {\n",
       "        vertical-align: middle;\n",
       "    }\n",
       "\n",
       "    .dataframe tbody tr th {\n",
       "        vertical-align: top;\n",
       "    }\n",
       "\n",
       "    .dataframe thead th {\n",
       "        text-align: right;\n",
       "    }\n",
       "</style>\n",
       "<table border=\"1\" class=\"dataframe\">\n",
       "  <thead>\n",
       "    <tr style=\"text-align: right;\">\n",
       "      <th></th>\n",
       "      <th>games_played</th>\n",
       "      <th>minutes</th>\n",
       "      <th>points</th>\n",
       "      <th>field_goals_made</th>\n",
       "      <th>field_goals_attempted</th>\n",
       "      <th>field_goal_pct</th>\n",
       "      <th>3p_made</th>\n",
       "      <th>3p_attempted</th>\n",
       "      <th>3p_pct</th>\n",
       "      <th>free_throws_made</th>\n",
       "      <th>free_throws_attempted</th>\n",
       "      <th>free_throws_pct</th>\n",
       "      <th>offensive_rebounds</th>\n",
       "      <th>defensive_rebounds</th>\n",
       "      <th>total_rebounds</th>\n",
       "      <th>assists</th>\n",
       "      <th>steals</th>\n",
       "      <th>blocks</th>\n",
       "      <th>turnovers</th>\n",
       "      <th>target_5yrs</th>\n",
       "    </tr>\n",
       "  </thead>\n",
       "  <tbody>\n",
       "    <tr>\n",
       "      <th>count</th>\n",
       "      <td>1308.000000</td>\n",
       "      <td>1308.000000</td>\n",
       "      <td>1308.000000</td>\n",
       "      <td>1308.00000</td>\n",
       "      <td>1308.000000</td>\n",
       "      <td>1308.000000</td>\n",
       "      <td>1308.000000</td>\n",
       "      <td>1308.000000</td>\n",
       "      <td>1298.000000</td>\n",
       "      <td>1308.000000</td>\n",
       "      <td>1308.000000</td>\n",
       "      <td>1308.000000</td>\n",
       "      <td>1308.000000</td>\n",
       "      <td>1308.000000</td>\n",
       "      <td>1308.000000</td>\n",
       "      <td>1308.000000</td>\n",
       "      <td>1308.000000</td>\n",
       "      <td>1308.000000</td>\n",
       "      <td>1308.000000</td>\n",
       "      <td>1308.000000</td>\n",
       "    </tr>\n",
       "    <tr>\n",
       "      <th>mean</th>\n",
       "      <td>60.344801</td>\n",
       "      <td>17.605352</td>\n",
       "      <td>6.785321</td>\n",
       "      <td>2.62263</td>\n",
       "      <td>5.871865</td>\n",
       "      <td>44.173242</td>\n",
       "      <td>0.249083</td>\n",
       "      <td>0.781422</td>\n",
       "      <td>19.385439</td>\n",
       "      <td>1.292890</td>\n",
       "      <td>1.815291</td>\n",
       "      <td>70.330505</td>\n",
       "      <td>1.008639</td>\n",
       "      <td>2.023930</td>\n",
       "      <td>3.031575</td>\n",
       "      <td>1.543807</td>\n",
       "      <td>0.616820</td>\n",
       "      <td>0.369495</td>\n",
       "      <td>1.189144</td>\n",
       "      <td>0.623853</td>\n",
       "    </tr>\n",
       "    <tr>\n",
       "      <th>std</th>\n",
       "      <td>17.406994</td>\n",
       "      <td>8.286363</td>\n",
       "      <td>4.331749</td>\n",
       "      <td>1.67271</td>\n",
       "      <td>3.572138</td>\n",
       "      <td>6.120518</td>\n",
       "      <td>0.385813</td>\n",
       "      <td>1.066431</td>\n",
       "      <td>16.088891</td>\n",
       "      <td>0.980687</td>\n",
       "      <td>1.315755</td>\n",
       "      <td>10.545422</td>\n",
       "      <td>0.774652</td>\n",
       "      <td>1.356342</td>\n",
       "      <td>2.050380</td>\n",
       "      <td>1.468204</td>\n",
       "      <td>0.409704</td>\n",
       "      <td>0.431109</td>\n",
       "      <td>0.719977</td>\n",
       "      <td>0.484603</td>\n",
       "    </tr>\n",
       "    <tr>\n",
       "      <th>min</th>\n",
       "      <td>11.000000</td>\n",
       "      <td>3.100000</td>\n",
       "      <td>0.700000</td>\n",
       "      <td>0.30000</td>\n",
       "      <td>0.800000</td>\n",
       "      <td>23.800000</td>\n",
       "      <td>0.000000</td>\n",
       "      <td>0.000000</td>\n",
       "      <td>0.000000</td>\n",
       "      <td>0.000000</td>\n",
       "      <td>0.000000</td>\n",
       "      <td>0.000000</td>\n",
       "      <td>0.000000</td>\n",
       "      <td>0.200000</td>\n",
       "      <td>0.300000</td>\n",
       "      <td>0.000000</td>\n",
       "      <td>0.000000</td>\n",
       "      <td>0.000000</td>\n",
       "      <td>0.100000</td>\n",
       "      <td>0.000000</td>\n",
       "    </tr>\n",
       "    <tr>\n",
       "      <th>25%</th>\n",
       "      <td>47.000000</td>\n",
       "      <td>10.900000</td>\n",
       "      <td>3.700000</td>\n",
       "      <td>1.40000</td>\n",
       "      <td>3.300000</td>\n",
       "      <td>40.200000</td>\n",
       "      <td>0.000000</td>\n",
       "      <td>0.000000</td>\n",
       "      <td>0.000000</td>\n",
       "      <td>0.600000</td>\n",
       "      <td>0.900000</td>\n",
       "      <td>64.700000</td>\n",
       "      <td>0.400000</td>\n",
       "      <td>1.000000</td>\n",
       "      <td>1.500000</td>\n",
       "      <td>0.600000</td>\n",
       "      <td>0.300000</td>\n",
       "      <td>0.100000</td>\n",
       "      <td>0.700000</td>\n",
       "      <td>0.000000</td>\n",
       "    </tr>\n",
       "    <tr>\n",
       "      <th>50%</th>\n",
       "      <td>63.000000</td>\n",
       "      <td>16.100000</td>\n",
       "      <td>5.550000</td>\n",
       "      <td>2.10000</td>\n",
       "      <td>4.800000</td>\n",
       "      <td>44.050000</td>\n",
       "      <td>0.100000</td>\n",
       "      <td>0.300000</td>\n",
       "      <td>22.500000</td>\n",
       "      <td>1.000000</td>\n",
       "      <td>1.500000</td>\n",
       "      <td>71.200000</td>\n",
       "      <td>0.800000</td>\n",
       "      <td>1.700000</td>\n",
       "      <td>2.500000</td>\n",
       "      <td>1.100000</td>\n",
       "      <td>0.500000</td>\n",
       "      <td>0.200000</td>\n",
       "      <td>1.000000</td>\n",
       "      <td>1.000000</td>\n",
       "    </tr>\n",
       "    <tr>\n",
       "      <th>75%</th>\n",
       "      <td>77.000000</td>\n",
       "      <td>22.825000</td>\n",
       "      <td>8.800000</td>\n",
       "      <td>3.40000</td>\n",
       "      <td>7.500000</td>\n",
       "      <td>47.825000</td>\n",
       "      <td>0.400000</td>\n",
       "      <td>1.200000</td>\n",
       "      <td>32.700000</td>\n",
       "      <td>1.600000</td>\n",
       "      <td>2.300000</td>\n",
       "      <td>77.500000</td>\n",
       "      <td>1.400000</td>\n",
       "      <td>2.600000</td>\n",
       "      <td>3.900000</td>\n",
       "      <td>2.000000</td>\n",
       "      <td>0.800000</td>\n",
       "      <td>0.500000</td>\n",
       "      <td>1.500000</td>\n",
       "      <td>1.000000</td>\n",
       "    </tr>\n",
       "    <tr>\n",
       "      <th>max</th>\n",
       "      <td>82.000000</td>\n",
       "      <td>40.900000</td>\n",
       "      <td>28.200000</td>\n",
       "      <td>10.20000</td>\n",
       "      <td>19.800000</td>\n",
       "      <td>73.700000</td>\n",
       "      <td>2.300000</td>\n",
       "      <td>6.500000</td>\n",
       "      <td>100.000000</td>\n",
       "      <td>7.700000</td>\n",
       "      <td>10.200000</td>\n",
       "      <td>100.000000</td>\n",
       "      <td>5.300000</td>\n",
       "      <td>9.600000</td>\n",
       "      <td>13.900000</td>\n",
       "      <td>10.600000</td>\n",
       "      <td>2.500000</td>\n",
       "      <td>3.900000</td>\n",
       "      <td>4.400000</td>\n",
       "      <td>1.000000</td>\n",
       "    </tr>\n",
       "  </tbody>\n",
       "</table>\n",
       "</div>"
      ],
      "text/plain": [
       "       games_played      minutes       points  field_goals_made  \\\n",
       "count   1308.000000  1308.000000  1308.000000        1308.00000   \n",
       "mean      60.344801    17.605352     6.785321           2.62263   \n",
       "std       17.406994     8.286363     4.331749           1.67271   \n",
       "min       11.000000     3.100000     0.700000           0.30000   \n",
       "25%       47.000000    10.900000     3.700000           1.40000   \n",
       "50%       63.000000    16.100000     5.550000           2.10000   \n",
       "75%       77.000000    22.825000     8.800000           3.40000   \n",
       "max       82.000000    40.900000    28.200000          10.20000   \n",
       "\n",
       "       field_goals_attempted  field_goal_pct      3p_made  3p_attempted  \\\n",
       "count            1308.000000     1308.000000  1308.000000   1308.000000   \n",
       "mean                5.871865       44.173242     0.249083      0.781422   \n",
       "std                 3.572138        6.120518     0.385813      1.066431   \n",
       "min                 0.800000       23.800000     0.000000      0.000000   \n",
       "25%                 3.300000       40.200000     0.000000      0.000000   \n",
       "50%                 4.800000       44.050000     0.100000      0.300000   \n",
       "75%                 7.500000       47.825000     0.400000      1.200000   \n",
       "max                19.800000       73.700000     2.300000      6.500000   \n",
       "\n",
       "            3p_pct  free_throws_made  free_throws_attempted  free_throws_pct  \\\n",
       "count  1298.000000       1308.000000            1308.000000      1308.000000   \n",
       "mean     19.385439          1.292890               1.815291        70.330505   \n",
       "std      16.088891          0.980687               1.315755        10.545422   \n",
       "min       0.000000          0.000000               0.000000         0.000000   \n",
       "25%       0.000000          0.600000               0.900000        64.700000   \n",
       "50%      22.500000          1.000000               1.500000        71.200000   \n",
       "75%      32.700000          1.600000               2.300000        77.500000   \n",
       "max     100.000000          7.700000              10.200000       100.000000   \n",
       "\n",
       "       offensive_rebounds  defensive_rebounds  total_rebounds      assists  \\\n",
       "count         1308.000000         1308.000000     1308.000000  1308.000000   \n",
       "mean             1.008639            2.023930        3.031575     1.543807   \n",
       "std              0.774652            1.356342        2.050380     1.468204   \n",
       "min              0.000000            0.200000        0.300000     0.000000   \n",
       "25%              0.400000            1.000000        1.500000     0.600000   \n",
       "50%              0.800000            1.700000        2.500000     1.100000   \n",
       "75%              1.400000            2.600000        3.900000     2.000000   \n",
       "max              5.300000            9.600000       13.900000    10.600000   \n",
       "\n",
       "            steals       blocks    turnovers  target_5yrs  \n",
       "count  1308.000000  1308.000000  1308.000000  1308.000000  \n",
       "mean      0.616820     0.369495     1.189144     0.623853  \n",
       "std       0.409704     0.431109     0.719977     0.484603  \n",
       "min       0.000000     0.000000     0.100000     0.000000  \n",
       "25%       0.300000     0.100000     0.700000     0.000000  \n",
       "50%       0.500000     0.200000     1.000000     1.000000  \n",
       "75%       0.800000     0.500000     1.500000     1.000000  \n",
       "max       2.500000     3.900000     4.400000     1.000000  "
      ]
     },
     "execution_count": 577,
     "metadata": {},
     "output_type": "execute_result"
    }
   ],
   "source": [
    "nba_rookie_df.describe()"
   ]
  },
  {
   "cell_type": "markdown",
   "id": "67c6c6fb-9202-4da8-9d58-789f7acc7f44",
   "metadata": {},
   "source": [
    "## Plot Histograms"
   ]
  },
  {
   "cell_type": "code",
   "execution_count": 578,
   "id": "92f1110c-ab36-4d9b-b73f-019a2247f6f9",
   "metadata": {},
   "outputs": [],
   "source": [
    "def plot_histograms(column_list):\n",
    "    '''\n",
    "    Description: Function to plot histograms for each column in column_list argument\n",
    "    \n",
    "    args: column_list - list of columns to plot\n",
    "    '''    \n",
    "    fig, axes = plt.subplots(1, len(column_list), figsize=(20, 4))\n",
    "    for col_name, ax in zip(column_list, axes):\n",
    "        ax.hist(nba_rookie_df[col_name], bins=15, linewidth=0.5, edgecolor=\"white\")\n",
    "        ax.set_xlabel(col_name)\n",
    "        ax.set_ylabel(\"No. of Players\")"
   ]
  },
  {
   "cell_type": "code",
   "execution_count": 579,
   "id": "d1a1a226-14cd-4155-97f9-69c72d32e091",
   "metadata": {},
   "outputs": [
    {
     "data": {
      "image/png": "[encoded data removed]",
      "text/plain": [
       "<Figure size 1440x288 with 4 Axes>"
      ]
     },
     "metadata": {},
     "output_type": "display_data"
    }
   ],
   "source": [
    "plot_histograms(['games_played', 'minutes', 'points', 'field_goals_made'])"
   ]
  },
  {
   "cell_type": "code",
   "execution_count": 580,
   "id": "04556926-8ea1-445b-8018-fdf9bc3146bd",
   "metadata": {},
   "outputs": [
    {
     "data": {
      "image/png": "[encoded data removed]",
      "text/plain": [
       "<Figure size 1440x288 with 4 Axes>"
      ]
     },
     "metadata": {},
     "output_type": "display_data"
    }
   ],
   "source": [
    "plot_histograms(['field_goals_attempted', 'field_goal_pct', '3p_made', '3p_attempted'])"
   ]
  },
  {
   "cell_type": "code",
   "execution_count": 581,
   "id": "5c9fef80-8d6f-4a4c-95ef-ea9564ea0ea8",
   "metadata": {},
   "outputs": [
    {
     "data": {
      "image/png": "[encoded data removed]",
      "text/plain": [
       "<Figure size 1440x288 with 4 Axes>"
      ]
     },
     "metadata": {},
     "output_type": "display_data"
    }
   ],
   "source": [
    "plot_histograms(['3p_pct', 'free_throws_made', 'free_throws_attempted', 'free_throws_pct'])"
   ]
  },
  {
   "cell_type": "code",
   "execution_count": 582,
   "id": "49221222-c90a-41a7-8cbe-31c0d5303498",
   "metadata": {},
   "outputs": [
    {
     "data": {
      "image/png": "[encoded data removed]",
      "text/plain": [
       "<Figure size 1440x288 with 4 Axes>"
      ]
     },
     "metadata": {},
     "output_type": "display_data"
    }
   ],
   "source": [
    "plot_histograms(['offensive_rebounds', 'defensive_rebounds', 'total_rebounds', 'assists'])"
   ]
  },
  {
   "cell_type": "code",
   "execution_count": 583,
   "id": "676e80a9-6cf2-49b2-b8c6-d4257a35ac25",
   "metadata": {},
   "outputs": [
    {
     "data": {
      "image/png": "[encoded data removed]",
      "text/plain": [
       "<Figure size 1440x288 with 3 Axes>"
      ]
     },
     "metadata": {},
     "output_type": "display_data"
    }
   ],
   "source": [
    "plot_histograms(['steals', 'blocks', 'turnovers'])"
   ]
  },
  {
   "cell_type": "markdown",
   "id": "c84f74b1-6df3-4de4-8de7-f8135379e4b1",
   "metadata": {},
   "source": [
    "## Feature Selection"
   ]
  },
  {
   "cell_type": "markdown",
   "id": "c364b6d0-2a5e-4292-95ea-b84b23275f4e",
   "metadata": {},
   "source": [
    "> Since percentage features are derived from other features they are redundant features.  The percentages will be removed from the list of features used as input for the ensemble models"
   ]
  },
  {
   "cell_type": "code",
   "execution_count": 584,
   "id": "e11d38ef-b491-4b47-ae83-6b51fc69b130",
   "metadata": {},
   "outputs": [],
   "source": [
    "percent_columns = ['field_goal_pct', '3p_pct', 'free_throws_pct']"
   ]
  },
  {
   "cell_type": "code",
   "execution_count": 585,
   "id": "fdb005e1-8505-4682-b9a8-a3ccd1f7f8a6",
   "metadata": {},
   "outputs": [],
   "source": [
    "nba_rookie_df = nba_rookie_df.drop(percent_columns, axis= 1)"
   ]
  },
  {
   "cell_type": "code",
   "execution_count": 586,
   "id": "48bf50e4-5992-41e6-82a2-9c380f1a4c5d",
   "metadata": {},
   "outputs": [],
   "source": [
    "nba_rookie_df[\"target_5yrs\"] = nba_rookie_df[\"target_5yrs\"].astype(\"int\")"
   ]
  },
  {
   "cell_type": "code",
   "execution_count": 587,
   "id": "3e38e06e-43d5-4701-99b6-84d4b9ad638e",
   "metadata": {},
   "outputs": [
    {
     "data": {
      "text/html": [
       "<div>\n",
       "<style scoped>\n",
       "    .dataframe tbody tr th:only-of-type {\n",
       "        vertical-align: middle;\n",
       "    }\n",
       "\n",
       "    .dataframe tbody tr th {\n",
       "        vertical-align: top;\n",
       "    }\n",
       "\n",
       "    .dataframe thead th {\n",
       "        text-align: right;\n",
       "    }\n",
       "</style>\n",
       "<table border=\"1\" class=\"dataframe\">\n",
       "  <thead>\n",
       "    <tr style=\"text-align: right;\">\n",
       "      <th></th>\n",
       "      <th>name</th>\n",
       "      <th>games_played</th>\n",
       "      <th>minutes</th>\n",
       "      <th>points</th>\n",
       "      <th>field_goals_made</th>\n",
       "      <th>field_goals_attempted</th>\n",
       "      <th>3p_made</th>\n",
       "      <th>3p_attempted</th>\n",
       "      <th>free_throws_made</th>\n",
       "      <th>free_throws_attempted</th>\n",
       "      <th>offensive_rebounds</th>\n",
       "      <th>defensive_rebounds</th>\n",
       "      <th>total_rebounds</th>\n",
       "      <th>assists</th>\n",
       "      <th>steals</th>\n",
       "      <th>blocks</th>\n",
       "      <th>turnovers</th>\n",
       "      <th>target_5yrs</th>\n",
       "    </tr>\n",
       "  </thead>\n",
       "  <tbody>\n",
       "    <tr>\n",
       "      <th>0</th>\n",
       "      <td>A.C. Green</td>\n",
       "      <td>82</td>\n",
       "      <td>18.8</td>\n",
       "      <td>6.4</td>\n",
       "      <td>2.5</td>\n",
       "      <td>4.7</td>\n",
       "      <td>0.0</td>\n",
       "      <td>0.1</td>\n",
       "      <td>1.2</td>\n",
       "      <td>2.0</td>\n",
       "      <td>2.0</td>\n",
       "      <td>2.7</td>\n",
       "      <td>4.6</td>\n",
       "      <td>0.7</td>\n",
       "      <td>0.6</td>\n",
       "      <td>0.6</td>\n",
       "      <td>1.2</td>\n",
       "      <td>1</td>\n",
       "    </tr>\n",
       "    <tr>\n",
       "      <th>1</th>\n",
       "      <td>A.J. English</td>\n",
       "      <td>70</td>\n",
       "      <td>20.6</td>\n",
       "      <td>8.8</td>\n",
       "      <td>3.6</td>\n",
       "      <td>8.2</td>\n",
       "      <td>0.0</td>\n",
       "      <td>0.4</td>\n",
       "      <td>1.6</td>\n",
       "      <td>2.2</td>\n",
       "      <td>0.9</td>\n",
       "      <td>1.2</td>\n",
       "      <td>2.1</td>\n",
       "      <td>2.5</td>\n",
       "      <td>0.4</td>\n",
       "      <td>0.2</td>\n",
       "      <td>1.6</td>\n",
       "      <td>0</td>\n",
       "    </tr>\n",
       "    <tr>\n",
       "      <th>2</th>\n",
       "      <td>A.J. Price</td>\n",
       "      <td>56</td>\n",
       "      <td>15.4</td>\n",
       "      <td>7.3</td>\n",
       "      <td>2.6</td>\n",
       "      <td>6.3</td>\n",
       "      <td>1.1</td>\n",
       "      <td>3.1</td>\n",
       "      <td>1.1</td>\n",
       "      <td>1.3</td>\n",
       "      <td>0.2</td>\n",
       "      <td>1.4</td>\n",
       "      <td>1.6</td>\n",
       "      <td>1.9</td>\n",
       "      <td>0.6</td>\n",
       "      <td>0.1</td>\n",
       "      <td>1.1</td>\n",
       "      <td>1</td>\n",
       "    </tr>\n",
       "    <tr>\n",
       "      <th>3</th>\n",
       "      <td>Aaron Brooks</td>\n",
       "      <td>51</td>\n",
       "      <td>11.9</td>\n",
       "      <td>5.2</td>\n",
       "      <td>1.8</td>\n",
       "      <td>4.4</td>\n",
       "      <td>0.7</td>\n",
       "      <td>2.1</td>\n",
       "      <td>0.8</td>\n",
       "      <td>1.0</td>\n",
       "      <td>0.3</td>\n",
       "      <td>0.8</td>\n",
       "      <td>1.1</td>\n",
       "      <td>1.7</td>\n",
       "      <td>0.3</td>\n",
       "      <td>0.1</td>\n",
       "      <td>0.9</td>\n",
       "      <td>1</td>\n",
       "    </tr>\n",
       "    <tr>\n",
       "      <th>4</th>\n",
       "      <td>Aaron Gordon</td>\n",
       "      <td>47</td>\n",
       "      <td>17.0</td>\n",
       "      <td>5.2</td>\n",
       "      <td>2.0</td>\n",
       "      <td>4.4</td>\n",
       "      <td>0.3</td>\n",
       "      <td>1.0</td>\n",
       "      <td>0.9</td>\n",
       "      <td>1.3</td>\n",
       "      <td>1.0</td>\n",
       "      <td>2.6</td>\n",
       "      <td>3.6</td>\n",
       "      <td>0.7</td>\n",
       "      <td>0.5</td>\n",
       "      <td>0.5</td>\n",
       "      <td>0.8</td>\n",
       "      <td>0</td>\n",
       "    </tr>\n",
       "  </tbody>\n",
       "</table>\n",
       "</div>"
      ],
      "text/plain": [
       "           name  games_played  minutes  points  field_goals_made  \\\n",
       "0    A.C. Green            82     18.8     6.4               2.5   \n",
       "1  A.J. English            70     20.6     8.8               3.6   \n",
       "2    A.J. Price            56     15.4     7.3               2.6   \n",
       "3  Aaron Brooks            51     11.9     5.2               1.8   \n",
       "4  Aaron Gordon            47     17.0     5.2               2.0   \n",
       "\n",
       "   field_goals_attempted  3p_made  3p_attempted  free_throws_made  \\\n",
       "0                    4.7      0.0           0.1               1.2   \n",
       "1                    8.2      0.0           0.4               1.6   \n",
       "2                    6.3      1.1           3.1               1.1   \n",
       "3                    4.4      0.7           2.1               0.8   \n",
       "4                    4.4      0.3           1.0               0.9   \n",
       "\n",
       "   free_throws_attempted  offensive_rebounds  defensive_rebounds  \\\n",
       "0                    2.0                 2.0                 2.7   \n",
       "1                    2.2                 0.9                 1.2   \n",
       "2                    1.3                 0.2                 1.4   \n",
       "3                    1.0                 0.3                 0.8   \n",
       "4                    1.3                 1.0                 2.6   \n",
       "\n",
       "   total_rebounds  assists  steals  blocks  turnovers  target_5yrs  \n",
       "0             4.6      0.7     0.6     0.6        1.2            1  \n",
       "1             2.1      2.5     0.4     0.2        1.6            0  \n",
       "2             1.6      1.9     0.6     0.1        1.1            1  \n",
       "3             1.1      1.7     0.3     0.1        0.9            1  \n",
       "4             3.6      0.7     0.5     0.5        0.8            0  "
      ]
     },
     "execution_count": 587,
     "metadata": {},
     "output_type": "execute_result"
    }
   ],
   "source": [
    "nba_rookie_df.head()"
   ]
  },
  {
   "cell_type": "code",
   "execution_count": 588,
   "id": "cbade87d-08c9-4086-a39b-5694ea0a79d6",
   "metadata": {},
   "outputs": [
    {
     "name": "stdout",
     "output_type": "stream",
     "text": [
      "<class 'pandas.core.frame.DataFrame'>\n",
      "RangeIndex: 1308 entries, 0 to 1307\n",
      "Data columns (total 18 columns):\n",
      " #   Column                 Non-Null Count  Dtype  \n",
      "---  ------                 --------------  -----  \n",
      " 0   name                   1308 non-null   object \n",
      " 1   games_played           1308 non-null   int64  \n",
      " 2   minutes                1308 non-null   float64\n",
      " 3   points                 1308 non-null   float64\n",
      " 4   field_goals_made       1308 non-null   float64\n",
      " 5   field_goals_attempted  1308 non-null   float64\n",
      " 6   3p_made                1308 non-null   float64\n",
      " 7   3p_attempted           1308 non-null   float64\n",
      " 8   free_throws_made       1308 non-null   float64\n",
      " 9   free_throws_attempted  1308 non-null   float64\n",
      " 10  offensive_rebounds     1308 non-null   float64\n",
      " 11  defensive_rebounds     1308 non-null   float64\n",
      " 12  total_rebounds         1308 non-null   float64\n",
      " 13  assists                1308 non-null   float64\n",
      " 14  steals                 1308 non-null   float64\n",
      " 15  blocks                 1308 non-null   float64\n",
      " 16  turnovers              1308 non-null   float64\n",
      " 17  target_5yrs            1308 non-null   int32  \n",
      "dtypes: float64(15), int32(1), int64(1), object(1)\n",
      "memory usage: 179.0+ KB\n"
     ]
    }
   ],
   "source": [
    "nba_rookie_df.info()"
   ]
  },
  {
   "cell_type": "code",
   "execution_count": 589,
   "id": "86598f60-0671-4a92-876e-cacfae07950b",
   "metadata": {},
   "outputs": [
    {
     "data": {
      "text/plain": [
       "1    816\n",
       "0    492\n",
       "Name: target_5yrs, dtype: int64"
      ]
     },
     "execution_count": 589,
     "metadata": {},
     "output_type": "execute_result"
    }
   ],
   "source": [
    "nba_rookie_df[\"target_5yrs\"].value_counts()"
   ]
  },
  {
   "cell_type": "markdown",
   "id": "38406836-6b80-4391-95b0-808d5605534e",
   "metadata": {},
   "source": [
    "## Decision Tree Classifier"
   ]
  },
  {
   "cell_type": "code",
   "execution_count": 590,
   "id": "f7c9834b-4a94-460c-8fc7-ae371d0ee8a3",
   "metadata": {},
   "outputs": [],
   "source": [
    "X = nba_rookie_df.drop(['name','target_5yrs'], axis=1).values"
   ]
  },
  {
   "cell_type": "code",
   "execution_count": 591,
   "id": "f0478638-84fa-4091-a401-a5b338b82287",
   "metadata": {},
   "outputs": [
    {
     "data": {
      "text/plain": [
       "array([[82. , 18.8,  6.4,  2.5,  4.7,  0. ,  0.1,  1.2,  2. ,  2. ,  2.7,\n",
       "         4.6,  0.7,  0.6,  0.6,  1.2],\n",
       "       [70. , 20.6,  8.8,  3.6,  8.2,  0. ,  0.4,  1.6,  2.2,  0.9,  1.2,\n",
       "         2.1,  2.5,  0.4,  0.2,  1.6],\n",
       "       [56. , 15.4,  7.3,  2.6,  6.3,  1.1,  3.1,  1.1,  1.3,  0.2,  1.4,\n",
       "         1.6,  1.9,  0.6,  0.1,  1.1],\n",
       "       [51. , 11.9,  5.2,  1.8,  4.4,  0.7,  2.1,  0.8,  1. ,  0.3,  0.8,\n",
       "         1.1,  1.7,  0.3,  0.1,  0.9]])"
      ]
     },
     "execution_count": 591,
     "metadata": {},
     "output_type": "execute_result"
    }
   ],
   "source": [
    "X[:4]"
   ]
  },
  {
   "cell_type": "code",
   "execution_count": 592,
   "id": "173bd844-9817-4e2a-a2c1-bc127c8c54ff",
   "metadata": {},
   "outputs": [
    {
     "data": {
      "text/plain": [
       "(1308, 16)"
      ]
     },
     "execution_count": 592,
     "metadata": {},
     "output_type": "execute_result"
    }
   ],
   "source": [
    "X.shape"
   ]
  },
  {
   "cell_type": "code",
   "execution_count": 593,
   "id": "d1f42f72-4fb2-4676-a315-ed9955cdb441",
   "metadata": {},
   "outputs": [],
   "source": [
    "Y = nba_rookie_df[['target_5yrs']].values.ravel()"
   ]
  },
  {
   "cell_type": "code",
   "execution_count": 594,
   "id": "97a9c19f-ac88-4804-b2b3-32e14db2cf6f",
   "metadata": {},
   "outputs": [
    {
     "data": {
      "text/plain": [
       "array([1, 0, 1, 1])"
      ]
     },
     "execution_count": 594,
     "metadata": {},
     "output_type": "execute_result"
    }
   ],
   "source": [
    "Y[:4]"
   ]
  },
  {
   "cell_type": "code",
   "execution_count": 595,
   "id": "6b11a3bd-0937-4651-a19b-a0675554d351",
   "metadata": {},
   "outputs": [
    {
     "data": {
      "text/plain": [
       "(1308,)"
      ]
     },
     "execution_count": 595,
     "metadata": {},
     "output_type": "execute_result"
    }
   ],
   "source": [
    "Y.shape"
   ]
  },
  {
   "cell_type": "code",
   "execution_count": 596,
   "id": "5c425c2d-a422-4b22-8024-782c6928248e",
   "metadata": {},
   "outputs": [],
   "source": [
    "fold = StratifiedKFold(n_splits = 5, shuffle=True, random_state=0)"
   ]
  },
  {
   "cell_type": "code",
   "execution_count": 597,
   "id": "702ac29f-2d2d-47ba-8f8d-f7f9065d4b66",
   "metadata": {},
   "outputs": [],
   "source": [
    "param_grid = {'max_depth':range(3,15)}"
   ]
  },
  {
   "cell_type": "code",
   "execution_count": 598,
   "id": "784185b6-9af6-4314-8577-c8be44e77166",
   "metadata": {},
   "outputs": [],
   "source": [
    "DT = model_selection.GridSearchCV(DecisionTreeClassifier(), param_grid, verbose=1)"
   ]
  },
  {
   "cell_type": "code",
   "execution_count": 599,
   "id": "cd5355bd-1736-4d06-a2b2-e56474c93593",
   "metadata": {},
   "outputs": [
    {
     "name": "stdout",
     "output_type": "stream",
     "text": [
      "Fitting 5 folds for each of 12 candidates, totalling 60 fits\n"
     ]
    },
    {
     "data": {
      "text/plain": [
       "GridSearchCV(estimator=DecisionTreeClassifier(),\n",
       "             param_grid={'max_depth': range(3, 15)}, verbose=1)"
      ]
     },
     "execution_count": 599,
     "metadata": {},
     "output_type": "execute_result"
    }
   ],
   "source": [
    "DT.fit(X,Y)"
   ]
  },
  {
   "cell_type": "code",
   "execution_count": 600,
   "id": "c7cbe4c3-e582-4fa7-a692-e7ab9ce4081f",
   "metadata": {},
   "outputs": [
    {
     "name": "stdout",
     "output_type": "stream",
     "text": [
      "Fitting 5 folds for each of 12 candidates, totalling 60 fits\n",
      "Fitting 5 folds for each of 12 candidates, totalling 60 fits\n",
      "Fitting 5 folds for each of 12 candidates, totalling 60 fits\n",
      "Fitting 5 folds for each of 12 candidates, totalling 60 fits\n",
      "Fitting 5 folds for each of 12 candidates, totalling 60 fits\n"
     ]
    }
   ],
   "source": [
    "DT_scores = cross_validate(DT, X, Y, scoring = ['accuracy', 'f1'], cv=fold)"
   ]
  },
  {
   "cell_type": "code",
   "execution_count": 601,
   "id": "505118a7-9a0b-41b6-a48d-597554456ad4",
   "metadata": {},
   "outputs": [
    {
     "data": {
      "text/plain": [
       "{'fit_time': array([0.28400135, 0.25903296, 0.25099993, 0.25599647, 0.26699996]),\n",
       " 'score_time': array([0.00099778, 0.0009799 , 0.0010035 , 0.00099993, 0.00100017]),\n",
       " 'test_accuracy': array([0.70992366, 0.6870229 , 0.65648855, 0.68965517, 0.69348659]),\n",
       " 'test_f1': array([0.78285714, 0.73548387, 0.71875   , 0.76790831, 0.78021978])}"
      ]
     },
     "execution_count": 601,
     "metadata": {},
     "output_type": "execute_result"
    }
   ],
   "source": [
    "DT_scores"
   ]
  },
  {
   "cell_type": "code",
   "execution_count": 602,
   "id": "f5eccae4-a152-4346-903c-dc2b71a1ef5a",
   "metadata": {},
   "outputs": [],
   "source": [
    "dt_mean_test_accuracy = DT_scores['test_accuracy'].mean()\n",
    "dt_mean_f1_score = DT_scores['test_f1'].mean()"
   ]
  },
  {
   "cell_type": "code",
   "execution_count": 603,
   "id": "f53d8c4c-8544-4e51-b8af-d6eec9347823",
   "metadata": {},
   "outputs": [
    {
     "name": "stdout",
     "output_type": "stream",
     "text": [
      "Mean accuracy: 0.6873153753911848\n"
     ]
    }
   ],
   "source": [
    "print(f'Mean accuracy: {dt_mean_test_accuracy}')"
   ]
  },
  {
   "cell_type": "code",
   "execution_count": 604,
   "id": "ac1f2582-baa7-4b89-82a9-5281afe4a5fd",
   "metadata": {},
   "outputs": [
    {
     "name": "stdout",
     "output_type": "stream",
     "text": [
      "Mean F1 Score: 0.7570438207000505\n"
     ]
    }
   ],
   "source": [
    "print(f'Mean F1 Score: {dt_mean_f1_score}')"
   ]
  },
  {
   "cell_type": "markdown",
   "id": "5690689b-486e-4981-89ab-73d4f883d1e4",
   "metadata": {},
   "source": [
    "## Bagging Decision Tree Classifier"
   ]
  },
  {
   "cell_type": "code",
   "execution_count": 605,
   "id": "2467e484-f3d9-497a-82aa-9c341cbf051e",
   "metadata": {},
   "outputs": [],
   "source": [
    "num_trees = 250"
   ]
  },
  {
   "cell_type": "code",
   "execution_count": 606,
   "id": "fd901121-56e8-48ba-8fd9-966c72cd9e4d",
   "metadata": {},
   "outputs": [],
   "source": [
    "DT_for_bagging = DecisionTreeClassifier(random_state=0)\n",
    "bag = BaggingClassifier(base_estimator=DT_for_bagging, n_estimators=num_trees, random_state=0)"
   ]
  },
  {
   "cell_type": "code",
   "execution_count": 607,
   "id": "6d1c32d7-d556-41d0-8d71-9f5e79631981",
   "metadata": {},
   "outputs": [],
   "source": [
    "bag_scores = cross_validate(bag, X, Y, scoring = ['accuracy', 'f1'], cv=fold)"
   ]
  },
  {
   "cell_type": "code",
   "execution_count": 608,
   "id": "34d1f714-9b35-456d-b68c-7cd107c5cad9",
   "metadata": {},
   "outputs": [
    {
     "data": {
      "text/plain": [
       "{'fit_time': array([1.17603207, 1.15300155, 1.15400481, 1.1509707 , 1.13199902]),\n",
       " 'score_time': array([0.02899766, 0.02899766, 0.02899504, 0.02799821, 0.03000116]),\n",
       " 'test_accuracy': array([0.72137405, 0.68320611, 0.67938931, 0.69731801, 0.73180077]),\n",
       " 'test_f1': array([0.7884058 , 0.74143302, 0.74850299, 0.77363897, 0.8       ])}"
      ]
     },
     "execution_count": 608,
     "metadata": {},
     "output_type": "execute_result"
    }
   ],
   "source": [
    "bag_scores"
   ]
  },
  {
   "cell_type": "code",
   "execution_count": 609,
   "id": "b44df4e3-e89f-4d9e-84eb-9306e97f4a2e",
   "metadata": {},
   "outputs": [],
   "source": [
    "bag_mean_accuracy = bag_scores['test_accuracy'].mean()\n",
    "bag_mean_f1_score = bag_scores['test_f1'].mean()"
   ]
  },
  {
   "cell_type": "code",
   "execution_count": 610,
   "id": "247b63f0-889b-4319-b445-2b86dea4ad10",
   "metadata": {},
   "outputs": [
    {
     "name": "stdout",
     "output_type": "stream",
     "text": [
      "Mean accuracy: 0.7026176479190431\n"
     ]
    }
   ],
   "source": [
    "print(f'Mean accuracy: {bag_mean_accuracy}')"
   ]
  },
  {
   "cell_type": "code",
   "execution_count": 611,
   "id": "a420a18f-0e96-451c-87d1-5d51cbd2ea2f",
   "metadata": {},
   "outputs": [
    {
     "name": "stdout",
     "output_type": "stream",
     "text": [
      "Mean F1 Score: 0.7703961562803308\n"
     ]
    }
   ],
   "source": [
    "print(f'Mean F1 Score: {bag_mean_f1_score}')"
   ]
  },
  {
   "cell_type": "markdown",
   "id": "ecd59bfd-e752-434a-96da-6b1bde01a33d",
   "metadata": {},
   "source": [
    "## Random Forest Classifier"
   ]
  },
  {
   "cell_type": "code",
   "execution_count": 612,
   "id": "1724e79f-279c-4448-bf4a-ce171e37cfaf",
   "metadata": {},
   "outputs": [],
   "source": [
    "random_forest = RandomForestClassifier(n_estimators=num_trees, random_state=0)"
   ]
  },
  {
   "cell_type": "code",
   "execution_count": 613,
   "id": "76e8c900-fa58-4a41-924e-3114ffa56332",
   "metadata": {},
   "outputs": [],
   "source": [
    "random_forest_scores = cross_validate(random_forest, X, Y, scoring = ['accuracy', 'f1'], cv=fold)"
   ]
  },
  {
   "cell_type": "code",
   "execution_count": 614,
   "id": "3d005286-3f63-49db-9626-c8509e2c7c8f",
   "metadata": {},
   "outputs": [
    {
     "data": {
      "text/plain": [
       "{'fit_time': array([0.49000192, 0.48003411, 0.50102878, 0.49200082, 0.47703171]),\n",
       " 'score_time': array([0.02599978, 0.02596307, 0.02600002, 0.02496743, 0.02596807]),\n",
       " 'test_accuracy': array([0.69847328, 0.67938931, 0.67557252, 0.71264368, 0.72030651]),\n",
       " 'test_f1': array([0.77233429, 0.74074074, 0.74626866, 0.78386167, 0.79202279])}"
      ]
     },
     "execution_count": 614,
     "metadata": {},
     "output_type": "execute_result"
    }
   ],
   "source": [
    "random_forest_scores"
   ]
  },
  {
   "cell_type": "code",
   "execution_count": 615,
   "id": "0de9e0b7-9b44-4653-b968-5375eade7ab8",
   "metadata": {},
   "outputs": [],
   "source": [
    "random_forest_mean_accuracy = random_forest_scores['test_accuracy'].mean()\n",
    "random_forest_mean_f1_score = random_forest_scores['test_f1'].mean()"
   ]
  },
  {
   "cell_type": "code",
   "execution_count": 616,
   "id": "25c4c884-0df8-41bd-88e4-8181abcb9919",
   "metadata": {},
   "outputs": [
    {
     "name": "stdout",
     "output_type": "stream",
     "text": [
      "Mean accuracy: 0.6972770612149395\n"
     ]
    }
   ],
   "source": [
    "print(f'Mean accuracy: {random_forest_mean_accuracy}')"
   ]
  },
  {
   "cell_type": "code",
   "execution_count": 617,
   "id": "b885d51b-c929-4a0d-8bb5-061bc39e34fe",
   "metadata": {},
   "outputs": [
    {
     "name": "stdout",
     "output_type": "stream",
     "text": [
      "Mean F1 Score: 0.7670456309795636\n"
     ]
    }
   ],
   "source": [
    "print(f'Mean F1 Score: {random_forest_mean_f1_score}')"
   ]
  },
  {
   "cell_type": "markdown",
   "id": "40629032-f42e-4f84-8d18-57bd383ccea8",
   "metadata": {},
   "source": [
    "## Summary"
   ]
  },
  {
   "cell_type": "code",
   "execution_count": 618,
   "id": "0e7cb275-b799-48c8-a063-c5b9da0559bc",
   "metadata": {},
   "outputs": [],
   "source": [
    "df_summary = pd.DataFrame({\"Mean Accuracy\": [dt_mean_test_accuracy, bag_mean_accuracy, random_forest_mean_accuracy], \n",
    "                           \"Mean F1 Score\": [dt_mean_f1_score, bag_mean_f1_score, random_forest_mean_f1_score]},\n",
    "                         index=['Decision Tree', 'Bagging Decision Tree', 'Random Forest'])"
   ]
  },
  {
   "cell_type": "code",
   "execution_count": 619,
   "id": "e49756cc-302b-4478-9f84-3041976cc285",
   "metadata": {},
   "outputs": [
    {
     "data": {
      "text/html": [
       "<div>\n",
       "<style scoped>\n",
       "    .dataframe tbody tr th:only-of-type {\n",
       "        vertical-align: middle;\n",
       "    }\n",
       "\n",
       "    .dataframe tbody tr th {\n",
       "        vertical-align: top;\n",
       "    }\n",
       "\n",
       "    .dataframe thead th {\n",
       "        text-align: right;\n",
       "    }\n",
       "</style>\n",
       "<table border=\"1\" class=\"dataframe\">\n",
       "  <thead>\n",
       "    <tr style=\"text-align: right;\">\n",
       "      <th></th>\n",
       "      <th>Mean Accuracy</th>\n",
       "      <th>Mean F1 Score</th>\n",
       "    </tr>\n",
       "  </thead>\n",
       "  <tbody>\n",
       "    <tr>\n",
       "      <th>Decision Tree</th>\n",
       "      <td>0.687315</td>\n",
       "      <td>0.757044</td>\n",
       "    </tr>\n",
       "    <tr>\n",
       "      <th>Bagging Decision Tree</th>\n",
       "      <td>0.702618</td>\n",
       "      <td>0.770396</td>\n",
       "    </tr>\n",
       "    <tr>\n",
       "      <th>Random Forest</th>\n",
       "      <td>0.697277</td>\n",
       "      <td>0.767046</td>\n",
       "    </tr>\n",
       "  </tbody>\n",
       "</table>\n",
       "</div>"
      ],
      "text/plain": [
       "                       Mean Accuracy  Mean F1 Score\n",
       "Decision Tree               0.687315       0.757044\n",
       "Bagging Decision Tree       0.702618       0.770396\n",
       "Random Forest               0.697277       0.767046"
      ]
     },
     "execution_count": 619,
     "metadata": {},
     "output_type": "execute_result"
    }
   ],
   "source": [
    "df_summary"
   ]
  },
  {
   "cell_type": "markdown",
   "id": "72faba44-f35d-44b0-a578-be425a5e4a1a",
   "metadata": {},
   "source": [
    "- The Bagging Decision Tree classifier has the highest mean accuracy and F1 scores among all three classifers\n",
    "\n",
    "- The Random Forest classifier had the second highest mean accuracy and F1 scores\n",
    "\n",
    "- The Decision Tree classifier with cross validation method had the lowest mean accuracy and F1 scores"
   ]
  },
  {
   "cell_type": "code",
   "execution_count": null,
   "id": "fb2ff7a6-6a07-4b67-b815-8383e600dba2",
   "metadata": {
    "tags": []
   },
   "outputs": [],
   "source": []
  }
 ],
 "metadata": {
  "kernelspec": {
   "display_name": "PythonDev (3.9)",
   "language": "python",
   "name": "pythondev"
  },
  "language_info": {
   "codemirror_mode": {
    "name": "ipython",
    "version": 3
   },
   "file_extension": ".py",
   "mimetype": "text/x-python",
   "name": "python",
   "nbconvert_exporter": "python",
   "pygments_lexer": "ipython3",
   "version": "3.9.12"
  }
 },
 "nbformat": 4,
 "nbformat_minor": 5
}
