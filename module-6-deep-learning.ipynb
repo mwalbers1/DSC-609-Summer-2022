{
 "cells": [
  {
   "cell_type": "markdown",
   "id": "bd4717ef-6967-4276-a522-508b56127b55",
   "metadata": {
    "id": "bd4717ef-6967-4276-a522-508b56127b55",
    "tags": []
   },
   "source": [
    "# DSC-609: Machine Learning\n",
    "### Michael Albers\n",
    "### 08/13/2022"
   ]
  },
  {
   "cell_type": "code",
   "execution_count": 87,
   "id": "EODQPZA6-DTm",
   "metadata": {
    "colab": {
     "base_uri": "https://localhost:8080/"
    },
    "id": "EODQPZA6-DTm",
    "outputId": "2df7a602-2724-4a12-9c09-9d049d55eecb"
   },
   "outputs": [
    {
     "name": "stdout",
     "output_type": "stream",
     "text": [
      "Drive already mounted at /content/drive; to attempt to forcibly remount, call drive.mount(\"/content/drive\", force_remount=True).\n"
     ]
    }
   ],
   "source": [
    "# Mount Google drive\n",
    "from google.colab import drive\n",
    "drive.mount('/content/drive')"
   ]
  },
  {
   "cell_type": "code",
   "execution_count": 88,
   "id": "em-jANTC-hdw",
   "metadata": {
    "colab": {
     "base_uri": "https://localhost:8080/"
    },
    "id": "em-jANTC-hdw",
    "outputId": "4fb33a13-0724-4bdf-ab0d-ffcdad20ec7b"
   },
   "outputs": [
    {
     "name": "stdout",
     "output_type": "stream",
     "text": [
      "/content/drive/My Drive/DSC-609-Machine Learning/data\n"
     ]
    }
   ],
   "source": [
    "%cd /content/drive/My\\ Drive/DSC-609-Machine\\ Learning/data"
   ]
  },
  {
   "cell_type": "code",
   "execution_count": 89,
   "id": "0a3EkbZi-hrB",
   "metadata": {
    "colab": {
     "base_uri": "https://localhost:8080/"
    },
    "id": "0a3EkbZi-hrB",
    "outputId": "f068b007-ef72-42ff-a183-bbee19e9405f"
   },
   "outputs": [
    {
     "name": "stdout",
     "output_type": "stream",
     "text": [
      "uci_credit_card.csv\n"
     ]
    }
   ],
   "source": [
    "%ls"
   ]
  },
  {
   "cell_type": "markdown",
   "id": "5f777f7b-296b-4bf3-bb49-f63b4ab19115",
   "metadata": {
    "id": "5f777f7b-296b-4bf3-bb49-f63b4ab19115"
   },
   "source": [
    "## Overview\n",
    "\n",
    "- Classify credit card defaults using Deep Neural Network\n",
    "- Report accuracy scores and performance"
   ]
  },
  {
   "cell_type": "code",
   "execution_count": 90,
   "id": "Kd_isqekY8RF",
   "metadata": {
    "id": "Kd_isqekY8RF"
   },
   "outputs": [],
   "source": [
    "from google.colab import data_table"
   ]
  },
  {
   "cell_type": "code",
   "execution_count": 91,
   "id": "JYykbwvfZJmR",
   "metadata": {
    "id": "JYykbwvfZJmR"
   },
   "outputs": [],
   "source": [
    "data_table.enable_dataframe_formatter()"
   ]
  },
  {
   "cell_type": "code",
   "execution_count": 92,
   "id": "acfbf688-713a-4991-aecd-2ed2a5a12ce0",
   "metadata": {
    "id": "acfbf688-713a-4991-aecd-2ed2a5a12ce0"
   },
   "outputs": [],
   "source": [
    "import pandas as pd\n",
    "import numpy as np\n",
    "import matplotlib.pyplot as plt"
   ]
  },
  {
   "cell_type": "code",
   "execution_count": 93,
   "id": "WyeLRJSObHti",
   "metadata": {
    "id": "WyeLRJSObHti"
   },
   "outputs": [],
   "source": [
    "from sklearn.model_selection import train_test_split\n",
    "from sklearn.preprocessing import KBinsDiscretizer"
   ]
  },
  {
   "cell_type": "code",
   "execution_count": 94,
   "id": "iq2GGtQRF1IN",
   "metadata": {
    "id": "iq2GGtQRF1IN"
   },
   "outputs": [],
   "source": [
    "import tensorflow as tf\n",
    "import keras\n",
    "from keras.models import Sequential\n",
    "from keras.layers import Dense"
   ]
  },
  {
   "cell_type": "code",
   "execution_count": 95,
   "id": "yvVBzZ-mFNuH",
   "metadata": {
    "colab": {
     "base_uri": "https://localhost:8080/",
     "height": 35
    },
    "id": "yvVBzZ-mFNuH",
    "outputId": "c9f30c5b-5efa-4c9e-9491-9abdba0798f3"
   },
   "outputs": [
    {
     "data": {
      "application/vnd.google.colaboratory.intrinsic+json": {
       "type": "string"
      },
      "text/plain": [
       "'2.8.2'"
      ]
     },
     "execution_count": 95,
     "metadata": {},
     "output_type": "execute_result"
    }
   ],
   "source": [
    "tf.__version__"
   ]
  },
  {
   "cell_type": "code",
   "execution_count": 96,
   "id": "HSlBltpjDkMT",
   "metadata": {
    "id": "HSlBltpjDkMT"
   },
   "outputs": [],
   "source": [
    "from tensorflow.keras.optimizers import Adam"
   ]
  },
  {
   "cell_type": "markdown",
   "id": "69a81af6-c54f-4aca-b2f0-f2de3063e8bf",
   "metadata": {
    "id": "69a81af6-c54f-4aca-b2f0-f2de3063e8bf"
   },
   "source": [
    "## Data Set"
   ]
  },
  {
   "cell_type": "markdown",
   "id": "5245d315-d1fd-421d-925a-624c95612a63",
   "metadata": {
    "id": "5245d315-d1fd-421d-925a-624c95612a63"
   },
   "source": [
    "### UCI Credit Card Default\n",
    "\n",
    "*Download Link:* \n",
    "\n",
    "https://assets.datacamp.com/production/repositories/3953/datasets/692b2c9bd91688f9f96882f10f0edf691ae32ec9/uci_credit_card.csv\n",
    "\n",
    "*Data Set Information:*\n",
    "\n",
    "https://archive.ics.uci.edu/ml/datasets/default+of+credit+card+clients"
   ]
  },
  {
   "cell_type": "markdown",
   "id": "32f30ed0-9395-4ec7-a69c-9fd0726966d8",
   "metadata": {
    "id": "32f30ed0-9395-4ec7-a69c-9fd0726966d8"
   },
   "source": [
    "# Load and Preprocessing "
   ]
  },
  {
   "cell_type": "code",
   "execution_count": 97,
   "id": "4013eaeb-ceb3-4dff-8d84-e7712a0b973f",
   "metadata": {
    "id": "4013eaeb-ceb3-4dff-8d84-e7712a0b973f"
   },
   "outputs": [],
   "source": [
    "credit_card_df = pd.read_csv('uci_credit_card.csv')"
   ]
  },
  {
   "cell_type": "code",
   "execution_count": 98,
   "id": "23f1d433-a7d5-44c9-be30-bc516dafb60d",
   "metadata": {
    "colab": {
     "base_uri": "https://localhost:8080/",
     "height": 317
    },
    "id": "23f1d433-a7d5-44c9-be30-bc516dafb60d",
    "outputId": "b318d8df-7ea8-4d91-ac19-412b9d205ccb"
   },
   "outputs": [
    {
     "name": "stdout",
     "output_type": "stream",
     "text": [
      "Warning: Total number of columns (25) exceeds max_columns (20). Falling back to pandas display.\n"
     ]
    },
    {
     "data": {
      "text/html": [
       "\n",
       "  <div id=\"df-d125a7b6-025e-43a5-bba7-95766b5d4396\">\n",
       "    <div class=\"colab-df-container\">\n",
       "      <div>\n",
       "<style scoped>\n",
       "    .dataframe tbody tr th:only-of-type {\n",
       "        vertical-align: middle;\n",
       "    }\n",
       "\n",
       "    .dataframe tbody tr th {\n",
       "        vertical-align: top;\n",
       "    }\n",
       "\n",
       "    .dataframe thead th {\n",
       "        text-align: right;\n",
       "    }\n",
       "</style>\n",
       "<table border=\"1\" class=\"dataframe\">\n",
       "  <thead>\n",
       "    <tr style=\"text-align: right;\">\n",
       "      <th></th>\n",
       "      <th>ID</th>\n",
       "      <th>LIMIT_BAL</th>\n",
       "      <th>SEX</th>\n",
       "      <th>EDUCATION</th>\n",
       "      <th>MARRIAGE</th>\n",
       "      <th>AGE</th>\n",
       "      <th>PAY_0</th>\n",
       "      <th>PAY_2</th>\n",
       "      <th>PAY_3</th>\n",
       "      <th>PAY_4</th>\n",
       "      <th>...</th>\n",
       "      <th>BILL_AMT4</th>\n",
       "      <th>BILL_AMT5</th>\n",
       "      <th>BILL_AMT6</th>\n",
       "      <th>PAY_AMT1</th>\n",
       "      <th>PAY_AMT2</th>\n",
       "      <th>PAY_AMT3</th>\n",
       "      <th>PAY_AMT4</th>\n",
       "      <th>PAY_AMT5</th>\n",
       "      <th>PAY_AMT6</th>\n",
       "      <th>default.payment.next.month</th>\n",
       "    </tr>\n",
       "  </thead>\n",
       "  <tbody>\n",
       "    <tr>\n",
       "      <th>0</th>\n",
       "      <td>1</td>\n",
       "      <td>20000.0</td>\n",
       "      <td>2</td>\n",
       "      <td>2</td>\n",
       "      <td>1</td>\n",
       "      <td>24</td>\n",
       "      <td>2</td>\n",
       "      <td>2</td>\n",
       "      <td>-1</td>\n",
       "      <td>-1</td>\n",
       "      <td>...</td>\n",
       "      <td>0.0</td>\n",
       "      <td>0.0</td>\n",
       "      <td>0.0</td>\n",
       "      <td>0.0</td>\n",
       "      <td>689.0</td>\n",
       "      <td>0.0</td>\n",
       "      <td>0.0</td>\n",
       "      <td>0.0</td>\n",
       "      <td>0.0</td>\n",
       "      <td>1</td>\n",
       "    </tr>\n",
       "    <tr>\n",
       "      <th>1</th>\n",
       "      <td>2</td>\n",
       "      <td>120000.0</td>\n",
       "      <td>2</td>\n",
       "      <td>2</td>\n",
       "      <td>2</td>\n",
       "      <td>26</td>\n",
       "      <td>-1</td>\n",
       "      <td>2</td>\n",
       "      <td>0</td>\n",
       "      <td>0</td>\n",
       "      <td>...</td>\n",
       "      <td>3272.0</td>\n",
       "      <td>3455.0</td>\n",
       "      <td>3261.0</td>\n",
       "      <td>0.0</td>\n",
       "      <td>1000.0</td>\n",
       "      <td>1000.0</td>\n",
       "      <td>1000.0</td>\n",
       "      <td>0.0</td>\n",
       "      <td>2000.0</td>\n",
       "      <td>1</td>\n",
       "    </tr>\n",
       "    <tr>\n",
       "      <th>2</th>\n",
       "      <td>3</td>\n",
       "      <td>90000.0</td>\n",
       "      <td>2</td>\n",
       "      <td>2</td>\n",
       "      <td>2</td>\n",
       "      <td>34</td>\n",
       "      <td>0</td>\n",
       "      <td>0</td>\n",
       "      <td>0</td>\n",
       "      <td>0</td>\n",
       "      <td>...</td>\n",
       "      <td>14331.0</td>\n",
       "      <td>14948.0</td>\n",
       "      <td>15549.0</td>\n",
       "      <td>1518.0</td>\n",
       "      <td>1500.0</td>\n",
       "      <td>1000.0</td>\n",
       "      <td>1000.0</td>\n",
       "      <td>1000.0</td>\n",
       "      <td>5000.0</td>\n",
       "      <td>0</td>\n",
       "    </tr>\n",
       "    <tr>\n",
       "      <th>3</th>\n",
       "      <td>4</td>\n",
       "      <td>50000.0</td>\n",
       "      <td>2</td>\n",
       "      <td>2</td>\n",
       "      <td>1</td>\n",
       "      <td>37</td>\n",
       "      <td>0</td>\n",
       "      <td>0</td>\n",
       "      <td>0</td>\n",
       "      <td>0</td>\n",
       "      <td>...</td>\n",
       "      <td>28314.0</td>\n",
       "      <td>28959.0</td>\n",
       "      <td>29547.0</td>\n",
       "      <td>2000.0</td>\n",
       "      <td>2019.0</td>\n",
       "      <td>1200.0</td>\n",
       "      <td>1100.0</td>\n",
       "      <td>1069.0</td>\n",
       "      <td>1000.0</td>\n",
       "      <td>0</td>\n",
       "    </tr>\n",
       "    <tr>\n",
       "      <th>4</th>\n",
       "      <td>5</td>\n",
       "      <td>50000.0</td>\n",
       "      <td>1</td>\n",
       "      <td>2</td>\n",
       "      <td>1</td>\n",
       "      <td>57</td>\n",
       "      <td>-1</td>\n",
       "      <td>0</td>\n",
       "      <td>-1</td>\n",
       "      <td>0</td>\n",
       "      <td>...</td>\n",
       "      <td>20940.0</td>\n",
       "      <td>19146.0</td>\n",
       "      <td>19131.0</td>\n",
       "      <td>2000.0</td>\n",
       "      <td>36681.0</td>\n",
       "      <td>10000.0</td>\n",
       "      <td>9000.0</td>\n",
       "      <td>689.0</td>\n",
       "      <td>679.0</td>\n",
       "      <td>0</td>\n",
       "    </tr>\n",
       "  </tbody>\n",
       "</table>\n",
       "<p>5 rows × 25 columns</p>\n",
       "</div>\n",
       "      <button class=\"colab-df-convert\" onclick=\"convertToInteractive('df-d125a7b6-025e-43a5-bba7-95766b5d4396')\"\n",
       "              title=\"Convert this dataframe to an interactive table.\"\n",
       "              style=\"display:none;\">\n",
       "        \n",
       "  <svg xmlns=\"http://www.w3.org/2000/svg\" height=\"24px\"viewBox=\"0 0 24 24\"\n",
       "       width=\"24px\">\n",
       "    <path d=\"M0 0h24v24H0V0z\" fill=\"none\"/>\n",
       "    <path d=\"M18.56 5.44l.94 2.06.94-2.06 2.06-.94-2.06-.94-.94-2.06-.94 2.06-2.06.94zm-11 1L8.5 8.5l.94-2.06 2.06-.94-2.06-.94L8.5 2.5l-.94 2.06-2.06.94zm10 10l.94 2.06.94-2.06 2.06-.94-2.06-.94-.94-2.06-.94 2.06-2.06.94z\"/><path d=\"M17.41 7.96l-1.37-1.37c-.4-.4-.92-.59-1.43-.59-.52 0-1.04.2-1.43.59L10.3 9.45l-7.72 7.72c-.78.78-.78 2.05 0 2.83L4 21.41c.39.39.9.59 1.41.59.51 0 1.02-.2 1.41-.59l7.78-7.78 2.81-2.81c.8-.78.8-2.07 0-2.86zM5.41 20L4 18.59l7.72-7.72 1.47 1.35L5.41 20z\"/>\n",
       "  </svg>\n",
       "      </button>\n",
       "      \n",
       "  <style>\n",
       "    .colab-df-container {\n",
       "      display:flex;\n",
       "      flex-wrap:wrap;\n",
       "      gap: 12px;\n",
       "    }\n",
       "\n",
       "    .colab-df-convert {\n",
       "      background-color: #E8F0FE;\n",
       "      border: none;\n",
       "      border-radius: 50%;\n",
       "      cursor: pointer;\n",
       "      display: none;\n",
       "      fill: #1967D2;\n",
       "      height: 32px;\n",
       "      padding: 0 0 0 0;\n",
       "      width: 32px;\n",
       "    }\n",
       "\n",
       "    .colab-df-convert:hover {\n",
       "      background-color: #E2EBFA;\n",
       "      box-shadow: 0px 1px 2px rgba(60, 64, 67, 0.3), 0px 1px 3px 1px rgba(60, 64, 67, 0.15);\n",
       "      fill: #174EA6;\n",
       "    }\n",
       "\n",
       "    [theme=dark] .colab-df-convert {\n",
       "      background-color: #3B4455;\n",
       "      fill: #D2E3FC;\n",
       "    }\n",
       "\n",
       "    [theme=dark] .colab-df-convert:hover {\n",
       "      background-color: #434B5C;\n",
       "      box-shadow: 0px 1px 3px 1px rgba(0, 0, 0, 0.15);\n",
       "      filter: drop-shadow(0px 1px 2px rgba(0, 0, 0, 0.3));\n",
       "      fill: #FFFFFF;\n",
       "    }\n",
       "  </style>\n",
       "\n",
       "      <script>\n",
       "        const buttonEl =\n",
       "          document.querySelector('#df-d125a7b6-025e-43a5-bba7-95766b5d4396 button.colab-df-convert');\n",
       "        buttonEl.style.display =\n",
       "          google.colab.kernel.accessAllowed ? 'block' : 'none';\n",
       "\n",
       "        async function convertToInteractive(key) {\n",
       "          const element = document.querySelector('#df-d125a7b6-025e-43a5-bba7-95766b5d4396');\n",
       "          const dataTable =\n",
       "            await google.colab.kernel.invokeFunction('convertToInteractive',\n",
       "                                                     [key], {});\n",
       "          if (!dataTable) return;\n",
       "\n",
       "          const docLinkHtml = 'Like what you see? Visit the ' +\n",
       "            '<a target=\"_blank\" href=https://colab.research.google.com/notebooks/data_table.ipynb>data table notebook</a>'\n",
       "            + ' to learn more about interactive tables.';\n",
       "          element.innerHTML = '';\n",
       "          dataTable['output_type'] = 'display_data';\n",
       "          await google.colab.output.renderOutput(dataTable, element);\n",
       "          const docLink = document.createElement('div');\n",
       "          docLink.innerHTML = docLinkHtml;\n",
       "          element.appendChild(docLink);\n",
       "        }\n",
       "      </script>\n",
       "    </div>\n",
       "  </div>\n",
       "  "
      ],
      "text/plain": [
       "   ID  LIMIT_BAL  SEX  EDUCATION  MARRIAGE  AGE  PAY_0  PAY_2  PAY_3  PAY_4  \\\n",
       "0   1    20000.0    2          2         1   24      2      2     -1     -1   \n",
       "1   2   120000.0    2          2         2   26     -1      2      0      0   \n",
       "2   3    90000.0    2          2         2   34      0      0      0      0   \n",
       "3   4    50000.0    2          2         1   37      0      0      0      0   \n",
       "4   5    50000.0    1          2         1   57     -1      0     -1      0   \n",
       "\n",
       "   ...  BILL_AMT4  BILL_AMT5  BILL_AMT6  PAY_AMT1  PAY_AMT2  PAY_AMT3  \\\n",
       "0  ...        0.0        0.0        0.0       0.0     689.0       0.0   \n",
       "1  ...     3272.0     3455.0     3261.0       0.0    1000.0    1000.0   \n",
       "2  ...    14331.0    14948.0    15549.0    1518.0    1500.0    1000.0   \n",
       "3  ...    28314.0    28959.0    29547.0    2000.0    2019.0    1200.0   \n",
       "4  ...    20940.0    19146.0    19131.0    2000.0   36681.0   10000.0   \n",
       "\n",
       "   PAY_AMT4  PAY_AMT5  PAY_AMT6  default.payment.next.month  \n",
       "0       0.0       0.0       0.0                           1  \n",
       "1    1000.0       0.0    2000.0                           1  \n",
       "2    1000.0    1000.0    5000.0                           0  \n",
       "3    1100.0    1069.0    1000.0                           0  \n",
       "4    9000.0     689.0     679.0                           0  \n",
       "\n",
       "[5 rows x 25 columns]"
      ]
     },
     "execution_count": 98,
     "metadata": {},
     "output_type": "execute_result"
    }
   ],
   "source": [
    "credit_card_df.head()"
   ]
  },
  {
   "cell_type": "code",
   "execution_count": 99,
   "id": "3d954540-8934-41ec-b1f1-941753841516",
   "metadata": {
    "colab": {
     "base_uri": "https://localhost:8080/"
    },
    "id": "3d954540-8934-41ec-b1f1-941753841516",
    "outputId": "405dd358-ab86-49fb-c2b6-091d628a1dfb"
   },
   "outputs": [
    {
     "name": "stdout",
     "output_type": "stream",
     "text": [
      "<class 'pandas.core.frame.DataFrame'>\n",
      "RangeIndex: 30000 entries, 0 to 29999\n",
      "Data columns (total 25 columns):\n",
      " #   Column                      Non-Null Count  Dtype  \n",
      "---  ------                      --------------  -----  \n",
      " 0   ID                          30000 non-null  int64  \n",
      " 1   LIMIT_BAL                   30000 non-null  float64\n",
      " 2   SEX                         30000 non-null  int64  \n",
      " 3   EDUCATION                   30000 non-null  int64  \n",
      " 4   MARRIAGE                    30000 non-null  int64  \n",
      " 5   AGE                         30000 non-null  int64  \n",
      " 6   PAY_0                       30000 non-null  int64  \n",
      " 7   PAY_2                       30000 non-null  int64  \n",
      " 8   PAY_3                       30000 non-null  int64  \n",
      " 9   PAY_4                       30000 non-null  int64  \n",
      " 10  PAY_5                       30000 non-null  int64  \n",
      " 11  PAY_6                       30000 non-null  int64  \n",
      " 12  BILL_AMT1                   30000 non-null  float64\n",
      " 13  BILL_AMT2                   30000 non-null  float64\n",
      " 14  BILL_AMT3                   30000 non-null  float64\n",
      " 15  BILL_AMT4                   30000 non-null  float64\n",
      " 16  BILL_AMT5                   30000 non-null  float64\n",
      " 17  BILL_AMT6                   30000 non-null  float64\n",
      " 18  PAY_AMT1                    30000 non-null  float64\n",
      " 19  PAY_AMT2                    30000 non-null  float64\n",
      " 20  PAY_AMT3                    30000 non-null  float64\n",
      " 21  PAY_AMT4                    30000 non-null  float64\n",
      " 22  PAY_AMT5                    30000 non-null  float64\n",
      " 23  PAY_AMT6                    30000 non-null  float64\n",
      " 24  default.payment.next.month  30000 non-null  int64  \n",
      "dtypes: float64(13), int64(12)\n",
      "memory usage: 5.7 MB\n"
     ]
    }
   ],
   "source": [
    "credit_card_df.info()"
   ]
  },
  {
   "cell_type": "code",
   "execution_count": 100,
   "id": "_epwz74pbUZ5",
   "metadata": {
    "colab": {
     "base_uri": "https://localhost:8080/",
     "height": 411
    },
    "id": "_epwz74pbUZ5",
    "outputId": "5060cf26-cd53-4f43-ce09-0b7d7f3246e5"
   },
   "outputs": [
    {
     "name": "stdout",
     "output_type": "stream",
     "text": [
      "Warning: Total number of columns (25) exceeds max_columns (20). Falling back to pandas display.\n"
     ]
    },
    {
     "data": {
      "text/html": [
       "\n",
       "  <div id=\"df-1847ab9f-8544-4023-8c04-2606d4b28e9c\">\n",
       "    <div class=\"colab-df-container\">\n",
       "      <div>\n",
       "<style scoped>\n",
       "    .dataframe tbody tr th:only-of-type {\n",
       "        vertical-align: middle;\n",
       "    }\n",
       "\n",
       "    .dataframe tbody tr th {\n",
       "        vertical-align: top;\n",
       "    }\n",
       "\n",
       "    .dataframe thead th {\n",
       "        text-align: right;\n",
       "    }\n",
       "</style>\n",
       "<table border=\"1\" class=\"dataframe\">\n",
       "  <thead>\n",
       "    <tr style=\"text-align: right;\">\n",
       "      <th></th>\n",
       "      <th>ID</th>\n",
       "      <th>LIMIT_BAL</th>\n",
       "      <th>SEX</th>\n",
       "      <th>EDUCATION</th>\n",
       "      <th>MARRIAGE</th>\n",
       "      <th>AGE</th>\n",
       "      <th>PAY_0</th>\n",
       "      <th>PAY_2</th>\n",
       "      <th>PAY_3</th>\n",
       "      <th>PAY_4</th>\n",
       "      <th>...</th>\n",
       "      <th>BILL_AMT4</th>\n",
       "      <th>BILL_AMT5</th>\n",
       "      <th>BILL_AMT6</th>\n",
       "      <th>PAY_AMT1</th>\n",
       "      <th>PAY_AMT2</th>\n",
       "      <th>PAY_AMT3</th>\n",
       "      <th>PAY_AMT4</th>\n",
       "      <th>PAY_AMT5</th>\n",
       "      <th>PAY_AMT6</th>\n",
       "      <th>default.payment.next.month</th>\n",
       "    </tr>\n",
       "  </thead>\n",
       "  <tbody>\n",
       "    <tr>\n",
       "      <th>count</th>\n",
       "      <td>30000.000000</td>\n",
       "      <td>30000.000000</td>\n",
       "      <td>30000.000000</td>\n",
       "      <td>30000.000000</td>\n",
       "      <td>30000.000000</td>\n",
       "      <td>30000.000000</td>\n",
       "      <td>30000.000000</td>\n",
       "      <td>30000.000000</td>\n",
       "      <td>30000.000000</td>\n",
       "      <td>30000.000000</td>\n",
       "      <td>...</td>\n",
       "      <td>30000.000000</td>\n",
       "      <td>30000.000000</td>\n",
       "      <td>30000.000000</td>\n",
       "      <td>30000.000000</td>\n",
       "      <td>3.000000e+04</td>\n",
       "      <td>30000.00000</td>\n",
       "      <td>30000.000000</td>\n",
       "      <td>30000.000000</td>\n",
       "      <td>30000.000000</td>\n",
       "      <td>30000.000000</td>\n",
       "    </tr>\n",
       "    <tr>\n",
       "      <th>mean</th>\n",
       "      <td>15000.500000</td>\n",
       "      <td>167484.322667</td>\n",
       "      <td>1.603733</td>\n",
       "      <td>1.853133</td>\n",
       "      <td>1.551867</td>\n",
       "      <td>35.485500</td>\n",
       "      <td>-0.016700</td>\n",
       "      <td>-0.133767</td>\n",
       "      <td>-0.166200</td>\n",
       "      <td>-0.220667</td>\n",
       "      <td>...</td>\n",
       "      <td>43262.948967</td>\n",
       "      <td>40311.400967</td>\n",
       "      <td>38871.760400</td>\n",
       "      <td>5663.580500</td>\n",
       "      <td>5.921163e+03</td>\n",
       "      <td>5225.68150</td>\n",
       "      <td>4826.076867</td>\n",
       "      <td>4799.387633</td>\n",
       "      <td>5215.502567</td>\n",
       "      <td>0.221200</td>\n",
       "    </tr>\n",
       "    <tr>\n",
       "      <th>std</th>\n",
       "      <td>8660.398374</td>\n",
       "      <td>129747.661567</td>\n",
       "      <td>0.489129</td>\n",
       "      <td>0.790349</td>\n",
       "      <td>0.521970</td>\n",
       "      <td>9.217904</td>\n",
       "      <td>1.123802</td>\n",
       "      <td>1.197186</td>\n",
       "      <td>1.196868</td>\n",
       "      <td>1.169139</td>\n",
       "      <td>...</td>\n",
       "      <td>64332.856134</td>\n",
       "      <td>60797.155770</td>\n",
       "      <td>59554.107537</td>\n",
       "      <td>16563.280354</td>\n",
       "      <td>2.304087e+04</td>\n",
       "      <td>17606.96147</td>\n",
       "      <td>15666.159744</td>\n",
       "      <td>15278.305679</td>\n",
       "      <td>17777.465775</td>\n",
       "      <td>0.415062</td>\n",
       "    </tr>\n",
       "    <tr>\n",
       "      <th>min</th>\n",
       "      <td>1.000000</td>\n",
       "      <td>10000.000000</td>\n",
       "      <td>1.000000</td>\n",
       "      <td>0.000000</td>\n",
       "      <td>0.000000</td>\n",
       "      <td>21.000000</td>\n",
       "      <td>-2.000000</td>\n",
       "      <td>-2.000000</td>\n",
       "      <td>-2.000000</td>\n",
       "      <td>-2.000000</td>\n",
       "      <td>...</td>\n",
       "      <td>-170000.000000</td>\n",
       "      <td>-81334.000000</td>\n",
       "      <td>-339603.000000</td>\n",
       "      <td>0.000000</td>\n",
       "      <td>0.000000e+00</td>\n",
       "      <td>0.00000</td>\n",
       "      <td>0.000000</td>\n",
       "      <td>0.000000</td>\n",
       "      <td>0.000000</td>\n",
       "      <td>0.000000</td>\n",
       "    </tr>\n",
       "    <tr>\n",
       "      <th>25%</th>\n",
       "      <td>7500.750000</td>\n",
       "      <td>50000.000000</td>\n",
       "      <td>1.000000</td>\n",
       "      <td>1.000000</td>\n",
       "      <td>1.000000</td>\n",
       "      <td>28.000000</td>\n",
       "      <td>-1.000000</td>\n",
       "      <td>-1.000000</td>\n",
       "      <td>-1.000000</td>\n",
       "      <td>-1.000000</td>\n",
       "      <td>...</td>\n",
       "      <td>2326.750000</td>\n",
       "      <td>1763.000000</td>\n",
       "      <td>1256.000000</td>\n",
       "      <td>1000.000000</td>\n",
       "      <td>8.330000e+02</td>\n",
       "      <td>390.00000</td>\n",
       "      <td>296.000000</td>\n",
       "      <td>252.500000</td>\n",
       "      <td>117.750000</td>\n",
       "      <td>0.000000</td>\n",
       "    </tr>\n",
       "    <tr>\n",
       "      <th>50%</th>\n",
       "      <td>15000.500000</td>\n",
       "      <td>140000.000000</td>\n",
       "      <td>2.000000</td>\n",
       "      <td>2.000000</td>\n",
       "      <td>2.000000</td>\n",
       "      <td>34.000000</td>\n",
       "      <td>0.000000</td>\n",
       "      <td>0.000000</td>\n",
       "      <td>0.000000</td>\n",
       "      <td>0.000000</td>\n",
       "      <td>...</td>\n",
       "      <td>19052.000000</td>\n",
       "      <td>18104.500000</td>\n",
       "      <td>17071.000000</td>\n",
       "      <td>2100.000000</td>\n",
       "      <td>2.009000e+03</td>\n",
       "      <td>1800.00000</td>\n",
       "      <td>1500.000000</td>\n",
       "      <td>1500.000000</td>\n",
       "      <td>1500.000000</td>\n",
       "      <td>0.000000</td>\n",
       "    </tr>\n",
       "    <tr>\n",
       "      <th>75%</th>\n",
       "      <td>22500.250000</td>\n",
       "      <td>240000.000000</td>\n",
       "      <td>2.000000</td>\n",
       "      <td>2.000000</td>\n",
       "      <td>2.000000</td>\n",
       "      <td>41.000000</td>\n",
       "      <td>0.000000</td>\n",
       "      <td>0.000000</td>\n",
       "      <td>0.000000</td>\n",
       "      <td>0.000000</td>\n",
       "      <td>...</td>\n",
       "      <td>54506.000000</td>\n",
       "      <td>50190.500000</td>\n",
       "      <td>49198.250000</td>\n",
       "      <td>5006.000000</td>\n",
       "      <td>5.000000e+03</td>\n",
       "      <td>4505.00000</td>\n",
       "      <td>4013.250000</td>\n",
       "      <td>4031.500000</td>\n",
       "      <td>4000.000000</td>\n",
       "      <td>0.000000</td>\n",
       "    </tr>\n",
       "    <tr>\n",
       "      <th>max</th>\n",
       "      <td>30000.000000</td>\n",
       "      <td>1000000.000000</td>\n",
       "      <td>2.000000</td>\n",
       "      <td>6.000000</td>\n",
       "      <td>3.000000</td>\n",
       "      <td>79.000000</td>\n",
       "      <td>8.000000</td>\n",
       "      <td>8.000000</td>\n",
       "      <td>8.000000</td>\n",
       "      <td>8.000000</td>\n",
       "      <td>...</td>\n",
       "      <td>891586.000000</td>\n",
       "      <td>927171.000000</td>\n",
       "      <td>961664.000000</td>\n",
       "      <td>873552.000000</td>\n",
       "      <td>1.684259e+06</td>\n",
       "      <td>896040.00000</td>\n",
       "      <td>621000.000000</td>\n",
       "      <td>426529.000000</td>\n",
       "      <td>528666.000000</td>\n",
       "      <td>1.000000</td>\n",
       "    </tr>\n",
       "  </tbody>\n",
       "</table>\n",
       "<p>8 rows × 25 columns</p>\n",
       "</div>\n",
       "      <button class=\"colab-df-convert\" onclick=\"convertToInteractive('df-1847ab9f-8544-4023-8c04-2606d4b28e9c')\"\n",
       "              title=\"Convert this dataframe to an interactive table.\"\n",
       "              style=\"display:none;\">\n",
       "        \n",
       "  <svg xmlns=\"http://www.w3.org/2000/svg\" height=\"24px\"viewBox=\"0 0 24 24\"\n",
       "       width=\"24px\">\n",
       "    <path d=\"M0 0h24v24H0V0z\" fill=\"none\"/>\n",
       "    <path d=\"M18.56 5.44l.94 2.06.94-2.06 2.06-.94-2.06-.94-.94-2.06-.94 2.06-2.06.94zm-11 1L8.5 8.5l.94-2.06 2.06-.94-2.06-.94L8.5 2.5l-.94 2.06-2.06.94zm10 10l.94 2.06.94-2.06 2.06-.94-2.06-.94-.94-2.06-.94 2.06-2.06.94z\"/><path d=\"M17.41 7.96l-1.37-1.37c-.4-.4-.92-.59-1.43-.59-.52 0-1.04.2-1.43.59L10.3 9.45l-7.72 7.72c-.78.78-.78 2.05 0 2.83L4 21.41c.39.39.9.59 1.41.59.51 0 1.02-.2 1.41-.59l7.78-7.78 2.81-2.81c.8-.78.8-2.07 0-2.86zM5.41 20L4 18.59l7.72-7.72 1.47 1.35L5.41 20z\"/>\n",
       "  </svg>\n",
       "      </button>\n",
       "      \n",
       "  <style>\n",
       "    .colab-df-container {\n",
       "      display:flex;\n",
       "      flex-wrap:wrap;\n",
       "      gap: 12px;\n",
       "    }\n",
       "\n",
       "    .colab-df-convert {\n",
       "      background-color: #E8F0FE;\n",
       "      border: none;\n",
       "      border-radius: 50%;\n",
       "      cursor: pointer;\n",
       "      display: none;\n",
       "      fill: #1967D2;\n",
       "      height: 32px;\n",
       "      padding: 0 0 0 0;\n",
       "      width: 32px;\n",
       "    }\n",
       "\n",
       "    .colab-df-convert:hover {\n",
       "      background-color: #E2EBFA;\n",
       "      box-shadow: 0px 1px 2px rgba(60, 64, 67, 0.3), 0px 1px 3px 1px rgba(60, 64, 67, 0.15);\n",
       "      fill: #174EA6;\n",
       "    }\n",
       "\n",
       "    [theme=dark] .colab-df-convert {\n",
       "      background-color: #3B4455;\n",
       "      fill: #D2E3FC;\n",
       "    }\n",
       "\n",
       "    [theme=dark] .colab-df-convert:hover {\n",
       "      background-color: #434B5C;\n",
       "      box-shadow: 0px 1px 3px 1px rgba(0, 0, 0, 0.15);\n",
       "      filter: drop-shadow(0px 1px 2px rgba(0, 0, 0, 0.3));\n",
       "      fill: #FFFFFF;\n",
       "    }\n",
       "  </style>\n",
       "\n",
       "      <script>\n",
       "        const buttonEl =\n",
       "          document.querySelector('#df-1847ab9f-8544-4023-8c04-2606d4b28e9c button.colab-df-convert');\n",
       "        buttonEl.style.display =\n",
       "          google.colab.kernel.accessAllowed ? 'block' : 'none';\n",
       "\n",
       "        async function convertToInteractive(key) {\n",
       "          const element = document.querySelector('#df-1847ab9f-8544-4023-8c04-2606d4b28e9c');\n",
       "          const dataTable =\n",
       "            await google.colab.kernel.invokeFunction('convertToInteractive',\n",
       "                                                     [key], {});\n",
       "          if (!dataTable) return;\n",
       "\n",
       "          const docLinkHtml = 'Like what you see? Visit the ' +\n",
       "            '<a target=\"_blank\" href=https://colab.research.google.com/notebooks/data_table.ipynb>data table notebook</a>'\n",
       "            + ' to learn more about interactive tables.';\n",
       "          element.innerHTML = '';\n",
       "          dataTable['output_type'] = 'display_data';\n",
       "          await google.colab.output.renderOutput(dataTable, element);\n",
       "          const docLink = document.createElement('div');\n",
       "          docLink.innerHTML = docLinkHtml;\n",
       "          element.appendChild(docLink);\n",
       "        }\n",
       "      </script>\n",
       "    </div>\n",
       "  </div>\n",
       "  "
      ],
      "text/plain": [
       "                 ID       LIMIT_BAL           SEX     EDUCATION      MARRIAGE  \\\n",
       "count  30000.000000    30000.000000  30000.000000  30000.000000  30000.000000   \n",
       "mean   15000.500000   167484.322667      1.603733      1.853133      1.551867   \n",
       "std     8660.398374   129747.661567      0.489129      0.790349      0.521970   \n",
       "min        1.000000    10000.000000      1.000000      0.000000      0.000000   \n",
       "25%     7500.750000    50000.000000      1.000000      1.000000      1.000000   \n",
       "50%    15000.500000   140000.000000      2.000000      2.000000      2.000000   \n",
       "75%    22500.250000   240000.000000      2.000000      2.000000      2.000000   \n",
       "max    30000.000000  1000000.000000      2.000000      6.000000      3.000000   \n",
       "\n",
       "                AGE         PAY_0         PAY_2         PAY_3         PAY_4  \\\n",
       "count  30000.000000  30000.000000  30000.000000  30000.000000  30000.000000   \n",
       "mean      35.485500     -0.016700     -0.133767     -0.166200     -0.220667   \n",
       "std        9.217904      1.123802      1.197186      1.196868      1.169139   \n",
       "min       21.000000     -2.000000     -2.000000     -2.000000     -2.000000   \n",
       "25%       28.000000     -1.000000     -1.000000     -1.000000     -1.000000   \n",
       "50%       34.000000      0.000000      0.000000      0.000000      0.000000   \n",
       "75%       41.000000      0.000000      0.000000      0.000000      0.000000   \n",
       "max       79.000000      8.000000      8.000000      8.000000      8.000000   \n",
       "\n",
       "       ...      BILL_AMT4      BILL_AMT5      BILL_AMT6       PAY_AMT1  \\\n",
       "count  ...   30000.000000   30000.000000   30000.000000   30000.000000   \n",
       "mean   ...   43262.948967   40311.400967   38871.760400    5663.580500   \n",
       "std    ...   64332.856134   60797.155770   59554.107537   16563.280354   \n",
       "min    ... -170000.000000  -81334.000000 -339603.000000       0.000000   \n",
       "25%    ...    2326.750000    1763.000000    1256.000000    1000.000000   \n",
       "50%    ...   19052.000000   18104.500000   17071.000000    2100.000000   \n",
       "75%    ...   54506.000000   50190.500000   49198.250000    5006.000000   \n",
       "max    ...  891586.000000  927171.000000  961664.000000  873552.000000   \n",
       "\n",
       "           PAY_AMT2      PAY_AMT3       PAY_AMT4       PAY_AMT5  \\\n",
       "count  3.000000e+04   30000.00000   30000.000000   30000.000000   \n",
       "mean   5.921163e+03    5225.68150    4826.076867    4799.387633   \n",
       "std    2.304087e+04   17606.96147   15666.159744   15278.305679   \n",
       "min    0.000000e+00       0.00000       0.000000       0.000000   \n",
       "25%    8.330000e+02     390.00000     296.000000     252.500000   \n",
       "50%    2.009000e+03    1800.00000    1500.000000    1500.000000   \n",
       "75%    5.000000e+03    4505.00000    4013.250000    4031.500000   \n",
       "max    1.684259e+06  896040.00000  621000.000000  426529.000000   \n",
       "\n",
       "            PAY_AMT6  default.payment.next.month  \n",
       "count   30000.000000                30000.000000  \n",
       "mean     5215.502567                    0.221200  \n",
       "std     17777.465775                    0.415062  \n",
       "min         0.000000                    0.000000  \n",
       "25%       117.750000                    0.000000  \n",
       "50%      1500.000000                    0.000000  \n",
       "75%      4000.000000                    0.000000  \n",
       "max    528666.000000                    1.000000  \n",
       "\n",
       "[8 rows x 25 columns]"
      ]
     },
     "execution_count": 100,
     "metadata": {},
     "output_type": "execute_result"
    }
   ],
   "source": [
    "credit_card_df.describe()"
   ]
  },
  {
   "cell_type": "code",
   "execution_count": 101,
   "id": "0db20735-c589-400a-adf4-a1ca03380f9f",
   "metadata": {
    "colab": {
     "base_uri": "https://localhost:8080/"
    },
    "id": "0db20735-c589-400a-adf4-a1ca03380f9f",
    "outputId": "92384727-5159-405d-effa-8a294a60d347"
   },
   "outputs": [
    {
     "data": {
      "text/plain": [
       "array([ 2, -1,  0, -2,  1,  3,  4,  8,  7,  5,  6])"
      ]
     },
     "execution_count": 101,
     "metadata": {},
     "output_type": "execute_result"
    }
   ],
   "source": [
    "credit_card_df[\"PAY_0\"].unique()"
   ]
  },
  {
   "cell_type": "code",
   "execution_count": 102,
   "id": "w4uTxm57H76e",
   "metadata": {
    "id": "w4uTxm57H76e"
   },
   "outputs": [],
   "source": [
    "credit_card_df.rename(columns = {'default.payment.next.month':'DEFAULT_PMT_FLAG'}, inplace = True)"
   ]
  },
  {
   "cell_type": "code",
   "execution_count": 102,
   "id": "wUvm4nA3H72v",
   "metadata": {
    "id": "wUvm4nA3H72v"
   },
   "outputs": [],
   "source": []
  },
  {
   "cell_type": "markdown",
   "id": "C9bqGAAZIQGI",
   "metadata": {
    "id": "C9bqGAAZIQGI"
   },
   "source": [
    "## Create New features\n",
    "\n",
    "- Consolodate PAY_0, PAY_2, PAY_3, PAY_4, PAY_5, PAY_6 columns into single column called MAX_PAY_DELAY_MOS. MAX_PAY_DELAY_MONTHS represents the maximum number of months borrower was late in making a payment.\n",
    "\n",
    "- Calculate mean and median of Bill Amount columns for each sample\n",
    "\n",
    "- Calculate mean and median of Pay Amount columns for each sample"
   ]
  },
  {
   "cell_type": "code",
   "execution_count": 103,
   "id": "Qvn6VGtyH7kP",
   "metadata": {
    "id": "Qvn6VGtyH7kP"
   },
   "outputs": [],
   "source": [
    "def get_maximum_payment_delay(*pay_cols):\n",
    "  \"\"\"\n",
    "  Return the maximum payment months from the list of payment columns passed in\n",
    "\n",
    "  param: pay_cols: list of payment month delays i.e. [2,3] represents two and three months late payments\n",
    "  \"\"\"\n",
    "  return np.max(pay_cols)"
   ]
  },
  {
   "cell_type": "code",
   "execution_count": 104,
   "id": "OVYaIgBtXLfR",
   "metadata": {
    "id": "OVYaIgBtXLfR"
   },
   "outputs": [],
   "source": [
    "def calc_mean_bill_amount(*bill_amt_cols):\n",
    "  \"\"\"\n",
    "  Calcuate mean of billing amount columns passed in\n",
    "\n",
    "  param: bill_amt_cols: list of billing amount columns\n",
    "  \"\"\"\n",
    "  return np.mean(bill_amt_cols).round()"
   ]
  },
  {
   "cell_type": "code",
   "execution_count": 105,
   "id": "cdW-dbskXyGp",
   "metadata": {
    "id": "cdW-dbskXyGp"
   },
   "outputs": [],
   "source": [
    "def calc_mean_pay_amount(*pay_amt_cols):\n",
    "  \"\"\"\n",
    "  Calculate mean of payment amount columns passed in\n",
    "\n",
    "  param: pay_amt_cols: list of pay amount columns\n",
    "  \"\"\"\n",
    "  return np.mean(pay_amt_cols).round()"
   ]
  },
  {
   "cell_type": "markdown",
   "id": "O4woa8WIvt9K",
   "metadata": {
    "id": "O4woa8WIvt9K"
   },
   "source": [
    "### Create MAX_PAY_DELAY_MONTHS column\n",
    "> MAX_PAY_DELAY_MONTHS is the maximum number of months payment was late."
   ]
  },
  {
   "cell_type": "code",
   "execution_count": 106,
   "id": "mwoTyiUJbMVB",
   "metadata": {
    "id": "mwoTyiUJbMVB"
   },
   "outputs": [],
   "source": [
    "credit_card_df[\"MAX_PAY_DELAY_MONTHS\"] = credit_card_df.apply(lambda x: get_maximum_payment_delay(x.PAY_0, x.PAY_2, x.PAY_3, x.PAY_4, x.PAY_5, x.PAY_6), axis=1)"
   ]
  },
  {
   "cell_type": "code",
   "execution_count": 107,
   "id": "VVtyeuy6bMRT",
   "metadata": {
    "colab": {
     "base_uri": "https://localhost:8080/",
     "height": 628
    },
    "id": "VVtyeuy6bMRT",
    "outputId": "280ce4f8-f34e-4e1c-cf05-976a87745fd4"
   },
   "outputs": [
    {
     "data": {
      "application/vnd.google.colaboratory.module+javascript": "\n      import \"https://ssl.gstatic.com/colaboratory/data_table/a8bd4d5e58f96183/data_table.js\";\n\n      window.createDataTable({\n        data: [[{\n            'v': 25465,\n            'f': \"25465\",\n        },\n{\n            'v': 0,\n            'f': \"0\",\n        },\n{\n            'v': 0,\n            'f': \"0\",\n        },\n{\n            'v': 0,\n            'f': \"0\",\n        },\n{\n            'v': 0,\n            'f': \"0\",\n        },\n{\n            'v': 0,\n            'f': \"0\",\n        },\n{\n            'v': 2,\n            'f': \"2\",\n        },\n{\n            'v': 2.0,\n            'f': \"2.0\",\n        }],\n [{\n            'v': 1789,\n            'f': \"1789\",\n        },\n{\n            'v': 0,\n            'f': \"0\",\n        },\n{\n            'v': 0,\n            'f': \"0\",\n        },\n{\n            'v': 0,\n            'f': \"0\",\n        },\n{\n            'v': 0,\n            'f': \"0\",\n        },\n{\n            'v': 0,\n            'f': \"0\",\n        },\n{\n            'v': 0,\n            'f': \"0\",\n        },\n{\n            'v': 0.0,\n            'f': \"0.0\",\n        }],\n [{\n            'v': 21267,\n            'f': \"21267\",\n        },\n{\n            'v': 0,\n            'f': \"0\",\n        },\n{\n            'v': 0,\n            'f': \"0\",\n        },\n{\n            'v': 0,\n            'f': \"0\",\n        },\n{\n            'v': 0,\n            'f': \"0\",\n        },\n{\n            'v': 0,\n            'f': \"0\",\n        },\n{\n            'v': 0,\n            'f': \"0\",\n        },\n{\n            'v': 0.0,\n            'f': \"0.0\",\n        }],\n [{\n            'v': 9357,\n            'f': \"9357\",\n        },\n{\n            'v': -2,\n            'f': \"-2\",\n        },\n{\n            'v': -1,\n            'f': \"-1\",\n        },\n{\n            'v': 2,\n            'f': \"2\",\n        },\n{\n            'v': -1,\n            'f': \"-1\",\n        },\n{\n            'v': 0,\n            'f': \"0\",\n        },\n{\n            'v': 0,\n            'f': \"0\",\n        },\n{\n            'v': 2.0,\n            'f': \"2.0\",\n        }],\n [{\n            'v': 26688,\n            'f': \"26688\",\n        },\n{\n            'v': 0,\n            'f': \"0\",\n        },\n{\n            'v': 0,\n            'f': \"0\",\n        },\n{\n            'v': 0,\n            'f': \"0\",\n        },\n{\n            'v': 0,\n            'f': \"0\",\n        },\n{\n            'v': 0,\n            'f': \"0\",\n        },\n{\n            'v': 0,\n            'f': \"0\",\n        },\n{\n            'v': 0.0,\n            'f': \"0.0\",\n        }],\n [{\n            'v': 18712,\n            'f': \"18712\",\n        },\n{\n            'v': 0,\n            'f': \"0\",\n        },\n{\n            'v': 0,\n            'f': \"0\",\n        },\n{\n            'v': 0,\n            'f': \"0\",\n        },\n{\n            'v': 0,\n            'f': \"0\",\n        },\n{\n            'v': 0,\n            'f': \"0\",\n        },\n{\n            'v': 0,\n            'f': \"0\",\n        },\n{\n            'v': 0.0,\n            'f': \"0.0\",\n        }],\n [{\n            'v': 17316,\n            'f': \"17316\",\n        },\n{\n            'v': 2,\n            'f': \"2\",\n        },\n{\n            'v': 2,\n            'f': \"2\",\n        },\n{\n            'v': 0,\n            'f': \"0\",\n        },\n{\n            'v': 0,\n            'f': \"0\",\n        },\n{\n            'v': 2,\n            'f': \"2\",\n        },\n{\n            'v': 0,\n            'f': \"0\",\n        },\n{\n            'v': 2.0,\n            'f': \"2.0\",\n        }],\n [{\n            'v': 22322,\n            'f': \"22322\",\n        },\n{\n            'v': -1,\n            'f': \"-1\",\n        },\n{\n            'v': -1,\n            'f': \"-1\",\n        },\n{\n            'v': -1,\n            'f': \"-1\",\n        },\n{\n            'v': -1,\n            'f': \"-1\",\n        },\n{\n            'v': -1,\n            'f': \"-1\",\n        },\n{\n            'v': -1,\n            'f': \"-1\",\n        },\n{\n            'v': -1.0,\n            'f': \"-1.0\",\n        }],\n [{\n            'v': 7320,\n            'f': \"7320\",\n        },\n{\n            'v': -1,\n            'f': \"-1\",\n        },\n{\n            'v': -1,\n            'f': \"-1\",\n        },\n{\n            'v': -1,\n            'f': \"-1\",\n        },\n{\n            'v': -1,\n            'f': \"-1\",\n        },\n{\n            'v': -1,\n            'f': \"-1\",\n        },\n{\n            'v': -1,\n            'f': \"-1\",\n        },\n{\n            'v': -1.0,\n            'f': \"-1.0\",\n        }],\n [{\n            'v': 21895,\n            'f': \"21895\",\n        },\n{\n            'v': 0,\n            'f': \"0\",\n        },\n{\n            'v': -1,\n            'f': \"-1\",\n        },\n{\n            'v': 2,\n            'f': \"2\",\n        },\n{\n            'v': 0,\n            'f': \"0\",\n        },\n{\n            'v': 0,\n            'f': \"0\",\n        },\n{\n            'v': 0,\n            'f': \"0\",\n        },\n{\n            'v': 2.0,\n            'f': \"2.0\",\n        }],\n [{\n            'v': 10677,\n            'f': \"10677\",\n        },\n{\n            'v': 1,\n            'f': \"1\",\n        },\n{\n            'v': 2,\n            'f': \"2\",\n        },\n{\n            'v': 0,\n            'f': \"0\",\n        },\n{\n            'v': 0,\n            'f': \"0\",\n        },\n{\n            'v': 0,\n            'f': \"0\",\n        },\n{\n            'v': 2,\n            'f': \"2\",\n        },\n{\n            'v': 2.0,\n            'f': \"2.0\",\n        }],\n [{\n            'v': 5864,\n            'f': \"5864\",\n        },\n{\n            'v': -1,\n            'f': \"-1\",\n        },\n{\n            'v': -1,\n            'f': \"-1\",\n        },\n{\n            'v': 2,\n            'f': \"2\",\n        },\n{\n            'v': 0,\n            'f': \"0\",\n        },\n{\n            'v': -1,\n            'f': \"-1\",\n        },\n{\n            'v': -1,\n            'f': \"-1\",\n        },\n{\n            'v': 2.0,\n            'f': \"2.0\",\n        }],\n [{\n            'v': 1759,\n            'f': \"1759\",\n        },\n{\n            'v': 1,\n            'f': \"1\",\n        },\n{\n            'v': -2,\n            'f': \"-2\",\n        },\n{\n            'v': -2,\n            'f': \"-2\",\n        },\n{\n            'v': -2,\n            'f': \"-2\",\n        },\n{\n            'v': -2,\n            'f': \"-2\",\n        },\n{\n            'v': -2,\n            'f': \"-2\",\n        },\n{\n            'v': 1.0,\n            'f': \"1.0\",\n        }],\n [{\n            'v': 24814,\n            'f': \"24814\",\n        },\n{\n            'v': 0,\n            'f': \"0\",\n        },\n{\n            'v': 0,\n            'f': \"0\",\n        },\n{\n            'v': 0,\n            'f': \"0\",\n        },\n{\n            'v': 0,\n            'f': \"0\",\n        },\n{\n            'v': 0,\n            'f': \"0\",\n        },\n{\n            'v': 0,\n            'f': \"0\",\n        },\n{\n            'v': 0.0,\n            'f': \"0.0\",\n        }],\n [{\n            'v': 22151,\n            'f': \"22151\",\n        },\n{\n            'v': -2,\n            'f': \"-2\",\n        },\n{\n            'v': -2,\n            'f': \"-2\",\n        },\n{\n            'v': -2,\n            'f': \"-2\",\n        },\n{\n            'v': -2,\n            'f': \"-2\",\n        },\n{\n            'v': -2,\n            'f': \"-2\",\n        },\n{\n            'v': -2,\n            'f': \"-2\",\n        },\n{\n            'v': -2.0,\n            'f': \"-2.0\",\n        }],\n [{\n            'v': 23614,\n            'f': \"23614\",\n        },\n{\n            'v': -2,\n            'f': \"-2\",\n        },\n{\n            'v': -1,\n            'f': \"-1\",\n        },\n{\n            'v': -1,\n            'f': \"-1\",\n        },\n{\n            'v': -1,\n            'f': \"-1\",\n        },\n{\n            'v': -1,\n            'f': \"-1\",\n        },\n{\n            'v': -1,\n            'f': \"-1\",\n        },\n{\n            'v': -1.0,\n            'f': \"-1.0\",\n        }],\n [{\n            'v': 28473,\n            'f': \"28473\",\n        },\n{\n            'v': 1,\n            'f': \"1\",\n        },\n{\n            'v': -1,\n            'f': \"-1\",\n        },\n{\n            'v': -1,\n            'f': \"-1\",\n        },\n{\n            'v': -1,\n            'f': \"-1\",\n        },\n{\n            'v': -1,\n            'f': \"-1\",\n        },\n{\n            'v': -1,\n            'f': \"-1\",\n        },\n{\n            'v': 1.0,\n            'f': \"1.0\",\n        }],\n [{\n            'v': 11408,\n            'f': \"11408\",\n        },\n{\n            'v': 1,\n            'f': \"1\",\n        },\n{\n            'v': 3,\n            'f': \"3\",\n        },\n{\n            'v': 4,\n            'f': \"4\",\n        },\n{\n            'v': 3,\n            'f': \"3\",\n        },\n{\n            'v': 2,\n            'f': \"2\",\n        },\n{\n            'v': 0,\n            'f': \"0\",\n        },\n{\n            'v': 4.0,\n            'f': \"4.0\",\n        }],\n [{\n            'v': 21711,\n            'f': \"21711\",\n        },\n{\n            'v': 0,\n            'f': \"0\",\n        },\n{\n            'v': 0,\n            'f': \"0\",\n        },\n{\n            'v': 0,\n            'f': \"0\",\n        },\n{\n            'v': 0,\n            'f': \"0\",\n        },\n{\n            'v': 0,\n            'f': \"0\",\n        },\n{\n            'v': 2,\n            'f': \"2\",\n        },\n{\n            'v': 2.0,\n            'f': \"2.0\",\n        }],\n [{\n            'v': 3610,\n            'f': \"3610\",\n        },\n{\n            'v': 0,\n            'f': \"0\",\n        },\n{\n            'v': 0,\n            'f': \"0\",\n        },\n{\n            'v': 0,\n            'f': \"0\",\n        },\n{\n            'v': 0,\n            'f': \"0\",\n        },\n{\n            'v': 0,\n            'f': \"0\",\n        },\n{\n            'v': 0,\n            'f': \"0\",\n        },\n{\n            'v': 0.0,\n            'f': \"0.0\",\n        }],\n [{\n            'v': 20438,\n            'f': \"20438\",\n        },\n{\n            'v': 0,\n            'f': \"0\",\n        },\n{\n            'v': 0,\n            'f': \"0\",\n        },\n{\n            'v': 2,\n            'f': \"2\",\n        },\n{\n            'v': 0,\n            'f': \"0\",\n        },\n{\n            'v': 0,\n            'f': \"0\",\n        },\n{\n            'v': 0,\n            'f': \"0\",\n        },\n{\n            'v': 2.0,\n            'f': \"2.0\",\n        }],\n [{\n            'v': 17786,\n            'f': \"17786\",\n        },\n{\n            'v': 0,\n            'f': \"0\",\n        },\n{\n            'v': 0,\n            'f': \"0\",\n        },\n{\n            'v': 0,\n            'f': \"0\",\n        },\n{\n            'v': 0,\n            'f': \"0\",\n        },\n{\n            'v': 0,\n            'f': \"0\",\n        },\n{\n            'v': 0,\n            'f': \"0\",\n        },\n{\n            'v': 0.0,\n            'f': \"0.0\",\n        }],\n [{\n            'v': 28099,\n            'f': \"28099\",\n        },\n{\n            'v': 2,\n            'f': \"2\",\n        },\n{\n            'v': 2,\n            'f': \"2\",\n        },\n{\n            'v': 2,\n            'f': \"2\",\n        },\n{\n            'v': 2,\n            'f': \"2\",\n        },\n{\n            'v': 0,\n            'f': \"0\",\n        },\n{\n            'v': 0,\n            'f': \"0\",\n        },\n{\n            'v': 2.0,\n            'f': \"2.0\",\n        }],\n [{\n            'v': 4409,\n            'f': \"4409\",\n        },\n{\n            'v': 1,\n            'f': \"1\",\n        },\n{\n            'v': -1,\n            'f': \"-1\",\n        },\n{\n            'v': -1,\n            'f': \"-1\",\n        },\n{\n            'v': -1,\n            'f': \"-1\",\n        },\n{\n            'v': -1,\n            'f': \"-1\",\n        },\n{\n            'v': 0,\n            'f': \"0\",\n        },\n{\n            'v': 1.0,\n            'f': \"1.0\",\n        }],\n [{\n            'v': 14297,\n            'f': \"14297\",\n        },\n{\n            'v': 0,\n            'f': \"0\",\n        },\n{\n            'v': 0,\n            'f': \"0\",\n        },\n{\n            'v': 0,\n            'f': \"0\",\n        },\n{\n            'v': 0,\n            'f': \"0\",\n        },\n{\n            'v': 0,\n            'f': \"0\",\n        },\n{\n            'v': 0,\n            'f': \"0\",\n        },\n{\n            'v': 0.0,\n            'f': \"0.0\",\n        }]],\n        columns: [[\"number\", \"index\"], [\"number\", \"PAY_0\"], [\"number\", \"PAY_2\"], [\"number\", \"PAY_3\"], [\"number\", \"PAY_4\"], [\"number\", \"PAY_5\"], [\"number\", \"PAY_6\"], [\"number\", \"MAX_PAY_DELAY_MONTHS\"]],\n        columnOptions: [{\"width\": \"1px\", \"className\": \"index_column\"}],\n        rowsPerPage: 25,\n        helpUrl: \"https://colab.research.google.com/notebooks/data_table.ipynb\",\n        suppressOutputScrolling: true,\n        minimumWidth: undefined,\n      });\n    ",
      "text/html": [
       "\n",
       "  <div id=\"df-6071b727-4926-4a7a-85bd-1a8aab7133fe\">\n",
       "    <div class=\"colab-df-container\">\n",
       "      <div>\n",
       "<style scoped>\n",
       "    .dataframe tbody tr th:only-of-type {\n",
       "        vertical-align: middle;\n",
       "    }\n",
       "\n",
       "    .dataframe tbody tr th {\n",
       "        vertical-align: top;\n",
       "    }\n",
       "\n",
       "    .dataframe thead th {\n",
       "        text-align: right;\n",
       "    }\n",
       "</style>\n",
       "<table border=\"1\" class=\"dataframe\">\n",
       "  <thead>\n",
       "    <tr style=\"text-align: right;\">\n",
       "      <th></th>\n",
       "      <th>PAY_0</th>\n",
       "      <th>PAY_2</th>\n",
       "      <th>PAY_3</th>\n",
       "      <th>PAY_4</th>\n",
       "      <th>PAY_5</th>\n",
       "      <th>PAY_6</th>\n",
       "      <th>MAX_PAY_DELAY_MONTHS</th>\n",
       "    </tr>\n",
       "  </thead>\n",
       "  <tbody>\n",
       "    <tr>\n",
       "      <th>25465</th>\n",
       "      <td>0</td>\n",
       "      <td>0</td>\n",
       "      <td>0</td>\n",
       "      <td>0</td>\n",
       "      <td>0</td>\n",
       "      <td>2</td>\n",
       "      <td>2.0</td>\n",
       "    </tr>\n",
       "    <tr>\n",
       "      <th>1789</th>\n",
       "      <td>0</td>\n",
       "      <td>0</td>\n",
       "      <td>0</td>\n",
       "      <td>0</td>\n",
       "      <td>0</td>\n",
       "      <td>0</td>\n",
       "      <td>0.0</td>\n",
       "    </tr>\n",
       "    <tr>\n",
       "      <th>21267</th>\n",
       "      <td>0</td>\n",
       "      <td>0</td>\n",
       "      <td>0</td>\n",
       "      <td>0</td>\n",
       "      <td>0</td>\n",
       "      <td>0</td>\n",
       "      <td>0.0</td>\n",
       "    </tr>\n",
       "    <tr>\n",
       "      <th>9357</th>\n",
       "      <td>-2</td>\n",
       "      <td>-1</td>\n",
       "      <td>2</td>\n",
       "      <td>-1</td>\n",
       "      <td>0</td>\n",
       "      <td>0</td>\n",
       "      <td>2.0</td>\n",
       "    </tr>\n",
       "    <tr>\n",
       "      <th>26688</th>\n",
       "      <td>0</td>\n",
       "      <td>0</td>\n",
       "      <td>0</td>\n",
       "      <td>0</td>\n",
       "      <td>0</td>\n",
       "      <td>0</td>\n",
       "      <td>0.0</td>\n",
       "    </tr>\n",
       "    <tr>\n",
       "      <th>18712</th>\n",
       "      <td>0</td>\n",
       "      <td>0</td>\n",
       "      <td>0</td>\n",
       "      <td>0</td>\n",
       "      <td>0</td>\n",
       "      <td>0</td>\n",
       "      <td>0.0</td>\n",
       "    </tr>\n",
       "    <tr>\n",
       "      <th>17316</th>\n",
       "      <td>2</td>\n",
       "      <td>2</td>\n",
       "      <td>0</td>\n",
       "      <td>0</td>\n",
       "      <td>2</td>\n",
       "      <td>0</td>\n",
       "      <td>2.0</td>\n",
       "    </tr>\n",
       "    <tr>\n",
       "      <th>22322</th>\n",
       "      <td>-1</td>\n",
       "      <td>-1</td>\n",
       "      <td>-1</td>\n",
       "      <td>-1</td>\n",
       "      <td>-1</td>\n",
       "      <td>-1</td>\n",
       "      <td>-1.0</td>\n",
       "    </tr>\n",
       "    <tr>\n",
       "      <th>7320</th>\n",
       "      <td>-1</td>\n",
       "      <td>-1</td>\n",
       "      <td>-1</td>\n",
       "      <td>-1</td>\n",
       "      <td>-1</td>\n",
       "      <td>-1</td>\n",
       "      <td>-1.0</td>\n",
       "    </tr>\n",
       "    <tr>\n",
       "      <th>21895</th>\n",
       "      <td>0</td>\n",
       "      <td>-1</td>\n",
       "      <td>2</td>\n",
       "      <td>0</td>\n",
       "      <td>0</td>\n",
       "      <td>0</td>\n",
       "      <td>2.0</td>\n",
       "    </tr>\n",
       "    <tr>\n",
       "      <th>10677</th>\n",
       "      <td>1</td>\n",
       "      <td>2</td>\n",
       "      <td>0</td>\n",
       "      <td>0</td>\n",
       "      <td>0</td>\n",
       "      <td>2</td>\n",
       "      <td>2.0</td>\n",
       "    </tr>\n",
       "    <tr>\n",
       "      <th>5864</th>\n",
       "      <td>-1</td>\n",
       "      <td>-1</td>\n",
       "      <td>2</td>\n",
       "      <td>0</td>\n",
       "      <td>-1</td>\n",
       "      <td>-1</td>\n",
       "      <td>2.0</td>\n",
       "    </tr>\n",
       "    <tr>\n",
       "      <th>1759</th>\n",
       "      <td>1</td>\n",
       "      <td>-2</td>\n",
       "      <td>-2</td>\n",
       "      <td>-2</td>\n",
       "      <td>-2</td>\n",
       "      <td>-2</td>\n",
       "      <td>1.0</td>\n",
       "    </tr>\n",
       "    <tr>\n",
       "      <th>24814</th>\n",
       "      <td>0</td>\n",
       "      <td>0</td>\n",
       "      <td>0</td>\n",
       "      <td>0</td>\n",
       "      <td>0</td>\n",
       "      <td>0</td>\n",
       "      <td>0.0</td>\n",
       "    </tr>\n",
       "    <tr>\n",
       "      <th>22151</th>\n",
       "      <td>-2</td>\n",
       "      <td>-2</td>\n",
       "      <td>-2</td>\n",
       "      <td>-2</td>\n",
       "      <td>-2</td>\n",
       "      <td>-2</td>\n",
       "      <td>-2.0</td>\n",
       "    </tr>\n",
       "    <tr>\n",
       "      <th>23614</th>\n",
       "      <td>-2</td>\n",
       "      <td>-1</td>\n",
       "      <td>-1</td>\n",
       "      <td>-1</td>\n",
       "      <td>-1</td>\n",
       "      <td>-1</td>\n",
       "      <td>-1.0</td>\n",
       "    </tr>\n",
       "    <tr>\n",
       "      <th>28473</th>\n",
       "      <td>1</td>\n",
       "      <td>-1</td>\n",
       "      <td>-1</td>\n",
       "      <td>-1</td>\n",
       "      <td>-1</td>\n",
       "      <td>-1</td>\n",
       "      <td>1.0</td>\n",
       "    </tr>\n",
       "    <tr>\n",
       "      <th>11408</th>\n",
       "      <td>1</td>\n",
       "      <td>3</td>\n",
       "      <td>4</td>\n",
       "      <td>3</td>\n",
       "      <td>2</td>\n",
       "      <td>0</td>\n",
       "      <td>4.0</td>\n",
       "    </tr>\n",
       "    <tr>\n",
       "      <th>21711</th>\n",
       "      <td>0</td>\n",
       "      <td>0</td>\n",
       "      <td>0</td>\n",
       "      <td>0</td>\n",
       "      <td>0</td>\n",
       "      <td>2</td>\n",
       "      <td>2.0</td>\n",
       "    </tr>\n",
       "    <tr>\n",
       "      <th>3610</th>\n",
       "      <td>0</td>\n",
       "      <td>0</td>\n",
       "      <td>0</td>\n",
       "      <td>0</td>\n",
       "      <td>0</td>\n",
       "      <td>0</td>\n",
       "      <td>0.0</td>\n",
       "    </tr>\n",
       "    <tr>\n",
       "      <th>20438</th>\n",
       "      <td>0</td>\n",
       "      <td>0</td>\n",
       "      <td>2</td>\n",
       "      <td>0</td>\n",
       "      <td>0</td>\n",
       "      <td>0</td>\n",
       "      <td>2.0</td>\n",
       "    </tr>\n",
       "    <tr>\n",
       "      <th>17786</th>\n",
       "      <td>0</td>\n",
       "      <td>0</td>\n",
       "      <td>0</td>\n",
       "      <td>0</td>\n",
       "      <td>0</td>\n",
       "      <td>0</td>\n",
       "      <td>0.0</td>\n",
       "    </tr>\n",
       "    <tr>\n",
       "      <th>28099</th>\n",
       "      <td>2</td>\n",
       "      <td>2</td>\n",
       "      <td>2</td>\n",
       "      <td>2</td>\n",
       "      <td>0</td>\n",
       "      <td>0</td>\n",
       "      <td>2.0</td>\n",
       "    </tr>\n",
       "    <tr>\n",
       "      <th>4409</th>\n",
       "      <td>1</td>\n",
       "      <td>-1</td>\n",
       "      <td>-1</td>\n",
       "      <td>-1</td>\n",
       "      <td>-1</td>\n",
       "      <td>0</td>\n",
       "      <td>1.0</td>\n",
       "    </tr>\n",
       "    <tr>\n",
       "      <th>14297</th>\n",
       "      <td>0</td>\n",
       "      <td>0</td>\n",
       "      <td>0</td>\n",
       "      <td>0</td>\n",
       "      <td>0</td>\n",
       "      <td>0</td>\n",
       "      <td>0.0</td>\n",
       "    </tr>\n",
       "  </tbody>\n",
       "</table>\n",
       "</div>\n",
       "      <button class=\"colab-df-convert\" onclick=\"convertToInteractive('df-6071b727-4926-4a7a-85bd-1a8aab7133fe')\"\n",
       "              title=\"Convert this dataframe to an interactive table.\"\n",
       "              style=\"display:none;\">\n",
       "        \n",
       "  <svg xmlns=\"http://www.w3.org/2000/svg\" height=\"24px\"viewBox=\"0 0 24 24\"\n",
       "       width=\"24px\">\n",
       "    <path d=\"M0 0h24v24H0V0z\" fill=\"none\"/>\n",
       "    <path d=\"M18.56 5.44l.94 2.06.94-2.06 2.06-.94-2.06-.94-.94-2.06-.94 2.06-2.06.94zm-11 1L8.5 8.5l.94-2.06 2.06-.94-2.06-.94L8.5 2.5l-.94 2.06-2.06.94zm10 10l.94 2.06.94-2.06 2.06-.94-2.06-.94-.94-2.06-.94 2.06-2.06.94z\"/><path d=\"M17.41 7.96l-1.37-1.37c-.4-.4-.92-.59-1.43-.59-.52 0-1.04.2-1.43.59L10.3 9.45l-7.72 7.72c-.78.78-.78 2.05 0 2.83L4 21.41c.39.39.9.59 1.41.59.51 0 1.02-.2 1.41-.59l7.78-7.78 2.81-2.81c.8-.78.8-2.07 0-2.86zM5.41 20L4 18.59l7.72-7.72 1.47 1.35L5.41 20z\"/>\n",
       "  </svg>\n",
       "      </button>\n",
       "      \n",
       "  <style>\n",
       "    .colab-df-container {\n",
       "      display:flex;\n",
       "      flex-wrap:wrap;\n",
       "      gap: 12px;\n",
       "    }\n",
       "\n",
       "    .colab-df-convert {\n",
       "      background-color: #E8F0FE;\n",
       "      border: none;\n",
       "      border-radius: 50%;\n",
       "      cursor: pointer;\n",
       "      display: none;\n",
       "      fill: #1967D2;\n",
       "      height: 32px;\n",
       "      padding: 0 0 0 0;\n",
       "      width: 32px;\n",
       "    }\n",
       "\n",
       "    .colab-df-convert:hover {\n",
       "      background-color: #E2EBFA;\n",
       "      box-shadow: 0px 1px 2px rgba(60, 64, 67, 0.3), 0px 1px 3px 1px rgba(60, 64, 67, 0.15);\n",
       "      fill: #174EA6;\n",
       "    }\n",
       "\n",
       "    [theme=dark] .colab-df-convert {\n",
       "      background-color: #3B4455;\n",
       "      fill: #D2E3FC;\n",
       "    }\n",
       "\n",
       "    [theme=dark] .colab-df-convert:hover {\n",
       "      background-color: #434B5C;\n",
       "      box-shadow: 0px 1px 3px 1px rgba(0, 0, 0, 0.15);\n",
       "      filter: drop-shadow(0px 1px 2px rgba(0, 0, 0, 0.3));\n",
       "      fill: #FFFFFF;\n",
       "    }\n",
       "  </style>\n",
       "\n",
       "      <script>\n",
       "        const buttonEl =\n",
       "          document.querySelector('#df-6071b727-4926-4a7a-85bd-1a8aab7133fe button.colab-df-convert');\n",
       "        buttonEl.style.display =\n",
       "          google.colab.kernel.accessAllowed ? 'block' : 'none';\n",
       "\n",
       "        async function convertToInteractive(key) {\n",
       "          const element = document.querySelector('#df-6071b727-4926-4a7a-85bd-1a8aab7133fe');\n",
       "          const dataTable =\n",
       "            await google.colab.kernel.invokeFunction('convertToInteractive',\n",
       "                                                     [key], {});\n",
       "          if (!dataTable) return;\n",
       "\n",
       "          const docLinkHtml = 'Like what you see? Visit the ' +\n",
       "            '<a target=\"_blank\" href=https://colab.research.google.com/notebooks/data_table.ipynb>data table notebook</a>'\n",
       "            + ' to learn more about interactive tables.';\n",
       "          element.innerHTML = '';\n",
       "          dataTable['output_type'] = 'display_data';\n",
       "          await google.colab.output.renderOutput(dataTable, element);\n",
       "          const docLink = document.createElement('div');\n",
       "          docLink.innerHTML = docLinkHtml;\n",
       "          element.appendChild(docLink);\n",
       "        }\n",
       "      </script>\n",
       "    </div>\n",
       "  </div>\n",
       "  "
      ],
      "text/plain": [
       "       PAY_0  PAY_2  PAY_3  PAY_4  PAY_5  PAY_6  MAX_PAY_DELAY_MONTHS\n",
       "25465      0      0      0      0      0      2                   2.0\n",
       "1789       0      0      0      0      0      0                   0.0\n",
       "21267      0      0      0      0      0      0                   0.0\n",
       "9357      -2     -1      2     -1      0      0                   2.0\n",
       "26688      0      0      0      0      0      0                   0.0\n",
       "18712      0      0      0      0      0      0                   0.0\n",
       "17316      2      2      0      0      2      0                   2.0\n",
       "22322     -1     -1     -1     -1     -1     -1                  -1.0\n",
       "7320      -1     -1     -1     -1     -1     -1                  -1.0\n",
       "21895      0     -1      2      0      0      0                   2.0\n",
       "10677      1      2      0      0      0      2                   2.0\n",
       "5864      -1     -1      2      0     -1     -1                   2.0\n",
       "1759       1     -2     -2     -2     -2     -2                   1.0\n",
       "24814      0      0      0      0      0      0                   0.0\n",
       "22151     -2     -2     -2     -2     -2     -2                  -2.0\n",
       "23614     -2     -1     -1     -1     -1     -1                  -1.0\n",
       "28473      1     -1     -1     -1     -1     -1                   1.0\n",
       "11408      1      3      4      3      2      0                   4.0\n",
       "21711      0      0      0      0      0      2                   2.0\n",
       "3610       0      0      0      0      0      0                   0.0\n",
       "20438      0      0      2      0      0      0                   2.0\n",
       "17786      0      0      0      0      0      0                   0.0\n",
       "28099      2      2      2      2      0      0                   2.0\n",
       "4409       1     -1     -1     -1     -1      0                   1.0\n",
       "14297      0      0      0      0      0      0                   0.0"
      ]
     },
     "execution_count": 107,
     "metadata": {},
     "output_type": "execute_result"
    }
   ],
   "source": [
    "credit_card_df[[\"PAY_0\", \"PAY_2\", \"PAY_3\", \"PAY_4\", \"PAY_5\", \"PAY_6\", \"MAX_PAY_DELAY_MONTHS\"]].sample(25)"
   ]
  },
  {
   "cell_type": "markdown",
   "id": "AjZrE-L-wM6Y",
   "metadata": {
    "id": "AjZrE-L-wM6Y"
   },
   "source": [
    "### Create Mean Billing Amount columns"
   ]
  },
  {
   "cell_type": "code",
   "execution_count": 108,
   "id": "SweRXap9Gcnj",
   "metadata": {
    "id": "SweRXap9Gcnj"
   },
   "outputs": [],
   "source": [
    "credit_card_df[\"MEAN_BILL_AMT\"] = credit_card_df.apply(lambda x: calc_mean_bill_amount(x.BILL_AMT1,x.BILL_AMT2,x.BILL_AMT3,x.BILL_AMT4,x.BILL_AMT5,x.BILL_AMT6), axis=1)"
   ]
  },
  {
   "cell_type": "markdown",
   "id": "IBAst1y-wjgF",
   "metadata": {
    "id": "IBAst1y-wjgF"
   },
   "source": [
    "### Create Mean Payment Amount columns"
   ]
  },
  {
   "cell_type": "code",
   "execution_count": 109,
   "id": "XRjgYwEBGbfL",
   "metadata": {
    "id": "XRjgYwEBGbfL"
   },
   "outputs": [],
   "source": [
    "credit_card_df[\"MEAN_PAY_AMT\"] = credit_card_df.apply(lambda x: calc_mean_pay_amount(x.PAY_AMT1,x.PAY_AMT2,x.PAY_AMT3,x.PAY_AMT4,x.PAY_AMT5,x.PAY_AMT6), axis=1)"
   ]
  },
  {
   "cell_type": "code",
   "execution_count": 109,
   "id": "aitEQjhOyT0t",
   "metadata": {
    "id": "aitEQjhOyT0t"
   },
   "outputs": [],
   "source": []
  },
  {
   "cell_type": "markdown",
   "id": "mjz_2Ph3yKBS",
   "metadata": {
    "id": "mjz_2Ph3yKBS"
   },
   "source": [
    "# Exploratory Data Analysis (EDA)"
   ]
  },
  {
   "cell_type": "code",
   "execution_count": 110,
   "id": "vYCvWJRLyD2M",
   "metadata": {
    "id": "vYCvWJRLyD2M"
   },
   "outputs": [],
   "source": [
    "credit_card_df2 = credit_card_df[[\"LIMIT_BAL\",\t\"SEX\",\t\"EDUCATION\",\t\"MARRIAGE\",\t\"AGE\", \"MAX_PAY_DELAY_MONTHS\", \"MEAN_BILL_AMT\", \"MEAN_PAY_AMT\", \"DEFAULT_PMT_FLAG\"]]"
   ]
  },
  {
   "cell_type": "code",
   "execution_count": 111,
   "id": "dQQfXR-SyDzB",
   "metadata": {
    "colab": {
     "base_uri": "https://localhost:8080/",
     "height": 628
    },
    "id": "dQQfXR-SyDzB",
    "outputId": "0e6c63ab-3987-4c44-8782-69bbbe2c7c51"
   },
   "outputs": [
    {
     "data": {
      "application/vnd.google.colaboratory.module+javascript": "\n      import \"https://ssl.gstatic.com/colaboratory/data_table/a8bd4d5e58f96183/data_table.js\";\n\n      window.createDataTable({\n        data: [[{\n            'v': 0,\n            'f': \"0\",\n        },\n{\n            'v': 20000.0,\n            'f': \"20000.0\",\n        },\n{\n            'v': 2,\n            'f': \"2\",\n        },\n{\n            'v': 2,\n            'f': \"2\",\n        },\n{\n            'v': 1,\n            'f': \"1\",\n        },\n{\n            'v': 24,\n            'f': \"24\",\n        },\n{\n            'v': 2.0,\n            'f': \"2.0\",\n        },\n{\n            'v': 1284.0,\n            'f': \"1284.0\",\n        },\n{\n            'v': 115.0,\n            'f': \"115.0\",\n        },\n{\n            'v': 1,\n            'f': \"1\",\n        }],\n [{\n            'v': 1,\n            'f': \"1\",\n        },\n{\n            'v': 120000.0,\n            'f': \"120000.0\",\n        },\n{\n            'v': 2,\n            'f': \"2\",\n        },\n{\n            'v': 2,\n            'f': \"2\",\n        },\n{\n            'v': 2,\n            'f': \"2\",\n        },\n{\n            'v': 26,\n            'f': \"26\",\n        },\n{\n            'v': 2.0,\n            'f': \"2.0\",\n        },\n{\n            'v': 2846.0,\n            'f': \"2846.0\",\n        },\n{\n            'v': 833.0,\n            'f': \"833.0\",\n        },\n{\n            'v': 1,\n            'f': \"1\",\n        }],\n [{\n            'v': 2,\n            'f': \"2\",\n        },\n{\n            'v': 90000.0,\n            'f': \"90000.0\",\n        },\n{\n            'v': 2,\n            'f': \"2\",\n        },\n{\n            'v': 2,\n            'f': \"2\",\n        },\n{\n            'v': 2,\n            'f': \"2\",\n        },\n{\n            'v': 34,\n            'f': \"34\",\n        },\n{\n            'v': 0.0,\n            'f': \"0.0\",\n        },\n{\n            'v': 16942.0,\n            'f': \"16942.0\",\n        },\n{\n            'v': 1836.0,\n            'f': \"1836.0\",\n        },\n{\n            'v': 0,\n            'f': \"0\",\n        }],\n [{\n            'v': 3,\n            'f': \"3\",\n        },\n{\n            'v': 50000.0,\n            'f': \"50000.0\",\n        },\n{\n            'v': 2,\n            'f': \"2\",\n        },\n{\n            'v': 2,\n            'f': \"2\",\n        },\n{\n            'v': 1,\n            'f': \"1\",\n        },\n{\n            'v': 37,\n            'f': \"37\",\n        },\n{\n            'v': 0.0,\n            'f': \"0.0\",\n        },\n{\n            'v': 38556.0,\n            'f': \"38556.0\",\n        },\n{\n            'v': 1398.0,\n            'f': \"1398.0\",\n        },\n{\n            'v': 0,\n            'f': \"0\",\n        }],\n [{\n            'v': 4,\n            'f': \"4\",\n        },\n{\n            'v': 50000.0,\n            'f': \"50000.0\",\n        },\n{\n            'v': 1,\n            'f': \"1\",\n        },\n{\n            'v': 2,\n            'f': \"2\",\n        },\n{\n            'v': 1,\n            'f': \"1\",\n        },\n{\n            'v': 57,\n            'f': \"57\",\n        },\n{\n            'v': 0.0,\n            'f': \"0.0\",\n        },\n{\n            'v': 18223.0,\n            'f': \"18223.0\",\n        },\n{\n            'v': 9842.0,\n            'f': \"9842.0\",\n        },\n{\n            'v': 0,\n            'f': \"0\",\n        }],\n [{\n            'v': 5,\n            'f': \"5\",\n        },\n{\n            'v': 50000.0,\n            'f': \"50000.0\",\n        },\n{\n            'v': 1,\n            'f': \"1\",\n        },\n{\n            'v': 1,\n            'f': \"1\",\n        },\n{\n            'v': 2,\n            'f': \"2\",\n        },\n{\n            'v': 37,\n            'f': \"37\",\n        },\n{\n            'v': 0.0,\n            'f': \"0.0\",\n        },\n{\n            'v': 39686.0,\n            'f': \"39686.0\",\n        },\n{\n            'v': 1295.0,\n            'f': \"1295.0\",\n        },\n{\n            'v': 0,\n            'f': \"0\",\n        }],\n [{\n            'v': 6,\n            'f': \"6\",\n        },\n{\n            'v': 500000.0,\n            'f': \"500000.0\",\n        },\n{\n            'v': 1,\n            'f': \"1\",\n        },\n{\n            'v': 1,\n            'f': \"1\",\n        },\n{\n            'v': 2,\n            'f': \"2\",\n        },\n{\n            'v': 29,\n            'f': \"29\",\n        },\n{\n            'v': 0.0,\n            'f': \"0.0\",\n        },\n{\n            'v': 454099.0,\n            'f': \"454099.0\",\n        },\n{\n            'v': 30126.0,\n            'f': \"30126.0\",\n        },\n{\n            'v': 0,\n            'f': \"0\",\n        }],\n [{\n            'v': 7,\n            'f': \"7\",\n        },\n{\n            'v': 100000.0,\n            'f': \"100000.0\",\n        },\n{\n            'v': 2,\n            'f': \"2\",\n        },\n{\n            'v': 2,\n            'f': \"2\",\n        },\n{\n            'v': 2,\n            'f': \"2\",\n        },\n{\n            'v': 23,\n            'f': \"23\",\n        },\n{\n            'v': 0.0,\n            'f': \"0.0\",\n        },\n{\n            'v': 2248.0,\n            'f': \"2248.0\",\n        },\n{\n            'v': 798.0,\n            'f': \"798.0\",\n        },\n{\n            'v': 0,\n            'f': \"0\",\n        }],\n [{\n            'v': 8,\n            'f': \"8\",\n        },\n{\n            'v': 140000.0,\n            'f': \"140000.0\",\n        },\n{\n            'v': 2,\n            'f': \"2\",\n        },\n{\n            'v': 3,\n            'f': \"3\",\n        },\n{\n            'v': 1,\n            'f': \"1\",\n        },\n{\n            'v': 28,\n            'f': \"28\",\n        },\n{\n            'v': 2.0,\n            'f': \"2.0\",\n        },\n{\n            'v': 10869.0,\n            'f': \"10869.0\",\n        },\n{\n            'v': 1127.0,\n            'f': \"1127.0\",\n        },\n{\n            'v': 0,\n            'f': \"0\",\n        }],\n [{\n            'v': 9,\n            'f': \"9\",\n        },\n{\n            'v': 20000.0,\n            'f': \"20000.0\",\n        },\n{\n            'v': 1,\n            'f': \"1\",\n        },\n{\n            'v': 3,\n            'f': \"3\",\n        },\n{\n            'v': 2,\n            'f': \"2\",\n        },\n{\n            'v': 35,\n            'f': \"35\",\n        },\n{\n            'v': -1.0,\n            'f': \"-1.0\",\n        },\n{\n            'v': 4486.0,\n            'f': \"4486.0\",\n        },\n{\n            'v': 2355.0,\n            'f': \"2355.0\",\n        },\n{\n            'v': 0,\n            'f': \"0\",\n        }],\n [{\n            'v': 10,\n            'f': \"10\",\n        },\n{\n            'v': 200000.0,\n            'f': \"200000.0\",\n        },\n{\n            'v': 2,\n            'f': \"2\",\n        },\n{\n            'v': 3,\n            'f': \"3\",\n        },\n{\n            'v': 2,\n            'f': \"2\",\n        },\n{\n            'v': 34,\n            'f': \"34\",\n        },\n{\n            'v': 2.0,\n            'f': \"2.0\",\n        },\n{\n            'v': 5744.0,\n            'f': \"5744.0\",\n        },\n{\n            'v': 1079.0,\n            'f': \"1079.0\",\n        },\n{\n            'v': 0,\n            'f': \"0\",\n        }],\n [{\n            'v': 11,\n            'f': \"11\",\n        },\n{\n            'v': 260000.0,\n            'f': \"260000.0\",\n        },\n{\n            'v': 2,\n            'f': \"2\",\n        },\n{\n            'v': 1,\n            'f': \"1\",\n        },\n{\n            'v': 2,\n            'f': \"2\",\n        },\n{\n            'v': 51,\n            'f': \"51\",\n        },\n{\n            'v': 2.0,\n            'f': \"2.0\",\n        },\n{\n            'v': 14728.0,\n            'f': \"14728.0\",\n        },\n{\n            'v': 11051.0,\n            'f': \"11051.0\",\n        },\n{\n            'v': 0,\n            'f': \"0\",\n        }],\n [{\n            'v': 12,\n            'f': \"12\",\n        },\n{\n            'v': 630000.0,\n            'f': \"630000.0\",\n        },\n{\n            'v': 2,\n            'f': \"2\",\n        },\n{\n            'v': 2,\n            'f': \"2\",\n        },\n{\n            'v': 2,\n            'f': \"2\",\n        },\n{\n            'v': 41,\n            'f': \"41\",\n        },\n{\n            'v': 0.0,\n            'f': \"0.0\",\n        },\n{\n            'v': 6834.0,\n            'f': \"6834.0\",\n        },\n{\n            'v': 3895.0,\n            'f': \"3895.0\",\n        },\n{\n            'v': 0,\n            'f': \"0\",\n        }],\n [{\n            'v': 13,\n            'f': \"13\",\n        },\n{\n            'v': 70000.0,\n            'f': \"70000.0\",\n        },\n{\n            'v': 1,\n            'f': \"1\",\n        },\n{\n            'v': 2,\n            'f': \"2\",\n        },\n{\n            'v': 2,\n            'f': \"2\",\n        },\n{\n            'v': 30,\n            'f': \"30\",\n        },\n{\n            'v': 2.0,\n            'f': \"2.0\",\n        },\n{\n            'v': 56448.0,\n            'f': \"56448.0\",\n        },\n{\n            'v': 1783.0,\n            'f': \"1783.0\",\n        },\n{\n            'v': 1,\n            'f': \"1\",\n        }],\n [{\n            'v': 14,\n            'f': \"14\",\n        },\n{\n            'v': 250000.0,\n            'f': \"250000.0\",\n        },\n{\n            'v': 1,\n            'f': \"1\",\n        },\n{\n            'v': 1,\n            'f': \"1\",\n        },\n{\n            'v': 2,\n            'f': \"2\",\n        },\n{\n            'v': 29,\n            'f': \"29\",\n        },\n{\n            'v': 0.0,\n            'f': \"0.0\",\n        },\n{\n            'v': 62265.0,\n            'f': \"62265.0\",\n        },\n{\n            'v': 3000.0,\n            'f': \"3000.0\",\n        },\n{\n            'v': 0,\n            'f': \"0\",\n        }],\n [{\n            'v': 15,\n            'f': \"15\",\n        },\n{\n            'v': 50000.0,\n            'f': \"50000.0\",\n        },\n{\n            'v': 2,\n            'f': \"2\",\n        },\n{\n            'v': 3,\n            'f': \"3\",\n        },\n{\n            'v': 3,\n            'f': \"3\",\n        },\n{\n            'v': 23,\n            'f': \"23\",\n        },\n{\n            'v': 2.0,\n            'f': \"2.0\",\n        },\n{\n            'v': 32736.0,\n            'f': \"32736.0\",\n        },\n{\n            'v': 1033.0,\n            'f': \"1033.0\",\n        },\n{\n            'v': 0,\n            'f': \"0\",\n        }],\n [{\n            'v': 16,\n            'f': \"16\",\n        },\n{\n            'v': 20000.0,\n            'f': \"20000.0\",\n        },\n{\n            'v': 1,\n            'f': \"1\",\n        },\n{\n            'v': 1,\n            'f': \"1\",\n        },\n{\n            'v': 2,\n            'f': \"2\",\n        },\n{\n            'v': 24,\n            'f': \"24\",\n        },\n{\n            'v': 2.0,\n            'f': \"2.0\",\n        },\n{\n            'v': 17694.0,\n            'f': \"17694.0\",\n        },\n{\n            'v': 1058.0,\n            'f': \"1058.0\",\n        },\n{\n            'v': 1,\n            'f': \"1\",\n        }],\n [{\n            'v': 17,\n            'f': \"17\",\n        },\n{\n            'v': 320000.0,\n            'f': \"320000.0\",\n        },\n{\n            'v': 1,\n            'f': \"1\",\n        },\n{\n            'v': 1,\n            'f': \"1\",\n        },\n{\n            'v': 1,\n            'f': \"1\",\n        },\n{\n            'v': 49,\n            'f': \"49\",\n        },\n{\n            'v': 0.0,\n            'f': \"0.0\",\n        },\n{\n            'v': 161002.0,\n            'f': \"161002.0\",\n        },\n{\n            'v': 60316.0,\n            'f': \"60316.0\",\n        },\n{\n            'v': 0,\n            'f': \"0\",\n        }],\n [{\n            'v': 18,\n            'f': \"18\",\n        },\n{\n            'v': 360000.0,\n            'f': \"360000.0\",\n        },\n{\n            'v': 2,\n            'f': \"2\",\n        },\n{\n            'v': 1,\n            'f': \"1\",\n        },\n{\n            'v': 1,\n            'f': \"1\",\n        },\n{\n            'v': 49,\n            'f': \"49\",\n        },\n{\n            'v': 1.0,\n            'f': \"1.0\",\n        },\n{\n            'v': 0.0,\n            'f': \"0.0\",\n        },\n{\n            'v': 0.0,\n            'f': \"0.0\",\n        },\n{\n            'v': 0,\n            'f': \"0\",\n        }],\n [{\n            'v': 19,\n            'f': \"19\",\n        },\n{\n            'v': 180000.0,\n            'f': \"180000.0\",\n        },\n{\n            'v': 2,\n            'f': \"2\",\n        },\n{\n            'v': 1,\n            'f': \"1\",\n        },\n{\n            'v': 2,\n            'f': \"2\",\n        },\n{\n            'v': 29,\n            'f': \"29\",\n        },\n{\n            'v': 1.0,\n            'f': \"1.0\",\n        },\n{\n            'v': 0.0,\n            'f': \"0.0\",\n        },\n{\n            'v': 0.0,\n            'f': \"0.0\",\n        },\n{\n            'v': 0,\n            'f': \"0\",\n        }],\n [{\n            'v': 20,\n            'f': \"20\",\n        },\n{\n            'v': 130000.0,\n            'f': \"130000.0\",\n        },\n{\n            'v': 2,\n            'f': \"2\",\n        },\n{\n            'v': 3,\n            'f': \"3\",\n        },\n{\n            'v': 2,\n            'f': \"2\",\n        },\n{\n            'v': 39,\n            'f': \"39\",\n        },\n{\n            'v': 0.0,\n            'f': \"0.0\",\n        },\n{\n            'v': 20647.0,\n            'f': \"20647.0\",\n        },\n{\n            'v': 7038.0,\n            'f': \"7038.0\",\n        },\n{\n            'v': 0,\n            'f': \"0\",\n        }],\n [{\n            'v': 21,\n            'f': \"21\",\n        },\n{\n            'v': 120000.0,\n            'f': \"120000.0\",\n        },\n{\n            'v': 2,\n            'f': \"2\",\n        },\n{\n            'v': 2,\n            'f': \"2\",\n        },\n{\n            'v': 1,\n            'f': \"1\",\n        },\n{\n            'v': 39,\n            'f': \"39\",\n        },\n{\n            'v': -1.0,\n            'f': \"-1.0\",\n        },\n{\n            'v': 316.0,\n            'f': \"316.0\",\n        },\n{\n            'v': 263.0,\n            'f': \"263.0\",\n        },\n{\n            'v': 1,\n            'f': \"1\",\n        }],\n [{\n            'v': 22,\n            'f': \"22\",\n        },\n{\n            'v': 70000.0,\n            'f': \"70000.0\",\n        },\n{\n            'v': 2,\n            'f': \"2\",\n        },\n{\n            'v': 2,\n            'f': \"2\",\n        },\n{\n            'v': 2,\n            'f': \"2\",\n        },\n{\n            'v': 26,\n            'f': \"26\",\n        },\n{\n            'v': 2.0,\n            'f': \"2.0\",\n        },\n{\n            'v': 44246.0,\n            'f': \"44246.0\",\n        },\n{\n            'v': 1835.0,\n            'f': \"1835.0\",\n        },\n{\n            'v': 1,\n            'f': \"1\",\n        }],\n [{\n            'v': 23,\n            'f': \"23\",\n        },\n{\n            'v': 450000.0,\n            'f': \"450000.0\",\n        },\n{\n            'v': 2,\n            'f': \"2\",\n        },\n{\n            'v': 1,\n            'f': \"1\",\n        },\n{\n            'v': 1,\n            'f': \"1\",\n        },\n{\n            'v': 40,\n            'f': \"40\",\n        },\n{\n            'v': -2.0,\n            'f': \"-2.0\",\n        },\n{\n            'v': 4494.0,\n            'f': \"4494.0\",\n        },\n{\n            'v': 3765.0,\n            'f': \"3765.0\",\n        },\n{\n            'v': 1,\n            'f': \"1\",\n        }],\n [{\n            'v': 24,\n            'f': \"24\",\n        },\n{\n            'v': 90000.0,\n            'f': \"90000.0\",\n        },\n{\n            'v': 1,\n            'f': \"1\",\n        },\n{\n            'v': 1,\n            'f': \"1\",\n        },\n{\n            'v': 2,\n            'f': \"2\",\n        },\n{\n            'v': 23,\n            'f': \"23\",\n        },\n{\n            'v': 0.0,\n            'f': \"0.0\",\n        },\n{\n            'v': 5311.0,\n            'f': \"5311.0\",\n        },\n{\n            'v': 2733.0,\n            'f': \"2733.0\",\n        },\n{\n            'v': 0,\n            'f': \"0\",\n        }]],\n        columns: [[\"number\", \"index\"], [\"number\", \"LIMIT_BAL\"], [\"number\", \"SEX\"], [\"number\", \"EDUCATION\"], [\"number\", \"MARRIAGE\"], [\"number\", \"AGE\"], [\"number\", \"MAX_PAY_DELAY_MONTHS\"], [\"number\", \"MEAN_BILL_AMT\"], [\"number\", \"MEAN_PAY_AMT\"], [\"number\", \"DEFAULT_PMT_FLAG\"]],\n        columnOptions: [{\"width\": \"1px\", \"className\": \"index_column\"}],\n        rowsPerPage: 25,\n        helpUrl: \"https://colab.research.google.com/notebooks/data_table.ipynb\",\n        suppressOutputScrolling: true,\n        minimumWidth: undefined,\n      });\n    ",
      "text/html": [
       "\n",
       "  <div id=\"df-f773ea26-908e-4b89-b027-c6d5793c84c2\">\n",
       "    <div class=\"colab-df-container\">\n",
       "      <div>\n",
       "<style scoped>\n",
       "    .dataframe tbody tr th:only-of-type {\n",
       "        vertical-align: middle;\n",
       "    }\n",
       "\n",
       "    .dataframe tbody tr th {\n",
       "        vertical-align: top;\n",
       "    }\n",
       "\n",
       "    .dataframe thead th {\n",
       "        text-align: right;\n",
       "    }\n",
       "</style>\n",
       "<table border=\"1\" class=\"dataframe\">\n",
       "  <thead>\n",
       "    <tr style=\"text-align: right;\">\n",
       "      <th></th>\n",
       "      <th>LIMIT_BAL</th>\n",
       "      <th>SEX</th>\n",
       "      <th>EDUCATION</th>\n",
       "      <th>MARRIAGE</th>\n",
       "      <th>AGE</th>\n",
       "      <th>MAX_PAY_DELAY_MONTHS</th>\n",
       "      <th>MEAN_BILL_AMT</th>\n",
       "      <th>MEAN_PAY_AMT</th>\n",
       "      <th>DEFAULT_PMT_FLAG</th>\n",
       "    </tr>\n",
       "  </thead>\n",
       "  <tbody>\n",
       "    <tr>\n",
       "      <th>0</th>\n",
       "      <td>20000.0</td>\n",
       "      <td>2</td>\n",
       "      <td>2</td>\n",
       "      <td>1</td>\n",
       "      <td>24</td>\n",
       "      <td>2.0</td>\n",
       "      <td>1284.0</td>\n",
       "      <td>115.0</td>\n",
       "      <td>1</td>\n",
       "    </tr>\n",
       "    <tr>\n",
       "      <th>1</th>\n",
       "      <td>120000.0</td>\n",
       "      <td>2</td>\n",
       "      <td>2</td>\n",
       "      <td>2</td>\n",
       "      <td>26</td>\n",
       "      <td>2.0</td>\n",
       "      <td>2846.0</td>\n",
       "      <td>833.0</td>\n",
       "      <td>1</td>\n",
       "    </tr>\n",
       "    <tr>\n",
       "      <th>2</th>\n",
       "      <td>90000.0</td>\n",
       "      <td>2</td>\n",
       "      <td>2</td>\n",
       "      <td>2</td>\n",
       "      <td>34</td>\n",
       "      <td>0.0</td>\n",
       "      <td>16942.0</td>\n",
       "      <td>1836.0</td>\n",
       "      <td>0</td>\n",
       "    </tr>\n",
       "    <tr>\n",
       "      <th>3</th>\n",
       "      <td>50000.0</td>\n",
       "      <td>2</td>\n",
       "      <td>2</td>\n",
       "      <td>1</td>\n",
       "      <td>37</td>\n",
       "      <td>0.0</td>\n",
       "      <td>38556.0</td>\n",
       "      <td>1398.0</td>\n",
       "      <td>0</td>\n",
       "    </tr>\n",
       "    <tr>\n",
       "      <th>4</th>\n",
       "      <td>50000.0</td>\n",
       "      <td>1</td>\n",
       "      <td>2</td>\n",
       "      <td>1</td>\n",
       "      <td>57</td>\n",
       "      <td>0.0</td>\n",
       "      <td>18223.0</td>\n",
       "      <td>9842.0</td>\n",
       "      <td>0</td>\n",
       "    </tr>\n",
       "    <tr>\n",
       "      <th>5</th>\n",
       "      <td>50000.0</td>\n",
       "      <td>1</td>\n",
       "      <td>1</td>\n",
       "      <td>2</td>\n",
       "      <td>37</td>\n",
       "      <td>0.0</td>\n",
       "      <td>39686.0</td>\n",
       "      <td>1295.0</td>\n",
       "      <td>0</td>\n",
       "    </tr>\n",
       "    <tr>\n",
       "      <th>6</th>\n",
       "      <td>500000.0</td>\n",
       "      <td>1</td>\n",
       "      <td>1</td>\n",
       "      <td>2</td>\n",
       "      <td>29</td>\n",
       "      <td>0.0</td>\n",
       "      <td>454099.0</td>\n",
       "      <td>30126.0</td>\n",
       "      <td>0</td>\n",
       "    </tr>\n",
       "    <tr>\n",
       "      <th>7</th>\n",
       "      <td>100000.0</td>\n",
       "      <td>2</td>\n",
       "      <td>2</td>\n",
       "      <td>2</td>\n",
       "      <td>23</td>\n",
       "      <td>0.0</td>\n",
       "      <td>2248.0</td>\n",
       "      <td>798.0</td>\n",
       "      <td>0</td>\n",
       "    </tr>\n",
       "    <tr>\n",
       "      <th>8</th>\n",
       "      <td>140000.0</td>\n",
       "      <td>2</td>\n",
       "      <td>3</td>\n",
       "      <td>1</td>\n",
       "      <td>28</td>\n",
       "      <td>2.0</td>\n",
       "      <td>10869.0</td>\n",
       "      <td>1127.0</td>\n",
       "      <td>0</td>\n",
       "    </tr>\n",
       "    <tr>\n",
       "      <th>9</th>\n",
       "      <td>20000.0</td>\n",
       "      <td>1</td>\n",
       "      <td>3</td>\n",
       "      <td>2</td>\n",
       "      <td>35</td>\n",
       "      <td>-1.0</td>\n",
       "      <td>4486.0</td>\n",
       "      <td>2355.0</td>\n",
       "      <td>0</td>\n",
       "    </tr>\n",
       "    <tr>\n",
       "      <th>10</th>\n",
       "      <td>200000.0</td>\n",
       "      <td>2</td>\n",
       "      <td>3</td>\n",
       "      <td>2</td>\n",
       "      <td>34</td>\n",
       "      <td>2.0</td>\n",
       "      <td>5744.0</td>\n",
       "      <td>1079.0</td>\n",
       "      <td>0</td>\n",
       "    </tr>\n",
       "    <tr>\n",
       "      <th>11</th>\n",
       "      <td>260000.0</td>\n",
       "      <td>2</td>\n",
       "      <td>1</td>\n",
       "      <td>2</td>\n",
       "      <td>51</td>\n",
       "      <td>2.0</td>\n",
       "      <td>14728.0</td>\n",
       "      <td>11051.0</td>\n",
       "      <td>0</td>\n",
       "    </tr>\n",
       "    <tr>\n",
       "      <th>12</th>\n",
       "      <td>630000.0</td>\n",
       "      <td>2</td>\n",
       "      <td>2</td>\n",
       "      <td>2</td>\n",
       "      <td>41</td>\n",
       "      <td>0.0</td>\n",
       "      <td>6834.0</td>\n",
       "      <td>3895.0</td>\n",
       "      <td>0</td>\n",
       "    </tr>\n",
       "    <tr>\n",
       "      <th>13</th>\n",
       "      <td>70000.0</td>\n",
       "      <td>1</td>\n",
       "      <td>2</td>\n",
       "      <td>2</td>\n",
       "      <td>30</td>\n",
       "      <td>2.0</td>\n",
       "      <td>56448.0</td>\n",
       "      <td>1783.0</td>\n",
       "      <td>1</td>\n",
       "    </tr>\n",
       "    <tr>\n",
       "      <th>14</th>\n",
       "      <td>250000.0</td>\n",
       "      <td>1</td>\n",
       "      <td>1</td>\n",
       "      <td>2</td>\n",
       "      <td>29</td>\n",
       "      <td>0.0</td>\n",
       "      <td>62265.0</td>\n",
       "      <td>3000.0</td>\n",
       "      <td>0</td>\n",
       "    </tr>\n",
       "    <tr>\n",
       "      <th>15</th>\n",
       "      <td>50000.0</td>\n",
       "      <td>2</td>\n",
       "      <td>3</td>\n",
       "      <td>3</td>\n",
       "      <td>23</td>\n",
       "      <td>2.0</td>\n",
       "      <td>32736.0</td>\n",
       "      <td>1033.0</td>\n",
       "      <td>0</td>\n",
       "    </tr>\n",
       "    <tr>\n",
       "      <th>16</th>\n",
       "      <td>20000.0</td>\n",
       "      <td>1</td>\n",
       "      <td>1</td>\n",
       "      <td>2</td>\n",
       "      <td>24</td>\n",
       "      <td>2.0</td>\n",
       "      <td>17694.0</td>\n",
       "      <td>1058.0</td>\n",
       "      <td>1</td>\n",
       "    </tr>\n",
       "    <tr>\n",
       "      <th>17</th>\n",
       "      <td>320000.0</td>\n",
       "      <td>1</td>\n",
       "      <td>1</td>\n",
       "      <td>1</td>\n",
       "      <td>49</td>\n",
       "      <td>0.0</td>\n",
       "      <td>161002.0</td>\n",
       "      <td>60316.0</td>\n",
       "      <td>0</td>\n",
       "    </tr>\n",
       "    <tr>\n",
       "      <th>18</th>\n",
       "      <td>360000.0</td>\n",
       "      <td>2</td>\n",
       "      <td>1</td>\n",
       "      <td>1</td>\n",
       "      <td>49</td>\n",
       "      <td>1.0</td>\n",
       "      <td>0.0</td>\n",
       "      <td>0.0</td>\n",
       "      <td>0</td>\n",
       "    </tr>\n",
       "    <tr>\n",
       "      <th>19</th>\n",
       "      <td>180000.0</td>\n",
       "      <td>2</td>\n",
       "      <td>1</td>\n",
       "      <td>2</td>\n",
       "      <td>29</td>\n",
       "      <td>1.0</td>\n",
       "      <td>0.0</td>\n",
       "      <td>0.0</td>\n",
       "      <td>0</td>\n",
       "    </tr>\n",
       "    <tr>\n",
       "      <th>20</th>\n",
       "      <td>130000.0</td>\n",
       "      <td>2</td>\n",
       "      <td>3</td>\n",
       "      <td>2</td>\n",
       "      <td>39</td>\n",
       "      <td>0.0</td>\n",
       "      <td>20647.0</td>\n",
       "      <td>7038.0</td>\n",
       "      <td>0</td>\n",
       "    </tr>\n",
       "    <tr>\n",
       "      <th>21</th>\n",
       "      <td>120000.0</td>\n",
       "      <td>2</td>\n",
       "      <td>2</td>\n",
       "      <td>1</td>\n",
       "      <td>39</td>\n",
       "      <td>-1.0</td>\n",
       "      <td>316.0</td>\n",
       "      <td>263.0</td>\n",
       "      <td>1</td>\n",
       "    </tr>\n",
       "    <tr>\n",
       "      <th>22</th>\n",
       "      <td>70000.0</td>\n",
       "      <td>2</td>\n",
       "      <td>2</td>\n",
       "      <td>2</td>\n",
       "      <td>26</td>\n",
       "      <td>2.0</td>\n",
       "      <td>44246.0</td>\n",
       "      <td>1835.0</td>\n",
       "      <td>1</td>\n",
       "    </tr>\n",
       "    <tr>\n",
       "      <th>23</th>\n",
       "      <td>450000.0</td>\n",
       "      <td>2</td>\n",
       "      <td>1</td>\n",
       "      <td>1</td>\n",
       "      <td>40</td>\n",
       "      <td>-2.0</td>\n",
       "      <td>4494.0</td>\n",
       "      <td>3765.0</td>\n",
       "      <td>1</td>\n",
       "    </tr>\n",
       "    <tr>\n",
       "      <th>24</th>\n",
       "      <td>90000.0</td>\n",
       "      <td>1</td>\n",
       "      <td>1</td>\n",
       "      <td>2</td>\n",
       "      <td>23</td>\n",
       "      <td>0.0</td>\n",
       "      <td>5311.0</td>\n",
       "      <td>2733.0</td>\n",
       "      <td>0</td>\n",
       "    </tr>\n",
       "  </tbody>\n",
       "</table>\n",
       "</div>\n",
       "      <button class=\"colab-df-convert\" onclick=\"convertToInteractive('df-f773ea26-908e-4b89-b027-c6d5793c84c2')\"\n",
       "              title=\"Convert this dataframe to an interactive table.\"\n",
       "              style=\"display:none;\">\n",
       "        \n",
       "  <svg xmlns=\"http://www.w3.org/2000/svg\" height=\"24px\"viewBox=\"0 0 24 24\"\n",
       "       width=\"24px\">\n",
       "    <path d=\"M0 0h24v24H0V0z\" fill=\"none\"/>\n",
       "    <path d=\"M18.56 5.44l.94 2.06.94-2.06 2.06-.94-2.06-.94-.94-2.06-.94 2.06-2.06.94zm-11 1L8.5 8.5l.94-2.06 2.06-.94-2.06-.94L8.5 2.5l-.94 2.06-2.06.94zm10 10l.94 2.06.94-2.06 2.06-.94-2.06-.94-.94-2.06-.94 2.06-2.06.94z\"/><path d=\"M17.41 7.96l-1.37-1.37c-.4-.4-.92-.59-1.43-.59-.52 0-1.04.2-1.43.59L10.3 9.45l-7.72 7.72c-.78.78-.78 2.05 0 2.83L4 21.41c.39.39.9.59 1.41.59.51 0 1.02-.2 1.41-.59l7.78-7.78 2.81-2.81c.8-.78.8-2.07 0-2.86zM5.41 20L4 18.59l7.72-7.72 1.47 1.35L5.41 20z\"/>\n",
       "  </svg>\n",
       "      </button>\n",
       "      \n",
       "  <style>\n",
       "    .colab-df-container {\n",
       "      display:flex;\n",
       "      flex-wrap:wrap;\n",
       "      gap: 12px;\n",
       "    }\n",
       "\n",
       "    .colab-df-convert {\n",
       "      background-color: #E8F0FE;\n",
       "      border: none;\n",
       "      border-radius: 50%;\n",
       "      cursor: pointer;\n",
       "      display: none;\n",
       "      fill: #1967D2;\n",
       "      height: 32px;\n",
       "      padding: 0 0 0 0;\n",
       "      width: 32px;\n",
       "    }\n",
       "\n",
       "    .colab-df-convert:hover {\n",
       "      background-color: #E2EBFA;\n",
       "      box-shadow: 0px 1px 2px rgba(60, 64, 67, 0.3), 0px 1px 3px 1px rgba(60, 64, 67, 0.15);\n",
       "      fill: #174EA6;\n",
       "    }\n",
       "\n",
       "    [theme=dark] .colab-df-convert {\n",
       "      background-color: #3B4455;\n",
       "      fill: #D2E3FC;\n",
       "    }\n",
       "\n",
       "    [theme=dark] .colab-df-convert:hover {\n",
       "      background-color: #434B5C;\n",
       "      box-shadow: 0px 1px 3px 1px rgba(0, 0, 0, 0.15);\n",
       "      filter: drop-shadow(0px 1px 2px rgba(0, 0, 0, 0.3));\n",
       "      fill: #FFFFFF;\n",
       "    }\n",
       "  </style>\n",
       "\n",
       "      <script>\n",
       "        const buttonEl =\n",
       "          document.querySelector('#df-f773ea26-908e-4b89-b027-c6d5793c84c2 button.colab-df-convert');\n",
       "        buttonEl.style.display =\n",
       "          google.colab.kernel.accessAllowed ? 'block' : 'none';\n",
       "\n",
       "        async function convertToInteractive(key) {\n",
       "          const element = document.querySelector('#df-f773ea26-908e-4b89-b027-c6d5793c84c2');\n",
       "          const dataTable =\n",
       "            await google.colab.kernel.invokeFunction('convertToInteractive',\n",
       "                                                     [key], {});\n",
       "          if (!dataTable) return;\n",
       "\n",
       "          const docLinkHtml = 'Like what you see? Visit the ' +\n",
       "            '<a target=\"_blank\" href=https://colab.research.google.com/notebooks/data_table.ipynb>data table notebook</a>'\n",
       "            + ' to learn more about interactive tables.';\n",
       "          element.innerHTML = '';\n",
       "          dataTable['output_type'] = 'display_data';\n",
       "          await google.colab.output.renderOutput(dataTable, element);\n",
       "          const docLink = document.createElement('div');\n",
       "          docLink.innerHTML = docLinkHtml;\n",
       "          element.appendChild(docLink);\n",
       "        }\n",
       "      </script>\n",
       "    </div>\n",
       "  </div>\n",
       "  "
      ],
      "text/plain": [
       "    LIMIT_BAL  SEX  EDUCATION  MARRIAGE  AGE  MAX_PAY_DELAY_MONTHS  \\\n",
       "0     20000.0    2          2         1   24                   2.0   \n",
       "1    120000.0    2          2         2   26                   2.0   \n",
       "2     90000.0    2          2         2   34                   0.0   \n",
       "3     50000.0    2          2         1   37                   0.0   \n",
       "4     50000.0    1          2         1   57                   0.0   \n",
       "5     50000.0    1          1         2   37                   0.0   \n",
       "6    500000.0    1          1         2   29                   0.0   \n",
       "7    100000.0    2          2         2   23                   0.0   \n",
       "8    140000.0    2          3         1   28                   2.0   \n",
       "9     20000.0    1          3         2   35                  -1.0   \n",
       "10   200000.0    2          3         2   34                   2.0   \n",
       "11   260000.0    2          1         2   51                   2.0   \n",
       "12   630000.0    2          2         2   41                   0.0   \n",
       "13    70000.0    1          2         2   30                   2.0   \n",
       "14   250000.0    1          1         2   29                   0.0   \n",
       "15    50000.0    2          3         3   23                   2.0   \n",
       "16    20000.0    1          1         2   24                   2.0   \n",
       "17   320000.0    1          1         1   49                   0.0   \n",
       "18   360000.0    2          1         1   49                   1.0   \n",
       "19   180000.0    2          1         2   29                   1.0   \n",
       "20   130000.0    2          3         2   39                   0.0   \n",
       "21   120000.0    2          2         1   39                  -1.0   \n",
       "22    70000.0    2          2         2   26                   2.0   \n",
       "23   450000.0    2          1         1   40                  -2.0   \n",
       "24    90000.0    1          1         2   23                   0.0   \n",
       "\n",
       "    MEAN_BILL_AMT  MEAN_PAY_AMT  DEFAULT_PMT_FLAG  \n",
       "0          1284.0         115.0                 1  \n",
       "1          2846.0         833.0                 1  \n",
       "2         16942.0        1836.0                 0  \n",
       "3         38556.0        1398.0                 0  \n",
       "4         18223.0        9842.0                 0  \n",
       "5         39686.0        1295.0                 0  \n",
       "6        454099.0       30126.0                 0  \n",
       "7          2248.0         798.0                 0  \n",
       "8         10869.0        1127.0                 0  \n",
       "9          4486.0        2355.0                 0  \n",
       "10         5744.0        1079.0                 0  \n",
       "11        14728.0       11051.0                 0  \n",
       "12         6834.0        3895.0                 0  \n",
       "13        56448.0        1783.0                 1  \n",
       "14        62265.0        3000.0                 0  \n",
       "15        32736.0        1033.0                 0  \n",
       "16        17694.0        1058.0                 1  \n",
       "17       161002.0       60316.0                 0  \n",
       "18            0.0           0.0                 0  \n",
       "19            0.0           0.0                 0  \n",
       "20        20647.0        7038.0                 0  \n",
       "21          316.0         263.0                 1  \n",
       "22        44246.0        1835.0                 1  \n",
       "23         4494.0        3765.0                 1  \n",
       "24         5311.0        2733.0                 0  "
      ]
     },
     "execution_count": 111,
     "metadata": {},
     "output_type": "execute_result"
    }
   ],
   "source": [
    "credit_card_df2.head(25)"
   ]
  },
  {
   "cell_type": "code",
   "execution_count": 112,
   "id": "Zwmm2YC3oUUk",
   "metadata": {
    "colab": {
     "base_uri": "https://localhost:8080/"
    },
    "id": "Zwmm2YC3oUUk",
    "outputId": "6a49288d-a896-4533-f394-14063f289d88"
   },
   "outputs": [
    {
     "name": "stdout",
     "output_type": "stream",
     "text": [
      "<class 'pandas.core.frame.DataFrame'>\n",
      "RangeIndex: 30000 entries, 0 to 29999\n",
      "Data columns (total 9 columns):\n",
      " #   Column                Non-Null Count  Dtype  \n",
      "---  ------                --------------  -----  \n",
      " 0   LIMIT_BAL             30000 non-null  float64\n",
      " 1   SEX                   30000 non-null  int64  \n",
      " 2   EDUCATION             30000 non-null  int64  \n",
      " 3   MARRIAGE              30000 non-null  int64  \n",
      " 4   AGE                   30000 non-null  int64  \n",
      " 5   MAX_PAY_DELAY_MONTHS  30000 non-null  float64\n",
      " 6   MEAN_BILL_AMT         30000 non-null  float64\n",
      " 7   MEAN_PAY_AMT          30000 non-null  float64\n",
      " 8   DEFAULT_PMT_FLAG      30000 non-null  int64  \n",
      "dtypes: float64(4), int64(5)\n",
      "memory usage: 2.1 MB\n"
     ]
    }
   ],
   "source": [
    "credit_card_df2.info()"
   ]
  },
  {
   "cell_type": "code",
   "execution_count": 113,
   "id": "RRh3lOmAmnrS",
   "metadata": {
    "colab": {
     "base_uri": "https://localhost:8080/",
     "height": 262
    },
    "id": "RRh3lOmAmnrS",
    "outputId": "284966fe-02a7-4856-c523-aac5a3d81c1d"
   },
   "outputs": [
    {
     "data": {
      "application/vnd.google.colaboratory.module+javascript": "\n      import \"https://ssl.gstatic.com/colaboratory/data_table/a8bd4d5e58f96183/data_table.js\";\n\n      window.createDataTable({\n        data: [[\"count\",\n{\n            'v': 30000.0,\n            'f': \"30000.0\",\n        },\n{\n            'v': 30000.0,\n            'f': \"30000.0\",\n        },\n{\n            'v': 30000.0,\n            'f': \"30000.0\",\n        },\n{\n            'v': 30000.0,\n            'f': \"30000.0\",\n        },\n{\n            'v': 30000.0,\n            'f': \"30000.0\",\n        },\n{\n            'v': 30000.0,\n            'f': \"30000.0\",\n        },\n{\n            'v': 30000.0,\n            'f': \"30000.0\",\n        },\n{\n            'v': 30000.0,\n            'f': \"30000.0\",\n        },\n{\n            'v': 30000.0,\n            'f': \"30000.0\",\n        }],\n [\"mean\",\n{\n            'v': 167484.32266666667,\n            'f': \"167484.32266666667\",\n        },\n{\n            'v': 1.6037333333333332,\n            'f': \"1.6037333333333332\",\n        },\n{\n            'v': 1.8531333333333333,\n            'f': \"1.8531333333333333\",\n        },\n{\n            'v': 1.5518666666666667,\n            'f': \"1.5518666666666667\",\n        },\n{\n            'v': 35.4855,\n            'f': \"35.4855\",\n        },\n{\n            'v': 0.4387333333333333,\n            'f': \"0.4387333333333333\",\n        },\n{\n            'v': 44976.9437,\n            'f': \"44976.9437\",\n        },\n{\n            'v': 5275.231633333334,\n            'f': \"5275.231633333334\",\n        },\n{\n            'v': 0.2212,\n            'f': \"0.2212\",\n        }],\n [\"std\",\n{\n            'v': 129747.66156720239,\n            'f': \"129747.66156720239\",\n        },\n{\n            'v': 0.48912919609026045,\n            'f': \"0.48912919609026045\",\n        },\n{\n            'v': 0.7903486597207291,\n            'f': \"0.7903486597207291\",\n        },\n{\n            'v': 0.5219696006132486,\n            'f': \"0.5219696006132486\",\n        },\n{\n            'v': 9.217904068090188,\n            'f': \"9.217904068090188\",\n        },\n{\n            'v': 1.345154282436408,\n            'f': \"1.345154282436408\",\n        },\n{\n            'v': 63260.72200081605,\n            'f': \"63260.72200081605\",\n        },\n{\n            'v': 10137.946665142084,\n            'f': \"10137.946665142084\",\n        },\n{\n            'v': 0.41506180569093337,\n            'f': \"0.41506180569093337\",\n        }],\n [\"min\",\n{\n            'v': 10000.0,\n            'f': \"10000.0\",\n        },\n{\n            'v': 1.0,\n            'f': \"1.0\",\n        },\n{\n            'v': 0.0,\n            'f': \"0.0\",\n        },\n{\n            'v': 0.0,\n            'f': \"0.0\",\n        },\n{\n            'v': 21.0,\n            'f': \"21.0\",\n        },\n{\n            'v': -2.0,\n            'f': \"-2.0\",\n        },\n{\n            'v': -56043.0,\n            'f': \"-56043.0\",\n        },\n{\n            'v': 0.0,\n            'f': \"0.0\",\n        },\n{\n            'v': 0.0,\n            'f': \"0.0\",\n        }],\n [\"25%\",\n{\n            'v': 50000.0,\n            'f': \"50000.0\",\n        },\n{\n            'v': 1.0,\n            'f': \"1.0\",\n        },\n{\n            'v': 1.0,\n            'f': \"1.0\",\n        },\n{\n            'v': 1.0,\n            'f': \"1.0\",\n        },\n{\n            'v': 28.0,\n            'f': \"28.0\",\n        },\n{\n            'v': 0.0,\n            'f': \"0.0\",\n        },\n{\n            'v': 4781.75,\n            'f': \"4781.75\",\n        },\n{\n            'v': 1113.0,\n            'f': \"1113.0\",\n        },\n{\n            'v': 0.0,\n            'f': \"0.0\",\n        }],\n [\"50%\",\n{\n            'v': 140000.0,\n            'f': \"140000.0\",\n        },\n{\n            'v': 2.0,\n            'f': \"2.0\",\n        },\n{\n            'v': 2.0,\n            'f': \"2.0\",\n        },\n{\n            'v': 2.0,\n            'f': \"2.0\",\n        },\n{\n            'v': 34.0,\n            'f': \"34.0\",\n        },\n{\n            'v': 0.0,\n            'f': \"0.0\",\n        },\n{\n            'v': 21052.0,\n            'f': \"21052.0\",\n        },\n{\n            'v': 2397.5,\n            'f': \"2397.5\",\n        },\n{\n            'v': 0.0,\n            'f': \"0.0\",\n        }],\n [\"75%\",\n{\n            'v': 240000.0,\n            'f': \"240000.0\",\n        },\n{\n            'v': 2.0,\n            'f': \"2.0\",\n        },\n{\n            'v': 2.0,\n            'f': \"2.0\",\n        },\n{\n            'v': 2.0,\n            'f': \"2.0\",\n        },\n{\n            'v': 41.0,\n            'f': \"41.0\",\n        },\n{\n            'v': 2.0,\n            'f': \"2.0\",\n        },\n{\n            'v': 57104.25,\n            'f': \"57104.25\",\n        },\n{\n            'v': 5584.0,\n            'f': \"5584.0\",\n        },\n{\n            'v': 0.0,\n            'f': \"0.0\",\n        }],\n [\"max\",\n{\n            'v': 1000000.0,\n            'f': \"1000000.0\",\n        },\n{\n            'v': 2.0,\n            'f': \"2.0\",\n        },\n{\n            'v': 6.0,\n            'f': \"6.0\",\n        },\n{\n            'v': 3.0,\n            'f': \"3.0\",\n        },\n{\n            'v': 79.0,\n            'f': \"79.0\",\n        },\n{\n            'v': 8.0,\n            'f': \"8.0\",\n        },\n{\n            'v': 877314.0,\n            'f': \"877314.0\",\n        },\n{\n            'v': 627344.0,\n            'f': \"627344.0\",\n        },\n{\n            'v': 1.0,\n            'f': \"1.0\",\n        }]],\n        columns: [[\"string\", \"index\"], [\"number\", \"LIMIT_BAL\"], [\"number\", \"SEX\"], [\"number\", \"EDUCATION\"], [\"number\", \"MARRIAGE\"], [\"number\", \"AGE\"], [\"number\", \"MAX_PAY_DELAY_MONTHS\"], [\"number\", \"MEAN_BILL_AMT\"], [\"number\", \"MEAN_PAY_AMT\"], [\"number\", \"DEFAULT_PMT_FLAG\"]],\n        columnOptions: [{\"width\": \"1px\", \"className\": \"index_column\"}],\n        rowsPerPage: 25,\n        helpUrl: \"https://colab.research.google.com/notebooks/data_table.ipynb\",\n        suppressOutputScrolling: true,\n        minimumWidth: undefined,\n      });\n    ",
      "text/html": [
       "\n",
       "  <div id=\"df-56321f1f-3b88-49d1-aee7-8f4b2bdc30bb\">\n",
       "    <div class=\"colab-df-container\">\n",
       "      <div>\n",
       "<style scoped>\n",
       "    .dataframe tbody tr th:only-of-type {\n",
       "        vertical-align: middle;\n",
       "    }\n",
       "\n",
       "    .dataframe tbody tr th {\n",
       "        vertical-align: top;\n",
       "    }\n",
       "\n",
       "    .dataframe thead th {\n",
       "        text-align: right;\n",
       "    }\n",
       "</style>\n",
       "<table border=\"1\" class=\"dataframe\">\n",
       "  <thead>\n",
       "    <tr style=\"text-align: right;\">\n",
       "      <th></th>\n",
       "      <th>LIMIT_BAL</th>\n",
       "      <th>SEX</th>\n",
       "      <th>EDUCATION</th>\n",
       "      <th>MARRIAGE</th>\n",
       "      <th>AGE</th>\n",
       "      <th>MAX_PAY_DELAY_MONTHS</th>\n",
       "      <th>MEAN_BILL_AMT</th>\n",
       "      <th>MEAN_PAY_AMT</th>\n",
       "      <th>DEFAULT_PMT_FLAG</th>\n",
       "    </tr>\n",
       "  </thead>\n",
       "  <tbody>\n",
       "    <tr>\n",
       "      <th>count</th>\n",
       "      <td>30000.000000</td>\n",
       "      <td>30000.000000</td>\n",
       "      <td>30000.000000</td>\n",
       "      <td>30000.000000</td>\n",
       "      <td>30000.000000</td>\n",
       "      <td>30000.000000</td>\n",
       "      <td>30000.000000</td>\n",
       "      <td>30000.000000</td>\n",
       "      <td>30000.000000</td>\n",
       "    </tr>\n",
       "    <tr>\n",
       "      <th>mean</th>\n",
       "      <td>167484.322667</td>\n",
       "      <td>1.603733</td>\n",
       "      <td>1.853133</td>\n",
       "      <td>1.551867</td>\n",
       "      <td>35.485500</td>\n",
       "      <td>0.438733</td>\n",
       "      <td>44976.943700</td>\n",
       "      <td>5275.231633</td>\n",
       "      <td>0.221200</td>\n",
       "    </tr>\n",
       "    <tr>\n",
       "      <th>std</th>\n",
       "      <td>129747.661567</td>\n",
       "      <td>0.489129</td>\n",
       "      <td>0.790349</td>\n",
       "      <td>0.521970</td>\n",
       "      <td>9.217904</td>\n",
       "      <td>1.345154</td>\n",
       "      <td>63260.722001</td>\n",
       "      <td>10137.946665</td>\n",
       "      <td>0.415062</td>\n",
       "    </tr>\n",
       "    <tr>\n",
       "      <th>min</th>\n",
       "      <td>10000.000000</td>\n",
       "      <td>1.000000</td>\n",
       "      <td>0.000000</td>\n",
       "      <td>0.000000</td>\n",
       "      <td>21.000000</td>\n",
       "      <td>-2.000000</td>\n",
       "      <td>-56043.000000</td>\n",
       "      <td>0.000000</td>\n",
       "      <td>0.000000</td>\n",
       "    </tr>\n",
       "    <tr>\n",
       "      <th>25%</th>\n",
       "      <td>50000.000000</td>\n",
       "      <td>1.000000</td>\n",
       "      <td>1.000000</td>\n",
       "      <td>1.000000</td>\n",
       "      <td>28.000000</td>\n",
       "      <td>0.000000</td>\n",
       "      <td>4781.750000</td>\n",
       "      <td>1113.000000</td>\n",
       "      <td>0.000000</td>\n",
       "    </tr>\n",
       "    <tr>\n",
       "      <th>50%</th>\n",
       "      <td>140000.000000</td>\n",
       "      <td>2.000000</td>\n",
       "      <td>2.000000</td>\n",
       "      <td>2.000000</td>\n",
       "      <td>34.000000</td>\n",
       "      <td>0.000000</td>\n",
       "      <td>21052.000000</td>\n",
       "      <td>2397.500000</td>\n",
       "      <td>0.000000</td>\n",
       "    </tr>\n",
       "    <tr>\n",
       "      <th>75%</th>\n",
       "      <td>240000.000000</td>\n",
       "      <td>2.000000</td>\n",
       "      <td>2.000000</td>\n",
       "      <td>2.000000</td>\n",
       "      <td>41.000000</td>\n",
       "      <td>2.000000</td>\n",
       "      <td>57104.250000</td>\n",
       "      <td>5584.000000</td>\n",
       "      <td>0.000000</td>\n",
       "    </tr>\n",
       "    <tr>\n",
       "      <th>max</th>\n",
       "      <td>1000000.000000</td>\n",
       "      <td>2.000000</td>\n",
       "      <td>6.000000</td>\n",
       "      <td>3.000000</td>\n",
       "      <td>79.000000</td>\n",
       "      <td>8.000000</td>\n",
       "      <td>877314.000000</td>\n",
       "      <td>627344.000000</td>\n",
       "      <td>1.000000</td>\n",
       "    </tr>\n",
       "  </tbody>\n",
       "</table>\n",
       "</div>\n",
       "      <button class=\"colab-df-convert\" onclick=\"convertToInteractive('df-56321f1f-3b88-49d1-aee7-8f4b2bdc30bb')\"\n",
       "              title=\"Convert this dataframe to an interactive table.\"\n",
       "              style=\"display:none;\">\n",
       "        \n",
       "  <svg xmlns=\"http://www.w3.org/2000/svg\" height=\"24px\"viewBox=\"0 0 24 24\"\n",
       "       width=\"24px\">\n",
       "    <path d=\"M0 0h24v24H0V0z\" fill=\"none\"/>\n",
       "    <path d=\"M18.56 5.44l.94 2.06.94-2.06 2.06-.94-2.06-.94-.94-2.06-.94 2.06-2.06.94zm-11 1L8.5 8.5l.94-2.06 2.06-.94-2.06-.94L8.5 2.5l-.94 2.06-2.06.94zm10 10l.94 2.06.94-2.06 2.06-.94-2.06-.94-.94-2.06-.94 2.06-2.06.94z\"/><path d=\"M17.41 7.96l-1.37-1.37c-.4-.4-.92-.59-1.43-.59-.52 0-1.04.2-1.43.59L10.3 9.45l-7.72 7.72c-.78.78-.78 2.05 0 2.83L4 21.41c.39.39.9.59 1.41.59.51 0 1.02-.2 1.41-.59l7.78-7.78 2.81-2.81c.8-.78.8-2.07 0-2.86zM5.41 20L4 18.59l7.72-7.72 1.47 1.35L5.41 20z\"/>\n",
       "  </svg>\n",
       "      </button>\n",
       "      \n",
       "  <style>\n",
       "    .colab-df-container {\n",
       "      display:flex;\n",
       "      flex-wrap:wrap;\n",
       "      gap: 12px;\n",
       "    }\n",
       "\n",
       "    .colab-df-convert {\n",
       "      background-color: #E8F0FE;\n",
       "      border: none;\n",
       "      border-radius: 50%;\n",
       "      cursor: pointer;\n",
       "      display: none;\n",
       "      fill: #1967D2;\n",
       "      height: 32px;\n",
       "      padding: 0 0 0 0;\n",
       "      width: 32px;\n",
       "    }\n",
       "\n",
       "    .colab-df-convert:hover {\n",
       "      background-color: #E2EBFA;\n",
       "      box-shadow: 0px 1px 2px rgba(60, 64, 67, 0.3), 0px 1px 3px 1px rgba(60, 64, 67, 0.15);\n",
       "      fill: #174EA6;\n",
       "    }\n",
       "\n",
       "    [theme=dark] .colab-df-convert {\n",
       "      background-color: #3B4455;\n",
       "      fill: #D2E3FC;\n",
       "    }\n",
       "\n",
       "    [theme=dark] .colab-df-convert:hover {\n",
       "      background-color: #434B5C;\n",
       "      box-shadow: 0px 1px 3px 1px rgba(0, 0, 0, 0.15);\n",
       "      filter: drop-shadow(0px 1px 2px rgba(0, 0, 0, 0.3));\n",
       "      fill: #FFFFFF;\n",
       "    }\n",
       "  </style>\n",
       "\n",
       "      <script>\n",
       "        const buttonEl =\n",
       "          document.querySelector('#df-56321f1f-3b88-49d1-aee7-8f4b2bdc30bb button.colab-df-convert');\n",
       "        buttonEl.style.display =\n",
       "          google.colab.kernel.accessAllowed ? 'block' : 'none';\n",
       "\n",
       "        async function convertToInteractive(key) {\n",
       "          const element = document.querySelector('#df-56321f1f-3b88-49d1-aee7-8f4b2bdc30bb');\n",
       "          const dataTable =\n",
       "            await google.colab.kernel.invokeFunction('convertToInteractive',\n",
       "                                                     [key], {});\n",
       "          if (!dataTable) return;\n",
       "\n",
       "          const docLinkHtml = 'Like what you see? Visit the ' +\n",
       "            '<a target=\"_blank\" href=https://colab.research.google.com/notebooks/data_table.ipynb>data table notebook</a>'\n",
       "            + ' to learn more about interactive tables.';\n",
       "          element.innerHTML = '';\n",
       "          dataTable['output_type'] = 'display_data';\n",
       "          await google.colab.output.renderOutput(dataTable, element);\n",
       "          const docLink = document.createElement('div');\n",
       "          docLink.innerHTML = docLinkHtml;\n",
       "          element.appendChild(docLink);\n",
       "        }\n",
       "      </script>\n",
       "    </div>\n",
       "  </div>\n",
       "  "
      ],
      "text/plain": [
       "            LIMIT_BAL           SEX     EDUCATION      MARRIAGE           AGE  \\\n",
       "count    30000.000000  30000.000000  30000.000000  30000.000000  30000.000000   \n",
       "mean    167484.322667      1.603733      1.853133      1.551867     35.485500   \n",
       "std     129747.661567      0.489129      0.790349      0.521970      9.217904   \n",
       "min      10000.000000      1.000000      0.000000      0.000000     21.000000   \n",
       "25%      50000.000000      1.000000      1.000000      1.000000     28.000000   \n",
       "50%     140000.000000      2.000000      2.000000      2.000000     34.000000   \n",
       "75%     240000.000000      2.000000      2.000000      2.000000     41.000000   \n",
       "max    1000000.000000      2.000000      6.000000      3.000000     79.000000   \n",
       "\n",
       "       MAX_PAY_DELAY_MONTHS  MEAN_BILL_AMT   MEAN_PAY_AMT  DEFAULT_PMT_FLAG  \n",
       "count          30000.000000   30000.000000   30000.000000      30000.000000  \n",
       "mean               0.438733   44976.943700    5275.231633          0.221200  \n",
       "std                1.345154   63260.722001   10137.946665          0.415062  \n",
       "min               -2.000000  -56043.000000       0.000000          0.000000  \n",
       "25%                0.000000    4781.750000    1113.000000          0.000000  \n",
       "50%                0.000000   21052.000000    2397.500000          0.000000  \n",
       "75%                2.000000   57104.250000    5584.000000          0.000000  \n",
       "max                8.000000  877314.000000  627344.000000          1.000000  "
      ]
     },
     "execution_count": 113,
     "metadata": {},
     "output_type": "execute_result"
    }
   ],
   "source": [
    "credit_card_df2.describe()"
   ]
  },
  {
   "cell_type": "code",
   "execution_count": 114,
   "id": "yEyahPXcdPt2",
   "metadata": {
    "colab": {
     "base_uri": "https://localhost:8080/",
     "height": 295
    },
    "id": "yEyahPXcdPt2",
    "outputId": "5fa296b5-1906-4737-b6aa-5a8fca4be057"
   },
   "outputs": [
    {
     "data": {
      "image/png": "[encoded data removed]",
      "text/plain": [
       "<Figure size 432x288 with 1 Axes>"
      ]
     },
     "metadata": {
      "needs_background": "light"
     },
     "output_type": "display_data"
    }
   ],
   "source": [
    "credit_card_df2[\"SEX\"].value_counts().plot(kind=\"bar\", rot=0)\n",
    "plt.title(\"Gender\")\n",
    "plt.ylabel(\"Count\")\n",
    "plt.xlabel(\"1 = Male, 2 = Female\")\n",
    "plt.show()"
   ]
  },
  {
   "cell_type": "code",
   "execution_count": 115,
   "id": "K6ETsRQGyDwG",
   "metadata": {
    "colab": {
     "base_uri": "https://localhost:8080/",
     "height": 295
    },
    "id": "K6ETsRQGyDwG",
    "outputId": "34c2cc97-6970-44f6-9798-ee28fa273868"
   },
   "outputs": [
    {
     "data": {
      "image/png": "[encoded data removed]",
      "text/plain": [
       "<Figure size 432x288 with 1 Axes>"
      ]
     },
     "metadata": {
      "needs_background": "light"
     },
     "output_type": "display_data"
    }
   ],
   "source": [
    "credit_card_df2.groupby(\"EDUCATION\")[\"EDUCATION\"].count().plot()\n",
    "plt.title(\"Years of Education\")\n",
    "plt.ylabel(\"Count\")\n",
    "plt.show()"
   ]
  },
  {
   "cell_type": "code",
   "execution_count": 116,
   "id": "I5UqSDDUfAIi",
   "metadata": {
    "colab": {
     "base_uri": "https://localhost:8080/",
     "height": 295
    },
    "id": "I5UqSDDUfAIi",
    "outputId": "d669f13f-0bc3-4a52-e211-86ce0c95d7e9"
   },
   "outputs": [
    {
     "data": {
      "image/png": "[encoded data removed]",
      "text/plain": [
       "<Figure size 432x288 with 1 Axes>"
      ]
     },
     "metadata": {
      "needs_background": "light"
     },
     "output_type": "display_data"
    }
   ],
   "source": [
    "credit_card_df2[\"MARRIAGE\"].value_counts().plot(kind=\"bar\", rot=0)\n",
    "plt.title(\"Married\")\n",
    "plt.ylabel(\"Count\")\n",
    "plt.xlabel(\"1 = Married, 2 = Single, 3 = Others\")\n",
    "plt.show()"
   ]
  },
  {
   "cell_type": "code",
   "execution_count": 117,
   "id": "baAucE7rgfFK",
   "metadata": {
    "id": "baAucE7rgfFK"
   },
   "outputs": [],
   "source": [
    "# Create copy of dataframe for binning columns\n",
    "credit_card_bin = credit_card_df2.copy()"
   ]
  },
  {
   "cell_type": "code",
   "execution_count": 118,
   "id": "LmdQFzvNfEXC",
   "metadata": {
    "id": "LmdQFzvNfEXC"
   },
   "outputs": [],
   "source": [
    "credit_card_bin[\"age\"] = pd.cut(credit_card_bin[\"AGE\"], bins=[18, 25, 30, 35, 40, 45, 50, 55, 60, 65], \n",
    "                                labels=[\"18 to 25\", \"25 to 30\", \"30 to 35\", \"35 to 40\", \"40 to 45\", \"45 to 50\", \"55 to 60\", \"60 to 65\", \"Over 65\"], \n",
    "                                include_lowest=True)"
   ]
  },
  {
   "cell_type": "code",
   "execution_count": 119,
   "id": "wnuCFY0ofD3S",
   "metadata": {
    "colab": {
     "base_uri": "https://localhost:8080/",
     "height": 390
    },
    "id": "wnuCFY0ofD3S",
    "outputId": "1b1cfe77-d641-4d89-bdc6-f8e8bacbe80b"
   },
   "outputs": [
    {
     "data": {
      "image/png": "[encoded data removed]",
      "text/plain": [
       "<Figure size 720x432 with 1 Axes>"
      ]
     },
     "metadata": {
      "needs_background": "light"
     },
     "output_type": "display_data"
    }
   ],
   "source": [
    "credit_card_bin.age.sort_values().hist(figsize=(10,6), bins=8)\n",
    "plt.title(\"Age\")\n",
    "plt.ylabel(\"Count\")\n",
    "plt.show()"
   ]
  },
  {
   "cell_type": "code",
   "execution_count": 120,
   "id": "_mMtck_Ygw0Y",
   "metadata": {
    "colab": {
     "base_uri": "https://localhost:8080/",
     "height": 295
    },
    "id": "_mMtck_Ygw0Y",
    "outputId": "cce9382b-b08b-4510-f6d6-4dfd83f697e6"
   },
   "outputs": [
    {
     "data": {
      "image/png": "[encoded data removed]",
      "text/plain": [
       "<Figure size 432x288 with 1 Axes>"
      ]
     },
     "metadata": {
      "needs_background": "light"
     },
     "output_type": "display_data"
    }
   ],
   "source": [
    "credit_card_df2[\"MAX_PAY_DELAY_MONTHS\"].sort_values().value_counts().plot(kind=\"bar\", rot=0)\n",
    "plt.title(\"Maximum payment delay (in months)\")\n",
    "plt.ylabel(\"Count\")\n",
    "plt.xlabel(\"Months late (negative values are early payments)\")\n",
    "plt.show()"
   ]
  },
  {
   "cell_type": "code",
   "execution_count": 121,
   "id": "FS0JMSdQo9ag",
   "metadata": {
    "id": "FS0JMSdQo9ag"
   },
   "outputs": [],
   "source": [
    "credit_card_bin[\"limit_bal\"] = pd.cut(credit_card_bin[\"LIMIT_BAL\"], bins=[10000, 25000, 50000, 140000, 240000, 1000000], \n",
    "                                      labels=[\"10k to 25k\", \"25k to 50k\", \"50k to 140k\", \"140k to 240k\", \"240k to 1 Mil\"], include_lowest=True)"
   ]
  },
  {
   "cell_type": "code",
   "execution_count": 122,
   "id": "mlSYzmAYpVPa",
   "metadata": {
    "colab": {
     "base_uri": "https://localhost:8080/",
     "height": 390
    },
    "id": "mlSYzmAYpVPa",
    "outputId": "aac7565a-4e3e-4532-acc2-0f058a0f68fb"
   },
   "outputs": [
    {
     "data": {
      "image/png": "[encoded data removed]",
      "text/plain": [
       "<Figure size 720x432 with 1 Axes>"
      ]
     },
     "metadata": {
      "needs_background": "light"
     },
     "output_type": "display_data"
    }
   ],
   "source": [
    "credit_card_bin.limit_bal.sort_values().hist(figsize=(10,6), bins=10)\n",
    "plt.title(\"Limit Balance\")\n",
    "plt.ylabel(\"Count\")\n",
    "plt.show()"
   ]
  },
  {
   "cell_type": "code",
   "execution_count": 123,
   "id": "HiXLqttMo9QW",
   "metadata": {
    "id": "HiXLqttMo9QW"
   },
   "outputs": [],
   "source": [
    "credit_card_bin[\"mean_bill_amt\"] = pd.cut(credit_card_bin[\"MEAN_BILL_AMT\"], bins=[0, 5000, 20000, 60000, 100000, 500000, 800000], \n",
    "                                          labels=[\"0 to 5k\", \"5k to 20k\", \"20k to 60k\", \"60k to 100k\", \"100k to 500k\", \"500k to 800k\"], include_lowest=True)"
   ]
  },
  {
   "cell_type": "code",
   "execution_count": 124,
   "id": "l0D-_uOtpdXv",
   "metadata": {
    "colab": {
     "base_uri": "https://localhost:8080/",
     "height": 390
    },
    "id": "l0D-_uOtpdXv",
    "outputId": "be31287d-4f4c-4900-e367-09327fa5ea47"
   },
   "outputs": [
    {
     "data": {
      "image/png": "[encoded data removed]",
      "text/plain": [
       "<Figure size 720x432 with 1 Axes>"
      ]
     },
     "metadata": {
      "needs_background": "light"
     },
     "output_type": "display_data"
    }
   ],
   "source": [
    "credit_card_bin.mean_bill_amt.sort_values().hist(figsize=(10,6), bins=10)\n",
    "plt.title(\"Average Bill Amount\")\n",
    "plt.ylabel(\"Count\")\n",
    "plt.show()"
   ]
  },
  {
   "cell_type": "code",
   "execution_count": 125,
   "id": "LYnI2PE_rxjA",
   "metadata": {
    "id": "LYnI2PE_rxjA"
   },
   "outputs": [],
   "source": [
    "credit_card_bin[\"mean_pay_amt\"] = pd.cut(credit_card_bin[\"MEAN_PAY_AMT\"], bins=[0, 2000, 3000, 6000, 25000, 50000, 100000, 200000, 700000], \n",
    "                                         labels=[\"0 to 2k\", \"2k to 3k\", \"3k to 6k\", \"6k to 25k\", \"25k to 50k\", \"50k to 100k\", \"100k to 200k\", \"200k to 700k\"], include_lowest=True)"
   ]
  },
  {
   "cell_type": "code",
   "execution_count": 126,
   "id": "W6wHerxppdOu",
   "metadata": {
    "colab": {
     "base_uri": "https://localhost:8080/",
     "height": 390
    },
    "id": "W6wHerxppdOu",
    "outputId": "81c938d8-5f4d-4a96-9b7f-faa9768c4c67"
   },
   "outputs": [
    {
     "data": {
      "image/png": "[encoded data removed]",
      "text/plain": [
       "<Figure size 720x432 with 1 Axes>"
      ]
     },
     "metadata": {
      "needs_background": "light"
     },
     "output_type": "display_data"
    }
   ],
   "source": [
    "credit_card_bin.mean_pay_amt.sort_values().hist(figsize=(10,6), bins=8)\n",
    "plt.title(\"Average Payment Amount\")\n",
    "plt.ylabel(\"Count\")\n",
    "plt.show()"
   ]
  },
  {
   "cell_type": "code",
   "execution_count": 127,
   "id": "6sVJAZqbPmaR",
   "metadata": {
    "colab": {
     "base_uri": "https://localhost:8080/",
     "height": 295
    },
    "id": "6sVJAZqbPmaR",
    "outputId": "a1c4a798-a308-4e42-ab63-6700bb6d7ce7"
   },
   "outputs": [
    {
     "data": {
      "image/png": "[encoded data removed]",
      "text/plain": [
       "<Figure size 432x288 with 1 Axes>"
      ]
     },
     "metadata": {
      "needs_background": "light"
     },
     "output_type": "display_data"
    }
   ],
   "source": [
    "credit_card_df2.groupby(\"DEFAULT_PMT_FLAG\")[\"DEFAULT_PMT_FLAG\"].count().plot(kind=\"bar\", rot=0)\n",
    "plt.title(\"Default Payment Flag\")\n",
    "plt.ylabel(\"Count\")\n",
    "plt.xlabel(\"Yes = 1, No = 0\")\n",
    "plt.show()"
   ]
  },
  {
   "cell_type": "code",
   "execution_count": 127,
   "id": "qAN2MIT3feQL",
   "metadata": {
    "id": "qAN2MIT3feQL"
   },
   "outputs": [],
   "source": []
  },
  {
   "cell_type": "markdown",
   "id": "L03FdISdCDMu",
   "metadata": {
    "id": "L03FdISdCDMu"
   },
   "source": [
    "# Deep Learning Model"
   ]
  },
  {
   "cell_type": "markdown",
   "id": "N1gyfzfayYTE",
   "metadata": {
    "id": "N1gyfzfayYTE"
   },
   "source": [
    "## Prepare Data\n",
    "\n",
    "- Discretize Limit balance, Billing and Payment columns\n",
    "- Scale Sex, Education, Marriage and Age features"
   ]
  },
  {
   "cell_type": "markdown",
   "id": "9ERt2qOk2E-u",
   "metadata": {
    "id": "9ERt2qOk2E-u"
   },
   "source": [
    "### Discretize LIMIT_BAL"
   ]
  },
  {
   "cell_type": "code",
   "execution_count": 128,
   "id": "c3a41ce2-7b60-45e1-9667-67e072485fd6",
   "metadata": {
    "id": "c3a41ce2-7b60-45e1-9667-67e072485fd6"
   },
   "outputs": [],
   "source": [
    "kb = KBinsDiscretizer(n_bins=10, encode='ordinal', strategy='uniform')"
   ]
  },
  {
   "cell_type": "code",
   "execution_count": 129,
   "id": "jFqI8CS20uhV",
   "metadata": {
    "id": "jFqI8CS20uhV"
   },
   "outputs": [],
   "source": [
    "x = credit_card_df2.LIMIT_BAL.values.reshape(-1, 1)"
   ]
  },
  {
   "cell_type": "code",
   "execution_count": 130,
   "id": "sNstnzHj05Dz",
   "metadata": {
    "colab": {
     "base_uri": "https://localhost:8080/"
    },
    "id": "sNstnzHj05Dz",
    "outputId": "f47a6ea5-55a2-41ff-b52b-3fc925434b21"
   },
   "outputs": [
    {
     "data": {
      "text/plain": [
       "(30000, 1)"
      ]
     },
     "execution_count": 130,
     "metadata": {},
     "output_type": "execute_result"
    }
   ],
   "source": [
    "x.shape"
   ]
  },
  {
   "cell_type": "code",
   "execution_count": 131,
   "id": "b3944d13-4478-4f2e-95e2-cafe3bd5e36c",
   "metadata": {
    "colab": {
     "base_uri": "https://localhost:8080/"
    },
    "id": "b3944d13-4478-4f2e-95e2-cafe3bd5e36c",
    "outputId": "045be29a-dc04-4165-e737-41b3f6ce3d20"
   },
   "outputs": [
    {
     "name": "stderr",
     "output_type": "stream",
     "text": [
      "/usr/local/lib/python3.7/dist-packages/pandas/core/indexing.py:1667: SettingWithCopyWarning: \n",
      "A value is trying to be set on a copy of a slice from a DataFrame.\n",
      "Try using .loc[row_indexer,col_indexer] = value instead\n",
      "\n",
      "See the caveats in the documentation: https://pandas.pydata.org/pandas-docs/stable/user_guide/indexing.html#returning-a-view-versus-a-copy\n",
      "  self.obj[key] = value\n"
     ]
    }
   ],
   "source": [
    "credit_card_df2.loc[:,\"LIMIT_BAL_CATEG\"] = kb.fit_transform(x)"
   ]
  },
  {
   "cell_type": "code",
   "execution_count": 132,
   "id": "1TWy-1jL0a4s",
   "metadata": {
    "colab": {
     "base_uri": "https://localhost:8080/"
    },
    "id": "1TWy-1jL0a4s",
    "outputId": "7f17952c-3216-4e45-95fd-65d4c27bbddc"
   },
   "outputs": [
    {
     "data": {
      "text/plain": [
       "0.0    12498\n",
       "1.0     7880\n",
       "2.0     5059\n",
       "3.0     2759\n",
       "4.0     1598\n",
       "5.0      127\n",
       "6.0       56\n",
       "7.0       22\n",
       "9.0        1\n",
       "Name: LIMIT_BAL_CATEG, dtype: int64"
      ]
     },
     "execution_count": 132,
     "metadata": {},
     "output_type": "execute_result"
    }
   ],
   "source": [
    "credit_card_df2[\"LIMIT_BAL_CATEG\"].value_counts()"
   ]
  },
  {
   "cell_type": "markdown",
   "id": "aW52Vgku2YQc",
   "metadata": {
    "id": "aW52Vgku2YQc"
   },
   "source": [
    "### Discretize MEAN_BILL_AMT"
   ]
  },
  {
   "cell_type": "code",
   "execution_count": 133,
   "id": "XZfEOLHq9lYx",
   "metadata": {
    "id": "XZfEOLHq9lYx"
   },
   "outputs": [],
   "source": [
    "kb2 = KBinsDiscretizer(n_bins=20, encode='ordinal', strategy='quantile')"
   ]
  },
  {
   "cell_type": "code",
   "execution_count": 134,
   "id": "ZwUgq3Tt0ax0",
   "metadata": {
    "id": "ZwUgq3Tt0ax0"
   },
   "outputs": [],
   "source": [
    "x2 = credit_card_df2.MEAN_BILL_AMT.values.reshape(-1, 1)"
   ]
  },
  {
   "cell_type": "code",
   "execution_count": 135,
   "id": "ZVwdKKy9729b",
   "metadata": {
    "colab": {
     "base_uri": "https://localhost:8080/"
    },
    "id": "ZVwdKKy9729b",
    "outputId": "e085a58f-b95e-428a-e3de-3eba9d93fb5e"
   },
   "outputs": [
    {
     "data": {
      "text/plain": [
       "(30000, 1)"
      ]
     },
     "execution_count": 135,
     "metadata": {},
     "output_type": "execute_result"
    }
   ],
   "source": [
    "x2.shape"
   ]
  },
  {
   "cell_type": "code",
   "execution_count": 136,
   "id": "uNqvzwUf725x",
   "metadata": {
    "colab": {
     "base_uri": "https://localhost:8080/"
    },
    "id": "uNqvzwUf725x",
    "outputId": "83978501-d602-40e7-dd70-f090fec8f3cf"
   },
   "outputs": [
    {
     "name": "stderr",
     "output_type": "stream",
     "text": [
      "/usr/local/lib/python3.7/dist-packages/pandas/core/indexing.py:1667: SettingWithCopyWarning: \n",
      "A value is trying to be set on a copy of a slice from a DataFrame.\n",
      "Try using .loc[row_indexer,col_indexer] = value instead\n",
      "\n",
      "See the caveats in the documentation: https://pandas.pydata.org/pandas-docs/stable/user_guide/indexing.html#returning-a-view-versus-a-copy\n",
      "  self.obj[key] = value\n"
     ]
    }
   ],
   "source": [
    "credit_card_df2.loc[:, \"BILL_AMT_CATEG\"] = kb2.fit_transform(x2)"
   ]
  },
  {
   "cell_type": "code",
   "execution_count": 137,
   "id": "VUAEu10q79wX",
   "metadata": {
    "colab": {
     "base_uri": "https://localhost:8080/"
    },
    "id": "VUAEu10q79wX",
    "outputId": "f11d4ae4-ce61-49e4-ac5f-f27c29519f65"
   },
   "outputs": [
    {
     "data": {
      "text/plain": [
       "17.0    1502\n",
       "3.0     1501\n",
       "10.0    1501\n",
       "19.0    1501\n",
       "11.0    1500\n",
       "6.0     1500\n",
       "0.0     1500\n",
       "12.0    1500\n",
       "2.0     1500\n",
       "5.0     1500\n",
       "4.0     1500\n",
       "7.0     1500\n",
       "13.0    1500\n",
       "8.0     1500\n",
       "15.0    1500\n",
       "14.0    1499\n",
       "18.0    1499\n",
       "1.0     1499\n",
       "9.0     1499\n",
       "16.0    1499\n",
       "Name: BILL_AMT_CATEG, dtype: int64"
      ]
     },
     "execution_count": 137,
     "metadata": {},
     "output_type": "execute_result"
    }
   ],
   "source": [
    "credit_card_df2[\"BILL_AMT_CATEG\"].value_counts()"
   ]
  },
  {
   "cell_type": "markdown",
   "id": "vu7VKRfY2gk7",
   "metadata": {
    "id": "vu7VKRfY2gk7"
   },
   "source": [
    "### Discretize MEAN_PAY_AMT"
   ]
  },
  {
   "cell_type": "code",
   "execution_count": 138,
   "id": "HoIadg4e2Lqg",
   "metadata": {
    "id": "HoIadg4e2Lqg"
   },
   "outputs": [],
   "source": [
    "x3 = credit_card_df2.MEAN_PAY_AMT.values.reshape(-1, 1)"
   ]
  },
  {
   "cell_type": "code",
   "execution_count": 139,
   "id": "fxs3iUPU2Lc5",
   "metadata": {
    "colab": {
     "base_uri": "https://localhost:8080/"
    },
    "id": "fxs3iUPU2Lc5",
    "outputId": "dde2e8a2-99ad-43a0-a509-c07751350a50"
   },
   "outputs": [
    {
     "data": {
      "text/plain": [
       "(30000, 1)"
      ]
     },
     "execution_count": 139,
     "metadata": {},
     "output_type": "execute_result"
    }
   ],
   "source": [
    "x3.shape"
   ]
  },
  {
   "cell_type": "code",
   "execution_count": 140,
   "id": "iIecDSyI9BYI",
   "metadata": {
    "colab": {
     "base_uri": "https://localhost:8080/"
    },
    "id": "iIecDSyI9BYI",
    "outputId": "95f6ffb7-8078-442e-8635-2cbee3bd7dd3"
   },
   "outputs": [
    {
     "name": "stderr",
     "output_type": "stream",
     "text": [
      "/usr/local/lib/python3.7/dist-packages/pandas/core/indexing.py:1667: SettingWithCopyWarning: \n",
      "A value is trying to be set on a copy of a slice from a DataFrame.\n",
      "Try using .loc[row_indexer,col_indexer] = value instead\n",
      "\n",
      "See the caveats in the documentation: https://pandas.pydata.org/pandas-docs/stable/user_guide/indexing.html#returning-a-view-versus-a-copy\n",
      "  self.obj[key] = value\n"
     ]
    }
   ],
   "source": [
    "credit_card_df2.loc[:, \"PAY_AMT_CATEG\"] = kb2.fit_transform(x3)"
   ]
  },
  {
   "cell_type": "code",
   "execution_count": 141,
   "id": "5H9H8Og-9BVW",
   "metadata": {
    "colab": {
     "base_uri": "https://localhost:8080/"
    },
    "id": "5H9H8Og-9BVW",
    "outputId": "0569bbc6-14c8-44bb-8cc5-fbb8e2a0a795"
   },
   "outputs": [
    {
     "data": {
      "text/plain": [
       "11.0    1548\n",
       "7.0     1514\n",
       "5.0     1504\n",
       "18.0    1504\n",
       "14.0    1502\n",
       "3.0     1501\n",
       "8.0     1501\n",
       "15.0    1501\n",
       "16.0    1500\n",
       "0.0     1500\n",
       "1.0     1500\n",
       "9.0     1500\n",
       "19.0    1500\n",
       "13.0    1500\n",
       "12.0    1499\n",
       "2.0     1499\n",
       "17.0    1496\n",
       "4.0     1495\n",
       "6.0     1486\n",
       "10.0    1450\n",
       "Name: PAY_AMT_CATEG, dtype: int64"
      ]
     },
     "execution_count": 141,
     "metadata": {},
     "output_type": "execute_result"
    }
   ],
   "source": [
    "credit_card_df2[\"PAY_AMT_CATEG\"].value_counts()"
   ]
  },
  {
   "cell_type": "code",
   "execution_count": 142,
   "id": "P70M4n6P9BL4",
   "metadata": {
    "id": "P70M4n6P9BL4"
   },
   "outputs": [],
   "source": [
    "credit_card_model_df = credit_card_df2[[\"SEX\", \"EDUCATION\", \"MARRIAGE\", \"AGE\", \"MAX_PAY_DELAY_MONTHS\", \"LIMIT_BAL_CATEG\", \"BILL_AMT_CATEG\", \"PAY_AMT_CATEG\", \"DEFAULT_PMT_FLAG\"]]"
   ]
  },
  {
   "cell_type": "code",
   "execution_count": 143,
   "id": "s1gwJDRP_bHH",
   "metadata": {
    "colab": {
     "base_uri": "https://localhost:8080/"
    },
    "id": "s1gwJDRP_bHH",
    "outputId": "aed9b07f-2f49-40ad-e538-736f8f5fd13c"
   },
   "outputs": [
    {
     "name": "stdout",
     "output_type": "stream",
     "text": [
      "<class 'pandas.core.frame.DataFrame'>\n",
      "RangeIndex: 30000 entries, 0 to 29999\n",
      "Data columns (total 9 columns):\n",
      " #   Column                Non-Null Count  Dtype  \n",
      "---  ------                --------------  -----  \n",
      " 0   SEX                   30000 non-null  int64  \n",
      " 1   EDUCATION             30000 non-null  int64  \n",
      " 2   MARRIAGE              30000 non-null  int64  \n",
      " 3   AGE                   30000 non-null  int64  \n",
      " 4   MAX_PAY_DELAY_MONTHS  30000 non-null  float64\n",
      " 5   LIMIT_BAL_CATEG       30000 non-null  float64\n",
      " 6   BILL_AMT_CATEG        30000 non-null  float64\n",
      " 7   PAY_AMT_CATEG         30000 non-null  float64\n",
      " 8   DEFAULT_PMT_FLAG      30000 non-null  int64  \n",
      "dtypes: float64(4), int64(5)\n",
      "memory usage: 2.1 MB\n"
     ]
    }
   ],
   "source": [
    "credit_card_model_df.info()"
   ]
  },
  {
   "cell_type": "code",
   "execution_count": 144,
   "id": "bufZRanm_J_G",
   "metadata": {
    "colab": {
     "base_uri": "https://localhost:8080/",
     "height": 628
    },
    "id": "bufZRanm_J_G",
    "outputId": "58a47caf-e65d-41a4-f237-b933b4440e50"
   },
   "outputs": [
    {
     "data": {
      "application/vnd.google.colaboratory.module+javascript": "\n      import \"https://ssl.gstatic.com/colaboratory/data_table/a8bd4d5e58f96183/data_table.js\";\n\n      window.createDataTable({\n        data: [[{\n            'v': 0,\n            'f': \"0\",\n        },\n{\n            'v': 2,\n            'f': \"2\",\n        },\n{\n            'v': 2,\n            'f': \"2\",\n        },\n{\n            'v': 1,\n            'f': \"1\",\n        },\n{\n            'v': 24,\n            'f': \"24\",\n        },\n{\n            'v': 2.0,\n            'f': \"2.0\",\n        },\n{\n            'v': 0.0,\n            'f': \"0.0\",\n        },\n{\n            'v': 2.0,\n            'f': \"2.0\",\n        },\n{\n            'v': 1.0,\n            'f': \"1.0\",\n        },\n{\n            'v': 1,\n            'f': \"1\",\n        }],\n [{\n            'v': 1,\n            'f': \"1\",\n        },\n{\n            'v': 2,\n            'f': \"2\",\n        },\n{\n            'v': 2,\n            'f': \"2\",\n        },\n{\n            'v': 2,\n            'f': \"2\",\n        },\n{\n            'v': 26,\n            'f': \"26\",\n        },\n{\n            'v': 2.0,\n            'f': \"2.0\",\n        },\n{\n            'v': 1.0,\n            'f': \"1.0\",\n        },\n{\n            'v': 3.0,\n            'f': \"3.0\",\n        },\n{\n            'v': 3.0,\n            'f': \"3.0\",\n        },\n{\n            'v': 1,\n            'f': \"1\",\n        }],\n [{\n            'v': 2,\n            'f': \"2\",\n        },\n{\n            'v': 2,\n            'f': \"2\",\n        },\n{\n            'v': 2,\n            'f': \"2\",\n        },\n{\n            'v': 2,\n            'f': \"2\",\n        },\n{\n            'v': 34,\n            'f': \"34\",\n        },\n{\n            'v': 0.0,\n            'f': \"0.0\",\n        },\n{\n            'v': 0.0,\n            'f': \"0.0\",\n        },\n{\n            'v': 8.0,\n            'f': \"8.0\",\n        },\n{\n            'v': 8.0,\n            'f': \"8.0\",\n        },\n{\n            'v': 0,\n            'f': \"0\",\n        }],\n [{\n            'v': 3,\n            'f': \"3\",\n        },\n{\n            'v': 2,\n            'f': \"2\",\n        },\n{\n            'v': 2,\n            'f': \"2\",\n        },\n{\n            'v': 1,\n            'f': \"1\",\n        },\n{\n            'v': 37,\n            'f': \"37\",\n        },\n{\n            'v': 0.0,\n            'f': \"0.0\",\n        },\n{\n            'v': 0.0,\n            'f': \"0.0\",\n        },\n{\n            'v': 13.0,\n            'f': \"13.0\",\n        },\n{\n            'v': 6.0,\n            'f': \"6.0\",\n        },\n{\n            'v': 0,\n            'f': \"0\",\n        }],\n [{\n            'v': 4,\n            'f': \"4\",\n        },\n{\n            'v': 1,\n            'f': \"1\",\n        },\n{\n            'v': 2,\n            'f': \"2\",\n        },\n{\n            'v': 1,\n            'f': \"1\",\n        },\n{\n            'v': 57,\n            'f': \"57\",\n        },\n{\n            'v': 0.0,\n            'f': \"0.0\",\n        },\n{\n            'v': 0.0,\n            'f': \"0.0\",\n        },\n{\n            'v': 9.0,\n            'f': \"9.0\",\n        },\n{\n            'v': 17.0,\n            'f': \"17.0\",\n        },\n{\n            'v': 0,\n            'f': \"0\",\n        }],\n [{\n            'v': 5,\n            'f': \"5\",\n        },\n{\n            'v': 1,\n            'f': \"1\",\n        },\n{\n            'v': 1,\n            'f': \"1\",\n        },\n{\n            'v': 2,\n            'f': \"2\",\n        },\n{\n            'v': 37,\n            'f': \"37\",\n        },\n{\n            'v': 0.0,\n            'f': \"0.0\",\n        },\n{\n            'v': 0.0,\n            'f': \"0.0\",\n        },\n{\n            'v': 13.0,\n            'f': \"13.0\",\n        },\n{\n            'v': 5.0,\n            'f': \"5.0\",\n        },\n{\n            'v': 0,\n            'f': \"0\",\n        }],\n [{\n            'v': 6,\n            'f': \"6\",\n        },\n{\n            'v': 1,\n            'f': \"1\",\n        },\n{\n            'v': 1,\n            'f': \"1\",\n        },\n{\n            'v': 2,\n            'f': \"2\",\n        },\n{\n            'v': 29,\n            'f': \"29\",\n        },\n{\n            'v': 0.0,\n            'f': \"0.0\",\n        },\n{\n            'v': 4.0,\n            'f': \"4.0\",\n        },\n{\n            'v': 19.0,\n            'f': \"19.0\",\n        },\n{\n            'v': 19.0,\n            'f': \"19.0\",\n        },\n{\n            'v': 0,\n            'f': \"0\",\n        }],\n [{\n            'v': 7,\n            'f': \"7\",\n        },\n{\n            'v': 2,\n            'f': \"2\",\n        },\n{\n            'v': 2,\n            'f': \"2\",\n        },\n{\n            'v': 2,\n            'f': \"2\",\n        },\n{\n            'v': 23,\n            'f': \"23\",\n        },\n{\n            'v': 0.0,\n            'f': \"0.0\",\n        },\n{\n            'v': 0.0,\n            'f': \"0.0\",\n        },\n{\n            'v': 3.0,\n            'f': \"3.0\",\n        },\n{\n            'v': 3.0,\n            'f': \"3.0\",\n        },\n{\n            'v': 0,\n            'f': \"0\",\n        }],\n [{\n            'v': 8,\n            'f': \"8\",\n        },\n{\n            'v': 2,\n            'f': \"2\",\n        },\n{\n            'v': 3,\n            'f': \"3\",\n        },\n{\n            'v': 1,\n            'f': \"1\",\n        },\n{\n            'v': 28,\n            'f': \"28\",\n        },\n{\n            'v': 2.0,\n            'f': \"2.0\",\n        },\n{\n            'v': 1.0,\n            'f': \"1.0\",\n        },\n{\n            'v': 7.0,\n            'f': \"7.0\",\n        },\n{\n            'v': 5.0,\n            'f': \"5.0\",\n        },\n{\n            'v': 0,\n            'f': \"0\",\n        }],\n [{\n            'v': 9,\n            'f': \"9\",\n        },\n{\n            'v': 1,\n            'f': \"1\",\n        },\n{\n            'v': 3,\n            'f': \"3\",\n        },\n{\n            'v': 2,\n            'f': \"2\",\n        },\n{\n            'v': 35,\n            'f': \"35\",\n        },\n{\n            'v': -1.0,\n            'f': \"-1.0\",\n        },\n{\n            'v': 0.0,\n            'f': \"0.0\",\n        },\n{\n            'v': 4.0,\n            'f': \"4.0\",\n        },\n{\n            'v': 9.0,\n            'f': \"9.0\",\n        },\n{\n            'v': 0,\n            'f': \"0\",\n        }],\n [{\n            'v': 10,\n            'f': \"10\",\n        },\n{\n            'v': 2,\n            'f': \"2\",\n        },\n{\n            'v': 3,\n            'f': \"3\",\n        },\n{\n            'v': 2,\n            'f': \"2\",\n        },\n{\n            'v': 34,\n            'f': \"34\",\n        },\n{\n            'v': 2.0,\n            'f': \"2.0\",\n        },\n{\n            'v': 1.0,\n            'f': \"1.0\",\n        },\n{\n            'v': 5.0,\n            'f': \"5.0\",\n        },\n{\n            'v': 4.0,\n            'f': \"4.0\",\n        },\n{\n            'v': 0,\n            'f': \"0\",\n        }],\n [{\n            'v': 11,\n            'f': \"11\",\n        },\n{\n            'v': 2,\n            'f': \"2\",\n        },\n{\n            'v': 1,\n            'f': \"1\",\n        },\n{\n            'v': 2,\n            'f': \"2\",\n        },\n{\n            'v': 51,\n            'f': \"51\",\n        },\n{\n            'v': 2.0,\n            'f': \"2.0\",\n        },\n{\n            'v': 2.0,\n            'f': \"2.0\",\n        },\n{\n            'v': 8.0,\n            'f': \"8.0\",\n        },\n{\n            'v': 17.0,\n            'f': \"17.0\",\n        },\n{\n            'v': 0,\n            'f': \"0\",\n        }],\n [{\n            'v': 12,\n            'f': \"12\",\n        },\n{\n            'v': 2,\n            'f': \"2\",\n        },\n{\n            'v': 2,\n            'f': \"2\",\n        },\n{\n            'v': 2,\n            'f': \"2\",\n        },\n{\n            'v': 41,\n            'f': \"41\",\n        },\n{\n            'v': 0.0,\n            'f': \"0.0\",\n        },\n{\n            'v': 6.0,\n            'f': \"6.0\",\n        },\n{\n            'v': 5.0,\n            'f': \"5.0\",\n        },\n{\n            'v': 12.0,\n            'f': \"12.0\",\n        },\n{\n            'v': 0,\n            'f': \"0\",\n        }],\n [{\n            'v': 13,\n            'f': \"13\",\n        },\n{\n            'v': 1,\n            'f': \"1\",\n        },\n{\n            'v': 2,\n            'f': \"2\",\n        },\n{\n            'v': 2,\n            'f': \"2\",\n        },\n{\n            'v': 30,\n            'f': \"30\",\n        },\n{\n            'v': 2.0,\n            'f': \"2.0\",\n        },\n{\n            'v': 0.0,\n            'f': \"0.0\",\n        },\n{\n            'v': 14.0,\n            'f': \"14.0\",\n        },\n{\n            'v': 8.0,\n            'f': \"8.0\",\n        },\n{\n            'v': 1,\n            'f': \"1\",\n        }],\n [{\n            'v': 14,\n            'f': \"14\",\n        },\n{\n            'v': 1,\n            'f': \"1\",\n        },\n{\n            'v': 1,\n            'f': \"1\",\n        },\n{\n            'v': 2,\n            'f': \"2\",\n        },\n{\n            'v': 29,\n            'f': \"29\",\n        },\n{\n            'v': 0.0,\n            'f': \"0.0\",\n        },\n{\n            'v': 2.0,\n            'f': \"2.0\",\n        },\n{\n            'v': 15.0,\n            'f': \"15.0\",\n        },\n{\n            'v': 11.0,\n            'f': \"11.0\",\n        },\n{\n            'v': 0,\n            'f': \"0\",\n        }],\n [{\n            'v': 15,\n            'f': \"15\",\n        },\n{\n            'v': 2,\n            'f': \"2\",\n        },\n{\n            'v': 3,\n            'f': \"3\",\n        },\n{\n            'v': 3,\n            'f': \"3\",\n        },\n{\n            'v': 23,\n            'f': \"23\",\n        },\n{\n            'v': 2.0,\n            'f': \"2.0\",\n        },\n{\n            'v': 0.0,\n            'f': \"0.0\",\n        },\n{\n            'v': 12.0,\n            'f': \"12.0\",\n        },\n{\n            'v': 4.0,\n            'f': \"4.0\",\n        },\n{\n            'v': 0,\n            'f': \"0\",\n        }],\n [{\n            'v': 16,\n            'f': \"16\",\n        },\n{\n            'v': 1,\n            'f': \"1\",\n        },\n{\n            'v': 1,\n            'f': \"1\",\n        },\n{\n            'v': 2,\n            'f': \"2\",\n        },\n{\n            'v': 24,\n            'f': \"24\",\n        },\n{\n            'v': 2.0,\n            'f': \"2.0\",\n        },\n{\n            'v': 0.0,\n            'f': \"0.0\",\n        },\n{\n            'v': 9.0,\n            'f': \"9.0\",\n        },\n{\n            'v': 4.0,\n            'f': \"4.0\",\n        },\n{\n            'v': 1,\n            'f': \"1\",\n        }],\n [{\n            'v': 17,\n            'f': \"17\",\n        },\n{\n            'v': 1,\n            'f': \"1\",\n        },\n{\n            'v': 1,\n            'f': \"1\",\n        },\n{\n            'v': 1,\n            'f': \"1\",\n        },\n{\n            'v': 49,\n            'f': \"49\",\n        },\n{\n            'v': 0.0,\n            'f': \"0.0\",\n        },\n{\n            'v': 3.0,\n            'f': \"3.0\",\n        },\n{\n            'v': 18.0,\n            'f': \"18.0\",\n        },\n{\n            'v': 19.0,\n            'f': \"19.0\",\n        },\n{\n            'v': 0,\n            'f': \"0\",\n        }],\n [{\n            'v': 18,\n            'f': \"18\",\n        },\n{\n            'v': 2,\n            'f': \"2\",\n        },\n{\n            'v': 1,\n            'f': \"1\",\n        },\n{\n            'v': 1,\n            'f': \"1\",\n        },\n{\n            'v': 49,\n            'f': \"49\",\n        },\n{\n            'v': 1.0,\n            'f': \"1.0\",\n        },\n{\n            'v': 3.0,\n            'f': \"3.0\",\n        },\n{\n            'v': 0.0,\n            'f': \"0.0\",\n        },\n{\n            'v': 0.0,\n            'f': \"0.0\",\n        },\n{\n            'v': 0,\n            'f': \"0\",\n        }],\n [{\n            'v': 19,\n            'f': \"19\",\n        },\n{\n            'v': 2,\n            'f': \"2\",\n        },\n{\n            'v': 1,\n            'f': \"1\",\n        },\n{\n            'v': 2,\n            'f': \"2\",\n        },\n{\n            'v': 29,\n            'f': \"29\",\n        },\n{\n            'v': 1.0,\n            'f': \"1.0\",\n        },\n{\n            'v': 1.0,\n            'f': \"1.0\",\n        },\n{\n            'v': 0.0,\n            'f': \"0.0\",\n        },\n{\n            'v': 0.0,\n            'f': \"0.0\",\n        },\n{\n            'v': 0,\n            'f': \"0\",\n        }],\n [{\n            'v': 20,\n            'f': \"20\",\n        },\n{\n            'v': 2,\n            'f': \"2\",\n        },\n{\n            'v': 3,\n            'f': \"3\",\n        },\n{\n            'v': 2,\n            'f': \"2\",\n        },\n{\n            'v': 39,\n            'f': \"39\",\n        },\n{\n            'v': 0.0,\n            'f': \"0.0\",\n        },\n{\n            'v': 1.0,\n            'f': \"1.0\",\n        },\n{\n            'v': 9.0,\n            'f': \"9.0\",\n        },\n{\n            'v': 16.0,\n            'f': \"16.0\",\n        },\n{\n            'v': 0,\n            'f': \"0\",\n        }],\n [{\n            'v': 21,\n            'f': \"21\",\n        },\n{\n            'v': 2,\n            'f': \"2\",\n        },\n{\n            'v': 2,\n            'f': \"2\",\n        },\n{\n            'v': 1,\n            'f': \"1\",\n        },\n{\n            'v': 39,\n            'f': \"39\",\n        },\n{\n            'v': -1.0,\n            'f': \"-1.0\",\n        },\n{\n            'v': 1.0,\n            'f': \"1.0\",\n        },\n{\n            'v': 1.0,\n            'f': \"1.0\",\n        },\n{\n            'v': 1.0,\n            'f': \"1.0\",\n        },\n{\n            'v': 1,\n            'f': \"1\",\n        }],\n [{\n            'v': 22,\n            'f': \"22\",\n        },\n{\n            'v': 2,\n            'f': \"2\",\n        },\n{\n            'v': 2,\n            'f': \"2\",\n        },\n{\n            'v': 2,\n            'f': \"2\",\n        },\n{\n            'v': 26,\n            'f': \"26\",\n        },\n{\n            'v': 2.0,\n            'f': \"2.0\",\n        },\n{\n            'v': 0.0,\n            'f': \"0.0\",\n        },\n{\n            'v': 13.0,\n            'f': \"13.0\",\n        },\n{\n            'v': 8.0,\n            'f': \"8.0\",\n        },\n{\n            'v': 1,\n            'f': \"1\",\n        }],\n [{\n            'v': 23,\n            'f': \"23\",\n        },\n{\n            'v': 2,\n            'f': \"2\",\n        },\n{\n            'v': 1,\n            'f': \"1\",\n        },\n{\n            'v': 1,\n            'f': \"1\",\n        },\n{\n            'v': 40,\n            'f': \"40\",\n        },\n{\n            'v': -2.0,\n            'f': \"-2.0\",\n        },\n{\n            'v': 4.0,\n            'f': \"4.0\",\n        },\n{\n            'v': 4.0,\n            'f': \"4.0\",\n        },\n{\n            'v': 12.0,\n            'f': \"12.0\",\n        },\n{\n            'v': 1,\n            'f': \"1\",\n        }],\n [{\n            'v': 24,\n            'f': \"24\",\n        },\n{\n            'v': 1,\n            'f': \"1\",\n        },\n{\n            'v': 1,\n            'f': \"1\",\n        },\n{\n            'v': 2,\n            'f': \"2\",\n        },\n{\n            'v': 23,\n            'f': \"23\",\n        },\n{\n            'v': 0.0,\n            'f': \"0.0\",\n        },\n{\n            'v': 0.0,\n            'f': \"0.0\",\n        },\n{\n            'v': 5.0,\n            'f': \"5.0\",\n        },\n{\n            'v': 10.0,\n            'f': \"10.0\",\n        },\n{\n            'v': 0,\n            'f': \"0\",\n        }]],\n        columns: [[\"number\", \"index\"], [\"number\", \"SEX\"], [\"number\", \"EDUCATION\"], [\"number\", \"MARRIAGE\"], [\"number\", \"AGE\"], [\"number\", \"MAX_PAY_DELAY_MONTHS\"], [\"number\", \"LIMIT_BAL_CATEG\"], [\"number\", \"BILL_AMT_CATEG\"], [\"number\", \"PAY_AMT_CATEG\"], [\"number\", \"DEFAULT_PMT_FLAG\"]],\n        columnOptions: [{\"width\": \"1px\", \"className\": \"index_column\"}],\n        rowsPerPage: 25,\n        helpUrl: \"https://colab.research.google.com/notebooks/data_table.ipynb\",\n        suppressOutputScrolling: true,\n        minimumWidth: undefined,\n      });\n    ",
      "text/html": [
       "\n",
       "  <div id=\"df-f08cef5f-623e-4ba7-832a-37aca364abb1\">\n",
       "    <div class=\"colab-df-container\">\n",
       "      <div>\n",
       "<style scoped>\n",
       "    .dataframe tbody tr th:only-of-type {\n",
       "        vertical-align: middle;\n",
       "    }\n",
       "\n",
       "    .dataframe tbody tr th {\n",
       "        vertical-align: top;\n",
       "    }\n",
       "\n",
       "    .dataframe thead th {\n",
       "        text-align: right;\n",
       "    }\n",
       "</style>\n",
       "<table border=\"1\" class=\"dataframe\">\n",
       "  <thead>\n",
       "    <tr style=\"text-align: right;\">\n",
       "      <th></th>\n",
       "      <th>SEX</th>\n",
       "      <th>EDUCATION</th>\n",
       "      <th>MARRIAGE</th>\n",
       "      <th>AGE</th>\n",
       "      <th>MAX_PAY_DELAY_MONTHS</th>\n",
       "      <th>LIMIT_BAL_CATEG</th>\n",
       "      <th>BILL_AMT_CATEG</th>\n",
       "      <th>PAY_AMT_CATEG</th>\n",
       "      <th>DEFAULT_PMT_FLAG</th>\n",
       "    </tr>\n",
       "  </thead>\n",
       "  <tbody>\n",
       "    <tr>\n",
       "      <th>0</th>\n",
       "      <td>2</td>\n",
       "      <td>2</td>\n",
       "      <td>1</td>\n",
       "      <td>24</td>\n",
       "      <td>2.0</td>\n",
       "      <td>0.0</td>\n",
       "      <td>2.0</td>\n",
       "      <td>1.0</td>\n",
       "      <td>1</td>\n",
       "    </tr>\n",
       "    <tr>\n",
       "      <th>1</th>\n",
       "      <td>2</td>\n",
       "      <td>2</td>\n",
       "      <td>2</td>\n",
       "      <td>26</td>\n",
       "      <td>2.0</td>\n",
       "      <td>1.0</td>\n",
       "      <td>3.0</td>\n",
       "      <td>3.0</td>\n",
       "      <td>1</td>\n",
       "    </tr>\n",
       "    <tr>\n",
       "      <th>2</th>\n",
       "      <td>2</td>\n",
       "      <td>2</td>\n",
       "      <td>2</td>\n",
       "      <td>34</td>\n",
       "      <td>0.0</td>\n",
       "      <td>0.0</td>\n",
       "      <td>8.0</td>\n",
       "      <td>8.0</td>\n",
       "      <td>0</td>\n",
       "    </tr>\n",
       "    <tr>\n",
       "      <th>3</th>\n",
       "      <td>2</td>\n",
       "      <td>2</td>\n",
       "      <td>1</td>\n",
       "      <td>37</td>\n",
       "      <td>0.0</td>\n",
       "      <td>0.0</td>\n",
       "      <td>13.0</td>\n",
       "      <td>6.0</td>\n",
       "      <td>0</td>\n",
       "    </tr>\n",
       "    <tr>\n",
       "      <th>4</th>\n",
       "      <td>1</td>\n",
       "      <td>2</td>\n",
       "      <td>1</td>\n",
       "      <td>57</td>\n",
       "      <td>0.0</td>\n",
       "      <td>0.0</td>\n",
       "      <td>9.0</td>\n",
       "      <td>17.0</td>\n",
       "      <td>0</td>\n",
       "    </tr>\n",
       "    <tr>\n",
       "      <th>5</th>\n",
       "      <td>1</td>\n",
       "      <td>1</td>\n",
       "      <td>2</td>\n",
       "      <td>37</td>\n",
       "      <td>0.0</td>\n",
       "      <td>0.0</td>\n",
       "      <td>13.0</td>\n",
       "      <td>5.0</td>\n",
       "      <td>0</td>\n",
       "    </tr>\n",
       "    <tr>\n",
       "      <th>6</th>\n",
       "      <td>1</td>\n",
       "      <td>1</td>\n",
       "      <td>2</td>\n",
       "      <td>29</td>\n",
       "      <td>0.0</td>\n",
       "      <td>4.0</td>\n",
       "      <td>19.0</td>\n",
       "      <td>19.0</td>\n",
       "      <td>0</td>\n",
       "    </tr>\n",
       "    <tr>\n",
       "      <th>7</th>\n",
       "      <td>2</td>\n",
       "      <td>2</td>\n",
       "      <td>2</td>\n",
       "      <td>23</td>\n",
       "      <td>0.0</td>\n",
       "      <td>0.0</td>\n",
       "      <td>3.0</td>\n",
       "      <td>3.0</td>\n",
       "      <td>0</td>\n",
       "    </tr>\n",
       "    <tr>\n",
       "      <th>8</th>\n",
       "      <td>2</td>\n",
       "      <td>3</td>\n",
       "      <td>1</td>\n",
       "      <td>28</td>\n",
       "      <td>2.0</td>\n",
       "      <td>1.0</td>\n",
       "      <td>7.0</td>\n",
       "      <td>5.0</td>\n",
       "      <td>0</td>\n",
       "    </tr>\n",
       "    <tr>\n",
       "      <th>9</th>\n",
       "      <td>1</td>\n",
       "      <td>3</td>\n",
       "      <td>2</td>\n",
       "      <td>35</td>\n",
       "      <td>-1.0</td>\n",
       "      <td>0.0</td>\n",
       "      <td>4.0</td>\n",
       "      <td>9.0</td>\n",
       "      <td>0</td>\n",
       "    </tr>\n",
       "    <tr>\n",
       "      <th>10</th>\n",
       "      <td>2</td>\n",
       "      <td>3</td>\n",
       "      <td>2</td>\n",
       "      <td>34</td>\n",
       "      <td>2.0</td>\n",
       "      <td>1.0</td>\n",
       "      <td>5.0</td>\n",
       "      <td>4.0</td>\n",
       "      <td>0</td>\n",
       "    </tr>\n",
       "    <tr>\n",
       "      <th>11</th>\n",
       "      <td>2</td>\n",
       "      <td>1</td>\n",
       "      <td>2</td>\n",
       "      <td>51</td>\n",
       "      <td>2.0</td>\n",
       "      <td>2.0</td>\n",
       "      <td>8.0</td>\n",
       "      <td>17.0</td>\n",
       "      <td>0</td>\n",
       "    </tr>\n",
       "    <tr>\n",
       "      <th>12</th>\n",
       "      <td>2</td>\n",
       "      <td>2</td>\n",
       "      <td>2</td>\n",
       "      <td>41</td>\n",
       "      <td>0.0</td>\n",
       "      <td>6.0</td>\n",
       "      <td>5.0</td>\n",
       "      <td>12.0</td>\n",
       "      <td>0</td>\n",
       "    </tr>\n",
       "    <tr>\n",
       "      <th>13</th>\n",
       "      <td>1</td>\n",
       "      <td>2</td>\n",
       "      <td>2</td>\n",
       "      <td>30</td>\n",
       "      <td>2.0</td>\n",
       "      <td>0.0</td>\n",
       "      <td>14.0</td>\n",
       "      <td>8.0</td>\n",
       "      <td>1</td>\n",
       "    </tr>\n",
       "    <tr>\n",
       "      <th>14</th>\n",
       "      <td>1</td>\n",
       "      <td>1</td>\n",
       "      <td>2</td>\n",
       "      <td>29</td>\n",
       "      <td>0.0</td>\n",
       "      <td>2.0</td>\n",
       "      <td>15.0</td>\n",
       "      <td>11.0</td>\n",
       "      <td>0</td>\n",
       "    </tr>\n",
       "    <tr>\n",
       "      <th>15</th>\n",
       "      <td>2</td>\n",
       "      <td>3</td>\n",
       "      <td>3</td>\n",
       "      <td>23</td>\n",
       "      <td>2.0</td>\n",
       "      <td>0.0</td>\n",
       "      <td>12.0</td>\n",
       "      <td>4.0</td>\n",
       "      <td>0</td>\n",
       "    </tr>\n",
       "    <tr>\n",
       "      <th>16</th>\n",
       "      <td>1</td>\n",
       "      <td>1</td>\n",
       "      <td>2</td>\n",
       "      <td>24</td>\n",
       "      <td>2.0</td>\n",
       "      <td>0.0</td>\n",
       "      <td>9.0</td>\n",
       "      <td>4.0</td>\n",
       "      <td>1</td>\n",
       "    </tr>\n",
       "    <tr>\n",
       "      <th>17</th>\n",
       "      <td>1</td>\n",
       "      <td>1</td>\n",
       "      <td>1</td>\n",
       "      <td>49</td>\n",
       "      <td>0.0</td>\n",
       "      <td>3.0</td>\n",
       "      <td>18.0</td>\n",
       "      <td>19.0</td>\n",
       "      <td>0</td>\n",
       "    </tr>\n",
       "    <tr>\n",
       "      <th>18</th>\n",
       "      <td>2</td>\n",
       "      <td>1</td>\n",
       "      <td>1</td>\n",
       "      <td>49</td>\n",
       "      <td>1.0</td>\n",
       "      <td>3.0</td>\n",
       "      <td>0.0</td>\n",
       "      <td>0.0</td>\n",
       "      <td>0</td>\n",
       "    </tr>\n",
       "    <tr>\n",
       "      <th>19</th>\n",
       "      <td>2</td>\n",
       "      <td>1</td>\n",
       "      <td>2</td>\n",
       "      <td>29</td>\n",
       "      <td>1.0</td>\n",
       "      <td>1.0</td>\n",
       "      <td>0.0</td>\n",
       "      <td>0.0</td>\n",
       "      <td>0</td>\n",
       "    </tr>\n",
       "    <tr>\n",
       "      <th>20</th>\n",
       "      <td>2</td>\n",
       "      <td>3</td>\n",
       "      <td>2</td>\n",
       "      <td>39</td>\n",
       "      <td>0.0</td>\n",
       "      <td>1.0</td>\n",
       "      <td>9.0</td>\n",
       "      <td>16.0</td>\n",
       "      <td>0</td>\n",
       "    </tr>\n",
       "    <tr>\n",
       "      <th>21</th>\n",
       "      <td>2</td>\n",
       "      <td>2</td>\n",
       "      <td>1</td>\n",
       "      <td>39</td>\n",
       "      <td>-1.0</td>\n",
       "      <td>1.0</td>\n",
       "      <td>1.0</td>\n",
       "      <td>1.0</td>\n",
       "      <td>1</td>\n",
       "    </tr>\n",
       "    <tr>\n",
       "      <th>22</th>\n",
       "      <td>2</td>\n",
       "      <td>2</td>\n",
       "      <td>2</td>\n",
       "      <td>26</td>\n",
       "      <td>2.0</td>\n",
       "      <td>0.0</td>\n",
       "      <td>13.0</td>\n",
       "      <td>8.0</td>\n",
       "      <td>1</td>\n",
       "    </tr>\n",
       "    <tr>\n",
       "      <th>23</th>\n",
       "      <td>2</td>\n",
       "      <td>1</td>\n",
       "      <td>1</td>\n",
       "      <td>40</td>\n",
       "      <td>-2.0</td>\n",
       "      <td>4.0</td>\n",
       "      <td>4.0</td>\n",
       "      <td>12.0</td>\n",
       "      <td>1</td>\n",
       "    </tr>\n",
       "    <tr>\n",
       "      <th>24</th>\n",
       "      <td>1</td>\n",
       "      <td>1</td>\n",
       "      <td>2</td>\n",
       "      <td>23</td>\n",
       "      <td>0.0</td>\n",
       "      <td>0.0</td>\n",
       "      <td>5.0</td>\n",
       "      <td>10.0</td>\n",
       "      <td>0</td>\n",
       "    </tr>\n",
       "  </tbody>\n",
       "</table>\n",
       "</div>\n",
       "      <button class=\"colab-df-convert\" onclick=\"convertToInteractive('df-f08cef5f-623e-4ba7-832a-37aca364abb1')\"\n",
       "              title=\"Convert this dataframe to an interactive table.\"\n",
       "              style=\"display:none;\">\n",
       "        \n",
       "  <svg xmlns=\"http://www.w3.org/2000/svg\" height=\"24px\"viewBox=\"0 0 24 24\"\n",
       "       width=\"24px\">\n",
       "    <path d=\"M0 0h24v24H0V0z\" fill=\"none\"/>\n",
       "    <path d=\"M18.56 5.44l.94 2.06.94-2.06 2.06-.94-2.06-.94-.94-2.06-.94 2.06-2.06.94zm-11 1L8.5 8.5l.94-2.06 2.06-.94-2.06-.94L8.5 2.5l-.94 2.06-2.06.94zm10 10l.94 2.06.94-2.06 2.06-.94-2.06-.94-.94-2.06-.94 2.06-2.06.94z\"/><path d=\"M17.41 7.96l-1.37-1.37c-.4-.4-.92-.59-1.43-.59-.52 0-1.04.2-1.43.59L10.3 9.45l-7.72 7.72c-.78.78-.78 2.05 0 2.83L4 21.41c.39.39.9.59 1.41.59.51 0 1.02-.2 1.41-.59l7.78-7.78 2.81-2.81c.8-.78.8-2.07 0-2.86zM5.41 20L4 18.59l7.72-7.72 1.47 1.35L5.41 20z\"/>\n",
       "  </svg>\n",
       "      </button>\n",
       "      \n",
       "  <style>\n",
       "    .colab-df-container {\n",
       "      display:flex;\n",
       "      flex-wrap:wrap;\n",
       "      gap: 12px;\n",
       "    }\n",
       "\n",
       "    .colab-df-convert {\n",
       "      background-color: #E8F0FE;\n",
       "      border: none;\n",
       "      border-radius: 50%;\n",
       "      cursor: pointer;\n",
       "      display: none;\n",
       "      fill: #1967D2;\n",
       "      height: 32px;\n",
       "      padding: 0 0 0 0;\n",
       "      width: 32px;\n",
       "    }\n",
       "\n",
       "    .colab-df-convert:hover {\n",
       "      background-color: #E2EBFA;\n",
       "      box-shadow: 0px 1px 2px rgba(60, 64, 67, 0.3), 0px 1px 3px 1px rgba(60, 64, 67, 0.15);\n",
       "      fill: #174EA6;\n",
       "    }\n",
       "\n",
       "    [theme=dark] .colab-df-convert {\n",
       "      background-color: #3B4455;\n",
       "      fill: #D2E3FC;\n",
       "    }\n",
       "\n",
       "    [theme=dark] .colab-df-convert:hover {\n",
       "      background-color: #434B5C;\n",
       "      box-shadow: 0px 1px 3px 1px rgba(0, 0, 0, 0.15);\n",
       "      filter: drop-shadow(0px 1px 2px rgba(0, 0, 0, 0.3));\n",
       "      fill: #FFFFFF;\n",
       "    }\n",
       "  </style>\n",
       "\n",
       "      <script>\n",
       "        const buttonEl =\n",
       "          document.querySelector('#df-f08cef5f-623e-4ba7-832a-37aca364abb1 button.colab-df-convert');\n",
       "        buttonEl.style.display =\n",
       "          google.colab.kernel.accessAllowed ? 'block' : 'none';\n",
       "\n",
       "        async function convertToInteractive(key) {\n",
       "          const element = document.querySelector('#df-f08cef5f-623e-4ba7-832a-37aca364abb1');\n",
       "          const dataTable =\n",
       "            await google.colab.kernel.invokeFunction('convertToInteractive',\n",
       "                                                     [key], {});\n",
       "          if (!dataTable) return;\n",
       "\n",
       "          const docLinkHtml = 'Like what you see? Visit the ' +\n",
       "            '<a target=\"_blank\" href=https://colab.research.google.com/notebooks/data_table.ipynb>data table notebook</a>'\n",
       "            + ' to learn more about interactive tables.';\n",
       "          element.innerHTML = '';\n",
       "          dataTable['output_type'] = 'display_data';\n",
       "          await google.colab.output.renderOutput(dataTable, element);\n",
       "          const docLink = document.createElement('div');\n",
       "          docLink.innerHTML = docLinkHtml;\n",
       "          element.appendChild(docLink);\n",
       "        }\n",
       "      </script>\n",
       "    </div>\n",
       "  </div>\n",
       "  "
      ],
      "text/plain": [
       "    SEX  EDUCATION  MARRIAGE  AGE  MAX_PAY_DELAY_MONTHS  LIMIT_BAL_CATEG  \\\n",
       "0     2          2         1   24                   2.0              0.0   \n",
       "1     2          2         2   26                   2.0              1.0   \n",
       "2     2          2         2   34                   0.0              0.0   \n",
       "3     2          2         1   37                   0.0              0.0   \n",
       "4     1          2         1   57                   0.0              0.0   \n",
       "5     1          1         2   37                   0.0              0.0   \n",
       "6     1          1         2   29                   0.0              4.0   \n",
       "7     2          2         2   23                   0.0              0.0   \n",
       "8     2          3         1   28                   2.0              1.0   \n",
       "9     1          3         2   35                  -1.0              0.0   \n",
       "10    2          3         2   34                   2.0              1.0   \n",
       "11    2          1         2   51                   2.0              2.0   \n",
       "12    2          2         2   41                   0.0              6.0   \n",
       "13    1          2         2   30                   2.0              0.0   \n",
       "14    1          1         2   29                   0.0              2.0   \n",
       "15    2          3         3   23                   2.0              0.0   \n",
       "16    1          1         2   24                   2.0              0.0   \n",
       "17    1          1         1   49                   0.0              3.0   \n",
       "18    2          1         1   49                   1.0              3.0   \n",
       "19    2          1         2   29                   1.0              1.0   \n",
       "20    2          3         2   39                   0.0              1.0   \n",
       "21    2          2         1   39                  -1.0              1.0   \n",
       "22    2          2         2   26                   2.0              0.0   \n",
       "23    2          1         1   40                  -2.0              4.0   \n",
       "24    1          1         2   23                   0.0              0.0   \n",
       "\n",
       "    BILL_AMT_CATEG  PAY_AMT_CATEG  DEFAULT_PMT_FLAG  \n",
       "0              2.0            1.0                 1  \n",
       "1              3.0            3.0                 1  \n",
       "2              8.0            8.0                 0  \n",
       "3             13.0            6.0                 0  \n",
       "4              9.0           17.0                 0  \n",
       "5             13.0            5.0                 0  \n",
       "6             19.0           19.0                 0  \n",
       "7              3.0            3.0                 0  \n",
       "8              7.0            5.0                 0  \n",
       "9              4.0            9.0                 0  \n",
       "10             5.0            4.0                 0  \n",
       "11             8.0           17.0                 0  \n",
       "12             5.0           12.0                 0  \n",
       "13            14.0            8.0                 1  \n",
       "14            15.0           11.0                 0  \n",
       "15            12.0            4.0                 0  \n",
       "16             9.0            4.0                 1  \n",
       "17            18.0           19.0                 0  \n",
       "18             0.0            0.0                 0  \n",
       "19             0.0            0.0                 0  \n",
       "20             9.0           16.0                 0  \n",
       "21             1.0            1.0                 1  \n",
       "22            13.0            8.0                 1  \n",
       "23             4.0           12.0                 1  \n",
       "24             5.0           10.0                 0  "
      ]
     },
     "execution_count": 144,
     "metadata": {},
     "output_type": "execute_result"
    }
   ],
   "source": [
    "credit_card_model_df.head(25)"
   ]
  },
  {
   "cell_type": "markdown",
   "id": "pHpL1T4Z2pZh",
   "metadata": {
    "id": "pHpL1T4Z2pZh"
   },
   "source": [
    "### Split dataset into Training and Test set"
   ]
  },
  {
   "cell_type": "code",
   "execution_count": 145,
   "id": "tCkCfoyz_200",
   "metadata": {
    "id": "tCkCfoyz_200"
   },
   "outputs": [],
   "source": [
    "# Divide data set into predictor and target values\n",
    "X = credit_card_model_df.iloc[:, :-1].values\n",
    "y = credit_card_model_df.iloc[:, -1].values"
   ]
  },
  {
   "cell_type": "code",
   "execution_count": 146,
   "id": "BNSz76Yg_2yD",
   "metadata": {
    "colab": {
     "base_uri": "https://localhost:8080/"
    },
    "id": "BNSz76Yg_2yD",
    "outputId": "649d4f11-be1b-4ba4-f1f4-9a551482ac56"
   },
   "outputs": [
    {
     "data": {
      "text/plain": [
       "(30000, 8)"
      ]
     },
     "execution_count": 146,
     "metadata": {},
     "output_type": "execute_result"
    }
   ],
   "source": [
    "X.shape"
   ]
  },
  {
   "cell_type": "code",
   "execution_count": 147,
   "id": "u8IPn9p0_2ik",
   "metadata": {
    "colab": {
     "base_uri": "https://localhost:8080/"
    },
    "id": "u8IPn9p0_2ik",
    "outputId": "86c9ad09-9c04-46c7-85c3-85779b7b76ae"
   },
   "outputs": [
    {
     "data": {
      "text/plain": [
       "(30000,)"
      ]
     },
     "execution_count": 147,
     "metadata": {},
     "output_type": "execute_result"
    }
   ],
   "source": [
    "y.shape"
   ]
  },
  {
   "cell_type": "code",
   "execution_count": 148,
   "id": "lSL5cvKEAzaw",
   "metadata": {
    "id": "lSL5cvKEAzaw"
   },
   "outputs": [],
   "source": [
    "X_train, X_test, y_train, y_test = train_test_split(X, y, test_size=0.2, random_state=1)"
   ]
  },
  {
   "cell_type": "code",
   "execution_count": 149,
   "id": "Yc4hyAnuA_ZX",
   "metadata": {
    "colab": {
     "base_uri": "https://localhost:8080/"
    },
    "id": "Yc4hyAnuA_ZX",
    "outputId": "52b45e1e-9dea-40de-97d0-2fa0471e6a93"
   },
   "outputs": [
    {
     "data": {
      "text/plain": [
       "(24000, 8)"
      ]
     },
     "execution_count": 149,
     "metadata": {},
     "output_type": "execute_result"
    }
   ],
   "source": [
    "X_train.shape"
   ]
  },
  {
   "cell_type": "code",
   "execution_count": 150,
   "id": "lEDKZYECBBUZ",
   "metadata": {
    "colab": {
     "base_uri": "https://localhost:8080/"
    },
    "id": "lEDKZYECBBUZ",
    "outputId": "aeafa5ca-05d9-4683-cdea-dbcefc6ddb49"
   },
   "outputs": [
    {
     "data": {
      "text/plain": [
       "(6000, 8)"
      ]
     },
     "execution_count": 150,
     "metadata": {},
     "output_type": "execute_result"
    }
   ],
   "source": [
    "X_test.shape"
   ]
  },
  {
   "cell_type": "code",
   "execution_count": 151,
   "id": "0maEjJOrBHes",
   "metadata": {
    "colab": {
     "base_uri": "https://localhost:8080/"
    },
    "id": "0maEjJOrBHes",
    "outputId": "80c9a743-0466-472b-92da-235e112786a0"
   },
   "outputs": [
    {
     "data": {
      "text/plain": [
       "(24000,)"
      ]
     },
     "execution_count": 151,
     "metadata": {},
     "output_type": "execute_result"
    }
   ],
   "source": [
    "y_train.shape"
   ]
  },
  {
   "cell_type": "code",
   "execution_count": 152,
   "id": "dSJpXJiuBHUw",
   "metadata": {
    "colab": {
     "base_uri": "https://localhost:8080/"
    },
    "id": "dSJpXJiuBHUw",
    "outputId": "4e289ad0-30da-4a1e-8cb5-b7dcce557d6f"
   },
   "outputs": [
    {
     "data": {
      "text/plain": [
       "(6000,)"
      ]
     },
     "execution_count": 152,
     "metadata": {},
     "output_type": "execute_result"
    }
   ],
   "source": [
    "y_test.shape"
   ]
  },
  {
   "cell_type": "markdown",
   "id": "AU9gIop7AeVP",
   "metadata": {
    "id": "AU9gIop7AeVP"
   },
   "source": [
    "## Feature Scaling"
   ]
  },
  {
   "cell_type": "code",
   "execution_count": 153,
   "id": "tdqDvNaHAjjT",
   "metadata": {
    "id": "tdqDvNaHAjjT"
   },
   "outputs": [],
   "source": [
    "from sklearn.preprocessing import StandardScaler\n",
    "sc = StandardScaler()\n",
    "X_train[:, 3:] = sc.fit_transform(X_train[:, 3:])\n",
    "X_test[:, 3:] = sc.transform(X_test[:, 3:])"
   ]
  },
  {
   "cell_type": "code",
   "execution_count": 154,
   "id": "J1OvleNiAjWE",
   "metadata": {
    "colab": {
     "base_uri": "https://localhost:8080/"
    },
    "id": "J1OvleNiAjWE",
    "outputId": "c4d7ecad-cae2-49e2-87c3-17aff8509111"
   },
   "outputs": [
    {
     "name": "stdout",
     "output_type": "stream",
     "text": [
      "[[ 2.          2.          2.         ... -0.90142123 -0.08275365\n",
      "   0.96089785]\n",
      " [ 2.          2.          1.         ... -0.90142123 -1.47065555\n",
      "  -1.474287  ]\n",
      " [ 1.          1.          1.         ... -0.09822429 -1.64414329\n",
      "  -1.64822877]\n",
      " ...\n",
      " [ 1.          2.          2.         ... -0.90142123  0.26422182\n",
      "  -0.95246167]\n",
      " [ 1.          1.          2.         ... -0.90142123 -0.7767046\n",
      "   0.96089785]\n",
      " [ 1.          2.          1.         ...  0.70497265 -0.08275365\n",
      "   1.3087814 ]]\n"
     ]
    }
   ],
   "source": [
    "print(X_train)"
   ]
  },
  {
   "cell_type": "code",
   "execution_count": 155,
   "id": "dixQzEmyCcnI",
   "metadata": {
    "colab": {
     "base_uri": "https://localhost:8080/"
    },
    "id": "dixQzEmyCcnI",
    "outputId": "d13eeedd-2e76-4ed4-8a7e-50ae5eae64de"
   },
   "outputs": [
    {
     "name": "stdout",
     "output_type": "stream",
     "text": [
      "[[ 1.          3.          1.         ...  1.50816959  1.30514825\n",
      "   0.6130143 ]\n",
      " [ 2.          3.          1.         ... -0.90142123 -1.47065555\n",
      "  -1.30034522]\n",
      " [ 1.          2.          1.         ... -0.90142123  0.09073409\n",
      "   1.48272317]\n",
      " ...\n",
      " [ 1.          2.          2.         ... -0.90142123 -0.95019234\n",
      "  -0.0827528 ]\n",
      " [ 2.          2.          1.         ... -0.90142123 -0.95019234\n",
      "  -1.30034522]\n",
      " [ 2.          2.          1.         ...  0.70497265 -0.7767046\n",
      "   0.78695607]]\n"
     ]
    }
   ],
   "source": [
    "print(X_test)"
   ]
  },
  {
   "cell_type": "markdown",
   "id": "kVAvKqfczyg5",
   "metadata": {
    "id": "kVAvKqfczyg5"
   },
   "source": [
    "## Train Model"
   ]
  },
  {
   "cell_type": "code",
   "execution_count": 156,
   "id": "EHH_98oIz48f",
   "metadata": {
    "id": "EHH_98oIz48f"
   },
   "outputs": [],
   "source": [
    "number_input_features = len(X_train[0])\n",
    "hidden_nodes_layer_1 = 8\n",
    "hidden_nodes_layer_2 = 4"
   ]
  },
  {
   "cell_type": "code",
   "execution_count": 157,
   "id": "s03ngnrAz6dn",
   "metadata": {
    "colab": {
     "base_uri": "https://localhost:8080/"
    },
    "id": "s03ngnrAz6dn",
    "outputId": "bb66dc57-1fbd-479e-d126-d19354af4e3a"
   },
   "outputs": [
    {
     "data": {
      "text/plain": [
       "8"
      ]
     },
     "execution_count": 157,
     "metadata": {},
     "output_type": "execute_result"
    }
   ],
   "source": [
    "number_input_features"
   ]
  },
  {
   "cell_type": "code",
   "execution_count": 158,
   "id": "ybRDlKinFoda",
   "metadata": {
    "id": "ybRDlKinFoda"
   },
   "outputs": [],
   "source": [
    "nn = tf.keras.models.Sequential()"
   ]
  },
  {
   "cell_type": "code",
   "execution_count": 159,
   "id": "u_ECriuQFoSS",
   "metadata": {
    "id": "u_ECriuQFoSS"
   },
   "outputs": [],
   "source": [
    "# First hidden layer\n",
    "nn.add(tf.keras.layers.Dense(units=hidden_nodes_layer_1, input_dim=number_input_features, activation=\"relu\"))"
   ]
  },
  {
   "cell_type": "code",
   "execution_count": 160,
   "id": "tyXHMEZfFuC2",
   "metadata": {
    "id": "tyXHMEZfFuC2"
   },
   "outputs": [],
   "source": [
    "# Second hidden layer\n",
    "nn.add(tf.keras.layers.Dense(units=hidden_nodes_layer_2, activation=\"relu\"))"
   ]
  },
  {
   "cell_type": "code",
   "execution_count": 161,
   "id": "99pr_ZeZFuAP",
   "metadata": {
    "id": "99pr_ZeZFuAP"
   },
   "outputs": [],
   "source": [
    "# Output layer\n",
    "nn.add(tf.keras.layers.Dense(units=1, activation=\"sigmoid\"))"
   ]
  },
  {
   "cell_type": "code",
   "execution_count": 162,
   "id": "xmBJ4nwwFt9U",
   "metadata": {
    "colab": {
     "base_uri": "https://localhost:8080/"
    },
    "id": "xmBJ4nwwFt9U",
    "outputId": "4522fe04-9d4d-4860-988e-f1a32ca98d6d"
   },
   "outputs": [
    {
     "name": "stdout",
     "output_type": "stream",
     "text": [
      "Model: \"sequential_1\"\n",
      "_________________________________________________________________\n",
      " Layer (type)                Output Shape              Param #   \n",
      "=================================================================\n",
      " dense_3 (Dense)             (None, 8)                 72        \n",
      "                                                                 \n",
      " dense_4 (Dense)             (None, 4)                 36        \n",
      "                                                                 \n",
      " dense_5 (Dense)             (None, 1)                 5         \n",
      "                                                                 \n",
      "=================================================================\n",
      "Total params: 113\n",
      "Trainable params: 113\n",
      "Non-trainable params: 0\n",
      "_________________________________________________________________\n"
     ]
    }
   ],
   "source": [
    "# Model summary\n",
    "nn.summary()"
   ]
  },
  {
   "cell_type": "code",
   "execution_count": 163,
   "id": "U3nnUiLlGdkq",
   "metadata": {
    "id": "U3nnUiLlGdkq"
   },
   "outputs": [],
   "source": [
    "# compile model\n",
    "nn.compile(loss=\"binary_crossentropy\", optimizer=\"adam\", metrics=[\"accuracy\"])"
   ]
  },
  {
   "cell_type": "code",
   "execution_count": 164,
   "id": "Z-WcWBlnG3af",
   "metadata": {
    "colab": {
     "base_uri": "https://localhost:8080/"
    },
    "id": "Z-WcWBlnG3af",
    "outputId": "21585ac0-6c22-46ae-e563-cecbefd70e03"
   },
   "outputs": [
    {
     "name": "stdout",
     "output_type": "stream",
     "text": [
      "Epoch 1/100\n",
      "750/750 [==============================] - 2s 2ms/step - loss: 0.5172 - accuracy: 0.7686\n",
      "Epoch 2/100\n",
      "750/750 [==============================] - 2s 2ms/step - loss: 0.4681 - accuracy: 0.7869\n",
      "Epoch 3/100\n",
      "750/750 [==============================] - 3s 4ms/step - loss: 0.4627 - accuracy: 0.7900\n",
      "Epoch 4/100\n",
      "750/750 [==============================] - 2s 3ms/step - loss: 0.4577 - accuracy: 0.7913\n",
      "Epoch 5/100\n",
      "750/750 [==============================] - 2s 2ms/step - loss: 0.4546 - accuracy: 0.7920\n",
      "Epoch 6/100\n",
      "750/750 [==============================] - 2s 2ms/step - loss: 0.4533 - accuracy: 0.7916\n",
      "Epoch 7/100\n",
      "750/750 [==============================] - 2s 2ms/step - loss: 0.4527 - accuracy: 0.7918\n",
      "Epoch 8/100\n",
      "750/750 [==============================] - 2s 2ms/step - loss: 0.4522 - accuracy: 0.7930\n",
      "Epoch 9/100\n",
      "750/750 [==============================] - 2s 2ms/step - loss: 0.4517 - accuracy: 0.7917\n",
      "Epoch 10/100\n",
      "750/750 [==============================] - 2s 2ms/step - loss: 0.4514 - accuracy: 0.7920\n",
      "Epoch 11/100\n",
      "750/750 [==============================] - 2s 2ms/step - loss: 0.4511 - accuracy: 0.7931\n",
      "Epoch 12/100\n",
      "750/750 [==============================] - 3s 4ms/step - loss: 0.4509 - accuracy: 0.7919\n",
      "Epoch 13/100\n",
      "750/750 [==============================] - 2s 2ms/step - loss: 0.4507 - accuracy: 0.7922\n",
      "Epoch 14/100\n",
      "750/750 [==============================] - 2s 2ms/step - loss: 0.4505 - accuracy: 0.7925\n",
      "Epoch 15/100\n",
      "750/750 [==============================] - 2s 2ms/step - loss: 0.4502 - accuracy: 0.7928\n",
      "Epoch 16/100\n",
      "750/750 [==============================] - 2s 2ms/step - loss: 0.4502 - accuracy: 0.7913\n",
      "Epoch 17/100\n",
      "750/750 [==============================] - 2s 2ms/step - loss: 0.4500 - accuracy: 0.7931\n",
      "Epoch 18/100\n",
      "750/750 [==============================] - 2s 2ms/step - loss: 0.4498 - accuracy: 0.7913\n",
      "Epoch 19/100\n",
      "750/750 [==============================] - 2s 2ms/step - loss: 0.4498 - accuracy: 0.7920\n",
      "Epoch 20/100\n",
      "750/750 [==============================] - 2s 2ms/step - loss: 0.4499 - accuracy: 0.7923\n",
      "Epoch 21/100\n",
      "750/750 [==============================] - 2s 2ms/step - loss: 0.4497 - accuracy: 0.7911\n",
      "Epoch 22/100\n",
      "750/750 [==============================] - 2s 2ms/step - loss: 0.4494 - accuracy: 0.7920\n",
      "Epoch 23/100\n",
      "750/750 [==============================] - 2s 2ms/step - loss: 0.4493 - accuracy: 0.7934\n",
      "Epoch 24/100\n",
      "750/750 [==============================] - 2s 2ms/step - loss: 0.4495 - accuracy: 0.7924\n",
      "Epoch 25/100\n",
      "750/750 [==============================] - 2s 2ms/step - loss: 0.4495 - accuracy: 0.7921\n",
      "Epoch 26/100\n",
      "750/750 [==============================] - 2s 2ms/step - loss: 0.4491 - accuracy: 0.7933\n",
      "Epoch 27/100\n",
      "750/750 [==============================] - 2s 2ms/step - loss: 0.4494 - accuracy: 0.7924\n",
      "Epoch 28/100\n",
      "750/750 [==============================] - 2s 2ms/step - loss: 0.4494 - accuracy: 0.7935\n",
      "Epoch 29/100\n",
      "750/750 [==============================] - 2s 2ms/step - loss: 0.4490 - accuracy: 0.7930\n",
      "Epoch 30/100\n",
      "750/750 [==============================] - 2s 2ms/step - loss: 0.4492 - accuracy: 0.7930\n",
      "Epoch 31/100\n",
      "750/750 [==============================] - 2s 2ms/step - loss: 0.4492 - accuracy: 0.7928\n",
      "Epoch 32/100\n",
      "750/750 [==============================] - 2s 2ms/step - loss: 0.4492 - accuracy: 0.7925\n",
      "Epoch 33/100\n",
      "750/750 [==============================] - 2s 2ms/step - loss: 0.4489 - accuracy: 0.7920\n",
      "Epoch 34/100\n",
      "750/750 [==============================] - 2s 2ms/step - loss: 0.4489 - accuracy: 0.7937\n",
      "Epoch 35/100\n",
      "750/750 [==============================] - 2s 2ms/step - loss: 0.4490 - accuracy: 0.7923\n",
      "Epoch 36/100\n",
      "750/750 [==============================] - 2s 2ms/step - loss: 0.4490 - accuracy: 0.7924\n",
      "Epoch 37/100\n",
      "750/750 [==============================] - 2s 2ms/step - loss: 0.4487 - accuracy: 0.7933\n",
      "Epoch 38/100\n",
      "750/750 [==============================] - 2s 2ms/step - loss: 0.4487 - accuracy: 0.7936\n",
      "Epoch 39/100\n",
      "750/750 [==============================] - 2s 2ms/step - loss: 0.4489 - accuracy: 0.7925\n",
      "Epoch 40/100\n",
      "750/750 [==============================] - 2s 2ms/step - loss: 0.4487 - accuracy: 0.7930\n",
      "Epoch 41/100\n",
      "750/750 [==============================] - 2s 2ms/step - loss: 0.4489 - accuracy: 0.7928\n",
      "Epoch 42/100\n",
      "750/750 [==============================] - 2s 2ms/step - loss: 0.4487 - accuracy: 0.7938\n",
      "Epoch 43/100\n",
      "750/750 [==============================] - 2s 2ms/step - loss: 0.4486 - accuracy: 0.7923\n",
      "Epoch 44/100\n",
      "750/750 [==============================] - 2s 2ms/step - loss: 0.4486 - accuracy: 0.7930\n",
      "Epoch 45/100\n",
      "750/750 [==============================] - 2s 2ms/step - loss: 0.4488 - accuracy: 0.7935\n",
      "Epoch 46/100\n",
      "750/750 [==============================] - 2s 2ms/step - loss: 0.4486 - accuracy: 0.7934\n",
      "Epoch 47/100\n",
      "750/750 [==============================] - 2s 2ms/step - loss: 0.4486 - accuracy: 0.7934\n",
      "Epoch 48/100\n",
      "750/750 [==============================] - 2s 2ms/step - loss: 0.4485 - accuracy: 0.7928\n",
      "Epoch 49/100\n",
      "750/750 [==============================] - 2s 2ms/step - loss: 0.4488 - accuracy: 0.7933\n",
      "Epoch 50/100\n",
      "750/750 [==============================] - 2s 2ms/step - loss: 0.4485 - accuracy: 0.7939\n",
      "Epoch 51/100\n",
      "750/750 [==============================] - 2s 2ms/step - loss: 0.4484 - accuracy: 0.7934\n",
      "Epoch 52/100\n",
      "750/750 [==============================] - 2s 2ms/step - loss: 0.4483 - accuracy: 0.7935\n",
      "Epoch 53/100\n",
      "750/750 [==============================] - 2s 3ms/step - loss: 0.4487 - accuracy: 0.7927\n",
      "Epoch 54/100\n",
      "750/750 [==============================] - 2s 3ms/step - loss: 0.4483 - accuracy: 0.7933\n",
      "Epoch 55/100\n",
      "750/750 [==============================] - 2s 2ms/step - loss: 0.4482 - accuracy: 0.7935\n",
      "Epoch 56/100\n",
      "750/750 [==============================] - 2s 2ms/step - loss: 0.4485 - accuracy: 0.7927\n",
      "Epoch 57/100\n",
      "750/750 [==============================] - 2s 2ms/step - loss: 0.4484 - accuracy: 0.7938\n",
      "Epoch 58/100\n",
      "750/750 [==============================] - 2s 2ms/step - loss: 0.4483 - accuracy: 0.7928\n",
      "Epoch 59/100\n",
      "750/750 [==============================] - 2s 2ms/step - loss: 0.4482 - accuracy: 0.7935\n",
      "Epoch 60/100\n",
      "750/750 [==============================] - 2s 2ms/step - loss: 0.4485 - accuracy: 0.7932\n",
      "Epoch 61/100\n",
      "750/750 [==============================] - 2s 2ms/step - loss: 0.4485 - accuracy: 0.7924\n",
      "Epoch 62/100\n",
      "750/750 [==============================] - 2s 2ms/step - loss: 0.4481 - accuracy: 0.7941\n",
      "Epoch 63/100\n",
      "750/750 [==============================] - 2s 2ms/step - loss: 0.4481 - accuracy: 0.7935\n",
      "Epoch 64/100\n",
      "750/750 [==============================] - 2s 2ms/step - loss: 0.4482 - accuracy: 0.7919\n",
      "Epoch 65/100\n",
      "750/750 [==============================] - 2s 2ms/step - loss: 0.4481 - accuracy: 0.7928\n",
      "Epoch 66/100\n",
      "750/750 [==============================] - 2s 2ms/step - loss: 0.4478 - accuracy: 0.7928\n",
      "Epoch 67/100\n",
      "750/750 [==============================] - 2s 2ms/step - loss: 0.4481 - accuracy: 0.7933\n",
      "Epoch 68/100\n",
      "750/750 [==============================] - 2s 2ms/step - loss: 0.4481 - accuracy: 0.7930\n",
      "Epoch 69/100\n",
      "750/750 [==============================] - 2s 2ms/step - loss: 0.4479 - accuracy: 0.7933\n",
      "Epoch 70/100\n",
      "750/750 [==============================] - 2s 2ms/step - loss: 0.4480 - accuracy: 0.7927\n",
      "Epoch 71/100\n",
      "750/750 [==============================] - 2s 2ms/step - loss: 0.4481 - accuracy: 0.7932\n",
      "Epoch 72/100\n",
      "750/750 [==============================] - 2s 2ms/step - loss: 0.4480 - accuracy: 0.7935\n",
      "Epoch 73/100\n",
      "750/750 [==============================] - 2s 2ms/step - loss: 0.4478 - accuracy: 0.7926\n",
      "Epoch 74/100\n",
      "750/750 [==============================] - 2s 2ms/step - loss: 0.4478 - accuracy: 0.7940\n",
      "Epoch 75/100\n",
      "750/750 [==============================] - 2s 2ms/step - loss: 0.4479 - accuracy: 0.7931\n",
      "Epoch 76/100\n",
      "750/750 [==============================] - 2s 2ms/step - loss: 0.4477 - accuracy: 0.7933\n",
      "Epoch 77/100\n",
      "750/750 [==============================] - 2s 2ms/step - loss: 0.4477 - accuracy: 0.7925\n",
      "Epoch 78/100\n",
      "750/750 [==============================] - 2s 2ms/step - loss: 0.4475 - accuracy: 0.7936\n",
      "Epoch 79/100\n",
      "750/750 [==============================] - 2s 2ms/step - loss: 0.4477 - accuracy: 0.7937\n",
      "Epoch 80/100\n",
      "750/750 [==============================] - 2s 2ms/step - loss: 0.4476 - accuracy: 0.7930\n",
      "Epoch 81/100\n",
      "750/750 [==============================] - 2s 2ms/step - loss: 0.4476 - accuracy: 0.7938\n",
      "Epoch 82/100\n",
      "750/750 [==============================] - 2s 2ms/step - loss: 0.4476 - accuracy: 0.7928\n",
      "Epoch 83/100\n",
      "750/750 [==============================] - 2s 2ms/step - loss: 0.4474 - accuracy: 0.7943\n",
      "Epoch 84/100\n",
      "750/750 [==============================] - 2s 2ms/step - loss: 0.4476 - accuracy: 0.7925\n",
      "Epoch 85/100\n",
      "750/750 [==============================] - 2s 2ms/step - loss: 0.4475 - accuracy: 0.7925\n",
      "Epoch 86/100\n",
      "750/750 [==============================] - 2s 2ms/step - loss: 0.4473 - accuracy: 0.7938\n",
      "Epoch 87/100\n",
      "750/750 [==============================] - 2s 2ms/step - loss: 0.4474 - accuracy: 0.7931\n",
      "Epoch 88/100\n",
      "750/750 [==============================] - 2s 2ms/step - loss: 0.4475 - accuracy: 0.7939\n",
      "Epoch 89/100\n",
      "750/750 [==============================] - 2s 2ms/step - loss: 0.4471 - accuracy: 0.7941\n",
      "Epoch 90/100\n",
      "750/750 [==============================] - 2s 2ms/step - loss: 0.4473 - accuracy: 0.7931\n",
      "Epoch 91/100\n",
      "750/750 [==============================] - 2s 2ms/step - loss: 0.4472 - accuracy: 0.7943\n",
      "Epoch 92/100\n",
      "750/750 [==============================] - 2s 2ms/step - loss: 0.4472 - accuracy: 0.7931\n",
      "Epoch 93/100\n",
      "750/750 [==============================] - 2s 2ms/step - loss: 0.4472 - accuracy: 0.7933\n",
      "Epoch 94/100\n",
      "750/750 [==============================] - 2s 3ms/step - loss: 0.4472 - accuracy: 0.7934\n",
      "Epoch 95/100\n",
      "750/750 [==============================] - 2s 3ms/step - loss: 0.4471 - accuracy: 0.7945\n",
      "Epoch 96/100\n",
      "750/750 [==============================] - 2s 2ms/step - loss: 0.4471 - accuracy: 0.7936\n",
      "Epoch 97/100\n",
      "750/750 [==============================] - 2s 2ms/step - loss: 0.4470 - accuracy: 0.7937\n",
      "Epoch 98/100\n",
      "750/750 [==============================] - 2s 2ms/step - loss: 0.4470 - accuracy: 0.7952\n",
      "Epoch 99/100\n",
      "750/750 [==============================] - 2s 2ms/step - loss: 0.4470 - accuracy: 0.7951\n",
      "Epoch 100/100\n",
      "750/750 [==============================] - 2s 2ms/step - loss: 0.4470 - accuracy: 0.7938\n"
     ]
    }
   ],
   "source": [
    "# train the model\n",
    "model_fit = nn.fit(X_train, y_train, epochs=100)"
   ]
  },
  {
   "cell_type": "markdown",
   "id": "Ma2gAe61CVhP",
   "metadata": {
    "id": "Ma2gAe61CVhP"
   },
   "source": [
    "# Classification Model Results"
   ]
  },
  {
   "cell_type": "code",
   "execution_count": 165,
   "id": "A5pmnKDcG3Xa",
   "metadata": {
    "colab": {
     "base_uri": "https://localhost:8080/"
    },
    "id": "A5pmnKDcG3Xa",
    "outputId": "df5433ae-1a82-4ac2-f9ec-ea37a88c0aa7"
   },
   "outputs": [
    {
     "name": "stdout",
     "output_type": "stream",
     "text": [
      "188/188 - 0s - loss: 0.4502 - accuracy: 0.7910 - 406ms/epoch - 2ms/step\n",
      "Loss: 0.45018094778060913, Accuracy: 0.7910000085830688\n"
     ]
    }
   ],
   "source": [
    "# Evaluate model\n",
    "loss, accuracy = nn.evaluate(X_test, y_test, verbose=2)\n",
    "print(f\"Loss: {loss}, Accuracy: {accuracy}\")"
   ]
  },
  {
   "cell_type": "markdown",
   "id": "G2RfbToMY2wf",
   "metadata": {
    "id": "G2RfbToMY2wf"
   },
   "source": [
    "## Make Predictions\n",
    "\n",
    "> Take random sample from the model dataframe and make preductions, and then evaluate results"
   ]
  },
  {
   "cell_type": "code",
   "execution_count": 166,
   "id": "sq6CckpnG3LC",
   "metadata": {
    "id": "sq6CckpnG3LC"
   },
   "outputs": [],
   "source": [
    "model_sample = credit_card_model_df.sample(frac=0.3, random_state=1)"
   ]
  },
  {
   "cell_type": "code",
   "execution_count": 167,
   "id": "5adbc3bc-e680-4ace-99c2-80ca8fead098",
   "metadata": {
    "colab": {
     "base_uri": "https://localhost:8080/"
    },
    "id": "5adbc3bc-e680-4ace-99c2-80ca8fead098",
    "outputId": "1c54cc8d-f95f-4314-ff74-e81ff486ada5"
   },
   "outputs": [
    {
     "data": {
      "text/plain": [
       "(9000, 9)"
      ]
     },
     "execution_count": 167,
     "metadata": {},
     "output_type": "execute_result"
    }
   ],
   "source": [
    "model_sample.shape"
   ]
  },
  {
   "cell_type": "code",
   "execution_count": 168,
   "id": "106cbc08-ca60-49c9-a041-6dc0a8cd5b4f",
   "metadata": {
    "id": "106cbc08-ca60-49c9-a041-6dc0a8cd5b4f"
   },
   "outputs": [],
   "source": [
    "X_sample = model_sample.iloc[:, :-1].values\n",
    "y_sample = model_sample.iloc[:, -1].values"
   ]
  },
  {
   "cell_type": "code",
   "execution_count": 169,
   "id": "8776d46c-9ab1-4f1c-b8c4-855e92c7de13",
   "metadata": {
    "colab": {
     "base_uri": "https://localhost:8080/"
    },
    "id": "8776d46c-9ab1-4f1c-b8c4-855e92c7de13",
    "outputId": "415e2157-0c01-46d0-8632-a8ad9d207622"
   },
   "outputs": [
    {
     "data": {
      "text/plain": [
       "(9000, 8)"
      ]
     },
     "execution_count": 169,
     "metadata": {},
     "output_type": "execute_result"
    }
   ],
   "source": [
    "X_sample.shape"
   ]
  },
  {
   "cell_type": "code",
   "execution_count": 170,
   "id": "a550b00c-94c9-49d0-a0da-d4a2a701938a",
   "metadata": {
    "colab": {
     "base_uri": "https://localhost:8080/"
    },
    "id": "a550b00c-94c9-49d0-a0da-d4a2a701938a",
    "outputId": "ed882224-4846-40bc-dc49-b3cada40583c"
   },
   "outputs": [
    {
     "data": {
      "text/plain": [
       "(9000,)"
      ]
     },
     "execution_count": 170,
     "metadata": {},
     "output_type": "execute_result"
    }
   ],
   "source": [
    "y_sample.shape"
   ]
  },
  {
   "cell_type": "code",
   "execution_count": 171,
   "id": "ec9gBoZlb79q",
   "metadata": {
    "id": "ec9gBoZlb79q"
   },
   "outputs": [],
   "source": [
    "# Scale data\n",
    "X_sample[:, 3:] = sc.fit_transform(X_sample[:, 3:])"
   ]
  },
  {
   "cell_type": "code",
   "execution_count": 172,
   "id": "Cb7bf6MKcAUG",
   "metadata": {
    "id": "Cb7bf6MKcAUG"
   },
   "outputs": [],
   "source": [
    "# Make predictions\n",
    "predictions = nn.predict(X_sample)"
   ]
  },
  {
   "cell_type": "code",
   "execution_count": 173,
   "id": "Hms1mAP8cARY",
   "metadata": {
    "colab": {
     "base_uri": "https://localhost:8080/"
    },
    "id": "Hms1mAP8cARY",
    "outputId": "92277dc9-ace1-454d-89d1-cda372a834dd"
   },
   "outputs": [
    {
     "data": {
      "text/plain": [
       "array([[0.06533282],\n",
       "       [0.4627217 ],\n",
       "       [0.12154181],\n",
       "       [0.65165734],\n",
       "       [0.39880115]], dtype=float32)"
      ]
     },
     "execution_count": 173,
     "metadata": {},
     "output_type": "execute_result"
    }
   ],
   "source": [
    "predictions[:5]"
   ]
  },
  {
   "cell_type": "code",
   "execution_count": 178,
   "id": "m99Nmnwvb76w",
   "metadata": {
    "id": "m99Nmnwvb76w"
   },
   "outputs": [],
   "source": [
    "from sklearn.metrics import confusion_matrix, classification_report"
   ]
  },
  {
   "cell_type": "code",
   "execution_count": 186,
   "id": "-xZQFbRhnPZx",
   "metadata": {
    "id": "-xZQFbRhnPZx"
   },
   "outputs": [],
   "source": [
    "predict_label = np.where(predictions > 0.5, 1, 0)"
   ]
  },
  {
   "cell_type": "code",
   "execution_count": 187,
   "id": "4p6ychZenPWs",
   "metadata": {
    "colab": {
     "base_uri": "https://localhost:8080/"
    },
    "id": "4p6ychZenPWs",
    "outputId": "9236edbb-f4fc-4107-d8c9-8db50208ea6c"
   },
   "outputs": [
    {
     "data": {
      "text/plain": [
       "array([[0],\n",
       "       [0],\n",
       "       [0],\n",
       "       [1],\n",
       "       [0]])"
      ]
     },
     "execution_count": 187,
     "metadata": {},
     "output_type": "execute_result"
    }
   ],
   "source": [
    "predict_label[:5]"
   ]
  },
  {
   "cell_type": "code",
   "execution_count": 189,
   "id": "Kq7GHheonPTb",
   "metadata": {
    "colab": {
     "base_uri": "https://localhost:8080/"
    },
    "id": "Kq7GHheonPTb",
    "outputId": "14c40b25-f396-4ce7-a96b-61e0d72c80cc"
   },
   "outputs": [
    {
     "data": {
      "text/plain": [
       "array([0, 1, 0, 1, 0])"
      ]
     },
     "execution_count": 189,
     "metadata": {},
     "output_type": "execute_result"
    }
   ],
   "source": [
    "y_sample[:5]"
   ]
  },
  {
   "cell_type": "code",
   "execution_count": 190,
   "id": "qwVNNnqob7uN",
   "metadata": {
    "colab": {
     "base_uri": "https://localhost:8080/"
    },
    "id": "qwVNNnqob7uN",
    "outputId": "063b84cf-7766-4b20-cc18-bb2f79ca61af"
   },
   "outputs": [
    {
     "data": {
      "text/plain": [
       "array([[6492,  508],\n",
       "       [1364,  636]])"
      ]
     },
     "execution_count": 190,
     "metadata": {},
     "output_type": "execute_result"
    }
   ],
   "source": [
    "confusion_matrix(y_sample, predict_label)"
   ]
  },
  {
   "cell_type": "code",
   "execution_count": 193,
   "id": "33zXODqblz27",
   "metadata": {
    "colab": {
     "base_uri": "https://localhost:8080/"
    },
    "id": "33zXODqblz27",
    "outputId": "1dc769f6-7b6b-464e-bf8f-4dd613956dcc"
   },
   "outputs": [
    {
     "name": "stdout",
     "output_type": "stream",
     "text": [
      "              precision    recall  f1-score   support\n",
      "\n",
      " Not Default       0.83      0.93      0.87      7000\n",
      "     Default       0.56      0.32      0.40      2000\n",
      "\n",
      "    accuracy                           0.79      9000\n",
      "   macro avg       0.69      0.62      0.64      9000\n",
      "weighted avg       0.77      0.79      0.77      9000\n",
      "\n"
     ]
    }
   ],
   "source": [
    "print(classification_report(y_sample, predict_label, target_names=['Not Default', 'Default']))"
   ]
  },
  {
   "cell_type": "code",
   "execution_count": null,
   "id": "2jH2fe9-lzkz",
   "metadata": {
    "id": "2jH2fe9-lzkz"
   },
   "outputs": [],
   "source": []
  },
  {
   "cell_type": "markdown",
   "id": "b-9GF68iu9F3",
   "metadata": {
    "id": "b-9GF68iu9F3"
   },
   "source": [
    "# Summary"
   ]
  },
  {
   "cell_type": "markdown",
   "id": "23rG8dzNvCq2",
   "metadata": {
    "id": "23rG8dzNvCq2"
   },
   "source": [
    "- The accuracy of the model evaluation was 79%\n",
    "\n",
    "- The predictions of the random sample taken was 79% accurate which indicates that there is no overfitting\n",
    "\n",
    "- Although the model scored a decent accuracy score of 79%, it does a poor job of predicting credit card defaults since the recall for Default is 32%. This is most likely due to the dataset having far more *non-default* samples than *defaults*"
   ]
  },
  {
   "cell_type": "markdown",
   "id": "6c93bc91-dc86-4ca8-ba0b-ee0880421635",
   "metadata": {
    "id": "6c93bc91-dc86-4ca8-ba0b-ee0880421635"
   },
   "source": [
    "# References"
   ]
  },
  {
   "cell_type": "markdown",
   "id": "47aea608-f970-4076-9373-d5c5918973cc",
   "metadata": {
    "id": "47aea608-f970-4076-9373-d5c5918973cc"
   },
   "source": [
    "Yeh, I. C., & Lien, C. H. (2009). The comparisons of data mining techniques for the predictive accuracy of probability of default of credit card clients. Expert Systems with Applications, 36(2), 2473-2480."
   ]
  },
  {
   "cell_type": "code",
   "execution_count": null,
   "id": "3a56706b-90a4-44bd-8fc0-73722e42e03e",
   "metadata": {
    "id": "3a56706b-90a4-44bd-8fc0-73722e42e03e"
   },
   "outputs": [],
   "source": []
  }
 ],
 "metadata": {
  "accelerator": "GPU",
  "colab": {
   "collapsed_sections": [],
   "name": "module-6-deep-learning.ipynb",
   "provenance": [],
   "toc_visible": true
  },
  "gpuClass": "standard",
  "kernelspec": {
   "display_name": "Python 3 (ipykernel)",
   "language": "python",
   "name": "python3"
  },
  "language_info": {
   "codemirror_mode": {
    "name": "ipython",
    "version": 3
   },
   "file_extension": ".py",
   "mimetype": "text/x-python",
   "name": "python",
   "nbconvert_exporter": "python",
   "pygments_lexer": "ipython3",
   "version": "3.9.12"
  }
 },
 "nbformat": 4,
 "nbformat_minor": 5
}
